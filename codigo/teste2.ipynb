{
 "cells": [
  {
   "cell_type": "code",
   "execution_count": 13,
   "metadata": {},
   "outputs": [
    {
     "name": "stdout",
     "output_type": "stream",
     "text": [
      "Looking in indexes: https://download.pytorch.org/whl/cpu\n",
      "Requirement already satisfied: torch in c:\\users\\rayba\\music\\mestrado_dados\\vale-nova\\.venv\\lib\\site-packages (2.6.0)\n",
      "Requirement already satisfied: torchvision in c:\\users\\rayba\\music\\mestrado_dados\\vale-nova\\.venv\\lib\\site-packages (0.21.0+cpu)\n",
      "Requirement already satisfied: torchaudio in c:\\users\\rayba\\music\\mestrado_dados\\vale-nova\\.venv\\lib\\site-packages (2.6.0+cpu)\n",
      "Requirement already satisfied: filelock in c:\\users\\rayba\\music\\mestrado_dados\\vale-nova\\.venv\\lib\\site-packages (from torch) (3.18.0)\n",
      "Requirement already satisfied: typing-extensions>=4.10.0 in c:\\users\\rayba\\music\\mestrado_dados\\vale-nova\\.venv\\lib\\site-packages (from torch) (4.13.0)\n",
      "Requirement already satisfied: networkx in c:\\users\\rayba\\music\\mestrado_dados\\vale-nova\\.venv\\lib\\site-packages (from torch) (3.4.2)\n",
      "Requirement already satisfied: jinja2 in c:\\users\\rayba\\music\\mestrado_dados\\vale-nova\\.venv\\lib\\site-packages (from torch) (3.1.6)\n",
      "Requirement already satisfied: fsspec in c:\\users\\rayba\\music\\mestrado_dados\\vale-nova\\.venv\\lib\\site-packages (from torch) (2025.3.0)\n",
      "Requirement already satisfied: setuptools in c:\\users\\rayba\\music\\mestrado_dados\\vale-nova\\.venv\\lib\\site-packages (from torch) (78.1.0)\n",
      "Requirement already satisfied: sympy==1.13.1 in c:\\users\\rayba\\music\\mestrado_dados\\vale-nova\\.venv\\lib\\site-packages (from torch) (1.13.1)\n",
      "Requirement already satisfied: mpmath<1.4,>=1.1.0 in c:\\users\\rayba\\music\\mestrado_dados\\vale-nova\\.venv\\lib\\site-packages (from sympy==1.13.1->torch) (1.3.0)\n",
      "Requirement already satisfied: numpy in c:\\users\\rayba\\music\\mestrado_dados\\vale-nova\\.venv\\lib\\site-packages (from torchvision) (1.26.4)\n",
      "Requirement already satisfied: pillow!=8.3.*,>=5.3.0 in c:\\users\\rayba\\music\\mestrado_dados\\vale-nova\\.venv\\lib\\site-packages (from torchvision) (11.1.0)\n",
      "Requirement already satisfied: MarkupSafe>=2.0 in c:\\users\\rayba\\music\\mestrado_dados\\vale-nova\\.venv\\lib\\site-packages (from jinja2->torch) (3.0.2)\n",
      "Note: you may need to restart the kernel to use updated packages.\n"
     ]
    }
   ],
   "source": [
    "%pip install torch torchvision torchaudio --index-url https://download.pytorch.org/whl/cpu"
   ]
  },
  {
   "cell_type": "code",
   "execution_count": 2,
   "metadata": {},
   "outputs": [
    {
     "name": "stdout",
     "output_type": "stream",
     "text": [
      "Looking in indexes: https://download.pytorch.org/whl/cu118\n",
      "Collecting torch\n",
      "  Downloading https://download.pytorch.org/whl/cu118/torch-2.6.0%2Bcu118-cp310-cp310-win_amd64.whl.metadata (28 kB)\n",
      "Collecting torchvision\n",
      "  Downloading https://download.pytorch.org/whl/cu118/torchvision-0.21.0%2Bcu118-cp310-cp310-win_amd64.whl.metadata (6.3 kB)\n",
      "Collecting torchaudio\n",
      "  Downloading https://download.pytorch.org/whl/cu118/torchaudio-2.6.0%2Bcu118-cp310-cp310-win_amd64.whl.metadata (6.8 kB)\n",
      "Requirement already satisfied: filelock in c:\\users\\rayba\\music\\analista\\l400\\lab\\venv\\lib\\site-packages (from torch) (3.17.0)\n",
      "Requirement already satisfied: typing-extensions>=4.10.0 in c:\\users\\rayba\\music\\analista\\l400\\lab\\venv\\lib\\site-packages (from torch) (4.12.2)\n",
      "Collecting networkx (from torch)\n",
      "  Downloading https://download.pytorch.org/whl/networkx-3.3-py3-none-any.whl.metadata (5.1 kB)\n",
      "Requirement already satisfied: jinja2 in c:\\users\\rayba\\music\\analista\\l400\\lab\\venv\\lib\\site-packages (from torch) (3.1.6)\n",
      "Requirement already satisfied: fsspec in c:\\users\\rayba\\music\\analista\\l400\\lab\\venv\\lib\\site-packages (from torch) (2025.3.0)\n",
      "Collecting sympy==1.13.1 (from torch)\n",
      "  Downloading https://download.pytorch.org/whl/sympy-1.13.1-py3-none-any.whl (6.2 MB)\n",
      "     ---------------------------------------- 0.0/6.2 MB ? eta -:--:--\n",
      "     ------------- -------------------------- 2.1/6.2 MB 11.7 MB/s eta 0:00:01\n",
      "     ---------------------------- ----------- 4.5/6.2 MB 11.2 MB/s eta 0:00:01\n",
      "     ---------------------------------------- 6.2/6.2 MB 11.1 MB/s eta 0:00:00\n",
      "Requirement already satisfied: mpmath<1.4,>=1.1.0 in c:\\users\\rayba\\music\\analista\\l400\\lab\\venv\\lib\\site-packages (from sympy==1.13.1->torch) (1.3.0)\n",
      "Requirement already satisfied: numpy in c:\\users\\rayba\\music\\analista\\l400\\lab\\venv\\lib\\site-packages (from torchvision) (1.26.4)\n",
      "Collecting pillow!=8.3.*,>=5.3.0 (from torchvision)\n",
      "  Downloading https://download.pytorch.org/whl/pillow-11.0.0-cp310-cp310-win_amd64.whl.metadata (9.3 kB)\n",
      "Requirement already satisfied: MarkupSafe>=2.0 in c:\\users\\rayba\\music\\analista\\l400\\lab\\venv\\lib\\site-packages (from jinja2->torch) (3.0.2)\n",
      "Downloading https://download.pytorch.org/whl/cu118/torch-2.6.0%2Bcu118-cp310-cp310-win_amd64.whl (2728.9 MB)\n",
      "   ---------------------------------------- 0.0/2.7 GB ? eta -:--:--\n",
      "   ---------------------------------------- 0.0/2.7 GB 11.2 MB/s eta 0:04:04\n",
      "   ---------------------------------------- 0.0/2.7 GB 11.4 MB/s eta 0:03:59\n",
      "   ---------------------------------------- 0.0/2.7 GB 11.6 MB/s eta 0:03:55\n",
      "   ---------------------------------------- 0.0/2.7 GB 11.6 MB/s eta 0:03:54\n",
      "   ---------------------------------------- 0.0/2.7 GB 11.5 MB/s eta 0:03:56\n",
      "   ---------------------------------------- 0.0/2.7 GB 11.5 MB/s eta 0:03:56\n",
      "   ---------------------------------------- 0.0/2.7 GB 11.6 MB/s eta 0:03:54\n",
      "   ---------------------------------------- 0.0/2.7 GB 11.6 MB/s eta 0:03:54\n",
      "   ---------------------------------------- 0.0/2.7 GB 11.5 MB/s eta 0:03:56\n",
      "   ---------------------------------------- 0.0/2.7 GB 11.6 MB/s eta 0:03:54\n",
      "   ---------------------------------------- 0.0/2.7 GB 11.6 MB/s eta 0:03:54\n",
      "   ---------------------------------------- 0.0/2.7 GB 11.5 MB/s eta 0:03:55\n",
      "   ---------------------------------------- 0.0/2.7 GB 11.5 MB/s eta 0:03:54\n",
      "    --------------------------------------- 0.0/2.7 GB 11.6 MB/s eta 0:03:53\n",
      "    --------------------------------------- 0.0/2.7 GB 11.6 MB/s eta 0:03:53\n",
      "    --------------------------------------- 0.0/2.7 GB 11.6 MB/s eta 0:03:53\n",
      "    --------------------------------------- 0.0/2.7 GB 11.5 MB/s eta 0:03:53\n",
      "    --------------------------------------- 0.0/2.7 GB 11.6 MB/s eta 0:03:53\n",
      "    --------------------------------------- 0.0/2.7 GB 11.6 MB/s eta 0:03:52\n",
      "    --------------------------------------- 0.0/2.7 GB 11.5 MB/s eta 0:03:53\n",
      "    --------------------------------------- 0.1/2.7 GB 11.6 MB/s eta 0:03:52\n",
      "    --------------------------------------- 0.1/2.7 GB 11.6 MB/s eta 0:03:52\n",
      "    --------------------------------------- 0.1/2.7 GB 11.5 MB/s eta 0:03:52\n",
      "    --------------------------------------- 0.1/2.7 GB 11.5 MB/s eta 0:03:52\n",
      "    --------------------------------------- 0.1/2.7 GB 11.5 MB/s eta 0:03:51\n",
      "    --------------------------------------- 0.1/2.7 GB 11.6 MB/s eta 0:03:51\n",
      "    --------------------------------------- 0.1/2.7 GB 11.6 MB/s eta 0:03:51\n",
      "   - -------------------------------------- 0.1/2.7 GB 11.6 MB/s eta 0:03:51\n",
      "   - -------------------------------------- 0.1/2.7 GB 11.6 MB/s eta 0:03:51\n",
      "   - -------------------------------------- 0.1/2.7 GB 11.5 MB/s eta 0:03:51\n",
      "   - -------------------------------------- 0.1/2.7 GB 11.5 MB/s eta 0:03:50\n",
      "   - -------------------------------------- 0.1/2.7 GB 11.6 MB/s eta 0:03:50\n",
      "   - -------------------------------------- 0.1/2.7 GB 11.6 MB/s eta 0:03:50\n",
      "   - -------------------------------------- 0.1/2.7 GB 11.6 MB/s eta 0:03:49\n",
      "   - -------------------------------------- 0.1/2.7 GB 11.5 MB/s eta 0:03:49\n",
      "   - -------------------------------------- 0.1/2.7 GB 11.5 MB/s eta 0:03:49\n",
      "   - -------------------------------------- 0.1/2.7 GB 11.5 MB/s eta 0:03:49\n",
      "   - -------------------------------------- 0.1/2.7 GB 11.2 MB/s eta 0:03:55\n",
      "   - -------------------------------------- 0.1/2.7 GB 11.2 MB/s eta 0:03:55\n",
      "   - -------------------------------------- 0.1/2.7 GB 11.2 MB/s eta 0:03:55\n",
      "   - -------------------------------------- 0.1/2.7 GB 11.3 MB/s eta 0:03:54\n",
      "   - -------------------------------------- 0.1/2.7 GB 11.3 MB/s eta 0:03:54\n",
      "   - -------------------------------------- 0.1/2.7 GB 11.3 MB/s eta 0:03:53\n",
      "   - -------------------------------------- 0.1/2.7 GB 11.3 MB/s eta 0:03:53\n",
      "   - -------------------------------------- 0.1/2.7 GB 11.3 MB/s eta 0:03:53\n",
      "   - -------------------------------------- 0.1/2.7 GB 11.3 MB/s eta 0:03:52\n",
      "   - -------------------------------------- 0.1/2.7 GB 11.3 MB/s eta 0:03:52\n",
      "   - -------------------------------------- 0.1/2.7 GB 11.3 MB/s eta 0:03:51\n",
      "   - -------------------------------------- 0.1/2.7 GB 11.3 MB/s eta 0:03:51\n",
      "   - -------------------------------------- 0.1/2.7 GB 11.3 MB/s eta 0:03:51\n",
      "   - -------------------------------------- 0.1/2.7 GB 11.3 MB/s eta 0:03:51\n",
      "   - -------------------------------------- 0.1/2.7 GB 11.3 MB/s eta 0:03:51\n",
      "   - -------------------------------------- 0.1/2.7 GB 11.3 MB/s eta 0:03:50\n",
      "   - -------------------------------------- 0.1/2.7 GB 11.3 MB/s eta 0:03:50\n",
      "   - -------------------------------------- 0.1/2.7 GB 11.3 MB/s eta 0:03:50\n",
      "   - -------------------------------------- 0.1/2.7 GB 11.3 MB/s eta 0:03:49\n",
      "   -- ------------------------------------- 0.1/2.7 GB 11.4 MB/s eta 0:03:49\n",
      "   -- ------------------------------------- 0.1/2.7 GB 11.4 MB/s eta 0:03:48\n",
      "   -- ------------------------------------- 0.1/2.7 GB 11.3 MB/s eta 0:03:48\n",
      "   -- ------------------------------------- 0.1/2.7 GB 11.3 MB/s eta 0:03:48\n",
      "   -- ------------------------------------- 0.1/2.7 GB 11.4 MB/s eta 0:03:48\n",
      "   -- ------------------------------------- 0.1/2.7 GB 11.4 MB/s eta 0:03:48\n",
      "   -- ------------------------------------- 0.2/2.7 GB 11.4 MB/s eta 0:03:47\n",
      "   -- ------------------------------------- 0.2/2.7 GB 11.4 MB/s eta 0:03:47\n",
      "   -- ------------------------------------- 0.2/2.7 GB 11.4 MB/s eta 0:03:47\n",
      "   -- ------------------------------------- 0.2/2.7 GB 11.4 MB/s eta 0:03:46\n",
      "   -- ------------------------------------- 0.2/2.7 GB 11.4 MB/s eta 0:03:46\n",
      "   -- ------------------------------------- 0.2/2.7 GB 11.4 MB/s eta 0:03:46\n",
      "   -- ------------------------------------- 0.2/2.7 GB 11.4 MB/s eta 0:03:46\n",
      "   -- ------------------------------------- 0.2/2.7 GB 11.4 MB/s eta 0:03:45\n",
      "   -- ------------------------------------- 0.2/2.7 GB 11.4 MB/s eta 0:03:45\n",
      "   -- ------------------------------------- 0.2/2.7 GB 11.4 MB/s eta 0:03:45\n",
      "   -- ------------------------------------- 0.2/2.7 GB 11.4 MB/s eta 0:03:45\n",
      "   -- ------------------------------------- 0.2/2.7 GB 11.4 MB/s eta 0:03:44\n",
      "   -- ------------------------------------- 0.2/2.7 GB 11.4 MB/s eta 0:03:44\n",
      "   -- ------------------------------------- 0.2/2.7 GB 11.4 MB/s eta 0:03:44\n",
      "   -- ------------------------------------- 0.2/2.7 GB 11.4 MB/s eta 0:03:44\n",
      "   -- ------------------------------------- 0.2/2.7 GB 11.4 MB/s eta 0:03:43\n",
      "   -- ------------------------------------- 0.2/2.7 GB 11.4 MB/s eta 0:03:43\n",
      "   -- ------------------------------------- 0.2/2.7 GB 11.4 MB/s eta 0:03:43\n",
      "   -- ------------------------------------- 0.2/2.7 GB 11.4 MB/s eta 0:03:43\n",
      "   -- ------------------------------------- 0.2/2.7 GB 11.4 MB/s eta 0:03:42\n",
      "   -- ------------------------------------- 0.2/2.7 GB 11.4 MB/s eta 0:03:42\n",
      "   -- ------------------------------------- 0.2/2.7 GB 11.4 MB/s eta 0:03:42\n",
      "   --- ------------------------------------ 0.2/2.7 GB 11.4 MB/s eta 0:03:42\n",
      "   --- ------------------------------------ 0.2/2.7 GB 11.4 MB/s eta 0:03:42\n",
      "   --- ------------------------------------ 0.2/2.7 GB 11.3 MB/s eta 0:03:44\n",
      "   --- ------------------------------------ 0.2/2.7 GB 11.3 MB/s eta 0:03:44\n",
      "   --- ------------------------------------ 0.2/2.7 GB 11.3 MB/s eta 0:03:43\n",
      "   --- ------------------------------------ 0.2/2.7 GB 11.3 MB/s eta 0:03:43\n",
      "   --- ------------------------------------ 0.2/2.7 GB 11.3 MB/s eta 0:03:43\n",
      "   --- ------------------------------------ 0.2/2.7 GB 11.3 MB/s eta 0:03:43\n",
      "   --- ------------------------------------ 0.2/2.7 GB 11.3 MB/s eta 0:03:42\n",
      "   --- ------------------------------------ 0.2/2.7 GB 11.3 MB/s eta 0:03:42\n",
      "   --- ------------------------------------ 0.2/2.7 GB 11.3 MB/s eta 0:03:42\n",
      "   --- ------------------------------------ 0.2/2.7 GB 11.3 MB/s eta 0:03:42\n",
      "   --- ------------------------------------ 0.2/2.7 GB 11.3 MB/s eta 0:03:41\n",
      "   --- ------------------------------------ 0.2/2.7 GB 11.3 MB/s eta 0:03:41\n",
      "   --- ------------------------------------ 0.2/2.7 GB 11.3 MB/s eta 0:03:41\n",
      "   --- ------------------------------------ 0.2/2.7 GB 11.3 MB/s eta 0:03:41\n",
      "   --- ------------------------------------ 0.2/2.7 GB 11.3 MB/s eta 0:03:40\n",
      "   --- ------------------------------------ 0.2/2.7 GB 11.3 MB/s eta 0:03:40\n",
      "   --- ------------------------------------ 0.2/2.7 GB 11.3 MB/s eta 0:03:40\n",
      "   --- ------------------------------------ 0.2/2.7 GB 11.3 MB/s eta 0:03:39\n",
      "   --- ------------------------------------ 0.3/2.7 GB 11.3 MB/s eta 0:03:39\n",
      "   --- ------------------------------------ 0.3/2.7 GB 11.3 MB/s eta 0:03:39\n",
      "   --- ------------------------------------ 0.3/2.7 GB 11.3 MB/s eta 0:03:39\n",
      "   --- ------------------------------------ 0.3/2.7 GB 11.3 MB/s eta 0:03:38\n",
      "   --- ------------------------------------ 0.3/2.7 GB 11.3 MB/s eta 0:03:38\n",
      "   --- ------------------------------------ 0.3/2.7 GB 11.3 MB/s eta 0:03:38\n",
      "   --- ------------------------------------ 0.3/2.7 GB 11.3 MB/s eta 0:03:38\n",
      "   --- ------------------------------------ 0.3/2.7 GB 11.3 MB/s eta 0:03:38\n",
      "   --- ------------------------------------ 0.3/2.7 GB 11.3 MB/s eta 0:03:37\n",
      "   ---- ----------------------------------- 0.3/2.7 GB 11.3 MB/s eta 0:03:37\n",
      "   ---- ----------------------------------- 0.3/2.7 GB 11.3 MB/s eta 0:03:37\n",
      "   ---- ----------------------------------- 0.3/2.7 GB 11.3 MB/s eta 0:03:37\n",
      "   ---- ----------------------------------- 0.3/2.7 GB 11.3 MB/s eta 0:03:36\n",
      "   ---- ----------------------------------- 0.3/2.7 GB 11.3 MB/s eta 0:03:36\n",
      "   ---- ----------------------------------- 0.3/2.7 GB 11.3 MB/s eta 0:03:36\n",
      "   ---- ----------------------------------- 0.3/2.7 GB 11.3 MB/s eta 0:03:36\n",
      "   ---- ----------------------------------- 0.3/2.7 GB 11.3 MB/s eta 0:03:35\n",
      "   ---- ----------------------------------- 0.3/2.7 GB 11.3 MB/s eta 0:03:35\n",
      "   ---- ----------------------------------- 0.3/2.7 GB 11.3 MB/s eta 0:03:35\n",
      "   ---- ----------------------------------- 0.3/2.7 GB 11.3 MB/s eta 0:03:35\n",
      "   ---- ----------------------------------- 0.3/2.7 GB 11.3 MB/s eta 0:03:35\n",
      "   ---- ----------------------------------- 0.3/2.7 GB 11.3 MB/s eta 0:03:34\n",
      "   ---- ----------------------------------- 0.3/2.7 GB 11.3 MB/s eta 0:03:34\n",
      "   ---- ----------------------------------- 0.3/2.7 GB 11.3 MB/s eta 0:03:34\n",
      "   ---- ----------------------------------- 0.3/2.7 GB 11.3 MB/s eta 0:03:34\n",
      "   ---- ----------------------------------- 0.3/2.7 GB 11.3 MB/s eta 0:03:33\n",
      "   ---- ----------------------------------- 0.3/2.7 GB 11.3 MB/s eta 0:03:33\n",
      "   ---- ----------------------------------- 0.3/2.7 GB 11.3 MB/s eta 0:03:33\n",
      "Note: you may need to restart the kernel to use updated packages.\n"
     ]
    },
    {
     "name": "stderr",
     "output_type": "stream",
     "text": [
      "ERROR: Could not install packages due to an OSError: [Errno 28] No space left on device\n",
      "\n"
     ]
    }
   ],
   "source": [
    "%pip install torch torchvision torchaudio --index-url https://download.pytorch.org/whl/cu118"
   ]
  },
  {
   "cell_type": "code",
   "execution_count": 1,
   "metadata": {},
   "outputs": [
    {
     "ename": "ModuleNotFoundError",
     "evalue": "No module named 'torch'",
     "output_type": "error",
     "traceback": [
      "\u001b[1;31m---------------------------------------------------------------------------\u001b[0m",
      "\u001b[1;31mModuleNotFoundError\u001b[0m                       Traceback (most recent call last)",
      "Cell \u001b[1;32mIn[1], line 1\u001b[0m\n\u001b[1;32m----> 1\u001b[0m \u001b[38;5;28;01mimport\u001b[39;00m\u001b[38;5;250m \u001b[39m\u001b[38;5;21;01mtorch\u001b[39;00m\n\u001b[0;32m      2\u001b[0m \u001b[38;5;28mprint\u001b[39m(torch\u001b[38;5;241m.\u001b[39m__version__)\n\u001b[0;32m      3\u001b[0m \u001b[38;5;28mprint\u001b[39m(torch\u001b[38;5;241m.\u001b[39mcuda\u001b[38;5;241m.\u001b[39mis_available())  \u001b[38;5;66;03m# Verifica se o CUDA está disponível (se aplicável)\u001b[39;00m\n",
      "\u001b[1;31mModuleNotFoundError\u001b[0m: No module named 'torch'"
     ]
    }
   ],
   "source": [
    "import torch\n",
    "print(torch.__version__)\n",
    "print(torch.cuda.is_available())  # Verifica se o CUDA está disponível (se aplicável)"
   ]
  },
  {
   "cell_type": "code",
   "execution_count": 8,
   "metadata": {},
   "outputs": [
    {
     "ename": "ModuleNotFoundError",
     "evalue": "No module named 'tabpfn_extensions'",
     "output_type": "error",
     "traceback": [
      "\u001b[31m---------------------------------------------------------------------------\u001b[39m",
      "\u001b[31mModuleNotFoundError\u001b[39m                       Traceback (most recent call last)",
      "\u001b[36mCell\u001b[39m\u001b[36m \u001b[39m\u001b[32mIn[8]\u001b[39m\u001b[32m, line 3\u001b[39m\n\u001b[32m      1\u001b[39m \u001b[38;5;28;01mimport\u001b[39;00m\u001b[38;5;250m \u001b[39m\u001b[34;01msys\u001b[39;00m\n\u001b[32m      2\u001b[39m sys.path.append(\u001b[33m\"\u001b[39m\u001b[33m/content/tabpfn-extensions/src\u001b[39m\u001b[33m\"\u001b[39m)  \u001b[38;5;66;03m# Adiciona o caminho do módulo\u001b[39;00m\n\u001b[32m----> \u001b[39m\u001b[32m3\u001b[39m \u001b[38;5;28;01mfrom\u001b[39;00m\u001b[38;5;250m \u001b[39m\u001b[34;01mtabpfn_extensions\u001b[39;00m\u001b[34;01m.\u001b[39;00m\u001b[34;01mpost_hoc_ensembles\u001b[39;00m\u001b[34;01m.\u001b[39;00m\u001b[34;01msklearn_interface\u001b[39;00m\u001b[38;5;250m \u001b[39m\u001b[38;5;28;01mimport\u001b[39;00m AutoTabPFNRegressor\n\u001b[32m      4\u001b[39m \u001b[38;5;28mprint\u001b[39m(\u001b[33m\"\u001b[39m\u001b[33mAutoTabPFNRegressor importado com sucesso!\u001b[39m\u001b[33m\"\u001b[39m)\n",
      "\u001b[31mModuleNotFoundError\u001b[39m: No module named 'tabpfn_extensions'"
     ]
    }
   ],
   "source": [
    "import sys\n",
    "sys.path.append(\"/content/tabpfn-extensions/src\")  # Adiciona o caminho do módulo\n",
    "from tabpfn_extensions.post_hoc_ensembles.sklearn_interface import AutoTabPFNRegressor\n",
    "print(\"AutoTabPFNRegressor importado com sucesso!\")\n"
   ]
  },
  {
   "cell_type": "code",
   "execution_count": 9,
   "metadata": {},
   "outputs": [
    {
     "ename": "ModuleNotFoundError",
     "evalue": "No module named 'torch._C'",
     "output_type": "error",
     "traceback": [
      "\u001b[31m---------------------------------------------------------------------------\u001b[39m",
      "\u001b[31mModuleNotFoundError\u001b[39m                       Traceback (most recent call last)",
      "\u001b[36mCell\u001b[39m\u001b[36m \u001b[39m\u001b[32mIn[9]\u001b[39m\u001b[32m, line 1\u001b[39m\n\u001b[32m----> \u001b[39m\u001b[32m1\u001b[39m \u001b[38;5;28;01mfrom\u001b[39;00m\u001b[38;5;250m \u001b[39m\u001b[34;01mtabpfn\u001b[39;00m\u001b[38;5;250m \u001b[39m\u001b[38;5;28;01mimport\u001b[39;00m TabPFNRegressor\n",
      "\u001b[36mFile \u001b[39m\u001b[32m~\\Music\\mestrado_dados\\vale-nova\\codigo\\TabPFN\\src\\tabpfn\\__init__.py:3\u001b[39m\n\u001b[32m      1\u001b[39m \u001b[38;5;28;01mfrom\u001b[39;00m\u001b[38;5;250m \u001b[39m\u001b[34;01mimportlib\u001b[39;00m\u001b[34;01m.\u001b[39;00m\u001b[34;01mmetadata\u001b[39;00m\u001b[38;5;250m \u001b[39m\u001b[38;5;28;01mimport\u001b[39;00m version\n\u001b[32m----> \u001b[39m\u001b[32m3\u001b[39m \u001b[38;5;28;01mfrom\u001b[39;00m\u001b[38;5;250m \u001b[39m\u001b[34;01mtabpfn\u001b[39;00m\u001b[34;01m.\u001b[39;00m\u001b[34;01mclassifier\u001b[39;00m\u001b[38;5;250m \u001b[39m\u001b[38;5;28;01mimport\u001b[39;00m TabPFNClassifier\n\u001b[32m      4\u001b[39m \u001b[38;5;28;01mfrom\u001b[39;00m\u001b[38;5;250m \u001b[39m\u001b[34;01mtabpfn\u001b[39;00m\u001b[34;01m.\u001b[39;00m\u001b[34;01mmisc\u001b[39;00m\u001b[34;01m.\u001b[39;00m\u001b[34;01mdebug_versions\u001b[39;00m\u001b[38;5;250m \u001b[39m\u001b[38;5;28;01mimport\u001b[39;00m display_debug_info\n\u001b[32m      5\u001b[39m \u001b[38;5;28;01mfrom\u001b[39;00m\u001b[38;5;250m \u001b[39m\u001b[34;01mtabpfn\u001b[39;00m\u001b[34;01m.\u001b[39;00m\u001b[34;01mregressor\u001b[39;00m\u001b[38;5;250m \u001b[39m\u001b[38;5;28;01mimport\u001b[39;00m TabPFNRegressor\n",
      "\u001b[36mFile \u001b[39m\u001b[32m~\\Music\\mestrado_dados\\vale-nova\\codigo\\TabPFN\\src\\tabpfn\\classifier.py:33\u001b[39m\n\u001b[32m     30\u001b[39m \u001b[38;5;28;01mfrom\u001b[39;00m\u001b[38;5;250m \u001b[39m\u001b[34;01msklearn\u001b[39;00m\u001b[34;01m.\u001b[39;00m\u001b[34;01mbase\u001b[39;00m\u001b[38;5;250m \u001b[39m\u001b[38;5;28;01mimport\u001b[39;00m BaseEstimator, ClassifierMixin, check_is_fitted\n\u001b[32m     31\u001b[39m \u001b[38;5;28;01mfrom\u001b[39;00m\u001b[38;5;250m \u001b[39m\u001b[34;01msklearn\u001b[39;00m\u001b[34;01m.\u001b[39;00m\u001b[34;01mpreprocessing\u001b[39;00m\u001b[38;5;250m \u001b[39m\u001b[38;5;28;01mimport\u001b[39;00m LabelEncoder\n\u001b[32m---> \u001b[39m\u001b[32m33\u001b[39m \u001b[38;5;28;01mfrom\u001b[39;00m\u001b[38;5;250m \u001b[39m\u001b[34;01mtabpfn\u001b[39;00m\u001b[34;01m.\u001b[39;00m\u001b[34;01mbase\u001b[39;00m\u001b[38;5;250m \u001b[39m\u001b[38;5;28;01mimport\u001b[39;00m (\n\u001b[32m     34\u001b[39m     check_cpu_warning,\n\u001b[32m     35\u001b[39m     create_inference_engine,\n\u001b[32m     36\u001b[39m     determine_precision,\n\u001b[32m     37\u001b[39m     initialize_tabpfn_model,\n\u001b[32m     38\u001b[39m )\n\u001b[32m     39\u001b[39m \u001b[38;5;28;01mfrom\u001b[39;00m\u001b[38;5;250m \u001b[39m\u001b[34;01mtabpfn\u001b[39;00m\u001b[34;01m.\u001b[39;00m\u001b[34;01mconfig\u001b[39;00m\u001b[38;5;250m \u001b[39m\u001b[38;5;28;01mimport\u001b[39;00m ModelInterfaceConfig\n\u001b[32m     40\u001b[39m \u001b[38;5;28;01mfrom\u001b[39;00m\u001b[38;5;250m \u001b[39m\u001b[34;01mtabpfn\u001b[39;00m\u001b[34;01m.\u001b[39;00m\u001b[34;01mconstants\u001b[39;00m\u001b[38;5;250m \u001b[39m\u001b[38;5;28;01mimport\u001b[39;00m (\n\u001b[32m     41\u001b[39m     PROBABILITY_EPSILON_ROUND_ZERO,\n\u001b[32m     42\u001b[39m     SKLEARN_16_DECIMAL_PRECISION,\n\u001b[32m     43\u001b[39m     XType,\n\u001b[32m     44\u001b[39m     YType,\n\u001b[32m     45\u001b[39m )\n",
      "\u001b[36mFile \u001b[39m\u001b[32m~\\Music\\mestrado_dados\\vale-nova\\codigo\\TabPFN\\src\\tabpfn\\base.py:24\u001b[39m\n\u001b[32m     19\u001b[39m \u001b[38;5;66;03m# --- TabPFN imports ---\u001b[39;00m\n\u001b[32m     20\u001b[39m \u001b[38;5;28;01mfrom\u001b[39;00m\u001b[38;5;250m \u001b[39m\u001b[34;01mtabpfn\u001b[39;00m\u001b[34;01m.\u001b[39;00m\u001b[34;01mconstants\u001b[39;00m\u001b[38;5;250m \u001b[39m\u001b[38;5;28;01mimport\u001b[39;00m (\n\u001b[32m     21\u001b[39m     AUTOCAST_DTYPE_BYTE_SIZE,\n\u001b[32m     22\u001b[39m     DEFAULT_DTYPE_BYTE_SIZE,\n\u001b[32m     23\u001b[39m )\n\u001b[32m---> \u001b[39m\u001b[32m24\u001b[39m \u001b[38;5;28;01mfrom\u001b[39;00m\u001b[38;5;250m \u001b[39m\u001b[34;01mtabpfn\u001b[39;00m\u001b[34;01m.\u001b[39;00m\u001b[34;01minference\u001b[39;00m\u001b[38;5;250m \u001b[39m\u001b[38;5;28;01mimport\u001b[39;00m (\n\u001b[32m     25\u001b[39m     InferenceEngine,\n\u001b[32m     26\u001b[39m     InferenceEngineCacheKV,\n\u001b[32m     27\u001b[39m     InferenceEngineCachePreprocessing,\n\u001b[32m     28\u001b[39m     InferenceEngineOnDemand,\n\u001b[32m     29\u001b[39m )\n\u001b[32m     30\u001b[39m \u001b[38;5;28;01mfrom\u001b[39;00m\u001b[38;5;250m \u001b[39m\u001b[34;01mtabpfn\u001b[39;00m\u001b[34;01m.\u001b[39;00m\u001b[34;01mmodel\u001b[39;00m\u001b[34;01m.\u001b[39;00m\u001b[34;01mloading\u001b[39;00m\u001b[38;5;250m \u001b[39m\u001b[38;5;28;01mimport\u001b[39;00m load_model_criterion_config\n\u001b[32m     31\u001b[39m \u001b[38;5;28;01mfrom\u001b[39;00m\u001b[38;5;250m \u001b[39m\u001b[34;01mtabpfn\u001b[39;00m\u001b[34;01m.\u001b[39;00m\u001b[34;01mutils\u001b[39;00m\u001b[38;5;250m \u001b[39m\u001b[38;5;28;01mimport\u001b[39;00m infer_device_and_type, infer_fp16_inference_mode\n",
      "\u001b[36mFile \u001b[39m\u001b[32m~\\Music\\mestrado_dados\\vale-nova\\codigo\\TabPFN\\src\\tabpfn\\inference.py:19\u001b[39m\n\u001b[32m     16\u001b[39m \u001b[38;5;28;01mimport\u001b[39;00m\u001b[38;5;250m \u001b[39m\u001b[34;01mtorch\u001b[39;00m\n\u001b[32m     18\u001b[39m \u001b[38;5;28;01mfrom\u001b[39;00m\u001b[38;5;250m \u001b[39m\u001b[34;01mtabpfn\u001b[39;00m\u001b[34;01m.\u001b[39;00m\u001b[34;01mmodel\u001b[39;00m\u001b[34;01m.\u001b[39;00m\u001b[34;01mmemory\u001b[39;00m\u001b[38;5;250m \u001b[39m\u001b[38;5;28;01mimport\u001b[39;00m MemoryUsageEstimator\n\u001b[32m---> \u001b[39m\u001b[32m19\u001b[39m \u001b[38;5;28;01mfrom\u001b[39;00m\u001b[38;5;250m \u001b[39m\u001b[34;01mtabpfn\u001b[39;00m\u001b[34;01m.\u001b[39;00m\u001b[34;01mpreprocessing\u001b[39;00m\u001b[38;5;250m \u001b[39m\u001b[38;5;28;01mimport\u001b[39;00m fit_preprocessing\n\u001b[32m     21\u001b[39m \u001b[38;5;28;01mif\u001b[39;00m TYPE_CHECKING:\n\u001b[32m     22\u001b[39m     \u001b[38;5;28;01mfrom\u001b[39;00m\u001b[38;5;250m \u001b[39m\u001b[34;01mtabpfn\u001b[39;00m\u001b[34;01m.\u001b[39;00m\u001b[34;01mmodel\u001b[39;00m\u001b[34;01m.\u001b[39;00m\u001b[34;01mpreprocessing\u001b[39;00m\u001b[38;5;250m \u001b[39m\u001b[38;5;28;01mimport\u001b[39;00m SequentialFeatureTransformer\n",
      "\u001b[36mFile \u001b[39m\u001b[32m~\\Music\\mestrado_dados\\vale-nova\\codigo\\TabPFN\\src\\tabpfn\\preprocessing.py:25\u001b[39m\n\u001b[32m     17\u001b[39m \u001b[38;5;28;01mfrom\u001b[39;00m\u001b[38;5;250m \u001b[39m\u001b[34;01msklearn\u001b[39;00m\u001b[34;01m.\u001b[39;00m\u001b[34;01mutils\u001b[39;00m\u001b[34;01m.\u001b[39;00m\u001b[34;01mvalidation\u001b[39;00m\u001b[38;5;250m \u001b[39m\u001b[38;5;28;01mimport\u001b[39;00m joblib\n\u001b[32m     19\u001b[39m \u001b[38;5;28;01mfrom\u001b[39;00m\u001b[38;5;250m \u001b[39m\u001b[34;01mtabpfn\u001b[39;00m\u001b[34;01m.\u001b[39;00m\u001b[34;01mconstants\u001b[39;00m\u001b[38;5;250m \u001b[39m\u001b[38;5;28;01mimport\u001b[39;00m (\n\u001b[32m     20\u001b[39m     CLASS_SHUFFLE_OVERESTIMATE_FACTOR,\n\u001b[32m     21\u001b[39m     MAXIMUM_FEATURE_SHIFT,\n\u001b[32m     22\u001b[39m     PARALLEL_MODE_TO_RETURN_AS,\n\u001b[32m     23\u001b[39m     SUPPORTS_RETURN_AS,\n\u001b[32m     24\u001b[39m )\n\u001b[32m---> \u001b[39m\u001b[32m25\u001b[39m \u001b[38;5;28;01mfrom\u001b[39;00m\u001b[38;5;250m \u001b[39m\u001b[34;01mtabpfn\u001b[39;00m\u001b[34;01m.\u001b[39;00m\u001b[34;01mmodel\u001b[39;00m\u001b[34;01m.\u001b[39;00m\u001b[34;01mpreprocessing\u001b[39;00m\u001b[38;5;250m \u001b[39m\u001b[38;5;28;01mimport\u001b[39;00m (\n\u001b[32m     26\u001b[39m     AddFingerprintFeaturesStep,\n\u001b[32m     27\u001b[39m     EncodeCategoricalFeaturesStep,\n\u001b[32m     28\u001b[39m     FeaturePreprocessingTransformerStep,\n\u001b[32m     29\u001b[39m     NanHandlingPolynomialFeaturesStep,\n\u001b[32m     30\u001b[39m     RemoveConstantFeaturesStep,\n\u001b[32m     31\u001b[39m     ReshapeFeatureDistributionsStep,\n\u001b[32m     32\u001b[39m     SequentialFeatureTransformer,\n\u001b[32m     33\u001b[39m     ShuffleFeaturesStep,\n\u001b[32m     34\u001b[39m )\n\u001b[32m     35\u001b[39m \u001b[38;5;28;01mfrom\u001b[39;00m\u001b[38;5;250m \u001b[39m\u001b[34;01mtabpfn\u001b[39;00m\u001b[34;01m.\u001b[39;00m\u001b[34;01mutils\u001b[39;00m\u001b[38;5;250m \u001b[39m\u001b[38;5;28;01mimport\u001b[39;00m infer_random_state\n\u001b[32m     37\u001b[39m \u001b[38;5;28;01mif\u001b[39;00m TYPE_CHECKING:\n",
      "\u001b[36mFile \u001b[39m\u001b[32m~\\Music\\mestrado_dados\\vale-nova\\codigo\\TabPFN\\src\\tabpfn\\model\\preprocessing.py:34\u001b[39m\n\u001b[32m     22\u001b[39m \u001b[38;5;28;01mfrom\u001b[39;00m\u001b[38;5;250m \u001b[39m\u001b[34;01msklearn\u001b[39;00m\u001b[34;01m.\u001b[39;00m\u001b[34;01mpipeline\u001b[39;00m\u001b[38;5;250m \u001b[39m\u001b[38;5;28;01mimport\u001b[39;00m FeatureUnion, Pipeline\n\u001b[32m     23\u001b[39m \u001b[38;5;28;01mfrom\u001b[39;00m\u001b[38;5;250m \u001b[39m\u001b[34;01msklearn\u001b[39;00m\u001b[34;01m.\u001b[39;00m\u001b[34;01mpreprocessing\u001b[39;00m\u001b[38;5;250m \u001b[39m\u001b[38;5;28;01mimport\u001b[39;00m (\n\u001b[32m     24\u001b[39m     FunctionTransformer,\n\u001b[32m     25\u001b[39m     MinMaxScaler,\n\u001b[32m   (...)\u001b[39m\u001b[32m     31\u001b[39m     StandardScaler,\n\u001b[32m     32\u001b[39m )\n\u001b[32m---> \u001b[39m\u001b[32m34\u001b[39m \u001b[38;5;28;01mfrom\u001b[39;00m\u001b[38;5;250m \u001b[39m\u001b[34;01mtabpfn\u001b[39;00m\u001b[34;01m.\u001b[39;00m\u001b[34;01mutils\u001b[39;00m\u001b[38;5;250m \u001b[39m\u001b[38;5;28;01mimport\u001b[39;00m infer_random_state\n\u001b[32m     36\u001b[39m \u001b[38;5;28;01mif\u001b[39;00m TYPE_CHECKING:\n\u001b[32m     37\u001b[39m     \u001b[38;5;28;01mfrom\u001b[39;00m\u001b[38;5;250m \u001b[39m\u001b[34;01msklearn\u001b[39;00m\u001b[34;01m.\u001b[39;00m\u001b[34;01mbase\u001b[39;00m\u001b[38;5;250m \u001b[39m\u001b[38;5;28;01mimport\u001b[39;00m TransformerMixin\n",
      "\u001b[36mFile \u001b[39m\u001b[32m~\\Music\\mestrado_dados\\vale-nova\\codigo\\TabPFN\\src\\tabpfn\\utils.py:21\u001b[39m\n\u001b[32m     19\u001b[39m \u001b[38;5;28;01mfrom\u001b[39;00m\u001b[38;5;250m \u001b[39m\u001b[34;01msklearn\u001b[39;00m\u001b[34;01m.\u001b[39;00m\u001b[34;01mpreprocessing\u001b[39;00m\u001b[38;5;250m \u001b[39m\u001b[38;5;28;01mimport\u001b[39;00m FunctionTransformer, OrdinalEncoder\n\u001b[32m     20\u001b[39m \u001b[38;5;28;01mfrom\u001b[39;00m\u001b[38;5;250m \u001b[39m\u001b[34;01msklearn\u001b[39;00m\u001b[34;01m.\u001b[39;00m\u001b[34;01mutils\u001b[39;00m\u001b[34;01m.\u001b[39;00m\u001b[34;01mmulticlass\u001b[39;00m\u001b[38;5;250m \u001b[39m\u001b[38;5;28;01mimport\u001b[39;00m check_classification_targets\n\u001b[32m---> \u001b[39m\u001b[32m21\u001b[39m \u001b[38;5;28;01mfrom\u001b[39;00m\u001b[38;5;250m \u001b[39m\u001b[34;01mtorch\u001b[39;00m\u001b[38;5;250m \u001b[39m\u001b[38;5;28;01mimport\u001b[39;00m nn\n\u001b[32m     23\u001b[39m \u001b[38;5;28;01mfrom\u001b[39;00m\u001b[38;5;250m \u001b[39m\u001b[34;01mtabpfn\u001b[39;00m\u001b[34;01m.\u001b[39;00m\u001b[34;01mconstants\u001b[39;00m\u001b[38;5;250m \u001b[39m\u001b[38;5;28;01mimport\u001b[39;00m (\n\u001b[32m     24\u001b[39m     DEFAULT_NUMPY_PREPROCESSING_DTYPE,\n\u001b[32m     25\u001b[39m     NA_PLACEHOLDER,\n\u001b[32m     26\u001b[39m     REGRESSION_NAN_BORDER_LIMIT_LOWER,\n\u001b[32m     27\u001b[39m     REGRESSION_NAN_BORDER_LIMIT_UPPER,\n\u001b[32m     28\u001b[39m )\n\u001b[32m     29\u001b[39m \u001b[38;5;28;01mfrom\u001b[39;00m\u001b[38;5;250m \u001b[39m\u001b[34;01mtabpfn\u001b[39;00m\u001b[34;01m.\u001b[39;00m\u001b[34;01mmisc\u001b[39;00m\u001b[34;01m.\u001b[39;00m\u001b[34;01m_sklearn_compat\u001b[39;00m\u001b[38;5;250m \u001b[39m\u001b[38;5;28;01mimport\u001b[39;00m check_array, validate_data\n",
      "\u001b[36mFile \u001b[39m\u001b[32mc:\\Users\\rayba\\Music\\mestrado_dados\\vale-nova\\.venv\\Lib\\site-packages\\torch\\nn\\__init__.py:2\u001b[39m\n\u001b[32m      1\u001b[39m \u001b[38;5;66;03m# mypy: allow-untyped-defs\u001b[39;00m\n\u001b[32m----> \u001b[39m\u001b[32m2\u001b[39m \u001b[38;5;28;01mfrom\u001b[39;00m\u001b[38;5;250m \u001b[39m\u001b[34;01mtorch\u001b[39;00m\u001b[34;01m.\u001b[39;00m\u001b[34;01mnn\u001b[39;00m\u001b[34;01m.\u001b[39;00m\u001b[34;01mparameter\u001b[39;00m\u001b[38;5;250m \u001b[39m\u001b[38;5;28;01mimport\u001b[39;00m (  \u001b[38;5;66;03m# usort: skip\u001b[39;00m\n\u001b[32m      3\u001b[39m     Buffer \u001b[38;5;28;01mas\u001b[39;00m Buffer,\n\u001b[32m      4\u001b[39m     Parameter \u001b[38;5;28;01mas\u001b[39;00m Parameter,\n\u001b[32m      5\u001b[39m     UninitializedBuffer \u001b[38;5;28;01mas\u001b[39;00m UninitializedBuffer,\n\u001b[32m      6\u001b[39m     UninitializedParameter \u001b[38;5;28;01mas\u001b[39;00m UninitializedParameter,\n\u001b[32m      7\u001b[39m )\n\u001b[32m      8\u001b[39m \u001b[38;5;28;01mfrom\u001b[39;00m\u001b[38;5;250m \u001b[39m\u001b[34;01mtorch\u001b[39;00m\u001b[34;01m.\u001b[39;00m\u001b[34;01mnn\u001b[39;00m\u001b[34;01m.\u001b[39;00m\u001b[34;01mmodules\u001b[39;00m\u001b[38;5;250m \u001b[39m\u001b[38;5;28;01mimport\u001b[39;00m *  \u001b[38;5;66;03m# usort: skip # noqa: F403\u001b[39;00m\n\u001b[32m      9\u001b[39m \u001b[38;5;28;01mfrom\u001b[39;00m\u001b[38;5;250m \u001b[39m\u001b[34;01mtorch\u001b[39;00m\u001b[34;01m.\u001b[39;00m\u001b[34;01mnn\u001b[39;00m\u001b[38;5;250m \u001b[39m\u001b[38;5;28;01mimport\u001b[39;00m (\n\u001b[32m     10\u001b[39m     attention \u001b[38;5;28;01mas\u001b[39;00m attention,\n\u001b[32m     11\u001b[39m     functional \u001b[38;5;28;01mas\u001b[39;00m functional,\n\u001b[32m   (...)\u001b[39m\u001b[32m     16\u001b[39m     utils \u001b[38;5;28;01mas\u001b[39;00m utils,\n\u001b[32m     17\u001b[39m )\n",
      "\u001b[36mFile \u001b[39m\u001b[32mc:\\Users\\rayba\\Music\\mestrado_dados\\vale-nova\\.venv\\Lib\\site-packages\\torch\\nn\\parameter.py:4\u001b[39m\n\u001b[32m      1\u001b[39m \u001b[38;5;28;01mfrom\u001b[39;00m\u001b[38;5;250m \u001b[39m\u001b[34;01mcollections\u001b[39;00m\u001b[38;5;250m \u001b[39m\u001b[38;5;28;01mimport\u001b[39;00m OrderedDict\n\u001b[32m      3\u001b[39m \u001b[38;5;28;01mimport\u001b[39;00m\u001b[38;5;250m \u001b[39m\u001b[34;01mtorch\u001b[39;00m\n\u001b[32m----> \u001b[39m\u001b[32m4\u001b[39m \u001b[38;5;28;01mfrom\u001b[39;00m\u001b[38;5;250m \u001b[39m\u001b[34;01mtorch\u001b[39;00m\u001b[34;01m.\u001b[39;00m\u001b[34;01m_C\u001b[39;00m\u001b[38;5;250m \u001b[39m\u001b[38;5;28;01mimport\u001b[39;00m _disabled_torch_function_impl\n\u001b[32m      7\u001b[39m \u001b[38;5;66;03m# Metaclass to combine _TensorMeta and the instance check override for Parameter.\u001b[39;00m\n\u001b[32m      8\u001b[39m \u001b[38;5;28;01mclass\u001b[39;00m\u001b[38;5;250m \u001b[39m\u001b[34;01m_ParameterMeta\u001b[39;00m(torch._C._TensorMeta):\n\u001b[32m      9\u001b[39m     \u001b[38;5;66;03m# Make `isinstance(t, Parameter)` return True for custom tensor instances that have the _is_param flag.\u001b[39;00m\n",
      "\u001b[31mModuleNotFoundError\u001b[39m: No module named 'torch._C'"
     ]
    }
   ],
   "source": [
    "from tabpfn import TabPFNRegressor"
   ]
  }
 ],
 "metadata": {
  "kernelspec": {
   "display_name": "venv",
   "language": "python",
   "name": "venv"
  },
  "language_info": {
   "codemirror_mode": {
    "name": "ipython",
    "version": 3
   },
   "file_extension": ".py",
   "mimetype": "text/x-python",
   "name": "python",
   "nbconvert_exporter": "python",
   "pygments_lexer": "ipython3",
   "version": "3.10.3"
  }
 },
 "nbformat": 4,
 "nbformat_minor": 2
}
