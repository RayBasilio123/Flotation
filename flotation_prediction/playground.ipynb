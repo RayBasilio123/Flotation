{
 "cells": [
  {
   "cell_type": "code",
   "execution_count": 1,
   "id": "df47d304",
   "metadata": {},
   "outputs": [],
   "source": [
    "import pandas as pd\n",
    "from flot_util import *\n",
    "from flot_visualization import *\n",
    "from flot_prediction import *\n",
    "from flot_feature_engineering import *"
   ]
  },
  {
   "cell_type": "code",
   "execution_count": 2,
   "id": "d2709713",
   "metadata": {},
   "outputs": [],
   "source": [
    "df = pd.read_csv(r'C:\\Users\\rcpsi\\OneDrive\\Documents\\langchain\\Flotation\\dados\\Flotacao_Dados_Final.csv',sep=';')"
   ]
  },
  {
   "cell_type": "markdown",
   "id": "acd4ce69",
   "metadata": {},
   "source": [
    "## Data cleaning"
   ]
  },
  {
   "cell_type": "code",
   "execution_count": null,
   "id": "67c1a3c0",
   "metadata": {},
   "outputs": [],
   "source": [
    "df = parse_time(df)\n",
    "df = remove_missing(df)\n",
    "df = filter_by_ph(df, threshold=6)\n",
    "#df = filter_by_flow(df)\n",
    "df_clean = drop_consecutive_duplicates_tolerance(df)\n",
    "\n",
    "#df_clean = add_time_features(df_clean)\n",
    "#df_clean = add_ph_features(df_clean)\n",
    "#df_clean = add_dosage_flow_features(df_clean)\n",
    "#df_clean = add_cell_level_stats(df_clean)\n",
    "#df_clean = add_rolling_features(df_clean)\n",
    "df_clean = add_lag_silica_features(df_clean)\n",
    "\n",
    "#df_clean = add_delta_silica_regular(df_clean)"
   ]
  },
  {
   "cell_type": "code",
   "execution_count": 4,
   "id": "88387ca5",
   "metadata": {},
   "outputs": [
    {
     "data": {
      "text/plain": [
       "Timestamp('2025-01-31 23:00:00.002000')"
      ]
     },
     "execution_count": 4,
     "metadata": {},
     "output_type": "execute_result"
    }
   ],
   "source": [
    "df_clean['inicio'].max()"
   ]
  },
  {
   "cell_type": "code",
   "execution_count": 5,
   "id": "bb1b145e",
   "metadata": {},
   "outputs": [],
   "source": [
    "#df_clean = filter_by_date_range(df_clean, '2024-07-18', '2024-10-20')"
   ]
  },
  {
   "cell_type": "code",
   "execution_count": 6,
   "id": "41ceb192",
   "metadata": {},
   "outputs": [
    {
     "data": {
      "text/plain": [
       "(2620, 24)"
      ]
     },
     "execution_count": 6,
     "metadata": {},
     "output_type": "execute_result"
    }
   ],
   "source": [
    "df_clean.shape"
   ]
  },
  {
   "cell_type": "code",
   "execution_count": 7,
   "id": "948b47d6",
   "metadata": {},
   "outputs": [
    {
     "data": {
      "text/html": [
       "<div>\n",
       "<style scoped>\n",
       "    .dataframe tbody tr th:only-of-type {\n",
       "        vertical-align: middle;\n",
       "    }\n",
       "\n",
       "    .dataframe tbody tr th {\n",
       "        vertical-align: top;\n",
       "    }\n",
       "\n",
       "    .dataframe thead th {\n",
       "        text-align: right;\n",
       "    }\n",
       "</style>\n",
       "<table border=\"1\" class=\"dataframe\">\n",
       "  <thead>\n",
       "    <tr style=\"text-align: right;\">\n",
       "      <th></th>\n",
       "      <th>inicio</th>\n",
       "      <th>fim</th>\n",
       "      <th>conc_silica</th>\n",
       "      <th>conc_fe</th>\n",
       "      <th>param_dosagem_amido</th>\n",
       "      <th>dosagem_amina_conc_magnetica</th>\n",
       "      <th>ph_flotacao_linha01</th>\n",
       "      <th>ph_flotacao_linha02</th>\n",
       "      <th>densidade_alimentacao_flotacao</th>\n",
       "      <th>nivel_celula_li640101</th>\n",
       "      <th>...</th>\n",
       "      <th>nivel_celula_li641102</th>\n",
       "      <th>nivel_celula_li641201</th>\n",
       "      <th>nivel_celula_li641202</th>\n",
       "      <th>nivel_celula_li642101</th>\n",
       "      <th>nivel_celula_li642201</th>\n",
       "      <th>nivel_celula_li643101</th>\n",
       "      <th>nivel_celula_li643201</th>\n",
       "      <th>vazao_alimentacao_flotacao</th>\n",
       "      <th>operacao</th>\n",
       "      <th>duration_min</th>\n",
       "    </tr>\n",
       "  </thead>\n",
       "  <tbody>\n",
       "    <tr>\n",
       "      <th>0</th>\n",
       "      <td>2024-02-27 00:00:00</td>\n",
       "      <td>2024-02-27 00:20:00</td>\n",
       "      <td>2.72</td>\n",
       "      <td>64.59</td>\n",
       "      <td>492.50</td>\n",
       "      <td>152.54</td>\n",
       "      <td>9.47</td>\n",
       "      <td>7.99</td>\n",
       "      <td>1.60</td>\n",
       "      <td>369.44</td>\n",
       "      <td>...</td>\n",
       "      <td>350.88</td>\n",
       "      <td>344.09</td>\n",
       "      <td>349.76</td>\n",
       "      <td>360.64</td>\n",
       "      <td>359.21</td>\n",
       "      <td>360.89</td>\n",
       "      <td>328.20</td>\n",
       "      <td>907.14</td>\n",
       "      <td>True</td>\n",
       "      <td>20.0</td>\n",
       "    </tr>\n",
       "    <tr>\n",
       "      <th>1</th>\n",
       "      <td>2024-02-27 01:00:00</td>\n",
       "      <td>2024-02-27 01:20:00</td>\n",
       "      <td>1.23</td>\n",
       "      <td>67.40</td>\n",
       "      <td>492.50</td>\n",
       "      <td>147.58</td>\n",
       "      <td>9.60</td>\n",
       "      <td>7.95</td>\n",
       "      <td>1.57</td>\n",
       "      <td>369.84</td>\n",
       "      <td>...</td>\n",
       "      <td>353.15</td>\n",
       "      <td>340.23</td>\n",
       "      <td>342.37</td>\n",
       "      <td>360.43</td>\n",
       "      <td>348.20</td>\n",
       "      <td>361.36</td>\n",
       "      <td>332.58</td>\n",
       "      <td>677.98</td>\n",
       "      <td>True</td>\n",
       "      <td>20.0</td>\n",
       "    </tr>\n",
       "    <tr>\n",
       "      <th>2</th>\n",
       "      <td>2024-02-27 03:00:00</td>\n",
       "      <td>2024-02-27 03:20:00</td>\n",
       "      <td>1.93</td>\n",
       "      <td>65.09</td>\n",
       "      <td>491.67</td>\n",
       "      <td>135.00</td>\n",
       "      <td>9.50</td>\n",
       "      <td>7.92</td>\n",
       "      <td>1.60</td>\n",
       "      <td>368.38</td>\n",
       "      <td>...</td>\n",
       "      <td>352.21</td>\n",
       "      <td>346.62</td>\n",
       "      <td>347.69</td>\n",
       "      <td>360.32</td>\n",
       "      <td>365.79</td>\n",
       "      <td>360.09</td>\n",
       "      <td>340.50</td>\n",
       "      <td>848.19</td>\n",
       "      <td>True</td>\n",
       "      <td>20.0</td>\n",
       "    </tr>\n",
       "    <tr>\n",
       "      <th>3</th>\n",
       "      <td>2024-02-27 05:00:00</td>\n",
       "      <td>2024-02-27 05:20:00</td>\n",
       "      <td>2.04</td>\n",
       "      <td>65.46</td>\n",
       "      <td>491.67</td>\n",
       "      <td>146.53</td>\n",
       "      <td>9.38</td>\n",
       "      <td>9.50</td>\n",
       "      <td>1.60</td>\n",
       "      <td>369.72</td>\n",
       "      <td>...</td>\n",
       "      <td>350.05</td>\n",
       "      <td>338.10</td>\n",
       "      <td>341.43</td>\n",
       "      <td>358.81</td>\n",
       "      <td>362.28</td>\n",
       "      <td>359.22</td>\n",
       "      <td>365.90</td>\n",
       "      <td>873.97</td>\n",
       "      <td>True</td>\n",
       "      <td>20.0</td>\n",
       "    </tr>\n",
       "    <tr>\n",
       "      <th>4</th>\n",
       "      <td>2024-02-27 07:00:00</td>\n",
       "      <td>2024-02-27 07:20:00</td>\n",
       "      <td>4.56</td>\n",
       "      <td>63.75</td>\n",
       "      <td>491.67</td>\n",
       "      <td>150.75</td>\n",
       "      <td>9.43</td>\n",
       "      <td>9.52</td>\n",
       "      <td>1.60</td>\n",
       "      <td>370.38</td>\n",
       "      <td>...</td>\n",
       "      <td>345.31</td>\n",
       "      <td>358.72</td>\n",
       "      <td>347.50</td>\n",
       "      <td>356.60</td>\n",
       "      <td>355.33</td>\n",
       "      <td>356.71</td>\n",
       "      <td>333.77</td>\n",
       "      <td>922.34</td>\n",
       "      <td>True</td>\n",
       "      <td>20.0</td>\n",
       "    </tr>\n",
       "  </tbody>\n",
       "</table>\n",
       "<p>5 rows × 24 columns</p>\n",
       "</div>"
      ],
      "text/plain": [
       "               inicio                 fim  conc_silica  conc_fe  \\\n",
       "0 2024-02-27 00:00:00 2024-02-27 00:20:00         2.72    64.59   \n",
       "1 2024-02-27 01:00:00 2024-02-27 01:20:00         1.23    67.40   \n",
       "2 2024-02-27 03:00:00 2024-02-27 03:20:00         1.93    65.09   \n",
       "3 2024-02-27 05:00:00 2024-02-27 05:20:00         2.04    65.46   \n",
       "4 2024-02-27 07:00:00 2024-02-27 07:20:00         4.56    63.75   \n",
       "\n",
       "   param_dosagem_amido  dosagem_amina_conc_magnetica  ph_flotacao_linha01  \\\n",
       "0               492.50                        152.54                 9.47   \n",
       "1               492.50                        147.58                 9.60   \n",
       "2               491.67                        135.00                 9.50   \n",
       "3               491.67                        146.53                 9.38   \n",
       "4               491.67                        150.75                 9.43   \n",
       "\n",
       "   ph_flotacao_linha02  densidade_alimentacao_flotacao  nivel_celula_li640101  \\\n",
       "0                 7.99                            1.60                 369.44   \n",
       "1                 7.95                            1.57                 369.84   \n",
       "2                 7.92                            1.60                 368.38   \n",
       "3                 9.50                            1.60                 369.72   \n",
       "4                 9.52                            1.60                 370.38   \n",
       "\n",
       "   ...  nivel_celula_li641102  nivel_celula_li641201  nivel_celula_li641202  \\\n",
       "0  ...                 350.88                 344.09                 349.76   \n",
       "1  ...                 353.15                 340.23                 342.37   \n",
       "2  ...                 352.21                 346.62                 347.69   \n",
       "3  ...                 350.05                 338.10                 341.43   \n",
       "4  ...                 345.31                 358.72                 347.50   \n",
       "\n",
       "   nivel_celula_li642101  nivel_celula_li642201  nivel_celula_li643101  \\\n",
       "0                 360.64                 359.21                 360.89   \n",
       "1                 360.43                 348.20                 361.36   \n",
       "2                 360.32                 365.79                 360.09   \n",
       "3                 358.81                 362.28                 359.22   \n",
       "4                 356.60                 355.33                 356.71   \n",
       "\n",
       "   nivel_celula_li643201  vazao_alimentacao_flotacao  operacao  duration_min  \n",
       "0                 328.20                      907.14      True          20.0  \n",
       "1                 332.58                      677.98      True          20.0  \n",
       "2                 340.50                      848.19      True          20.0  \n",
       "3                 365.90                      873.97      True          20.0  \n",
       "4                 333.77                      922.34      True          20.0  \n",
       "\n",
       "[5 rows x 24 columns]"
      ]
     },
     "execution_count": 7,
     "metadata": {},
     "output_type": "execute_result"
    }
   ],
   "source": [
    "df_clean.head()"
   ]
  },
  {
   "cell_type": "markdown",
   "id": "11b1ebc9",
   "metadata": {},
   "source": [
    "## Exploratory data analysis"
   ]
  },
  {
   "cell_type": "code",
   "execution_count": 8,
   "id": "83adb3da",
   "metadata": {},
   "outputs": [
    {
     "data": {
      "application/vnd.plotly.v1+json": {
       "config": {
        "plotlyServerURL": "https://plot.ly"
       },
       "data": [
        {
         "mode": "lines",
         "name": "Segment 0",
         "showlegend": false,
         "type": "scatter",
         "x": [
          "2024-02-27T00:00:00",
          "2024-02-27T01:00:00",
          "2024-02-27T03:00:00",
          "2024-02-27T05:00:00",
          "2024-02-27T07:00:00",
          "2024-02-27T09:00:00",
          "2024-02-27T11:00:00",
          "2024-02-27T13:00:00",
          "2024-02-27T15:00:00"
         ],
         "y": {
          "bdata": "w/UoXI/CBUCuR+F6FK7zP+F6FK5H4f4/UrgehetRAEA9CtejcD0SQD0K16NwPQpA7FG4HoXrCUCamZmZmZkgQPYoXI/CdSJA",
          "dtype": "f8"
         }
        },
        {
         "mode": "lines",
         "name": "Segment 1",
         "showlegend": false,
         "type": "scatter",
         "x": [
          "2024-02-28T01:00:00",
          "2024-02-28T03:00:00",
          "2024-02-28T05:00:00",
          "2024-02-28T07:00:00"
         ],
         "y": {
          "bdata": "16NwPQrX8z+uR+F6FK7zP3sUrkfhevQ/16NwPQrX+z8=",
          "dtype": "f8"
         }
        },
        {
         "mode": "lines",
         "name": "Segment 2",
         "showlegend": false,
         "type": "scatter",
         "x": [
          "2024-02-28T15:00:00",
          "2024-02-28T17:00:00"
         ],
         "y": {
          "bdata": "zczMzMzMAkApXI/C9SgAQA==",
          "dtype": "f8"
         }
        },
        {
         "mode": "lines",
         "name": "Segment 3",
         "showlegend": false,
         "type": "scatter",
         "x": [
          "2024-02-28T23:00:00",
          "2024-02-29T01:00:00",
          "2024-02-29T03:00:00",
          "2024-02-29T05:00:00",
          "2024-02-29T06:40:00",
          "2024-02-29T07:00:00",
          "2024-02-29T11:00:00",
          "2024-02-29T13:00:00",
          "2024-02-29T15:00:00",
          "2024-02-29T17:00:00",
          "2024-02-29T19:00:00",
          "2024-02-29T21:00:00",
          "2024-02-29T23:00:00",
          "2024-03-01T01:00:00",
          "2024-03-01T03:00:00",
          "2024-03-01T05:00:00",
          "2024-03-01T09:00:00",
          "2024-03-01T12:40:00",
          "2024-03-01T13:00:00",
          "2024-03-01T15:00:00",
          "2024-03-01T17:00:00",
          "2024-03-01T19:00:00",
          "2024-03-01T23:00:00",
          "2024-03-02T01:00:00",
          "2024-03-02T03:00:00",
          "2024-03-02T05:00:00",
          "2024-03-02T07:00:00",
          "2024-03-02T09:00:00",
          "2024-03-02T11:00:00",
          "2024-03-02T13:00:00",
          "2024-03-02T15:00:00",
          "2024-03-02T17:00:00",
          "2024-03-02T19:00:00",
          "2024-03-02T21:00:00",
          "2024-03-02T23:00:00",
          "2024-03-03T01:00:00",
          "2024-03-03T03:00:00",
          "2024-03-03T05:00:00",
          "2024-03-03T07:00:00",
          "2024-03-03T09:00:00",
          "2024-03-03T11:00:00",
          "2024-03-03T13:00:00",
          "2024-03-03T15:00:00",
          "2024-03-03T17:00:00",
          "2024-03-03T19:00:00",
          "2024-03-03T21:00:00",
          "2024-03-03T23:00:00",
          "2024-03-04T01:00:00",
          "2024-03-04T03:00:00",
          "2024-03-04T07:00:00",
          "2024-03-04T09:00:00",
          "2024-03-04T11:00:00",
          "2024-03-04T13:00:00"
         ],
         "y": {
          "bdata": "7FG4HoXr6T/hehSuR+H2P6RwPQrXoxdAPQrXo3A99j9mZmZmZmb2P65H4XoUrh5AUrgehetR/D/hehSuR+EAQArXo3A9CgVA9ihcj8L1CkA9CtejcD0GQNejcD0K1wdArkfhehSu8z9xPQrXo3D1P9ejcD0K1/M/rkfhehSu8z8pXI/C9Sj4P1K4HoXrUfg/FK5H4XqUIUCPwvUoXI8MQAAAAAAAAOg/mpmZmZmZ4T9I4XoUrkcBQHsUrkfhevw/XI/C9Shc8z+kcD0K16MEQM3MzMzMzPw/XI/C9Shc/z8zMzMzMzMBQBSuR+F6FAZAexSuR+F6CECkcD0K16MKQNejcD0K1wtAw/UoXI/CBUCkcD0K16MEQFyPwvUoXAlAcT0K16NwA0DsUbgehesPQNejcD0K1wtAzczMzMzMBkBI4XoUrkcDQPYoXI/C9fw/PQrXo3A99j+4HoXrUbj2P1yPwvUoXP8/zczMzMzMAEDsUbgehesDQOxRuB6F6wFA9ihcj8L1AEDhehSuR+H+P2ZmZmZmZvY/FK5H4XoUAECkcD0K16MAQA==",
          "dtype": "f8"
         }
        },
        {
         "mode": "lines",
         "name": "Segment 4",
         "showlegend": false,
         "type": "scatter",
         "x": [
          "2024-03-05T01:00:00",
          "2024-03-05T05:00:00",
          "2024-03-05T07:00:00",
          "2024-03-05T09:00:00",
          "2024-03-05T11:00:00",
          "2024-03-05T13:00:00",
          "2024-03-05T15:00:00"
         ],
         "y": {
          "bdata": "4XoUrkfh/j8fhetRuB4DQFK4HoXrUQJA7FG4HoXrA0C4HoXrUbjyP+F6FK5H4fI/16NwPQrX8z8=",
          "dtype": "f8"
         }
        },
        {
         "mode": "lines",
         "name": "Segment 5",
         "showlegend": false,
         "type": "scatter",
         "x": [
          "2024-03-05T21:00:00",
          "2024-03-05T23:00:00",
          "2024-03-06T03:00:00",
          "2024-03-06T05:00:00"
         ],
         "y": {
          "bdata": "exSuR+F6+D+4HoXrUbgAQClcj8L1KPw/mpmZmZmZ9T8=",
          "dtype": "f8"
         }
        },
        {
         "mode": "lines",
         "name": "Segment 6",
         "showlegend": false,
         "type": "scatter",
         "x": [
          "2024-03-07T05:00:00",
          "2024-03-07T07:00:00",
          "2024-03-07T09:00:00",
          "2024-03-07T11:00:00",
          "2024-03-07T13:00:00",
          "2024-03-07T17:00:00",
          "2024-03-07T19:00:00",
          "2024-03-07T21:00:00",
          "2024-03-07T23:00:00",
          "2024-03-08T01:00:00",
          "2024-03-08T05:00:00",
          "2024-03-08T07:00:00",
          "2024-03-08T09:00:00",
          "2024-03-08T11:00:00",
          "2024-03-08T15:00:00",
          "2024-03-08T17:00:00",
          "2024-03-08T19:00:00",
          "2024-03-08T21:00:00",
          "2024-03-08T23:00:00",
          "2024-03-09T01:00:00",
          "2024-03-09T03:00:00",
          "2024-03-09T05:00:00",
          "2024-03-09T07:00:00",
          "2024-03-09T09:00:00",
          "2024-03-09T11:00:00",
          "2024-03-09T13:00:00",
          "2024-03-09T15:00:00"
         ],
         "y": {
          "bdata": "16NwPQrX9z9cj8L1KFzvP83MzMzMzOQ/w/UoXI/C5T8UrkfhehTuPylcj8L1KOw/CtejcD0K9z9cj8L1KFzzPz0K16NwPf4/exSuR+F6AEBcj8L1KFwFQM3MzMzMzAxAFK5H4XoU+j8AAAAAAAD4P6RwPQrXo/A/KVyPwvUo7D9xPQrXo3DtP6RwPQrXo/Q/mpmZmZmZAUD2KFyPwvUAQOF6FK5H4fI/pHA9Ctej9D/Xo3A9Ctf7Pylcj8L1KABAcT0K16Nw+T9SuB6F61H0P4XrUbgehfM/",
          "dtype": "f8"
         }
        },
        {
         "mode": "lines",
         "name": "Segment 7",
         "showlegend": false,
         "type": "scatter",
         "x": [
          "2024-03-09T23:00:00",
          "2024-03-10T01:00:00",
          "2024-03-10T03:00:00",
          "2024-03-10T05:00:00",
          "2024-03-10T07:00:00",
          "2024-03-10T09:00:00",
          "2024-03-10T11:00:00",
          "2024-03-10T13:00:00",
          "2024-03-10T15:00:00",
          "2024-03-10T17:00:00",
          "2024-03-10T19:00:00",
          "2024-03-10T21:00:00",
          "2024-03-10T23:00:00",
          "2024-03-11T01:00:00",
          "2024-03-11T03:00:00",
          "2024-03-11T05:00:00",
          "2024-03-11T07:00:00",
          "2024-03-11T09:00:00",
          "2024-03-11T11:00:00",
          "2024-03-11T13:00:00",
          "2024-03-11T15:00:00",
          "2024-03-11T17:00:00",
          "2024-03-11T19:00:00",
          "2024-03-11T21:00:00",
          "2024-03-11T23:00:00",
          "2024-03-12T01:00:00",
          "2024-03-12T03:00:00",
          "2024-03-12T05:00:00",
          "2024-03-12T07:00:00",
          "2024-03-12T09:00:00",
          "2024-03-12T11:00:00",
          "2024-03-12T13:00:00",
          "2024-03-12T15:00:00"
         ],
         "y": {
          "bdata": "9ihcj8L1/D/sUbgehev1P7gehetRuPY/SOF6FK5H+T+F61G4HoUFQM3MzMzMzPw/MzMzMzMzAUCamZmZmZn5P2ZmZmZmZvY/16NwPQrX+z8UrkfhehQAQBSuR+F6FARAPQrXo3A99j/hehSuR+H2P0jhehSuR/E/mpmZmZmZ+T8zMzMzMzMFQB+F61G4HglA4XoUrkfhAEDsUbgehesBQHsUrkfheghAZmZmZmZm/j89CtejcD0CQHE9CtejcAFA7FG4HoXrCUAzMzMzMzMFQDMzMzMzM/s/exSuR+F69D+PwvUoXI/2P1yPwvUoXP8/CtejcD0KAUBSuB6F61ECQClcj8L1KPg/",
          "dtype": "f8"
         }
        },
        {
         "mode": "lines",
         "name": "Segment 8",
         "showlegend": false,
         "type": "scatter",
         "x": [
          "2024-03-12T23:00:00",
          "2024-03-13T01:00:00"
         ],
         "y": {
          "bdata": "exSuR+F6AkDhehSuR+H+Pw==",
          "dtype": "f8"
         }
        },
        {
         "mode": "lines",
         "name": "Segment 9",
         "showlegend": false,
         "type": "scatter",
         "x": [
          "2024-03-13T07:00:00",
          "2024-03-13T09:00:00",
          "2024-03-13T11:00:00",
          "2024-03-13T15:00:00",
          "2024-03-13T17:00:00",
          "2024-03-13T19:00:00",
          "2024-03-13T21:00:00",
          "2024-03-13T23:00:00",
          "2024-03-14T01:00:00",
          "2024-03-14T03:00:00",
          "2024-03-14T05:00:00",
          "2024-03-14T09:00:00",
          "2024-03-14T11:00:00",
          "2024-03-14T13:00:00",
          "2024-03-14T15:00:00",
          "2024-03-14T17:00:00",
          "2024-03-14T19:00:00",
          "2024-03-14T21:00:00",
          "2024-03-14T23:00:00",
          "2024-03-15T01:00:00"
         ],
         "y": {
          "bdata": "XI/C9Shc9z+kcD0K16P0P+F6FK5H4QJAZmZmZmZmAkA9CtejcD3+P3sUrkfhevw/16NwPQrX8z+amZmZmZn9PzMzMzMzM/8/ZmZmZmZmBEAfhetRuB4FQK5H4XoUrgVAuB6F61G4AEBcj8L1KFwDQB+F61G4HgNAXI/C9ShcBUCkcD0K16MAQK5H4XoUrvc/MzMzMzMzAUDXo3A9CtcJQA==",
          "dtype": "f8"
         }
        },
        {
         "mode": "lines",
         "name": "Segment 10",
         "showlegend": false,
         "type": "scatter",
         "x": [
          "2024-03-15T09:00:00",
          "2024-03-15T11:00:00",
          "2024-03-15T13:00:00",
          "2024-03-15T15:00:00",
          "2024-03-15T17:00:00",
          "2024-03-15T19:00:00",
          "2024-03-15T21:00:00",
          "2024-03-15T23:00:00",
          "2024-03-16T01:00:00",
          "2024-03-16T03:00:00",
          "2024-03-16T05:00:00",
          "2024-03-16T07:00:00",
          "2024-03-16T09:00:00",
          "2024-03-16T11:00:00",
          "2024-03-16T13:00:00",
          "2024-03-16T15:00:00",
          "2024-03-16T17:00:00",
          "2024-03-16T19:00:00",
          "2024-03-16T21:00:00",
          "2024-03-16T23:00:00",
          "2024-03-17T01:00:00",
          "2024-03-17T03:00:00",
          "2024-03-17T05:00:00",
          "2024-03-17T07:00:00",
          "2024-03-17T09:00:00",
          "2024-03-17T11:00:00",
          "2024-03-17T13:00:00",
          "2024-03-17T15:00:00",
          "2024-03-17T17:00:00",
          "2024-03-17T19:00:00",
          "2024-03-17T21:00:00",
          "2024-03-17T23:00:00",
          "2024-03-18T01:00:00",
          "2024-03-18T03:00:00",
          "2024-03-18T05:00:00",
          "2024-03-18T07:00:00",
          "2024-03-18T09:00:00",
          "2024-03-18T11:00:00",
          "2024-03-18T13:00:00",
          "2024-03-18T15:00:00"
         ],
         "y": {
          "bdata": "rkfhehSuCUCPwvUoXI/6P/YoXI/C9QBA4XoUrkfh/j+F61G4HoUJQHsUrkfhegpAAAAAAAAACEDD9Shcj8LxPwrXo3A9Cv8/rkfhehSuBUAfhetRuB4LQEjhehSuRw1ArkfhehSuAUBSuB6F61EEQD0K16NwPf4/XI/C9ShcAUC4HoXrUbgCQLgehetRuAZAhetRuB6FA0CamZmZmZn9P3E9CtejcAVAUrgehetRAkDhehSuR+H+P6RwPQrXo/w/mpmZmZmZ/T8AAAAAAAD8P1yPwvUoXP8/MzMzMzMz9z9I4XoUrkfpPxSuR+F6FAJAKVyPwvUo9D97FK5H4XrsPxSuR+F6FOY/MzMzMzMz6z8UrkfhehTuP8P1KFyPwgFA4XoUrkfhFkA9CtejcD0MQOxRuB6F6/k/SOF6FK5H9T8=",
          "dtype": "f8"
         }
        },
        {
         "mode": "lines",
         "name": "Segment 11",
         "showlegend": false,
         "type": "scatter",
         "x": [
          "2024-03-18T21:00:00",
          "2024-03-18T23:00:00",
          "2024-03-19T01:00:00",
          "2024-03-19T05:00:00",
          "2024-03-19T07:00:00",
          "2024-03-19T09:00:00",
          "2024-03-19T11:00:00",
          "2024-03-19T13:00:00",
          "2024-03-19T15:00:00"
         ],
         "y": {
          "bdata": "CtejcD0KG0D2KFyPwvUIQOxRuB6F6/k/uB6F61G47j/D9Shcj8ILQHsUrkfhevQ/4XoUrkfh9j/Xo3A9CtfrP83MzMzMzPA/",
          "dtype": "f8"
         }
        },
        {
         "mode": "lines",
         "name": "Segment 12",
         "showlegend": false,
         "type": "scatter",
         "x": [
          "2024-03-19T21:00:00",
          "2024-03-19T23:00:00",
          "2024-03-20T01:00:00",
          "2024-03-20T03:00:00"
         ],
         "y": {
          "bdata": "mpmZmZmZDUBmZmZmZmbyP4/C9Shcj/I/SOF6FK5H6T8=",
          "dtype": "f8"
         }
        },
        {
         "mode": "lines",
         "name": "Segment 13",
         "showlegend": false,
         "type": "scatter",
         "x": [
          "2024-03-21T03:00:00",
          "2024-03-21T05:00:00",
          "2024-03-21T09:00:00",
          "2024-03-21T11:00:00",
          "2024-03-21T13:00:00",
          "2024-03-21T15:00:00",
          "2024-03-21T17:00:00",
          "2024-03-21T19:00:00.001000",
          "2024-03-21T21:00:00.001000",
          "2024-03-21T23:00:00.001000",
          "2024-03-22T01:00:00.001000",
          "2024-03-22T03:00:00.001000",
          "2024-03-22T05:00:00.001000",
          "2024-03-22T07:00:00.001000",
          "2024-03-22T09:00:00.001000",
          "2024-03-22T11:00:00.001000",
          "2024-03-22T13:00:00.001000",
          "2024-03-22T17:00:00.001000",
          "2024-03-22T21:00:00.001000",
          "2024-03-22T23:00:00.001000",
          "2024-03-23T01:00:00.001000",
          "2024-03-23T03:00:00.001000",
          "2024-03-23T05:00:00.001000",
          "2024-03-23T07:00:00.001000",
          "2024-03-23T09:00:00.001000",
          "2024-03-23T11:00:00.001000",
          "2024-03-23T13:00:00.001000",
          "2024-03-23T15:00:00.001000",
          "2024-03-23T17:00:00.001000",
          "2024-03-23T19:00:00.001000",
          "2024-03-23T21:00:00.001000",
          "2024-03-23T23:00:00.001000",
          "2024-03-24T01:00:00.001000",
          "2024-03-24T03:00:00.001000",
          "2024-03-24T05:00:00.001000",
          "2024-03-24T07:00:00.001000",
          "2024-03-24T09:00:00.001000",
          "2024-03-24T11:00:00.001000",
          "2024-03-24T13:00:00.001000",
          "2024-03-24T15:00:00.001000",
          "2024-03-24T17:00:00.001000",
          "2024-03-24T18:40:00.001000",
          "2024-03-24T19:00:00.001000",
          "2024-03-24T20:40:00.001000",
          "2024-03-24T21:00:00.001000",
          "2024-03-24T23:00:00.001000",
          "2024-03-25T01:00:00.001000",
          "2024-03-25T03:00:00.001000",
          "2024-03-25T05:00:00.001000",
          "2024-03-25T07:00:00.001000",
          "2024-03-25T09:00:00.001000",
          "2024-03-25T11:00:00.001000",
          "2024-03-25T13:00:00.001000",
          "2024-03-25T15:00:00.001000",
          "2024-03-25T17:00:00.001000",
          "2024-03-25T19:00:00.001000",
          "2024-03-25T21:00:00.001000",
          "2024-03-25T23:00:00.001000",
          "2024-03-26T01:00:00.001000",
          "2024-03-26T03:00:00.001000",
          "2024-03-26T05:00:00.001000",
          "2024-03-26T07:00:00.001000",
          "2024-03-26T09:00:00.001000",
          "2024-03-26T11:00:00.001000",
          "2024-03-26T13:00:00.001000",
          "2024-03-26T15:00:00.001000",
          "2024-03-26T17:00:00.001000",
          "2024-03-26T19:00:00.001000",
          "2024-03-26T21:00:00.001000",
          "2024-03-26T22:40:00.001000",
          "2024-03-26T23:00:00.001000",
          "2024-03-27T01:00:00.001000",
          "2024-03-27T03:00:00.001000",
          "2024-03-27T05:00:00.001000",
          "2024-03-27T07:00:00.001000",
          "2024-03-27T09:00:00.001000",
          "2024-03-27T11:00:00.001000",
          "2024-03-27T13:00:00.001000",
          "2024-03-27T15:00:00.001000",
          "2024-03-27T17:00:00.001000",
          "2024-03-27T19:00:00.001000",
          "2024-03-27T21:00:00.001000",
          "2024-03-27T23:00:00.001000",
          "2024-03-28T01:00:00.001000",
          "2024-03-28T03:00:00.001000",
          "2024-03-28T05:00:00.001000",
          "2024-03-28T07:00:00.001000"
         ],
         "y": {
          "bdata": "rkfhehSuCUDhehSuR+H2P65H4XoUru8/16NwPQrX6z/hehSuR+HyP1K4HoXrUfw/PQrXo3A9+j/2KFyPwvUAQKRwPQrXowBAcT0K16Nw9T97FK5H4Xr0P+xRuB6F6/E/AAAAAAAA9D/NzMzMzMwZQNejcD0K1wVAXI/C9Shc8z8UrkfhehTyPylcj8L1KPQ/MzMzMzMz8z8zMzMzMzP/PzMzMzMzM/c/j8L1KFyPAEDD9Shcj8IFQFK4HoXrUQBASOF6FK5H8T/Xo3A9Ctf/P0jhehSuR/U/CtejcD0K7z/NzMzMzMzsP65H4XoUrvM/CtejcD0K9z9cj8L1KFwLQAAAAAAAAApAZmZmZmZmAEAfhetRuB75PwAAAAAAAPw/w/UoXI/C8T8pXI/C9Sj0P6RwPQrXo/A/rkfhehSuC0DD9Shcj8IVQNejcD0K1xVA9ihcj8J1O0BxPQrXo3A7QIXrUbgehRBAZmZmZmZmAkCamZmZmZn5P+xRuB6F6wtA7FG4HoXr+T8AAAAAAADwP0jhehSuR+k/16NwPQrX6z97FK5H4Xr0PwrXo3A9Cu8/9ihcj8L16D9SuB6F61HoP6RwPQrXo+g/cT0K16Nw7T+4HoXrUbjyPwAAAAAAAPg/ZmZmZmZm8j8zMzMzMzPjP9ejcD0K1+M/UrgehetR8D+amZmZmZnhP5qZmZmZmQNAzczMzMzMBEAzMzMzMzP3P+F6FK5H4eo/MzMzMzMz6z8AAAAAAIAkQEjhehSuxyRAcT0K16Nw/T/sUbgehev5P3E9CtejcPE/H4XrUbge7T/D9Shcj8IVQFK4HoXrUfQ/rkfhehSu9z+F61G4HoXzP4/C9Shcj+o/SOF6FK5H6T/hehSuR+HqP1K4HoXrUfA/H4XrUbge7T+PwvUoXI/2P65H4XoUru8/",
          "dtype": "f8"
         }
        },
        {
         "mode": "lines",
         "name": "Segment 14",
         "showlegend": false,
         "type": "scatter",
         "x": [
          "2024-03-29T03:00:00.001000",
          "2024-03-29T05:00:00.001000",
          "2024-03-29T07:00:00.001000",
          "2024-03-29T09:00:00.001000",
          "2024-03-29T11:00:00.001000",
          "2024-03-29T13:00:00.001000",
          "2024-03-29T15:00:00.001000",
          "2024-03-29T17:00:00.001000",
          "2024-03-29T19:00:00.001000",
          "2024-03-29T21:00:00.001000",
          "2024-03-29T23:00:00.001000",
          "2024-03-30T01:00:00.001000",
          "2024-03-30T03:00:00.001000",
          "2024-03-30T05:00:00.001000",
          "2024-03-30T07:00:00.001000",
          "2024-03-30T09:00:00.001000",
          "2024-03-30T13:00:00.001000",
          "2024-03-30T15:00:00.001000",
          "2024-03-30T17:00:00.001000",
          "2024-03-30T19:00:00.001000",
          "2024-03-30T21:00:00.001000",
          "2024-03-30T23:00:00.001000",
          "2024-03-31T01:00:00.001000"
         ],
         "y": {
          "bdata": "pHA9CtejAkAUrkfhehT6PxSuR+F6FPY/rkfhehSu+z+F61G4HoULQI/C9ShcjwBA7FG4HoXrA0BI4XoUrkcBQB+F61G4HgVAMzMzMzMzDUDNzMzMzMwIQAAAAAAAAApAFK5H4XoU/j/Xo3A9CtcLQIXrUbgehQVAuB6F61G4EkAK16NwPQr7P8P1KFyPwvE/16NwPQrX6z9xPQrXo3DtPz0K16NwPfY/KVyPwvUoDEBmZmZmZmbmPw==",
          "dtype": "f8"
         }
        },
        {
         "mode": "lines",
         "name": "Segment 15",
         "showlegend": false,
         "type": "scatter",
         "x": [
          "2024-03-31T09:00:00.001000",
          "2024-03-31T13:00:00.001000",
          "2024-03-31T15:00:00.001000",
          "2024-03-31T17:00:00.001000",
          "2024-03-31T19:00:00.001000",
          "2024-03-31T21:00:00.001000",
          "2024-03-31T23:00:00.001000",
          "2024-04-01T01:00:00.001000",
          "2024-04-01T03:00:00.001000",
          "2024-04-01T05:00:00.001000",
          "2024-04-01T07:00:00.001000",
          "2024-04-01T09:00:00.001000",
          "2024-04-01T11:00:00.001000",
          "2024-04-01T13:00:00.001000",
          "2024-04-01T15:00:00.001000",
          "2024-04-01T17:00:00.001000",
          "2024-04-01T19:00:00.001000",
          "2024-04-01T21:00:00.001000",
          "2024-04-01T23:00:00.001000",
          "2024-04-02T01:00:00.001000",
          "2024-04-02T03:00:00.001000",
          "2024-04-02T05:00:00.001000",
          "2024-04-02T07:00:00.001000",
          "2024-04-02T09:00:00.001000",
          "2024-04-02T11:00:00.001000",
          "2024-04-02T13:00:00.001000",
          "2024-04-02T15:00:00.001000",
          "2024-04-02T17:00:00.001000",
          "2024-04-02T19:00:00.001000",
          "2024-04-02T21:00:00.001000",
          "2024-04-02T23:00:00.001000",
          "2024-04-03T01:00:00.001000"
         ],
         "y": {
          "bdata": "SOF6FK5HB0CuR+F6FK7/P83MzMzMzPg/rkfhehSu8z9I4XoUrkf5P5qZmZmZmfE/mpmZmZmZEEBcj8L1KFwFQFK4HoXrUfA/XI/C9Shc8z+4HoXrUbjuPwrXo3A9Cu8/cT0K16NwAUBI4XoUrkcuQHE9CtejcBVAUrgehetR9D89CtejcD0GQK5H4XoUrgNACtejcD0KAUApXI/C9SgCQHsUrkfhevw/CtejcD0K+z/hehSuR+H2P6RwPQrXo/Q/FK5H4XoU9j+4HoXrUbj2PwAAAAAAAPQ/w/UoXI/C7T+4HoXrUbj2P1yPwvUoXPM/exSuR+F69D+4HoXrUbjyPw==",
          "dtype": "f8"
         }
        },
        {
         "mode": "lines",
         "name": "Segment 16",
         "showlegend": false,
         "type": "scatter",
         "x": [
          "2024-04-04T01:00:00.001000",
          "2024-04-04T03:00:00.001000",
          "2024-04-04T05:00:00.001000",
          "2024-04-04T07:00:00.001000",
          "2024-04-04T09:00:00.001000"
         ],
         "y": {
          "bdata": "ZmZmZmZm7j8pXI/C9Sj4Pylcj8L1KApAKVyPwvUo5D89CtejcD3iPw==",
          "dtype": "f8"
         }
        },
        {
         "mode": "lines",
         "name": "Segment 17",
         "showlegend": false,
         "type": "scatter",
         "x": [
          "2024-04-05T07:00:00.001000",
          "2024-04-05T09:00:00.001000",
          "2024-04-05T11:00:00.001000",
          "2024-04-05T13:00:00.001000",
          "2024-04-05T15:00:00.001000",
          "2024-04-05T17:00:00.001000",
          "2024-04-05T19:00:00.001000",
          "2024-04-05T21:00:00.001000",
          "2024-04-05T23:00:00.001000",
          "2024-04-06T01:00:00.001000",
          "2024-04-06T03:00:00.001000",
          "2024-04-06T05:00:00.001000",
          "2024-04-06T07:00:00.001000",
          "2024-04-06T09:00:00.001000",
          "2024-04-06T11:00:00.001000"
         ],
         "y": {
          "bdata": "4XoUrkfh8j+uR+F6FK7zP7gehetRuO4/16NwPQrX8z9I4XoUrkf1Pz0K16NwPfY/j8L1KFyPDECkcD0K16MEQOxRuB6F6/k/zczMzMzMAEB7FK5H4XoIQGZmZmZmZgJAexSuR+F69D8UrkfhehQAQArXo3A9CglA",
          "dtype": "f8"
         }
        },
        {
         "mode": "lines",
         "name": "Segment 18",
         "showlegend": false,
         "type": "scatter",
         "x": [
          "2024-04-06T17:00:00.001000",
          "2024-04-06T19:00:00.001000",
          "2024-04-06T21:00:00.001000",
          "2024-04-06T23:00:00.001000",
          "2024-04-07T01:00:00.001000",
          "2024-04-07T03:00:00.001000",
          "2024-04-07T05:00:00.001000",
          "2024-04-07T07:00:00.001000",
          "2024-04-07T09:00:00.001000",
          "2024-04-07T11:00:00.001000",
          "2024-04-07T13:00:00.001000",
          "2024-04-07T15:00:00.001000",
          "2024-04-07T17:00:00.001000",
          "2024-04-07T19:00:00.001000",
          "2024-04-07T21:00:00.001000",
          "2024-04-07T23:00:00.001000",
          "2024-04-08T01:00:00.001000",
          "2024-04-08T03:00:00.001000",
          "2024-04-08T05:00:00.001000",
          "2024-04-08T07:00:00.001000",
          "2024-04-08T09:00:00.001000",
          "2024-04-08T13:00:00.001000",
          "2024-04-08T15:00:00.001000",
          "2024-04-08T17:00:00.001000",
          "2024-04-08T19:00:00.001000",
          "2024-04-08T21:00:00.001000",
          "2024-04-08T23:00:00.001000",
          "2024-04-09T01:00:00.001000",
          "2024-04-09T03:00:00.001000",
          "2024-04-09T05:00:00.001000",
          "2024-04-09T07:00:00.001000",
          "2024-04-09T09:00:00.001000",
          "2024-04-09T11:00:00.001000",
          "2024-04-09T13:00:00.001000",
          "2024-04-09T15:00:00.001000",
          "2024-04-09T17:00:00.001000",
          "2024-04-09T21:00:00.001000",
          "2024-04-09T23:00:00.001000",
          "2024-04-10T01:00:00.001000",
          "2024-04-10T03:00:00.001000",
          "2024-04-10T05:00:00.001000",
          "2024-04-10T07:00:00.001000",
          "2024-04-10T09:00:00.001000",
          "2024-04-10T11:00:00.001000",
          "2024-04-10T15:00:00.001000",
          "2024-04-10T17:00:00.001000",
          "2024-04-10T19:00:00.001000",
          "2024-04-10T23:00:00.001000",
          "2024-04-11T01:00:00.001000",
          "2024-04-11T03:00:00.001000",
          "2024-04-11T05:00:00.001000",
          "2024-04-11T07:00:00.001000",
          "2024-04-11T09:00:00.001000",
          "2024-04-11T11:00:00.001000"
         ],
         "y": {
          "bdata": "AAAAAAAA8D+F61G4HoX/Px+F61G4Hu0/KVyPwvUo+D8UrkfhehTyPzMzMzMzM/c/AAAAAAAA9D9SuB6F61HoP83MzMzMzOw/9ihcj8L16D/hehSuR+HyP5qZmZmZmf0/exSuR+F67D8fhetRuB7xP3sUrkfhevA/zczMzMzM8D97FK5H4XrsP83MzMzMzAJACtejcD0KAUApXI/C9SjwP+xRuB6F6+k/9ihcj8L18D9SuB6F61H4P+xRuB6F6/E/exSuR+F69D8K16NwPQrzP/YoXI/C9fA/w/UoXI/C7T/2KFyPwvXwP1K4HoXrUeg/AAAAAAAA6D/Xo3A9CtfrPx+F61G4HvE/FK5H4XoU8j+kcD0K16PwP+xRuB6F6/E/16NwPQrX6z/Xo3A9CtfzPylcj8L1KPQ/uB6F61G47j9mZmZmZmYEQB+F61G4Hu0/PQrXo3A96j/2KFyPwvXwPxSuR+F6FPY/FK5H4XoU7j8K16NwPQrzP+F6FK5H4fI/PQrXo3A98j9SuB6F61HwPylcj8L1KPQ/SOF6FK5H6T8fhetRuB7xP8P1KFyPwv0/",
          "dtype": "f8"
         }
        },
        {
         "mode": "lines",
         "name": "Segment 19",
         "showlegend": false,
         "type": "scatter",
         "x": [
          "2024-04-11T21:00:00.001000",
          "2024-04-11T23:00:00.001000",
          "2024-04-12T01:00:00.001000",
          "2024-04-12T03:00:00.001000",
          "2024-04-12T05:00:00.001000",
          "2024-04-12T07:00:00.001000",
          "2024-04-12T09:00:00.001000",
          "2024-04-12T11:00:00.001000",
          "2024-04-12T13:00:00.001000",
          "2024-04-12T15:00:00.001000",
          "2024-04-12T17:00:00.001000",
          "2024-04-12T19:00:00.001000",
          "2024-04-12T21:00:00.001000",
          "2024-04-12T23:00:00.001000",
          "2024-04-13T03:00:00.001000",
          "2024-04-13T05:00:00.001000",
          "2024-04-13T07:00:00.001000",
          "2024-04-13T09:00:00.001000",
          "2024-04-13T11:00:00.001000",
          "2024-04-13T15:00:00.001000",
          "2024-04-13T17:00:00.001000",
          "2024-04-13T19:00:00.001000",
          "2024-04-13T21:00:00.001000",
          "2024-04-13T23:00:00.001000",
          "2024-04-14T01:00:00.001000",
          "2024-04-14T03:00:00.001000",
          "2024-04-14T07:00:00.001000",
          "2024-04-14T09:00:00.001000",
          "2024-04-14T11:00:00.001000",
          "2024-04-14T13:00:00.001000",
          "2024-04-14T15:00:00.001000",
          "2024-04-14T17:00:00.001000",
          "2024-04-14T21:00:00.001000",
          "2024-04-14T23:00:00.001000",
          "2024-04-15T01:00:00.001000",
          "2024-04-15T03:00:00.001000",
          "2024-04-15T05:00:00.001000",
          "2024-04-15T07:00:00.001000",
          "2024-04-15T09:00:00.001000",
          "2024-04-15T11:00:00.001000",
          "2024-04-15T13:00:00.001000",
          "2024-04-15T15:00:00.001000",
          "2024-04-15T19:00:00.001000",
          "2024-04-15T21:00:00.001000",
          "2024-04-15T23:00:00.001000",
          "2024-04-16T01:00:00.001000",
          "2024-04-16T03:00:00.001000",
          "2024-04-16T05:00:00.001000",
          "2024-04-16T07:00:00.001000",
          "2024-04-16T09:00:00.001000",
          "2024-04-16T11:00:00.001000",
          "2024-04-16T13:00:00.001000",
          "2024-04-16T15:00:00.001000",
          "2024-04-16T17:00:00.001000",
          "2024-04-16T19:00:00.001000",
          "2024-04-16T21:00:00.001000",
          "2024-04-16T23:00:00.001000",
          "2024-04-17T01:00:00.001000",
          "2024-04-17T03:00:00.001000",
          "2024-04-17T05:00:00.001000"
         ],
         "y": {
          "bdata": "9ihcj8L18D/hehSuR+HqP4/C9Shcj/I/hetRuB6F6z8UrkfhehTmP2ZmZmZmZuY/zczMzMzM5D8UrkfhehTyP+F6FK5H4fI/w/UoXI/C5T8zMzMzMzP3PzMzMzMzM/s/ZmZmZmZm+j+amZmZmZn9Px+F61G4HvU/zczMzMzM5D9I4XoUrkfpP+xRuB6F6/U/w/UoXI/C7T8pXI/C9SjwP3E9CtejcOU/FK5H4XoU9j8pXI/C9SjkPylcj8L1KPA/FK5H4XoU5j8pXI/C9SjkPwrXo3A9Cu8/exSuR+F68D8AAAAAAAD4P2ZmZmZmZuY/zczMzMzM9D+amZmZmZn1P/YoXI/C9fw/9ihcj8L1+D/hehSuR+EAQPYoXI/C9fg/FK5H4XoUAECamZmZmZn1P+xRuB6F6/U/w/UoXI/C/T+4HoXrUbj2PwAAAAAAAPg/zczMzMzMAEDsUbgehev5Pz0K16NwPfo/cT0K16Nw+T9SuB6F61H4P83MzMzMzPw/PQrXo3A99j+4HoXrUbgCQClcj8L1KPw/UrgehetR9D9SuB6F61HwP3E9CtejcO0/7FG4HoXr9T8fhetRuB75P4/C9Shcj/I/AAAAAAAA9D8pXI/C9Sj0P4/C9ShcjwJA",
          "dtype": "f8"
         }
        },
        {
         "mode": "lines",
         "name": "Segment 20",
         "showlegend": false,
         "type": "scatter",
         "x": [
          "2024-04-18T03:00:00.001000",
          "2024-04-18T05:00:00.001000",
          "2024-04-18T09:00:00.001000",
          "2024-04-18T11:00:00.001000",
          "2024-04-18T13:00:00.001000",
          "2024-04-18T15:00:00.001000",
          "2024-04-18T17:00:00.001000",
          "2024-04-18T19:00:00.001000",
          "2024-04-18T21:00:00.001000",
          "2024-04-18T23:00:00.001000",
          "2024-04-19T01:00:00.001000",
          "2024-04-19T03:00:00.001000",
          "2024-04-19T05:00:00.001000",
          "2024-04-19T07:00:00.001000",
          "2024-04-19T09:00:00.001000",
          "2024-04-19T11:00:00.001000",
          "2024-04-19T13:00:00.001000",
          "2024-04-19T15:00:00.001000",
          "2024-04-19T17:00:00.001000"
         ],
         "y": {
          "bdata": "AAAAAAAAAkAfhetRuB4FQD0K16NwPfo/16NwPQrXHEAfhetRuB71P+F6FK5H4eo/XI/C9ShcA0AzMzMzMzP3P7gehetRuO4/PQrXo3A9/j8AAAAAAAD8P5qZmZmZmfk/4XoUrkfh9j8K16NwPQoDQNejcD0K1/M/MzMzMzMz+z8zMzMzMzPzP+F6FK5H4fo/16NwPQrXCUA=",
          "dtype": "f8"
         }
        },
        {
         "mode": "lines",
         "name": "Segment 21",
         "showlegend": false,
         "type": "scatter",
         "x": [
          "2024-04-19T23:00:00.001000",
          "2024-04-20T01:00:00.001000",
          "2024-04-20T03:00:00.001000",
          "2024-04-20T05:00:00.001000",
          "2024-04-20T07:00:00.001000",
          "2024-04-20T09:00:00.001000",
          "2024-04-20T11:00:00.001000",
          "2024-04-20T13:00:00.001000",
          "2024-04-20T15:00:00.001000",
          "2024-04-20T17:00:00.001000",
          "2024-04-20T19:00:00.001000",
          "2024-04-20T21:00:00.001000",
          "2024-04-20T23:00:00.001000",
          "2024-04-21T01:00:00.001000",
          "2024-04-21T03:00:00.001000"
         ],
         "y": {
          "bdata": "FK5H4XoU8j89CtejcD3yP3sUrkfhevA/w/UoXI/C9T9I4XoUrkf1PwrXo3A9CvM/mpmZmZmZ9T9SuB6F61H0P4/C9ShcjwZA9ihcj8L18D8fhetRuB7xP5qZmZmZmfU/hetRuB6F8z8UrkfhehTyP5qZmZmZmfU/",
          "dtype": "f8"
         }
        },
        {
         "mode": "lines",
         "name": "Segment 22",
         "showlegend": false,
         "type": "scatter",
         "x": [
          "2024-04-21T09:00:00.001000",
          "2024-04-21T11:00:00.001000",
          "2024-04-21T13:00:00.001000",
          "2024-04-21T15:00:00.001000",
          "2024-04-21T17:00:00.001000",
          "2024-04-21T19:00:00.001000",
          "2024-04-21T21:00:00.001000",
          "2024-04-21T23:00:00.001000",
          "2024-04-22T01:00:00.001000",
          "2024-04-22T03:00:00.001000",
          "2024-04-22T05:00:00.001000",
          "2024-04-22T07:00:00.001000",
          "2024-04-22T09:00:00.001000",
          "2024-04-22T11:00:00.001000",
          "2024-04-22T13:00:00.001000",
          "2024-04-22T15:00:00.001000",
          "2024-04-22T17:00:00.001000",
          "2024-04-22T19:00:00.001000",
          "2024-04-22T21:00:00.001000",
          "2024-04-22T23:00:00.001000",
          "2024-04-23T01:00:00.001000",
          "2024-04-23T03:00:00.001000",
          "2024-04-23T05:00:00.001000",
          "2024-04-23T07:00:00.001000",
          "2024-04-23T09:00:00.001000",
          "2024-04-23T11:00:00.001000",
          "2024-04-23T13:00:00.001000",
          "2024-04-23T15:00:00.001000",
          "2024-04-23T17:00:00.001000",
          "2024-04-23T19:00:00.001000",
          "2024-04-23T21:00:00.001000",
          "2024-04-23T23:00:00.001000",
          "2024-04-24T01:00:00.001000",
          "2024-04-24T03:00:00.001000",
          "2024-04-24T05:00:00.001000",
          "2024-04-24T07:00:00.001000",
          "2024-04-24T09:00:00.001000",
          "2024-04-24T11:00:00.001000",
          "2024-04-24T13:00:00.001000",
          "2024-04-24T15:00:00.001000",
          "2024-04-24T17:00:00.001000",
          "2024-04-24T19:00:00.001000",
          "2024-04-24T21:00:00.001000",
          "2024-04-25T01:00:00.001000",
          "2024-04-25T03:00:00.001000"
         ],
         "y": {
          "bdata": "zczMzMzM9D97FK5H4XrwP65H4XoUru8/mpmZmZmZ6T97FK5H4XrsP3sUrkfhevg/7FG4HoXrAUAAAAAAAAD4Px+F61G4HvE/XI/C9Shc9z8K16NwPQr3P3sUrkfhegBAPQrXo3A9AkA9CtejcD3yP6RwPQrXo/A/16NwPQrXFEA9CtejcD0EQBSuR+F6FPY/w/UoXI/C8T/2KFyPwvXoP5qZmZmZmfE/cT0K16Nw8T8K16NwPQr7P6RwPQrXo/g/w/UoXI/C8T8UrkfhehT6P+xRuB6F6/E/MzMzMzMz8z8zMzMzMzMFQNejcD0K1/c/MzMzMzMz8z+F61G4HoXzP8P1KFyPwvU/CtejcD0K/z9I4XoUrkfxP3E9CtejcO0/pHA9Ctej9D8UrkfhehTuP7gehetRuO4/AAAAAAAA6D8fhetRuB7tP6RwPQrXo/Q/ZmZmZmZm7j+F61G4HoUBQLgehetRuPY/",
          "dtype": "f8"
         }
        },
        {
         "mode": "lines",
         "name": "Segment 23",
         "showlegend": false,
         "type": "scatter",
         "x": [
          "2024-04-25T17:00:00.001000",
          "2024-04-25T19:00:00.001000",
          "2024-04-25T21:00:00.001000",
          "2024-04-25T23:00:00.001000",
          "2024-04-26T01:00:00.001000",
          "2024-04-26T03:00:00.001000",
          "2024-04-26T05:00:00.001000",
          "2024-04-26T07:00:00.001000",
          "2024-04-26T09:00:00.001000",
          "2024-04-26T11:00:00.001000",
          "2024-04-26T13:00:00.001000",
          "2024-04-26T15:00:00.001000",
          "2024-04-26T17:00:00.001000",
          "2024-04-26T19:00:00.001000",
          "2024-04-26T21:00:00.001000",
          "2024-04-26T23:00:00.001000",
          "2024-04-27T03:00:00.001000",
          "2024-04-27T05:00:00.001000",
          "2024-04-27T07:00:00.001000",
          "2024-04-27T09:00:00.001000",
          "2024-04-27T11:00:00.001000",
          "2024-04-27T13:00:00.001000",
          "2024-04-27T15:00:00.001000",
          "2024-04-27T17:00:00.001000"
         ],
         "y": {
          "bdata": "zczMzMzM+D/Xo3A9CtfzPzMzMzMzM/s/hetRuB6F9z9mZmZmZmb2P5qZmZmZmfk/exSuR+F6AEAK16NwPQoFQIXrUbgehRRA4XoUrkfh9j/D9Shcj8L5Px+F61G4HhFASOF6FK5HEkAAAAAAAAAbQOxRuB6F6/0/AAAAAAAA+D9xPQrXo3D1P65H4XoUrgFAKVyPwvUo/D8zMzMzMzP/P6RwPQrXo/g/AAAAAAAA/D8zMzMzMzMFQLgehetRuABA",
          "dtype": "f8"
         }
        },
        {
         "mode": "lines",
         "name": "Segment 24",
         "showlegend": false,
         "type": "scatter",
         "x": [
          "2024-04-27T23:00:00.001000",
          "2024-04-28T01:00:00.001000",
          "2024-04-28T03:00:00.001000",
          "2024-04-28T05:00:00.001000",
          "2024-04-28T07:00:00.001000",
          "2024-04-28T09:00:00.001000",
          "2024-04-28T11:00:00.001000",
          "2024-04-28T13:00:00.001000",
          "2024-04-28T15:00:00.001000",
          "2024-04-28T17:00:00.001000",
          "2024-04-28T19:00:00.001000",
          "2024-04-28T21:00:00.001000",
          "2024-04-28T23:00:00.001000",
          "2024-04-29T01:00:00.001000",
          "2024-04-29T03:00:00.001000",
          "2024-04-29T05:00:00.001000",
          "2024-04-29T07:00:00.001000",
          "2024-04-29T09:00:00.001000",
          "2024-04-29T11:00:00.001000",
          "2024-04-29T13:00:00.001000",
          "2024-04-29T15:00:00.001000",
          "2024-04-29T17:00:00.001000",
          "2024-04-29T19:00:00.001000",
          "2024-04-29T21:00:00.001000",
          "2024-04-29T23:00:00.001000",
          "2024-04-30T01:00:00.001000",
          "2024-04-30T03:00:00.001000",
          "2024-04-30T05:00:00.001000",
          "2024-04-30T07:00:00.001000",
          "2024-04-30T09:00:00.001000",
          "2024-04-30T11:00:00.001000",
          "2024-04-30T15:00:00.001000",
          "2024-04-30T17:00:00.001000",
          "2024-04-30T19:00:00.001000",
          "2024-04-30T21:00:00.001000",
          "2024-04-30T23:00:00.001000",
          "2024-05-01T01:00:00.001000",
          "2024-05-01T03:00:00.001000",
          "2024-05-01T05:00:00.001000",
          "2024-05-01T07:00:00.001000",
          "2024-05-01T09:00:00.001000",
          "2024-05-01T11:00:00.001000",
          "2024-05-01T13:00:00.001000",
          "2024-05-01T15:00:00.001000",
          "2024-05-01T17:00:00.001000",
          "2024-05-01T19:00:00.001000",
          "2024-05-01T21:00:00.001000",
          "2024-05-01T23:00:00.001000",
          "2024-05-02T01:00:00.001000",
          "2024-05-02T03:00:00.001000"
         ],
         "y": {
          "bdata": "KVyPwvUo9D/NzMzMzMz0PzMzMzMzMwdArkfhehSu8z/2KFyPwvX0P6RwPQrXo/Q/CtejcD0K8z89CtejcD36P4XrUbgehQFAAAAAAAAAAkApXI/C9SgAQFyPwvUoXP8/4XoUrkfh+j+uR+F6FK77P+xRuB6F6/k/16NwPQrX/z+4HoXrUbgAQM3MzMzMzPw/uB6F61G4BEAK16NwPQr/P3E9CtejcPU/MzMzMzMz9z8AAAAAAAD4P2ZmZmZmZvY/cT0K16Nw+T9mZmZmZmb6PwrXo3A9CgNAzczMzMzMAkAUrkfhehT6PwrXo3A9Cv8/zczMzMzM+D/hehSuR+H6P3sUrkfhevg/H4XrUbgeA0DsUbgehesBQArXo3A9CgFA16NwPQrXAUC4HoXrUbgCQM3MzMzMzAhASOF6FK5HA0B7FK5H4XoAQIXrUbgehQNAXI/C9Shc8z9I4XoUrkcFQLgehetRuAhArkfhehSuB0BxPQrXo3ABQKRwPQrXowBAcT0K16NwA0BSuB6F61EEQA==",
          "dtype": "f8"
         }
        },
        {
         "mode": "lines",
         "name": "Segment 25",
         "showlegend": false,
         "type": "scatter",
         "x": [
          "2024-05-03T05:00:00.001000",
          "2024-05-03T07:00:00.001000",
          "2024-05-03T09:00:00.001000",
          "2024-05-03T11:00:00.001000",
          "2024-05-03T13:00:00.001000",
          "2024-05-03T15:00:00.001000",
          "2024-05-03T19:00:00.001000",
          "2024-05-03T21:00:00.001000",
          "2024-05-03T23:00:00.001000",
          "2024-05-04T01:00:00.001000",
          "2024-05-04T03:00:00.001000",
          "2024-05-04T05:00:00.001000",
          "2024-05-04T07:00:00.001000",
          "2024-05-04T09:00:00.001000",
          "2024-05-04T11:00:00.001000",
          "2024-05-04T13:00:00.001000",
          "2024-05-04T15:00:00.001000",
          "2024-05-04T17:00:00.001000",
          "2024-05-04T19:00:00.001000",
          "2024-05-04T21:00:00.001000",
          "2024-05-04T23:00:00.001000",
          "2024-05-05T01:00:00.001000",
          "2024-05-05T03:00:00.001000",
          "2024-05-05T05:00:00.001000",
          "2024-05-05T07:00:00.001000",
          "2024-05-05T09:00:00.001000",
          "2024-05-05T11:00:00.001000",
          "2024-05-05T13:00:00.001000",
          "2024-05-05T15:00:00.001000",
          "2024-05-05T17:00:00.001000",
          "2024-05-05T19:00:00.001000",
          "2024-05-05T21:00:00.001000",
          "2024-05-05T23:00:00.001000",
          "2024-05-06T01:00:00.001000",
          "2024-05-06T03:00:00.001000",
          "2024-05-06T05:00:00.001000",
          "2024-05-06T07:00:00.001000",
          "2024-05-06T09:00:00.001000",
          "2024-05-06T11:00:00.001000",
          "2024-05-06T13:00:00.001000",
          "2024-05-06T15:00:00.001000",
          "2024-05-06T17:00:00.001000",
          "2024-05-06T19:00:00.001000",
          "2024-05-06T21:00:00.001000",
          "2024-05-06T23:00:00.001000",
          "2024-05-07T01:00:00.001000",
          "2024-05-07T03:00:00.001000",
          "2024-05-07T05:00:00.001000",
          "2024-05-07T07:00:00.001000"
         ],
         "y": {
          "bdata": "pHA9CtejCkBI4XoUrkcDQM3MzMzMzBdAcT0K16NwAUApXI/C9SgEQIXrUbgehRRArkfhehSu7z+PwvUoXI/yPwrXo3A9CvM/rkfhehSu+z8UrkfhehT6P83MzMzMzPg/SOF6FK5H9T+amZmZmZn5P/YoXI/C9fw/XI/C9Shc9z8UrkfhehT6P3sUrkfhevA/j8L1KFyP8j+amZmZmZn1Px+F61G4HvE/7FG4HoXr+T8AAAAAAAD8Px+F61G4HhBAZmZmZmZm8j8UrkfhehTuPwrXo3A9Cu8/MzMzMzMz8z8K16NwPQrzPx+F61G4HvU/pHA9Ctej9D9cj8L1KFz3P9ejcD0K1/8/cT0K16Nw9T+4HoXrUbj2PxSuR+F6FPo/PQrXo3A98j+F61G4HoX3P5qZmZmZmfk/7FG4HoXrA0DD9Shcj8L1P83MzMzMzPg/XI/C9ShcAUDNzMzMzMwCQFyPwvUoXAdAj8L1KFyPCkB7FK5H4Xr8P5qZmZmZmfk/ZmZmZmZm9j8=",
          "dtype": "f8"
         }
        },
        {
         "mode": "lines",
         "name": "Segment 26",
         "showlegend": false,
         "type": "scatter",
         "x": [
          "2024-05-07T21:00:00.001000",
          "2024-05-07T23:00:00.001000",
          "2024-05-08T01:00:00.001000",
          "2024-05-08T03:00:00.001000",
          "2024-05-08T05:00:00.001000",
          "2024-05-08T07:00:00.001000",
          "2024-05-08T09:00:00.001000",
          "2024-05-08T11:00:00.001000",
          "2024-05-08T13:00:00.001000",
          "2024-05-08T15:00:00.001000",
          "2024-05-08T17:00:00.001000",
          "2024-05-08T19:00:00.001000",
          "2024-05-08T21:00:00.001000",
          "2024-05-08T23:00:00.001000",
          "2024-05-09T01:00:00.001000",
          "2024-05-09T03:00:00.001000",
          "2024-05-09T05:00:00.001000",
          "2024-05-09T07:00:00.001000"
         ],
         "y": {
          "bdata": "ZmZmZmZmFUBSuB6F61EKQPYoXI/C9fQ/exSuR+F68D+amZmZmZnxP+xRuB6F6wlAmpmZmZmZB0AfhetRuB7xP8P1KFyPwvE/zczMzMzM9D9SuB6F61EGQEjhehSuRwNApHA9Ctej/D8AAAAAAAAAQArXo3A9Cvc/PQrXo3A99j8zMzMzMzPzP9ejcD0K1/c/",
          "dtype": "f8"
         }
        },
        {
         "mode": "lines",
         "name": "Segment 27",
         "showlegend": false,
         "type": "scatter",
         "x": [
          "2024-05-10T05:00:00.001000",
          "2024-05-10T07:00:00.001000",
          "2024-05-10T09:00:00.001000",
          "2024-05-10T11:00:00.001000",
          "2024-05-10T13:00:00.001000",
          "2024-05-10T15:00:00.001000",
          "2024-05-10T17:00:00.001000",
          "2024-05-10T19:00:00.001000",
          "2024-05-10T21:00:00.001000",
          "2024-05-10T23:00:00.001000",
          "2024-05-11T01:00:00.001000",
          "2024-05-11T03:00:00.001000",
          "2024-05-11T05:00:00.001000",
          "2024-05-11T07:00:00.001000",
          "2024-05-11T09:00:00.001000",
          "2024-05-11T11:00:00.001000",
          "2024-05-11T13:00:00.001000",
          "2024-05-11T15:00:00.001000",
          "2024-05-11T17:00:00.001000",
          "2024-05-11T19:00:00.001000",
          "2024-05-11T21:00:00.001000",
          "2024-05-11T23:00:00.001000",
          "2024-05-12T01:00:00.001000",
          "2024-05-12T03:00:00.001000",
          "2024-05-12T05:00:00.001000",
          "2024-05-12T07:00:00.001000",
          "2024-05-12T09:00:00.001000",
          "2024-05-12T11:00:00.001000",
          "2024-05-12T13:00:00.001000",
          "2024-05-12T15:00:00.001000",
          "2024-05-12T17:00:00.001000",
          "2024-05-12T19:00:00.001000",
          "2024-05-12T21:00:00.001000",
          "2024-05-12T23:00:00.001000",
          "2024-05-13T01:00:00.001000",
          "2024-05-13T03:00:00.001000",
          "2024-05-13T05:00:00.001000",
          "2024-05-13T07:00:00.001000",
          "2024-05-13T09:00:00.001000",
          "2024-05-13T11:00:00.001000",
          "2024-05-13T13:00:00.001000",
          "2024-05-13T15:00:00.001000",
          "2024-05-13T17:00:00.001000",
          "2024-05-13T19:00:00.001000",
          "2024-05-13T21:00:00.001000",
          "2024-05-13T23:00:00.001000",
          "2024-05-14T01:00:00.001000",
          "2024-05-14T03:00:00.001000",
          "2024-05-14T05:00:00.001000",
          "2024-05-14T07:00:00.001000",
          "2024-05-14T09:00:00.001000",
          "2024-05-14T11:00:00.001000",
          "2024-05-14T15:00:00.001000",
          "2024-05-14T17:00:00.001000",
          "2024-05-14T19:00:00.001000",
          "2024-05-14T21:00:00.001000",
          "2024-05-14T23:00:00.001000",
          "2024-05-15T01:00:00.001000",
          "2024-05-15T03:00:00.001000",
          "2024-05-15T05:00:00.001000",
          "2024-05-15T07:00:00.001000",
          "2024-05-15T09:00:00.001000",
          "2024-05-15T11:00:00.001000",
          "2024-05-15T13:00:00.001000",
          "2024-05-15T15:00:00.001000",
          "2024-05-15T17:00:00.001000",
          "2024-05-15T19:00:00.001000",
          "2024-05-15T21:00:00.001000",
          "2024-05-15T23:00:00.001000",
          "2024-05-16T01:00:00.001000",
          "2024-05-16T03:00:00.001000"
         ],
         "y": {
          "bdata": "pHA9Ctej8D8UrkfhehTyPx+F61G4HvE/pHA9Ctej+D/sUbgehevxPwAAAAAAAOg/7FG4HoXr6T/NzMzMzMzsP/YoXI/C9eg/UrgehetR6D89CtejcD3qP1yPwvUoXO8/rkfhehSu9z+amZmZmZnxPzMzMzMzM/M/MzMzMzMz9z9mZmZmZmbyPx+F61G4HvU/SOF6FK5H8T8UrkfhehQAQLgehetRuPo/UrgehetR8D8fhetRuB7tP4XrUbgehes/j8L1KFyP8j/Xo3A9CtfrP+xRuB6F6+k/7FG4HoXr+T8zMzMzMzP3PwrXo3A9Cvc/7FG4HoXr+T/Xo3A9CtcQQLgehetRuP4/exSuR+F6/D+kcD0K16P4PwAAAAAAAPw/H4XrUbge/T8UrkfhehT6P/YoXI/C9QRAPQrXo3A9AECkcD0K16P4P3sUrkfhevQ/ZmZmZmZm9j/Xo3A9Ctf7P83MzMzMzPg/FK5H4XoU/j/Xo3A9CtfzPz0K16NwPfI/CtejcD0K8z+F61G4HoX3P4/C9Shcj/4/mpmZmZmZ/T9I4XoUrkf5P83MzMzMzAhAhetRuB6F8z8K16NwPQr7P4/C9Shcj/I/hetRuB6F8z9xPQrXo3AFQHsUrkfhegBApHA9Ctej/D9xPQrXo3D9P3sUrkfhevA/exSuR+F67D8UrkfhehT+P+F6FK5H4fY/mpmZmZmZ/T/hehSuR+H+Pz0K16NwPf4/UrgehetR/D+PwvUoXI8AQA==",
          "dtype": "f8"
         }
        },
        {
         "mode": "lines",
         "name": "Segment 28",
         "showlegend": false,
         "type": "scatter",
         "x": [
          "2024-05-17T01:00:00.001000",
          "2024-05-17T03:00:00.001000",
          "2024-05-17T05:00:00.001000",
          "2024-05-17T07:00:00.001000",
          "2024-05-17T09:00:00.001000"
         ],
         "y": {
          "bdata": "MzMzMzMz/z9SuB6F61H4Px+F61G4Hvk/uB6F61G4/j9SuB6F61H4Pw==",
          "dtype": "f8"
         }
        },
        {
         "mode": "lines",
         "name": "Segment 29",
         "showlegend": false,
         "type": "scatter",
         "x": [
          "2024-05-17T15:00:00.001000",
          "2024-05-17T17:00:00.001000",
          "2024-05-17T19:00:00.001000",
          "2024-05-17T21:00:00.001000",
          "2024-05-17T23:00:00.001000",
          "2024-05-18T01:00:00.001000",
          "2024-05-18T03:00:00.001000",
          "2024-05-18T05:00:00.001000",
          "2024-05-18T07:00:00.001000",
          "2024-05-18T11:00:00.001000"
         ],
         "y": {
          "bdata": "cT0K16Nw9T8zMzMzMzPzP1yPwvUoXAdAAAAAAAAA/D/NzMzMzMz4PxSuR+F6FPI/pHA9Ctej+D8pXI/C9SgGQB+F61G4HgFA7FG4HoXrAUA=",
          "dtype": "f8"
         }
        },
        {
         "mode": "lines",
         "name": "Segment 30",
         "showlegend": false,
         "type": "scatter",
         "x": [
          "2024-05-18T21:00:00.001000",
          "2024-05-18T23:00:00.001000",
          "2024-05-19T01:00:00.001000",
          "2024-05-19T03:00:00.001000",
          "2024-05-19T05:00:00.001000",
          "2024-05-19T07:00:00.001000",
          "2024-05-19T09:00:00.001000",
          "2024-05-19T11:00:00.001000",
          "2024-05-19T13:00:00.001000",
          "2024-05-19T15:00:00.001000",
          "2024-05-19T17:00:00.001000",
          "2024-05-19T19:00:00.001000",
          "2024-05-19T21:00:00.001000",
          "2024-05-19T23:00:00.001000",
          "2024-05-20T03:00:00.001000",
          "2024-05-20T05:00:00.001000",
          "2024-05-20T07:00:00.001000",
          "2024-05-20T09:00:00.001000",
          "2024-05-20T11:00:00.001000",
          "2024-05-20T13:00:00.001000",
          "2024-05-20T15:00:00.001000",
          "2024-05-20T17:00:00.001000",
          "2024-05-20T19:00:00.001000",
          "2024-05-20T21:00:00.001000",
          "2024-05-20T23:00:00.001000",
          "2024-05-21T01:00:00.001000",
          "2024-05-21T03:00:00.001000",
          "2024-05-21T05:00:00.001000",
          "2024-05-21T07:00:00.001000",
          "2024-05-21T09:00:00.001000",
          "2024-05-21T11:00:00.001000",
          "2024-05-21T13:00:00.001000",
          "2024-05-21T17:00:00.001000",
          "2024-05-21T19:00:00.001000",
          "2024-05-21T20:40:00.001000",
          "2024-05-21T21:00:00.001000",
          "2024-05-21T23:00:00.001000",
          "2024-05-22T01:00:00.001000",
          "2024-05-22T03:00:00.001000",
          "2024-05-22T05:00:00.001000",
          "2024-05-22T09:00:00.001000",
          "2024-05-22T11:00:00.001000",
          "2024-05-22T13:00:00.001000",
          "2024-05-22T15:00:00.001000",
          "2024-05-22T17:00:00.001000",
          "2024-05-22T19:00:00.001000",
          "2024-05-22T21:00:00.001000",
          "2024-05-22T23:00:00.001000",
          "2024-05-23T01:00:00.001000",
          "2024-05-23T03:00:00.001000",
          "2024-05-23T05:00:00.001000",
          "2024-05-23T07:00:00.001000"
         ],
         "y": {
          "bdata": "UrgehetRBkDXo3A9Ctf7P5qZmZmZmf0/zczMzMzM+D/NzMzMzMz8Px+F61G4HvU/SOF6FK5H8T+uR+F6FK7zPwrXo3A9Cvc/AAAAAAAA9D+4HoXrUbjyPx+F61G4HgFAMzMzMzMz/z9mZmZmZmb6PzMzMzMzM/c/j8L1KFyP9j/NzMzMzMz4PwAAAAAAAPg/hetRuB6F+z9cj8L1KFzzP1K4HoXrUfw/7FG4HoXrAUAfhetRuB75P1K4HoXrUfw/PQrXo3A98j/2KFyPwvXwP65H4XoUru8/4XoUrkfh/j9xPQrXo3DxP1yPwvUoXPM/cT0K16Nw/T8K16NwPQoRQClcj8L1KBZArkfhehSuD0DD9Shcj8IPQClcj8L1KCRA16NwPQpXIEAzMzMzMzPzPwAAAAAAABxAj8L1KFyPDEA9CtejcD0IQArXo3A9CvM/9ihcj8L18D8pXI/C9Sj8P/YoXI/C9fw/SOF6FK5H/T/sUbgehev5PwAAAAAAAPQ/MzMzMzMzBUCkcD0K16P8PwrXo3A9CgFAexSuR+F69D8=",
          "dtype": "f8"
         }
        },
        {
         "mode": "lines",
         "name": "Segment 31",
         "showlegend": false,
         "type": "scatter",
         "x": [
          "2024-05-23T21:00:00.001000",
          "2024-05-23T23:00:00.001000",
          "2024-05-24T01:00:00.001000",
          "2024-05-24T03:00:00.001000",
          "2024-05-24T05:00:00.001000",
          "2024-05-24T07:00:00.001000",
          "2024-05-24T09:00:00.001000",
          "2024-05-24T11:00:00.001000",
          "2024-05-24T13:00:00.001000",
          "2024-05-24T15:00:00.001000",
          "2024-05-24T17:00:00.001000",
          "2024-05-24T19:00:00.001000",
          "2024-05-24T21:00:00.001000",
          "2024-05-24T23:00:00.001000",
          "2024-05-25T01:00:00.001000",
          "2024-05-25T03:00:00.001000",
          "2024-05-25T05:00:00.001000",
          "2024-05-25T07:00:00.001000",
          "2024-05-25T09:00:00.001000",
          "2024-05-25T11:00:00.001000",
          "2024-05-25T13:00:00.001000",
          "2024-05-25T15:00:00.001000",
          "2024-05-25T17:00:00.001000",
          "2024-05-25T19:00:00.001000",
          "2024-05-25T21:00:00.001000",
          "2024-05-25T23:00:00.001000",
          "2024-05-26T01:00:00.001000",
          "2024-05-26T03:00:00.001000",
          "2024-05-26T05:00:00.001000",
          "2024-05-26T07:00:00.001000",
          "2024-05-26T09:00:00.001000",
          "2024-05-26T13:00:00.001000",
          "2024-05-26T15:00:00.001000",
          "2024-05-26T17:00:00.001000",
          "2024-05-26T19:00:00.001000",
          "2024-05-26T21:00:00.001000"
         ],
         "y": {
          "bdata": "mpmZmZmZ+T/Xo3A9Ctf3Px+F61G4HvE/ZmZmZmZm9j8K16NwPQrvP65H4XoUrv8/cT0K16Nw+T97FK5H4XoAQClcj8L1KPQ/rkfhehSu8z8zMzMzMzP/PxSuR+F6FAJAuB6F61G49j9SuB6F61EAQAAAAAAAAABArkfhehSu+z9xPQrXo3D9Pz0K16NwPfY/j8L1KFyP+j/D9Shcj8L9P9ejcD0K1wlAPQrXo3A9BkAK16NwPQoDQHsUrkfhevw/H4XrUbge+T/hehSuR+EAQHsUrkfhegJAj8L1KFyP+j+kcD0K16P0P65H4XoUrvc/pHA9CtejEEBI4XoUrkf1P6RwPQrXo/A/MzMzMzMz8z89CtejcD0IQJqZmZmZmQdA",
          "dtype": "f8"
         }
        },
        {
         "mode": "lines",
         "name": "Segment 32",
         "showlegend": false,
         "type": "scatter",
         "x": [
          "2024-05-27T21:00:00.001000",
          "2024-05-27T23:00:00.001000",
          "2024-05-28T01:00:00.001000",
          "2024-05-28T03:00:00.001000",
          "2024-05-28T07:00:00.001000",
          "2024-05-28T09:00:00.001000",
          "2024-05-28T11:00:00.001000",
          "2024-05-28T13:00:00.001000",
          "2024-05-28T15:00:00.001000",
          "2024-05-28T17:00:00.001000",
          "2024-05-28T19:00:00.001000",
          "2024-05-28T21:00:00.001000",
          "2024-05-28T23:00:00.001000",
          "2024-05-29T01:00:00.001000",
          "2024-05-29T03:00:00.001000",
          "2024-05-29T05:00:00.001000",
          "2024-05-29T07:00:00.001000",
          "2024-05-29T09:00:00.001000",
          "2024-05-29T11:00:00.001000",
          "2024-05-29T13:00:00.001000",
          "2024-05-29T15:00:00.001000",
          "2024-05-29T17:00:00.001000",
          "2024-05-29T19:00:00.001000",
          "2024-05-29T21:00:00.001000",
          "2024-05-29T23:00:00.001000",
          "2024-05-30T01:00:00.001000",
          "2024-05-30T03:00:00.001000",
          "2024-05-30T07:00:00.001000",
          "2024-05-30T09:00:00.001000",
          "2024-05-30T11:00:00.001000",
          "2024-05-30T13:00:00.001000",
          "2024-05-30T15:00:00.001000",
          "2024-05-30T17:00:00.001000",
          "2024-05-30T19:00:00.001000",
          "2024-05-30T21:00:00.001000",
          "2024-05-30T23:00:00.001000",
          "2024-05-31T01:00:00.001000",
          "2024-05-31T03:00:00.001000",
          "2024-05-31T05:00:00.001000",
          "2024-05-31T07:00:00.001000",
          "2024-05-31T09:00:00.001000",
          "2024-05-31T11:00:00.001000",
          "2024-05-31T13:00:00.001000",
          "2024-05-31T15:00:00.001000",
          "2024-05-31T17:00:00.001000",
          "2024-05-31T19:00:00.001000",
          "2024-05-31T21:00:00.001000",
          "2024-05-31T23:00:00.001000",
          "2024-06-01T01:00:00.001000",
          "2024-06-01T03:00:00.001000",
          "2024-06-01T05:00:00.001000",
          "2024-06-01T07:00:00.001000",
          "2024-06-01T09:00:00.001000",
          "2024-06-01T11:00:00.001000",
          "2024-06-01T13:00:00.001000",
          "2024-06-01T15:00:00.001000",
          "2024-06-01T17:00:00.001000",
          "2024-06-01T19:00:00.001000",
          "2024-06-01T21:00:00.001000",
          "2024-06-01T23:00:00.001000",
          "2024-06-02T01:00:00.001000",
          "2024-06-02T03:00:00.001000",
          "2024-06-02T05:00:00.001000",
          "2024-06-02T07:00:00.001000",
          "2024-06-02T09:00:00.001000",
          "2024-06-02T11:00:00.001000",
          "2024-06-02T13:00:00.001000",
          "2024-06-02T15:00:00.001000",
          "2024-06-02T17:00:00.001000",
          "2024-06-02T19:00:00.001000",
          "2024-06-02T23:00:00.001000",
          "2024-06-03T01:00:00.001000",
          "2024-06-03T03:00:00.001000",
          "2024-06-03T05:00:00.001000",
          "2024-06-03T07:00:00.001000",
          "2024-06-03T09:00:00.001000",
          "2024-06-03T11:00:00.001000"
         ],
         "y": {
          "bdata": "CtejcD0K9z/2KFyPwvX4P3E9CtejcAFA16NwPQpXI0DhehSuR+EAQIXrUbgehfs/UrgehetR/D+F61G4HoUJQLgehetRuPo/mpmZmZmZ+T+PwvUoXI/6P8P1KFyPwhNAFK5H4XoUDkA9CtejcD0AQOF6FK5H4QJAH4XrUbgeAUCamZmZmZkBQD0K16NwPf4/j8L1KFyP/j/D9Shcj8L9P+xRuB6F6/0/UrgehetR/D8AAAAAAAACQHE9CtejcAFAAAAAAAAADkDD9Shcj8IBQFK4HoXrUQJAexSuR+F6FEBSuB6F61H4P/YoXI/C9QJAKVyPwvUo/D/hehSuR+H6P5qZmZmZmQVAmpmZmZmZAUC4HoXrUbgAQKRwPQrXowRAj8L1KFyP/j/2KFyPwvX0PwAAAAAAAPQ/KVyPwvUo9D+4HoXrUbj2P0jhehSuRwtAXI/C9ShcA0AfhetRuB79P3E9CtejcP0/ZmZmZmZmF0AK16NwPQr7P65H4XoUrv8/XI/C9Shc+z+4HoXrUbj+P5qZmZmZmf0/w/UoXI/CAUApXI/C9SgKQGZmZmZmZghAZmZmZmZmBEDsUbgehev5Px+F61G4HgFAMzMzMzMzCUBxPQrXo3AFQFK4HoXrUQRAhetRuB6FA0D2KFyPwvUCQJqZmZmZmQFAAAAAAAAACEDhehSuR+ECQDMzMzMzM/8/H4XrUbge+T/hehSuR+ECQOxRuB6F6wdAj8L1KFyPAkAK16NwPQoDQGZmZmZmZv4/CtejcD0KAUAAAAAAAAD8P83MzMzMzPw/PQrXo3A9/j8K16NwPQoDQA==",
          "dtype": "f8"
         }
        },
        {
         "mode": "lines",
         "name": "Segment 33",
         "showlegend": false,
         "type": "scatter",
         "x": [
          "2024-06-03T17:00:00.001000",
          "2024-06-03T19:00:00.001000",
          "2024-06-03T21:00:00.001000",
          "2024-06-03T23:00:00.001000",
          "2024-06-04T01:00:00.001000",
          "2024-06-04T03:00:00.001000",
          "2024-06-04T05:00:00.001000",
          "2024-06-04T07:00:00.001000",
          "2024-06-04T09:00:00.001000"
         ],
         "y": {
          "bdata": "KVyPwvUoBkB7FK5H4XoGQIXrUbgehRFAhetRuB6FEEC4HoXrUbgGQI/C9ShcjwJAKVyPwvUoAEBxPQrXo3ADQNejcD0K1wFA",
          "dtype": "f8"
         }
        },
        {
         "mode": "lines",
         "name": "Segment 34",
         "showlegend": false,
         "type": "scatter",
         "x": [
          "2024-06-04T15:00:00.001000",
          "2024-06-04T17:00:00.001000",
          "2024-06-04T19:00:00.001000",
          "2024-06-04T21:00:00.001000",
          "2024-06-04T23:00:00.001000",
          "2024-06-05T01:00:00.001000",
          "2024-06-05T03:00:00.001000"
         ],
         "y": {
          "bdata": "cT0K16NwBUBmZmZmZmYAQOF6FK5H4QhA4XoUrkfhAEBSuB6F61EAQLgehetRuAZAMzMzMzMzAUA=",
          "dtype": "f8"
         }
        },
        {
         "mode": "lines",
         "name": "Segment 35",
         "showlegend": false,
         "type": "scatter",
         "x": [
          "2024-06-06T05:00:00.001000",
          "2024-06-06T07:00:00.001000",
          "2024-06-06T09:00:00.001000",
          "2024-06-06T11:00:00.001000",
          "2024-06-06T13:00:00.001000",
          "2024-06-06T15:00:00.001000",
          "2024-06-06T17:00:00.001000",
          "2024-06-06T19:00:00.001000",
          "2024-06-06T21:00:00.001000",
          "2024-06-06T23:00:00.001000",
          "2024-06-07T01:00:00.001000",
          "2024-06-07T03:00:00.001000",
          "2024-06-07T04:40:00.001000",
          "2024-06-07T05:00:00.001000",
          "2024-06-07T07:00:00.001000",
          "2024-06-07T09:00:00.001000",
          "2024-06-07T11:00:00.001000"
         ],
         "y": {
          "bdata": "XI/C9ShcFUBcj8L1KFwSQOxRuB6F6wdAzczMzMzMEkAUrkfhehQCQFK4HoXrUQ5AUrgehetRE0CamZmZmZkNQDMzMzMzMxJAKVyPwvUoE0D2KFyPwvUAQGZmZmZmZg5AexSuR+F6DkDD9Shcj0ImQKRwPQrXoylArkfhehSuHkB7FK5H4XoMQA==",
          "dtype": "f8"
         }
        },
        {
         "mode": "lines",
         "name": "Segment 36",
         "showlegend": false,
         "type": "scatter",
         "x": [
          "2024-06-07T21:00:00.001000",
          "2024-06-07T23:00:00.001000",
          "2024-06-08T03:00:00.001000",
          "2024-06-08T05:00:00.001000"
         ],
         "y": {
          "bdata": "hetRuB6FAUC4HoXrUbgAQKRwPQrXowhAcT0K16NwGEA=",
          "dtype": "f8"
         }
        },
        {
         "mode": "lines",
         "name": "Segment 37",
         "showlegend": false,
         "type": "scatter",
         "x": [
          "2024-06-08T21:00:00.001000",
          "2024-06-08T23:00:00.001000",
          "2024-06-09T01:00:00.001000",
          "2024-06-09T03:00:00.001000",
          "2024-06-09T05:00:00.001000",
          "2024-06-09T07:00:00.001000",
          "2024-06-09T09:00:00.001000",
          "2024-06-09T11:00:00.001000",
          "2024-06-09T13:00:00.001000",
          "2024-06-09T15:00:00.001000",
          "2024-06-09T17:00:00.001000",
          "2024-06-09T19:00:00.001000",
          "2024-06-09T21:00:00.001000",
          "2024-06-09T23:00:00.001000",
          "2024-06-10T01:00:00.001000",
          "2024-06-10T03:00:00.001000",
          "2024-06-10T05:00:00.001000",
          "2024-06-10T07:00:00.001000",
          "2024-06-10T09:00:00.001000",
          "2024-06-10T11:00:00.001000",
          "2024-06-10T13:00:00.001000",
          "2024-06-10T15:00:00.001000",
          "2024-06-10T17:00:00.001000",
          "2024-06-10T19:00:00.001000",
          "2024-06-10T21:00:00.001000",
          "2024-06-10T23:00:00.001000",
          "2024-06-11T01:00:00.001000",
          "2024-06-11T03:00:00.001000",
          "2024-06-11T05:00:00.001000",
          "2024-06-11T07:00:00.001000",
          "2024-06-11T09:00:00.001000",
          "2024-06-11T11:00:00.001000",
          "2024-06-11T13:00:00.001000",
          "2024-06-11T15:00:00.001000",
          "2024-06-11T17:00:00.001000",
          "2024-06-11T19:00:00.001000",
          "2024-06-11T21:00:00.001000",
          "2024-06-11T23:00:00.001000",
          "2024-06-12T01:00:00.001000",
          "2024-06-12T03:00:00.001000",
          "2024-06-12T05:00:00.001000",
          "2024-06-12T07:00:00.001000",
          "2024-06-12T09:00:00.001000",
          "2024-06-12T13:00:00.001000",
          "2024-06-12T17:00:00.001000",
          "2024-06-12T19:00:00.001000",
          "2024-06-12T23:00:00.001000",
          "2024-06-13T01:00:00.001000",
          "2024-06-13T03:00:00.001000",
          "2024-06-13T05:00:00.001000",
          "2024-06-13T09:00:00.001000",
          "2024-06-13T13:00:00.001000"
         ],
         "y": {
          "bdata": "uB6F61G4FECamZmZmZkUQJqZmZmZmQ1AZmZmZmZm/j9xPQrXo3ADQFK4HoXrUQJAAAAAAAAAAEAK16NwPQoDQLgehetRuAJAMzMzMzMzEEAUrkfhehQEQAAAAAAAAPw/AAAAAAAADkD2KFyPwvUIQDMzMzMzMwlAPQrXo3A9CEBSuB6F61EIQM3MzMzMzAZAPQrXo3A9DECF61G4HoULQFyPwvUoXPs/UrgehetR8D89CtejcD0AQI/C9ShcjxtAAAAAAAAAG0AUrkfhehQTQAAAAAAAAAhAUrgehetRAkA9CtejcD0AQEjhehSuR/E/uB6F61G49j9SuB6F61H8P0jhehSuRwdAUrgehetR/D8zMzMzMzPzP1K4HoXrUfg/exSuR+F6+D9cj8L1KFz7P0jhehSuR/k/PQrXo3A9/j9SuB6F61H8P9ejcD0K1/c/exSuR+F69D8pXI/C9Sj8P8P1KFyPwgVAMzMzMzMzD0DhehSuR+H2P3E9CtejcPU/zczMzMzM9D+uR+F6FK7/P0jhehSuRwlAw/UoXI/CGkA=",
          "dtype": "f8"
         }
        },
        {
         "mode": "lines",
         "name": "Segment 38",
         "showlegend": false,
         "type": "scatter",
         "x": [
          "2024-07-17T05:00:00.002000",
          "2024-07-17T07:00:00.002000",
          "2024-07-17T09:00:00.002000"
         ],
         "y": {
          "bdata": "16NwPQrXAUCuR+F6FK4bQPYoXI/C9RNA",
          "dtype": "f8"
         }
        },
        {
         "mode": "lines",
         "name": "Segment 39",
         "showlegend": false,
         "type": "scatter",
         "x": [
          "2024-07-17T17:00:00.002000",
          "2024-07-17T19:00:00.002000"
         ],
         "y": {
          "bdata": "hetRuB6FB0AK16NwPQoDQA==",
          "dtype": "f8"
         }
        },
        {
         "mode": "lines",
         "name": "Segment 40",
         "showlegend": false,
         "type": "scatter",
         "x": [
          "2024-07-18T03:00:00.002000",
          "2024-07-18T05:00:00.002000",
          "2024-07-18T07:00:00.002000",
          "2024-07-18T09:00:00.002000",
          "2024-07-18T11:00:00.002000"
         ],
         "y": {
          "bdata": "exSuR+F6+D9mZmZmZmb2P+xRuB6F6wtASOF6FK5HEUCPwvUoXI8MQA==",
          "dtype": "f8"
         }
        },
        {
         "mode": "lines",
         "name": "Segment 41",
         "showlegend": false,
         "type": "scatter",
         "x": [
          "2024-07-18T16:40:00.002000",
          "2024-07-18T17:00:00.002000",
          "2024-07-18T19:00:00.002000",
          "2024-07-18T21:00:00.002000",
          "2024-07-18T23:00:00.002000",
          "2024-07-19T01:00:00.002000",
          "2024-07-19T03:00:00.002000",
          "2024-07-19T05:00:00.002000",
          "2024-07-19T07:00:00.002000",
          "2024-07-19T09:00:00.002000",
          "2024-07-19T11:00:00.002000",
          "2024-07-19T13:00:00.002000",
          "2024-07-19T15:00:00.002000",
          "2024-07-19T17:00:00.002000",
          "2024-07-19T19:00:00.002000",
          "2024-07-19T21:00:00.002000",
          "2024-07-19T23:00:00.002000",
          "2024-07-20T01:00:00.002000",
          "2024-07-20T03:00:00.002000",
          "2024-07-20T05:00:00.002000",
          "2024-07-20T09:00:00.002000",
          "2024-07-20T11:00:00.002000",
          "2024-07-20T13:00:00.002000",
          "2024-07-20T15:00:00.002000",
          "2024-07-20T17:00:00.002000",
          "2024-07-20T19:00:00.002000",
          "2024-07-20T21:00:00.002000",
          "2024-07-20T23:00:00.002000",
          "2024-07-21T01:00:00.002000",
          "2024-07-21T03:00:00.002000",
          "2024-07-21T05:00:00.002000",
          "2024-07-21T07:00:00.002000",
          "2024-07-21T09:00:00.002000",
          "2024-07-21T11:00:00.002000",
          "2024-07-21T13:00:00.002000",
          "2024-07-21T15:00:00.002000",
          "2024-07-21T17:00:00.002000",
          "2024-07-21T19:00:00.002000",
          "2024-07-21T21:00:00.002000",
          "2024-07-21T23:00:00.002000",
          "2024-07-22T01:00:00.002000",
          "2024-07-22T03:00:00.002000",
          "2024-07-22T05:00:00.002000",
          "2024-07-22T07:00:00.002000",
          "2024-07-22T09:00:00.002000",
          "2024-07-22T11:00:00.002000",
          "2024-07-22T13:00:00.002000",
          "2024-07-22T15:00:00.002000",
          "2024-07-22T17:00:00.002000",
          "2024-07-22T19:00:00.002000",
          "2024-07-22T21:00:00.002000",
          "2024-07-22T23:00:00.002000",
          "2024-07-23T01:00:00.002000",
          "2024-07-23T03:00:00.002000",
          "2024-07-23T05:00:00.002000",
          "2024-07-23T07:00:00.002000",
          "2024-07-23T09:00:00.002000",
          "2024-07-23T11:00:00.002000",
          "2024-07-23T13:00:00.002000",
          "2024-07-23T15:00:00.002000",
          "2024-07-23T19:00:00.002000",
          "2024-07-23T21:00:00.002000",
          "2024-07-23T23:00:00.002000",
          "2024-07-24T01:00:00.002000",
          "2024-07-24T03:00:00.002000"
         ],
         "y": {
          "bdata": "pHA9CtejDEAUrkfhepQpQBSuR+F6FAhAXI/C9Shc/z8K16NwPQoDQMP1KFyPwgFASOF6FK5HA0AUrkfhehQAQEjhehSuRwFAexSuR+F69D+F61G4HoXzP6RwPQrXowhA7FG4HoXrAUB7FK5H4XoWQOF6FK5H4QZAuB6F61G4BEBI4XoUrkf9P3E9CtejcPk/9ihcj8L1BECamZmZmZn1Px+F61G4HhxACtejcD0KM0DNzMzMzEwtQK5H4XoUrg1APQrXo3A9DkB7FK5H4Xr8P4XrUbgehfs/PQrXo3A99j/2KFyPwvX8P+F6FK5H4QBA7FG4HoXrGUAK16NwPQoFQLgehetRuPo/16NwPQrX+z/D9Shcj8L5P7gehetRuAJAXI/C9ShcEUCuR+F6FK4JQHE9CtejcPk/hetRuB6FA0AfhetRuB4ZQGZmZmZm5iVASOF6FK5HHUAfhetRuB4tQI/C9Shcjx1AhetRuB6FD0Bcj8L1KFwDQAAAAAAAAAJAKVyPwvUoFEAUrkfhehQSQOF6FK5H4Q5AAAAAAAAACkDD9Shcj8IHQD0K16NwPf4/w/UoXI/CFUDNzMzMzMwOQEjhehSuRwVA9ihcj8L1BkCPwvUoXI8EQGZmZmZmZgpApHA9Ctej/D/sUbgehesZQK5H4XoUrhRAZmZmZmZmEUBmZmZmZmb+Pw==",
          "dtype": "f8"
         }
        },
        {
         "mode": "lines",
         "name": "Segment 42",
         "showlegend": false,
         "type": "scatter",
         "x": [
          "2024-07-25T01:00:00.002000",
          "2024-07-25T03:00:00.002000",
          "2024-07-25T05:00:00.002000",
          "2024-07-25T07:00:00.002000",
          "2024-07-25T09:00:00.002000",
          "2024-07-25T13:00:00.002000",
          "2024-07-25T15:00:00.002000",
          "2024-07-25T17:00:00.002000",
          "2024-07-25T21:00:00.002000",
          "2024-07-25T23:00:00.002000",
          "2024-07-26T01:00:00.002000",
          "2024-07-26T03:00:00.002000",
          "2024-07-26T05:00:00.002000",
          "2024-07-26T07:00:00.002000",
          "2024-07-26T09:00:00.002000",
          "2024-07-26T11:00:00.002000",
          "2024-07-26T13:00:00.002000",
          "2024-07-26T15:00:00.002000",
          "2024-07-26T17:00:00.002000",
          "2024-07-26T18:40:00.002000",
          "2024-07-26T19:00:00.002000",
          "2024-07-26T20:40:00.002000",
          "2024-07-26T21:00:00.002000",
          "2024-07-26T23:00:00.002000",
          "2024-07-27T01:00:00.002000",
          "2024-07-27T03:00:00.002000",
          "2024-07-27T05:00:00.002000",
          "2024-07-27T09:00:00.002000",
          "2024-07-27T11:00:00.002000",
          "2024-07-27T13:00:00.002000",
          "2024-07-27T15:00:00.002000",
          "2024-07-27T17:00:00.002000",
          "2024-07-27T19:00:00.002000",
          "2024-07-27T23:00:00.002000",
          "2024-07-28T01:00:00.002000",
          "2024-07-28T03:00:00.002000",
          "2024-07-28T05:00:00.002000",
          "2024-07-28T09:00:00.002000",
          "2024-07-28T11:00:00.002000",
          "2024-07-28T13:00:00.002000",
          "2024-07-28T15:00:00.002000",
          "2024-07-28T17:00:00.002000",
          "2024-07-28T19:00:00.002000",
          "2024-07-28T23:00:00.002000",
          "2024-07-29T01:00:00.002000",
          "2024-07-29T03:00:00.002000",
          "2024-07-29T05:00:00.002000",
          "2024-07-29T07:00:00.002000",
          "2024-07-29T09:00:00.002000",
          "2024-07-29T11:00:00.002000",
          "2024-07-29T13:00:00.002000",
          "2024-07-29T17:00:00.002000",
          "2024-07-29T19:00:00.002000",
          "2024-07-29T21:00:00.002000",
          "2024-07-29T23:00:00.002000",
          "2024-07-30T01:00:00.002000",
          "2024-07-30T03:00:00.002000",
          "2024-07-30T05:00:00.002000",
          "2024-07-30T07:00:00.002000",
          "2024-07-30T08:40:00.002000",
          "2024-07-30T09:00:00.002000",
          "2024-07-30T11:00:00.002000",
          "2024-07-30T13:00:00.002000",
          "2024-07-30T15:00:00.002000",
          "2024-07-30T17:00:00.002000",
          "2024-07-30T19:00:00.002000",
          "2024-07-30T21:00:00.002000",
          "2024-07-30T23:00:00.002000",
          "2024-07-31T01:00:00.002000",
          "2024-07-31T03:00:00.002000",
          "2024-07-31T05:00:00.002000",
          "2024-07-31T07:00:00.002000",
          "2024-07-31T09:00:00.002000",
          "2024-07-31T11:00:00.002000",
          "2024-07-31T13:00:00.002000",
          "2024-07-31T17:00:00.002000",
          "2024-07-31T19:00:00.002000",
          "2024-07-31T21:00:00.002000",
          "2024-07-31T23:00:00.002000",
          "2024-08-01T01:00:00",
          "2024-08-01T05:00:00",
          "2024-08-01T07:00:00",
          "2024-08-01T09:00:00",
          "2024-08-01T11:00:00",
          "2024-08-01T13:00:00",
          "2024-08-01T15:00:00",
          "2024-08-01T17:00:00",
          "2024-08-01T19:00:00",
          "2024-08-01T21:00:00",
          "2024-08-01T23:00:00",
          "2024-08-02T01:00:00",
          "2024-08-02T03:00:00",
          "2024-08-02T05:00:00",
          "2024-08-02T07:00:00"
         ],
         "y": {
          "bdata": "mpmZmZmZBUDXo3A9Ctf7P1yPwvUoXAVArkfhehSuBUDNzMzMzMwCQNejcD0K1/s/w/UoXI/C9T9cj8L1KFwBQI/C9ShcjwJAcT0K16NwEkB7FK5H4XoKQLgehetRuBdAH4XrUbgeDUBcj8L1KFwDQD0K16NwPRVAUrgehetRHkA9CtejcD0TQNejcD0K1wVAMzMzMzMzBUBI4XoUrkcFQJqZmZmZWTBA16NwPQpXMECPwvUoXI8bQAAAAAAAABZAZmZmZmZmFkDsUbgehesTQHsUrkfhegRAhetRuB6FA0DD9Shcj8ISQIXrUbgehSlAzczMzMzM+D/2KFyPwvX8P4XrUbgehR1AFK5H4XqUJUBcj8L1KFwdQClcj8L1qCRArkfhehQuI0BxPQrXo3AoQFK4HoXrURZAj8L1KFyPEUAUrkfhehQbQHsUrkfh+idAZmZmZmZmH0AfhetRuJ4iQK5H4XoULiVAMzMzMzPzNEDNzMzMzMwlQK5H4XoUbjFAXI/C9ShcMUCF61G4HgUkQKRwPQrXIyZACtejcD0KGEDXo3A9CtcUQB+F61G4nipACtejcD2KJUCkcD0K16MOQNejcD0K1xtAexSuR+H6KkDD9Shcj0IwQAAAAAAAQDBAKVyPwvUoEUBmZmZmZmYdQIXrUbgehRtAuB6F61G4BEBSuB6F61EOQM3MzMzMzBBAj8L1KFyPDEAfhetRuB4QQK5H4XoUrhJAcT0K16NwD0ApXI/C9SgSQKRwPQrXowxAKVyPwvUoBkBmZmZmZmYAQNejcD0K1/s/16NwPQrXBUDhehSuR+EaQLgehetRuApAexSuR+F6AEBxPQrXo3D9P+xRuB6F6wtAexSuR+F6FkBmZmZmZmYOQEjhehSuRwVAXI/C9ShcAUCkcD0K16MCQGZmZmZmZhBA9ihcj8L1G0AUrkfhehQvQGZmZmZmZhtA4XoUrkfhEkBxPQrXo3AJQJqZmZmZmQFA4XoUrkfhHkA=",
          "dtype": "f8"
         }
        },
        {
         "mode": "lines",
         "name": "Segment 43",
         "showlegend": false,
         "type": "scatter",
         "x": [
          "2024-08-02T13:00:00",
          "2024-08-02T15:00:00",
          "2024-08-02T17:00:00",
          "2024-08-02T19:00:00",
          "2024-08-02T21:00:00",
          "2024-08-02T23:00:00",
          "2024-08-03T01:00:00",
          "2024-08-03T03:00:00",
          "2024-08-03T05:00:00",
          "2024-08-03T07:00:00",
          "2024-08-03T09:00:00",
          "2024-08-03T11:00:00",
          "2024-08-03T13:00:00",
          "2024-08-03T14:40:00",
          "2024-08-03T15:00:00",
          "2024-08-03T17:00:00",
          "2024-08-03T18:40:00",
          "2024-08-03T19:00:00",
          "2024-08-03T21:00:00",
          "2024-08-03T23:00:00",
          "2024-08-04T01:00:00",
          "2024-08-04T03:00:00",
          "2024-08-04T05:00:00",
          "2024-08-04T07:00:00",
          "2024-08-04T09:00:00",
          "2024-08-04T11:00:00"
         ],
         "y": {
          "bdata": "AAAAAAAAAEDhehSuR+EcQPYoXI/C9fA/7FG4HoXrDUDD9Shcj8L5P7gehetRuPY/w/UoXI/CEEDXo3A9Ctf/P1yPwvUoXAdAXI/C9ShcEUCamZmZmZkiQFyPwvUoXCxAH4XrUbjeOUCamZmZmdk5QM3MzMzMzAJA4XoUrkfhEkDsUbgehesSQIXrUbgehSdA7FG4HoXrD0AAAAAAAAAEQNejcD0K1wlAPQrXo3A9AkB7FK5H4XoEQK5H4XoUrvs/UrgehetRF0CamZmZmZn9Pw==",
          "dtype": "f8"
         }
        },
        {
         "mode": "lines",
         "name": "Segment 44",
         "showlegend": false,
         "type": "scatter",
         "x": [
          "2024-08-04T17:00:00",
          "2024-08-04T18:40:00",
          "2024-08-04T19:00:00",
          "2024-08-04T21:00:00",
          "2024-08-04T23:00:00",
          "2024-08-05T01:00:00",
          "2024-08-05T03:00:00",
          "2024-08-05T05:00:00",
          "2024-08-05T07:00:00",
          "2024-08-05T09:00:00",
          "2024-08-05T11:00:00",
          "2024-08-05T12:40:00",
          "2024-08-05T13:00:00",
          "2024-08-05T15:00:00",
          "2024-08-05T17:00:00",
          "2024-08-05T19:00:00",
          "2024-08-05T23:00:00",
          "2024-08-06T01:00:00",
          "2024-08-06T03:00:00",
          "2024-08-06T05:00:00",
          "2024-08-06T07:00:00",
          "2024-08-06T09:00:00",
          "2024-08-06T11:00:00",
          "2024-08-06T13:00:00",
          "2024-08-06T15:00:00",
          "2024-08-06T17:00:00",
          "2024-08-06T19:00:00",
          "2024-08-06T21:00:00",
          "2024-08-06T23:00:00",
          "2024-08-07T01:00:00",
          "2024-08-07T03:00:00",
          "2024-08-07T05:00:00"
         ],
         "y": {
          "bdata": "H4XrUbge9T9I4XoUrkf1P4/C9ShcDyBAXI/C9ShcKEDhehSuR+EZQNejcD0K1/8/rkfhehSuB0ApXI/C9SgCQHE9CtejcAVACtejcD0KHEDD9Shcj0IjQD0K16NwPSNAZmZmZmZm/j/D9Shcj8INQHsUrkfhegJA4XoUrkfhFEDhehSuR+EGQDMzMzMzMwtA4XoUrkfhDkDsUbgehesLQPYoXI/C9QRAH4XrUbgeD0AK16NwPQogQClcj8L1KAZAzczMzMzMCkApXI/C9SgKQMP1KFyPwg9Aj8L1KFyPAECkcD0K16P8Pz0K16NwPfY/rkfhehSuA0B7FK5H4XoKQA==",
          "dtype": "f8"
         }
        },
        {
         "mode": "lines",
         "name": "Segment 45",
         "showlegend": false,
         "type": "scatter",
         "x": [
          "2024-08-08T01:00:00",
          "2024-08-08T03:00:00",
          "2024-08-08T05:00:00",
          "2024-08-08T07:00:00",
          "2024-08-08T09:00:00",
          "2024-08-08T11:00:00",
          "2024-08-08T13:00:00",
          "2024-08-08T15:00:00",
          "2024-08-08T17:00:00",
          "2024-08-08T19:00:00",
          "2024-08-08T21:00:00",
          "2024-08-08T23:00:00",
          "2024-08-09T01:00:00",
          "2024-08-09T03:00:00",
          "2024-08-09T07:00:00",
          "2024-08-09T08:40:00",
          "2024-08-09T09:00:00",
          "2024-08-09T13:00:00",
          "2024-08-09T15:00:00",
          "2024-08-09T17:00:00",
          "2024-08-09T21:00:00",
          "2024-08-09T23:00:00",
          "2024-08-10T02:40:00",
          "2024-08-10T03:00:00",
          "2024-08-10T05:00:00",
          "2024-08-10T07:00:00",
          "2024-08-10T09:00:00",
          "2024-08-10T11:00:00",
          "2024-08-10T13:00:00"
         ],
         "y": {
          "bdata": "ZmZmZmZm7j8pXI/C9Sj4P+xRuB6F6w1AAAAAAAAAAEDD9Shcj8L9P4XrUbgehQNAXI/C9ShcEEC4HoXrUTgnQGZmZmZmZiBAexSuR+F6HEBmZmZmZmb+PzMzMzMzMwFAFK5H4XoUAkCF61G4HoUFQHsUrkfhevw/pHA9Ctej/D+4HoXrUTgtQJqZmZmZmQFAhetRuB6F+z+uR+F6FK73P+F6FK5H4QBAw/UoXI/C+T/sUbgehev5P3sUrkfheiZAcT0K16Nw/T/hehSuR+EGQD0K16NwPQRAUrgehetR9D9cj8L1KFzzPw==",
          "dtype": "f8"
         }
        },
        {
         "mode": "lines",
         "name": "Segment 46",
         "showlegend": false,
         "type": "scatter",
         "x": [
          "2024-08-11T14:40:00",
          "2024-08-11T15:00:00",
          "2024-08-11T17:00:00",
          "2024-08-11T19:00:00",
          "2024-08-11T23:00:00",
          "2024-08-12T01:00:00",
          "2024-08-12T03:00:00",
          "2024-08-12T05:00:00",
          "2024-08-12T07:00:00",
          "2024-08-12T09:00:00",
          "2024-08-12T11:00:00",
          "2024-08-12T13:00:00",
          "2024-08-12T15:00:00",
          "2024-08-12T17:00:00",
          "2024-08-12T19:00:00",
          "2024-08-12T21:00:00",
          "2024-08-12T23:00:00",
          "2024-08-13T01:00:00",
          "2024-08-13T03:00:00",
          "2024-08-13T05:00:00",
          "2024-08-13T07:00:00",
          "2024-08-13T08:40:00",
          "2024-08-13T09:00:00",
          "2024-08-13T11:00:00",
          "2024-08-13T12:40:00",
          "2024-08-13T13:00:00",
          "2024-08-13T17:00:00",
          "2024-08-13T19:00:00",
          "2024-08-13T21:00:00",
          "2024-08-13T23:00:00",
          "2024-08-14T01:00:00",
          "2024-08-14T03:00:00",
          "2024-08-14T05:00:00",
          "2024-08-14T07:00:00",
          "2024-08-14T09:00:00",
          "2024-08-14T11:00:00",
          "2024-08-14T14:40:00",
          "2024-08-14T15:00:00",
          "2024-08-14T17:00:00",
          "2024-08-14T19:00:00",
          "2024-08-14T21:00:00",
          "2024-08-14T23:00:00"
         ],
         "y": {
          "bdata": "rkfhehSu8z+F61G4HsU0QHsUrkfhegpAFK5H4XoUE0DXo3A9Ctf3P+F6FK5H4QBA16NwPQrX8z8AAAAAAAACQK5H4XoUrgFAAAAAAAAACEC4HoXrUbgcQMP1KFyPwg9AuB6F61G4AkCF61G4HoX3P83MzMzMzPw/7FG4HoXrFkCuR+F6FK4FQPYoXI/C9RBAXI/C9ShcCUC4HoXrUbgEQFK4HoXrUfg/exSuR+F6+D+4HoXrUTgjQEjhehSuRx9APQrXo3A9H0AAAAAAAAD0P83MzMzMzPg/rkfhehSu8z+PwvUoXI8UQPYoXI/C9RRA7FG4HoXrD0AK16NwPQr/P83MzMzMzPQ/ZmZmZmZm8j8pXI/C9SgGQI/C9ShcjwRApHA9CtejBEBI4XoUrkcjQM3MzMzMzA5AcT0K16Nw9T8K16NwPQr3P+F6FK5H4fY/",
          "dtype": "f8"
         }
        },
        {
         "mode": "lines",
         "name": "Segment 47",
         "showlegend": false,
         "type": "scatter",
         "x": [
          "2024-08-15T17:00:00",
          "2024-08-15T19:00:00",
          "2024-08-15T21:00:00",
          "2024-08-15T23:00:00",
          "2024-08-16T01:00:00"
         ],
         "y": {
          "bdata": "uB6F61G49j97FK5H4Xr8P83MzMzMzApACtejcD0K9z9SuB6F61EAQA==",
          "dtype": "f8"
         }
        },
        {
         "mode": "lines",
         "name": "Segment 48",
         "showlegend": false,
         "type": "scatter",
         "x": [
          "2024-08-16T17:00:00",
          "2024-08-16T19:00:00",
          "2024-08-16T21:00:00",
          "2024-08-16T23:00:00",
          "2024-08-17T01:00:00",
          "2024-08-17T03:00:00",
          "2024-08-17T05:00:00",
          "2024-08-17T07:00:00",
          "2024-08-17T08:40:00",
          "2024-08-17T09:00:00",
          "2024-08-17T11:00:00",
          "2024-08-17T13:00:00"
         ],
         "y": {
          "bdata": "hetRuB6F/z8K16NwPQoHQOxRuB6F6/0/16NwPQrX/z/D9Shcj8L9P1yPwvUoXP8/rkfhehSu+z+PwvUoXI/+P7gehetRuP4/16NwPQpXIkAUrkfhehQKQD0K16NwPQJA",
          "dtype": "f8"
         }
        },
        {
         "mode": "lines",
         "name": "Segment 49",
         "showlegend": false,
         "type": "scatter",
         "x": [
          "2024-08-17T22:20:00",
          "2024-08-17T23:00:00",
          "2024-08-18T01:00:00",
          "2024-08-18T03:00:00",
          "2024-08-18T05:00:00",
          "2024-08-18T07:00:00",
          "2024-08-18T09:00:00",
          "2024-08-18T11:00:00",
          "2024-08-18T13:00:00",
          "2024-08-18T15:00:00",
          "2024-08-18T17:00:00"
         ],
         "y": {
          "bdata": "4XoUrkfh/j89CtejcD0AQAAAAAAAAABAPQrXo3A9AEB7FK5H4Xr8P2ZmZmZmZgZAH4XrUbgeA0CuR+F6FK7/PzMzMzMzM/8/hetRuB6FB0DXo3A9CtcHQA==",
          "dtype": "f8"
         }
        },
        {
         "mode": "lines",
         "name": "Segment 50",
         "showlegend": false,
         "type": "scatter",
         "x": [
          "2024-08-18T23:00:00",
          "2024-08-19T00:40:00",
          "2024-08-19T01:00:00",
          "2024-08-19T03:00:00",
          "2024-08-19T05:00:00",
          "2024-08-19T07:00:00",
          "2024-08-19T09:00:00",
          "2024-08-19T11:00:00",
          "2024-08-19T13:00:00",
          "2024-08-19T15:00:00",
          "2024-08-19T17:00:00",
          "2024-08-19T19:00:00",
          "2024-08-19T21:00:00",
          "2024-08-19T23:00:00",
          "2024-08-20T01:00:00",
          "2024-08-20T03:00:00",
          "2024-08-20T05:00:00",
          "2024-08-20T07:00:00",
          "2024-08-20T09:00:00",
          "2024-08-20T11:00:00",
          "2024-08-20T13:00:00",
          "2024-08-20T15:00:00",
          "2024-08-20T17:00:00",
          "2024-08-20T19:00:00",
          "2024-08-20T21:00:00",
          "2024-08-20T23:00:00",
          "2024-08-21T01:00:00",
          "2024-08-21T03:00:00"
         ],
         "y": {
          "bdata": "j8L1KFyP+j+4HoXrUbj6P3E9Ctej8CNAw/UoXI/CEEAAAAAAAAD8P9ejcD0K1/s/PQrXo3A9G0CPwvUoXI8UQNejcD0K1/8/ZmZmZmZmAkCF61G4HoX3P/YoXI/C9QBAMzMzMzMzA0AK16NwPQr/P6RwPQrXowBAPQrXo3A9/j+kcD0K16P8P8P1KFyPwv0/4XoUrkfh+j/2KFyPwvX8Pz0K16NwPfY/cT0K16NwBUAUrkfhehT6P+F6FK5H4QBAcT0K16NwA0CF61G4HoUBQAAAAAAAAAJAZmZmZmZmBEA=",
          "dtype": "f8"
         }
        },
        {
         "mode": "lines",
         "name": "Segment 51",
         "showlegend": false,
         "type": "scatter",
         "x": [
          "2024-08-22T05:00:00",
          "2024-08-22T07:00:00",
          "2024-08-22T08:40:00",
          "2024-08-22T09:00:00",
          "2024-08-22T11:00:00",
          "2024-08-22T13:00:00",
          "2024-08-22T15:00:00",
          "2024-08-22T17:00:00",
          "2024-08-22T19:00:00",
          "2024-08-22T21:00:00",
          "2024-08-22T23:00:00",
          "2024-08-23T01:00:00",
          "2024-08-23T03:00:00",
          "2024-08-23T05:00:00",
          "2024-08-23T07:00:00",
          "2024-08-23T09:00:00"
         ],
         "y": {
          "bdata": "pHA9CtejEkBmZmZmZmYRQHE9CtejcBFAAAAAAACAKUDD9Shcj8IRQArXo3A9CgVAZmZmZmZm9j/2KFyPwvX4P7gehetRuPI/MzMzMzMzAUBI4XoUrkf5P4/C9Shcj/o/j8L1KFyPBkDD9Shcj8ILQK5H4XoUrgNAzczMzMzMCEA=",
          "dtype": "f8"
         }
        },
        {
         "mode": "lines",
         "name": "Segment 52",
         "showlegend": false,
         "type": "scatter",
         "x": [
          "2024-08-23T15:00:00",
          "2024-08-23T17:00:00",
          "2024-08-23T19:00:00",
          "2024-08-23T20:40:00",
          "2024-08-23T21:00:00",
          "2024-08-23T23:00:00",
          "2024-08-24T01:00:00",
          "2024-08-24T03:00:00",
          "2024-08-24T05:00:00",
          "2024-08-24T07:00:00",
          "2024-08-24T09:00:00",
          "2024-08-24T13:00:00",
          "2024-08-24T15:00:00",
          "2024-08-24T17:00:00",
          "2024-08-24T19:00:00",
          "2024-08-24T21:00:00",
          "2024-08-24T23:00:00",
          "2024-08-25T01:00:00",
          "2024-08-25T03:00:00",
          "2024-08-25T05:00:00",
          "2024-08-25T07:00:00",
          "2024-08-25T09:00:00",
          "2024-08-25T11:00:00",
          "2024-08-25T13:00:00",
          "2024-08-25T15:00:00",
          "2024-08-25T17:00:00",
          "2024-08-25T19:00:00",
          "2024-08-25T21:00:00",
          "2024-08-25T23:00:00",
          "2024-08-26T00:40:00",
          "2024-08-26T01:00:00",
          "2024-08-26T03:00:00",
          "2024-08-26T05:00:00",
          "2024-08-26T07:00:00",
          "2024-08-26T09:00:00"
         ],
         "y": {
          "bdata": "KVyPwvUo/D/2KFyPwvUKQFyPwvUoXPs/hetRuB6F+z8UrkfhehQhQKRwPQrXo/w/rkfhehSu9z9xPQrXo3ALQKRwPQrXowhAuB6F61G4EEDNzMzMzMwbQK5H4XoUrgVASOF6FK5H+T/2KFyPwvUAQMP1KFyPwgFAZmZmZmZmGEAK16NwPQoQQM3MzMzMzABAhetRuB6FA0AUrkfhehQGQD0K16NwPQpAj8L1KFyPCkAK16NwPQoBQAAAAAAAABFA4XoUrkfhE0CkcD0K16P8P4/C9Shcj/Y/UrgehetR/D8K16NwPQrzPzMzMzMzM/M/MzMzMzMzMUCuR+F6FO4wQFyPwvUo3C9AcT0K16NwIkAAAAAAAAAMQA==",
          "dtype": "f8"
         }
        },
        {
         "mode": "lines",
         "name": "Segment 53",
         "showlegend": false,
         "type": "scatter",
         "x": [
          "2024-08-26T17:00:00",
          "2024-08-26T19:00:00",
          "2024-08-26T20:40:00",
          "2024-08-26T21:00:00",
          "2024-08-26T22:40:00",
          "2024-08-26T23:00:00",
          "2024-08-27T01:00:00",
          "2024-08-27T03:00:00",
          "2024-08-27T05:00:00",
          "2024-08-27T07:00:00",
          "2024-08-27T09:00:00",
          "2024-08-27T13:00:00",
          "2024-08-27T15:00:00",
          "2024-08-27T17:00:00",
          "2024-08-27T21:00:00",
          "2024-08-27T23:00:00",
          "2024-08-28T01:00:00",
          "2024-08-28T03:00:00",
          "2024-08-28T05:00:00",
          "2024-08-28T07:00:00",
          "2024-08-28T09:00:00",
          "2024-08-28T11:00:00",
          "2024-08-28T13:00:00",
          "2024-08-28T15:00:00"
         ],
         "y": {
          "bdata": "mpmZmZmZC0BSuB6F69EzQI/C9ShczzNA7FG4HoXrI0BmZmZmZuYjQOF6FK5H4fo/pHA9CtejDEDXo3A9Ctf/P5qZmZmZmfU/PQrXo3A99j9cj8L1KFz7P8P1KFyPwvE/j8L1KFyP/j8pXI/C9SgEQNejcD0K1xdA9ihcj8L1GUBxPQrXo3AUQI/C9Shcj/4/7FG4HoXr8T9SuB6F61H0P65H4XoUrgtAcT0K16NwA0Bcj8L1KFwHQM3MzMzMzAJA",
          "dtype": "f8"
         }
        },
        {
         "mode": "lines",
         "name": "Segment 54",
         "showlegend": false,
         "type": "scatter",
         "x": [
          "2024-08-30T17:00:00",
          "2024-08-30T19:00:00",
          "2024-08-30T21:00:00",
          "2024-08-30T23:00:00",
          "2024-08-31T01:00:00",
          "2024-08-31T03:00:00",
          "2024-08-31T05:00:00",
          "2024-08-31T07:00:00",
          "2024-08-31T09:00:00",
          "2024-08-31T11:00:00",
          "2024-08-31T12:40:00",
          "2024-08-31T13:00:00",
          "2024-08-31T15:00:00",
          "2024-08-31T17:00:00",
          "2024-08-31T19:00:00",
          "2024-08-31T21:00:00",
          "2024-08-31T23:00:00",
          "2024-09-01T01:00:00",
          "2024-09-01T03:00:00",
          "2024-09-01T05:00:00",
          "2024-09-01T07:00:00",
          "2024-09-01T11:00:00",
          "2024-09-01T13:00:00",
          "2024-09-01T15:00:00",
          "2024-09-01T17:00:00",
          "2024-09-01T19:00:00",
          "2024-09-01T21:00:00",
          "2024-09-01T23:00:00",
          "2024-09-02T01:00:00",
          "2024-09-02T03:00:00",
          "2024-09-02T05:00:00",
          "2024-09-02T07:00:00",
          "2024-09-02T11:00:00",
          "2024-09-02T13:00:00",
          "2024-09-02T15:20:00"
         ],
         "y": {
          "bdata": "hetRuB6F6z/NzMzMzMz0P3sUrkfhehRArkfhehSu/z9I4XoUrkf9P65H4XoUrhZA9ihcj8L1F0CkcD0K1yMkQEjhehSuRx5AmpmZmZmZIUAUrkfhepQhQDMzMzMzMwVAexSuR+F6AECPwvUoXI/+P4/C9ShcjwhAuB6F61G4AEB7FK5H4XoCQClcj8L1KARAFK5H4XoUAkBmZmZmZmYIQFyPwvUoXP8/XI/C9ShcCUAK16NwPQoLQI/C9Shcj/o/uB6F61G4AEBmZmZmZmYIQFyPwvUoXANAzczMzMzMAEAUrkfhehQEQOF6FK5H4QRAhetRuB6FC0AUrkfhehQIQB+F61G4HgFAmpmZmZmZ8T8pXI/C9Sj0Pw==",
          "dtype": "f8"
         }
        },
        {
         "mode": "lines",
         "name": "Segment 55",
         "showlegend": false,
         "type": "scatter",
         "x": [
          "2024-09-02T21:00:00",
          "2024-09-02T23:00:00",
          "2024-09-03T00:40:00",
          "2024-09-03T01:00:00",
          "2024-09-03T03:00:00",
          "2024-09-03T05:00:00",
          "2024-09-03T07:00:00"
         ],
         "y": {
          "bdata": "uB6F61G48j9mZmZmZmb2P4/C9Shcj/Y/KVyPwvWoIEAUrkfhehT6Px+F61G4Hvk/exSuR+F6DkA=",
          "dtype": "f8"
         }
        },
        {
         "mode": "lines",
         "name": "Segment 56",
         "showlegend": false,
         "type": "scatter",
         "x": [
          "2024-09-03T15:00:00",
          "2024-09-03T17:00:00",
          "2024-09-03T19:00:00",
          "2024-09-03T21:00:00",
          "2024-09-03T23:00:00",
          "2024-09-04T01:00:00",
          "2024-09-04T03:00:00",
          "2024-09-04T05:00:00",
          "2024-09-04T06:40:00",
          "2024-09-04T07:00:00",
          "2024-09-04T09:00:00",
          "2024-09-04T11:00:00",
          "2024-09-04T13:00:00",
          "2024-09-04T15:00:00",
          "2024-09-04T17:00:00",
          "2024-09-04T19:00:00",
          "2024-09-04T21:00:00",
          "2024-09-04T23:00:00",
          "2024-09-05T01:00:00",
          "2024-09-05T03:00:00"
         ],
         "y": {
          "bdata": "MzMzMzMz8z9SuB6F61H8P4XrUbgehfs/16NwPQrX/z/NzMzMzMz0P2ZmZmZmZv4/4XoUrkfh/j9mZmZmZmYGQHsUrkfhegZAzczMzMzMJ0BxPQrXo3AUQHsUrkfhevw/UrgehetR/D+uR+F6FK4ZQBSuR+F6FBBAhetRuB6FFUDsUbgehesDQBSuR+F6FABAuB6F61G4CkAzMzMzMzMBQA==",
          "dtype": "f8"
         }
        },
        {
         "mode": "lines",
         "name": "Segment 57",
         "showlegend": false,
         "type": "scatter",
         "x": [
          "2024-09-06T05:00:00",
          "2024-09-06T07:00:00",
          "2024-09-06T08:40:00",
          "2024-09-06T09:00:00",
          "2024-09-06T10:40:00",
          "2024-09-06T11:00:00",
          "2024-09-06T13:00:00",
          "2024-09-06T17:00:00",
          "2024-09-06T19:00:00",
          "2024-09-06T21:00:00",
          "2024-09-06T23:00:00",
          "2024-09-07T00:40:00",
          "2024-09-07T01:00:00",
          "2024-09-07T02:40:00",
          "2024-09-07T03:00:00",
          "2024-09-07T05:00:00",
          "2024-09-07T09:00:00",
          "2024-09-07T11:00:00",
          "2024-09-07T13:00:00",
          "2024-09-07T15:00:00",
          "2024-09-07T17:00:00",
          "2024-09-07T19:00:00",
          "2024-09-07T21:00:00",
          "2024-09-07T23:00:00",
          "2024-09-08T01:00:00",
          "2024-09-08T03:00:00",
          "2024-09-08T05:00:00",
          "2024-09-08T07:00:00",
          "2024-09-08T09:00:00",
          "2024-09-08T11:00:00",
          "2024-09-08T13:00:00",
          "2024-09-08T15:00:00",
          "2024-09-08T17:00:00",
          "2024-09-08T19:00:00",
          "2024-09-08T21:00:00",
          "2024-09-08T23:00:00",
          "2024-09-09T01:00:00",
          "2024-09-09T02:40:00",
          "2024-09-09T03:00:00",
          "2024-09-09T05:00:00",
          "2024-09-09T07:00:00",
          "2024-09-09T09:00:00",
          "2024-09-09T11:00:00",
          "2024-09-09T15:00:00",
          "2024-09-09T17:00:00",
          "2024-09-09T19:00:00",
          "2024-09-09T21:00:00",
          "2024-09-09T23:00:00",
          "2024-09-10T01:00:00",
          "2024-09-10T03:00:00",
          "2024-09-10T07:00:00",
          "2024-09-10T09:00:00",
          "2024-09-10T11:00:00",
          "2024-09-10T13:00:00",
          "2024-09-10T15:00:00",
          "2024-09-10T17:00:00",
          "2024-09-10T19:00:00",
          "2024-09-10T21:00:00",
          "2024-09-10T23:00:00",
          "2024-09-11T01:00:00",
          "2024-09-11T03:00:00",
          "2024-09-11T05:00:00",
          "2024-09-11T07:00:00",
          "2024-09-11T09:00:00",
          "2024-09-11T11:00:00",
          "2024-09-11T13:00:00"
         ],
         "y": {
          "bdata": "XI/C9ShcAUDNzMzMzMz8P/YoXI/C9fw/7FG4HoVrK0BmZmZmZmYrQB+F61G4HvE/w/UoXI/C7T8K16NwPQrvP83MzMzMzOw/9ihcj8L1+D/NzMzMzMz8P/YoXI/C9fw/pHA9CtfjMUDhehSuR+ExQEjhehSuRwdAcT0K16Nw8T/hehSuR+EIQMP1KFyPwvE/CtejcD0K8z/Xo3A9CtfzP65H4XoUrhFACtejcD0KBUCkcD0K16MCQOxRuB6F6wFArkfhehSuCUCkcD0K16MGQDMzMzMzMwlACtejcD0KFUDD9Shcj8ISQAAAAAAAAApAPQrXo3A9EkAK16NwPQrzPx+F61G4HvU/AAAAAAAAFUA9CtejcD0TQDMzMzMzMwNAw/UoXI/CIEA9CtejcL0gQGZmZmZmZv4/rkfhehSu+z8AAAAAAAD4P+F6FK5H4fI/cT0K16Nw8T8pXI/C9SgaQGZmZmZmZuY/mpmZmZmZ+T8K16NwPQoLQOxRuB6F6/k/16NwPQrX9z/Xo3A9CtcFQM3MzMzMzPw/pHA9Ctej/D/NzMzMzMz8P0jhehSuRx1AuB6F61G4/j8AAAAAAADoPwAAAAAAAPA/CtejcD0K8z/2KFyPwvUAQAAAAAAAAAZApHA9CtejAECF61G4HoX/P7gehetRuApAhetRuB6FDUBcj8L1KFwLQKRwPQrXowJA",
          "dtype": "f8"
         }
        },
        {
         "mode": "lines",
         "name": "Segment 58",
         "showlegend": false,
         "type": "scatter",
         "x": [
          "2024-09-12T07:00:00",
          "2024-09-12T09:00:00",
          "2024-09-12T11:00:00",
          "2024-09-12T13:00:00",
          "2024-09-12T15:00:00",
          "2024-09-12T17:00:00",
          "2024-09-12T19:00:00",
          "2024-09-12T21:00:00",
          "2024-09-12T23:00:00",
          "2024-09-13T01:00:00",
          "2024-09-13T03:00:00",
          "2024-09-13T05:00:00",
          "2024-09-13T07:00:00",
          "2024-09-13T09:00:00",
          "2024-09-13T11:00:00",
          "2024-09-13T13:00:00",
          "2024-09-13T15:00:00",
          "2024-09-13T17:00:00",
          "2024-09-13T19:00:00",
          "2024-09-13T21:00:00",
          "2024-09-13T23:00:00",
          "2024-09-14T01:00:00",
          "2024-09-14T03:00:00",
          "2024-09-14T05:00:00",
          "2024-09-14T07:00:00",
          "2024-09-14T11:00:00"
         ],
         "y": {
          "bdata": "H4XrUbgeEUBxPQrXo3D9P+F6FK5H4RBAKVyPwvUoEEDXo3A9Ctf3P6RwPQrXo/w/4XoUrkfhBkBcj8L1KFwQQAAAAAAAAAZAH4XrUbge/T8UrkfhehT+P8P1KFyPwgNAzczMzMzM+D8K16NwPQoZQClcj8L1KPQ/j8L1KFyP9j9I4XoUrkfxP83MzMzMzPQ/XI/C9ShcAUBSuB6F61H4P+F6FK5H4fo/16NwPQrX/z9mZmZmZmYAQOxRuB6F6w9AmpmZmZmZ+T89CtejcD3yPw==",
          "dtype": "f8"
         }
        },
        {
         "mode": "lines",
         "name": "Segment 59",
         "showlegend": false,
         "type": "scatter",
         "x": [
          "2024-09-14T17:00:00",
          "2024-09-14T19:00:00",
          "2024-09-14T21:00:00",
          "2024-09-14T23:00:00",
          "2024-09-15T01:00:00",
          "2024-09-15T03:00:00",
          "2024-09-15T05:00:00",
          "2024-09-15T07:00:00",
          "2024-09-15T09:00:00",
          "2024-09-15T11:00:00",
          "2024-09-15T13:00:00",
          "2024-09-15T15:00:00",
          "2024-09-15T17:00:00",
          "2024-09-15T19:00:00",
          "2024-09-15T21:00:00",
          "2024-09-15T23:00:00",
          "2024-09-16T01:00:00",
          "2024-09-16T03:00:00",
          "2024-09-16T05:00:00",
          "2024-09-16T07:00:00",
          "2024-09-16T09:00:00",
          "2024-09-16T11:00:00"
         ],
         "y": {
          "bdata": "mpmZmZmZ8T8K16NwPQrvP7gehetRuPo/4XoUrkfh+j/NzMzMzMz8PwrXo3A9CgNAMzMzMzMzAUCkcD0K16MIQAAAAAAAABBACtejcD0K8z9xPQrXo3ARQGZmZmZmZvI/FK5H4XoUBkBxPQrXo3AcQDMzMzMzMxtAexSuR+F6BkAfhetRuB4FQGZmZmZmZv4/CtejcD0KDUAAAAAAAAAgQBSuR+F6FBdAH4XrUbgeEkA=",
          "dtype": "f8"
         }
        },
        {
         "mode": "lines",
         "name": "Segment 60",
         "showlegend": false,
         "type": "scatter",
         "x": [
          "2024-09-16T17:00:00",
          "2024-09-16T19:00:00",
          "2024-09-16T21:00:00",
          "2024-09-16T23:00:00",
          "2024-09-17T01:00:00",
          "2024-09-17T03:00:00",
          "2024-09-17T05:00:00",
          "2024-09-17T07:00:00",
          "2024-09-17T09:00:00",
          "2024-09-17T11:00:00",
          "2024-09-17T13:00:00",
          "2024-09-17T15:00:00",
          "2024-09-17T17:00:00",
          "2024-09-17T19:00:00",
          "2024-09-17T21:00:00",
          "2024-09-17T23:00:00",
          "2024-09-18T03:00:00"
         ],
         "y": {
          "bdata": "pHA9Ctej9D8zMzMzMzP3P4XrUbgehfM/H4XrUbge8T8AAAAAAAD0P1yPwvUoXPM/9ihcj8L19D/sUbgehevxP7gehetRuPI/FK5H4XoU9j8pXI/C9Sj0P2ZmZmZmZvY/j8L1KFyP9j/hehSuR+H6PxSuR+F6FPo/AAAAAAAA9D/Xo3A9CtfzPw==",
          "dtype": "f8"
         }
        },
        {
         "mode": "lines",
         "name": "Segment 61",
         "showlegend": false,
         "type": "scatter",
         "x": [
          "2024-09-19T02:40:00",
          "2024-09-19T03:00:00",
          "2024-09-19T05:00:00",
          "2024-09-19T07:00:00",
          "2024-09-19T09:00:00",
          "2024-09-19T11:00:00",
          "2024-09-19T13:00:00",
          "2024-09-19T15:00:00",
          "2024-09-19T17:00:00",
          "2024-09-19T19:00:00.001000",
          "2024-09-19T21:00:00.001000",
          "2024-09-19T23:00:00.001000",
          "2024-09-20T01:00:00.001000",
          "2024-09-20T03:00:00.001000",
          "2024-09-20T05:00:00.001000",
          "2024-09-20T07:00:00.001000",
          "2024-09-20T09:00:00.001000",
          "2024-09-20T11:40:00.001000"
         ],
         "y": {
          "bdata": "KVyPwvUo9D8UrkfhehQ6QLgehetRODNAcT0K16Nw9T9xPQrXo3DxPx+F61G4HvU/9ihcj8L18D+4HoXrUbgMQArXo3A9CgtAcT0K16Nw9T8pXI/C9SgOQK5H4XoUrvM/7FG4HoXr8T8UrkfhehT+P1K4HoXrUQxAMzMzMzMz8z9cj8L1KFwPQJqZmZmZmf0/",
          "dtype": "f8"
         }
        },
        {
         "mode": "lines",
         "name": "Segment 62",
         "showlegend": false,
         "type": "scatter",
         "x": [
          "2024-09-21T03:00:00.001000",
          "2024-09-21T05:00:00.001000",
          "2024-09-21T07:00:00.001000",
          "2024-09-21T09:00:00.001000",
          "2024-09-21T11:00:00.001000",
          "2024-09-21T13:00:00.001000",
          "2024-09-21T15:00:00.001000",
          "2024-09-21T17:00:00.001000",
          "2024-09-21T19:00:00.001000",
          "2024-09-21T21:00:00.001000",
          "2024-09-21T23:00:00.001000",
          "2024-09-22T01:00:00.001000",
          "2024-09-22T03:00:00.001000",
          "2024-09-22T05:00:00.001000",
          "2024-09-22T07:00:00.001000",
          "2024-09-22T09:00:00.001000",
          "2024-09-22T11:00:00.001000",
          "2024-09-22T13:00:00.001000",
          "2024-09-22T15:00:00.001000",
          "2024-09-22T17:00:00.001000",
          "2024-09-22T19:00:00.001000",
          "2024-09-22T21:00:00.001000",
          "2024-09-23T01:00:00.001000",
          "2024-09-23T03:00:00.001000",
          "2024-09-23T05:00:00.001000",
          "2024-09-23T07:00:00.001000",
          "2024-09-23T09:00:00.001000",
          "2024-09-23T13:00:00.001000",
          "2024-09-23T15:00:00.001000",
          "2024-09-23T17:00:00.001000",
          "2024-09-23T19:00:00.001000",
          "2024-09-23T21:00:00.001000",
          "2024-09-23T23:00:00.001000",
          "2024-09-24T01:00:00.001000",
          "2024-09-24T02:40:00.001000",
          "2024-09-24T03:00:00.001000",
          "2024-09-24T05:00:00.001000",
          "2024-09-24T07:00:00.001000",
          "2024-09-24T09:00:00.001000",
          "2024-09-24T11:00:00.001000",
          "2024-09-24T13:00:00.001000",
          "2024-09-24T15:00:00.001000",
          "2024-09-24T17:00:00.001000",
          "2024-09-24T19:00:00.001000",
          "2024-09-24T21:00:00.001000",
          "2024-09-24T23:00:00.001000",
          "2024-09-25T01:00:00.001000",
          "2024-09-25T02:40:00.001000",
          "2024-09-25T03:00:00.001000",
          "2024-09-25T05:00:00.001000",
          "2024-09-25T07:00:00.001000"
         ],
         "y": {
          "bdata": "CtejcD0K+z9xPQrXo3ADQArXo3A9ChRApHA9CtejBkDXo3A9CtcTQM3MzMzMzAZA4XoUrkfh/j8pXI/C9Sj4P2ZmZmZmZv4/AAAAAAAACkAUrkfhehT6P1yPwvUoXPc/4XoUrkfh9j8zMzMzMzP7Pylcj8L1KPg/AAAAAAAA6D89CtejcD32PwAAAAAAAPA/PQrXo3A99j9SuB6F61HwP8P1KFyPwvE/UrgehetR8D/2KFyPwvUMQHsUrkfhevQ/SOF6FK5HCUDsUbgehesWQK5H4XoUrv8/CtejcD0K8z/NzMzMzMzwP2ZmZmZmZvI/zczMzMzM8D9SuB6F61ECQPYoXI/C9fA/j8L1KFyPFkCamZmZmZkWQB+F61G4nidAcT0K16PwJkAUrkfhehQWQBSuR+F6FBJAcT0K16Nw8T+PwvUoXI/2P3E9CtejcO0/w/UoXI/CCUCamZmZmZn9P1yPwvUoXPc/cT0K16Nw/T8zMzMzMzP/P1yPwvUoXP8/16NwPQrXJUBI4XoUrkcbQMP1KFyPwgtA",
          "dtype": "f8"
         }
        },
        {
         "mode": "lines",
         "name": "Segment 63",
         "showlegend": false,
         "type": "scatter",
         "x": [
          "2024-09-25T15:00:00.001000",
          "2024-09-25T18:40:00.001000",
          "2024-09-25T19:00:00.001000",
          "2024-09-25T21:00:00.001000",
          "2024-09-25T23:00:00.001000",
          "2024-09-26T01:00:00.001000",
          "2024-09-26T03:00:00.001000",
          "2024-09-26T05:00:00.001000",
          "2024-09-26T07:00:00.001000"
         ],
         "y": {
          "bdata": "hetRuB6F8z+uR+F6FK7zPzMzMzMzMx5ArkfhehSuC0CPwvUoXI/6P65H4XoUrvM/MzMzMzMz8z8fhetRuB75Px+F61G4Hv0/",
          "dtype": "f8"
         }
        },
        {
         "mode": "lines",
         "name": "Segment 64",
         "showlegend": false,
         "type": "scatter",
         "x": [
          "2024-09-26T13:00:00.001000",
          "2024-09-26T17:00:00.001000",
          "2024-09-26T19:00:00.001000"
         ],
         "y": {
          "bdata": "zczMzMzM+D9I4XoUrkfxP83MzMzMzAhA",
          "dtype": "f8"
         }
        },
        {
         "mode": "lines",
         "name": "Segment 65",
         "showlegend": false,
         "type": "scatter",
         "x": [
          "2024-09-27T21:00:00.001000",
          "2024-09-27T23:00:00.001000",
          "2024-09-28T01:00:00.001000",
          "2024-09-28T03:00:00.001000",
          "2024-09-28T05:00:00.001000",
          "2024-09-28T09:00:00.001000",
          "2024-09-28T11:00:00.001000",
          "2024-09-28T13:00:00.001000",
          "2024-09-28T15:00:00.001000",
          "2024-09-28T17:00:00.001000",
          "2024-09-28T19:00:00.001000",
          "2024-09-28T21:00:00.001000",
          "2024-09-28T23:00:00.001000",
          "2024-09-29T01:00:00.001000",
          "2024-09-29T03:00:00.001000",
          "2024-09-29T05:00:00.001000",
          "2024-09-29T07:00:00.001000",
          "2024-09-29T09:00:00.001000",
          "2024-09-29T11:00:00.001000",
          "2024-09-29T13:00:00.001000",
          "2024-09-29T15:00:00.001000",
          "2024-09-29T17:00:00.001000",
          "2024-09-29T19:00:00.001000",
          "2024-09-29T21:00:00.001000",
          "2024-09-29T23:00:00.001000",
          "2024-09-30T01:00:00.001000",
          "2024-09-30T03:00:00.001000",
          "2024-09-30T05:00:00.001000",
          "2024-09-30T07:00:00.001000",
          "2024-09-30T09:00:00.001000",
          "2024-09-30T11:00:00.001000",
          "2024-09-30T13:00:00.001000",
          "2024-09-30T17:00:00.001000",
          "2024-09-30T19:00:00.001000",
          "2024-09-30T21:00:00.001000",
          "2024-09-30T23:00:00.001000"
         ],
         "y": {
          "bdata": "UrgehevRKECPwvUoXI8VQArXo3A9CglArkfhehSu7z9xPQrXo3DtP7gehetRuPo/w/UoXI/CAUDXo3A9Ctf/P7gehetRuPY/rkfhehSu8z/NzMzMzMwMQIXrUbgehfc/zczMzMzM+D/Xo3A9CtcDQFyPwvUoXPs/cT0K16NwAUApXI/C9Sj8P1yPwvUoXPc/ZmZmZmZm/j9I4XoUrkcQQIXrUbgehQVASOF6FK5H9T8K16NwPQoQQIXrUbgehQFA16NwPQrX8z+4HoXrUbjyPxSuR+F6FPI/4XoUrkfh+j+PwvUoXI/2P1yPwvUoXPs/MzMzMzMz+z+uR+F6FK73P83MzMzMzPQ/uB6F61G49j+4HoXrUbjyP83MzMzMzPQ/",
          "dtype": "f8"
         }
        },
        {
         "mode": "lines",
         "name": "Segment 66",
         "showlegend": false,
         "type": "scatter",
         "x": [
          "2024-10-01T19:00:00.001000",
          "2024-10-01T21:00:00.001000",
          "2024-10-01T23:00:00.001000",
          "2024-10-02T01:00:00.001000",
          "2024-10-02T03:00:00.001000",
          "2024-10-02T05:00:00.001000",
          "2024-10-02T06:40:00.001000",
          "2024-10-02T07:00:00.001000",
          "2024-10-02T09:00:00.001000",
          "2024-10-02T13:00:00.001000"
         ],
         "y": {
          "bdata": "FK5H4XoU7j+uR+F6FK7nP3sUrkfhevA/MzMzMzMz9z8UrkfhehT6P7gehetRuApAzczMzMzMCkAzMzMzMzMjQI/C9ShcjwRA7FG4HoXr9T8=",
          "dtype": "f8"
         }
        },
        {
         "mode": "lines",
         "name": "Segment 67",
         "showlegend": false,
         "type": "scatter",
         "x": [
          "2024-10-02T21:00:00.001000",
          "2024-10-02T23:00:00.001000",
          "2024-10-03T01:00:00.001000",
          "2024-10-03T03:00:00.001000"
         ],
         "y": {
          "bdata": "4XoUrkfh/j8K16NwPQr7PwAAAAAAAABACtejcD0K/z8=",
          "dtype": "f8"
         }
        },
        {
         "mode": "lines",
         "name": "Segment 68",
         "showlegend": false,
         "type": "scatter",
         "x": [
          "2024-10-04T19:00:00.001000",
          "2024-10-04T21:00:00.001000",
          "2024-10-04T23:00:00.001000",
          "2024-10-05T01:00:00.001000",
          "2024-10-05T03:00:00.001000",
          "2024-10-05T05:00:00.001000",
          "2024-10-05T07:00:00.001000",
          "2024-10-05T09:00:00.001000",
          "2024-10-05T11:00:00.001000",
          "2024-10-05T13:00:00.001000",
          "2024-10-05T15:00:00.001000",
          "2024-10-05T17:00:00.001000",
          "2024-10-05T19:00:00.001000",
          "2024-10-05T21:00:00.001000",
          "2024-10-06T01:00:00.001000",
          "2024-10-06T03:00:00.001000",
          "2024-10-06T05:00:00.001000",
          "2024-10-06T07:00:00.001000",
          "2024-10-06T09:00:00.001000",
          "2024-10-06T13:00:00.001000",
          "2024-10-06T15:00:00.001000",
          "2024-10-06T17:00:00.001000",
          "2024-10-06T19:00:00.001000",
          "2024-10-06T21:00:00.001000",
          "2024-10-06T23:00:00.001000",
          "2024-10-07T01:00:00.001000",
          "2024-10-07T03:00:00.001000",
          "2024-10-07T05:00:00.001000",
          "2024-10-07T06:40:00.001000",
          "2024-10-07T07:00:00.001000",
          "2024-10-07T09:00:00.001000",
          "2024-10-07T11:00:00.001000",
          "2024-10-07T13:00:00.001000",
          "2024-10-07T15:00:00.001000",
          "2024-10-07T17:00:00.001000",
          "2024-10-07T19:00:00.001000",
          "2024-10-07T21:00:00.001000",
          "2024-10-07T23:00:00.001000",
          "2024-10-08T01:00:00.001000",
          "2024-10-08T03:00:00.001000",
          "2024-10-08T05:00:00.001000",
          "2024-10-08T07:00:00.001000",
          "2024-10-08T09:00:00.001000"
         ],
         "y": {
          "bdata": "pHA9CtejAEBcj8L1KFz/PzMzMzMzM/c/PQrXo3A9+j8K16NwPQr7P+xRuB6F6/k/XI/C9Shc8z9xPQrXo3D1P6RwPQrXo/A/SOF6FK5H8T8zMzMzMzPzP4XrUbgehfM/w/UoXI/C+T9SuB6F61H8P1K4HoXrUfg/CtejcD0K9z+4HoXrUbj2P8P1KFyPwvE/9ihcj8L19D9cj8L1KFzzP6RwPQrXo/Q/PQrXo3A9CEDsUbgehesPQB+F61G4HgNA4XoUrkfh/j8K16NwPQoHQFyPwvUoXPM/exSuR+F68D+kcD0K16PwP6RwPQrXoyBAFK5H4XoU8j/Xo3A9CtfrPzMzMzMzM/8/exSuR+F67D8pXI/C9Sj0P2ZmZmZmZu4/XI/C9ShcF0CuR+F6FK73P9ejcD0K1+s/w/UoXI/C8T8zMzMzMzMLQB+F61G4HvU/PQrXo3A9+j8=",
          "dtype": "f8"
         }
        },
        {
         "mode": "lines",
         "name": "Segment 69",
         "showlegend": false,
         "type": "scatter",
         "x": [
          "2024-10-08T17:00:00.001000"
         ],
         "y": {
          "bdata": "j8L1KFyP4j8=",
          "dtype": "f8"
         }
        },
        {
         "mode": "lines",
         "name": "Segment 70",
         "showlegend": false,
         "type": "scatter",
         "x": [
          "2024-10-09T10:40:00.001000",
          "2024-10-09T11:00:00.001000",
          "2024-10-09T13:00:00.001000",
          "2024-10-09T15:00:00.001000",
          "2024-10-09T17:00:00.001000",
          "2024-10-09T19:00:00.001000",
          "2024-10-09T21:00:00.001000",
          "2024-10-09T23:00:00.001000"
         ],
         "y": {
          "bdata": "4XoUrkfh4j9I4XoUrkchQGZmZmZm5iJAH4XrUbgeHEDD9Shcj8L9P9ejcD0K1xVApHA9CtejCEAUrkfhehT+Pw==",
          "dtype": "f8"
         }
        },
        {
         "mode": "lines",
         "name": "Segment 71",
         "showlegend": false,
         "type": "scatter",
         "x": [
          "2024-10-10T17:00:00.001000",
          "2024-10-10T19:00:00.001000",
          "2024-10-10T21:00:00.001000"
         ],
         "y": {
          "bdata": "uB6F61G4CkDNzMzMzMwEQM3MzMzMzAZA",
          "dtype": "f8"
         }
        },
        {
         "mode": "lines",
         "name": "Segment 72",
         "showlegend": false,
         "type": "scatter",
         "x": [
          "2024-10-11T03:00:00.001000",
          "2024-10-11T05:00:00.001000",
          "2024-10-11T07:00:00.001000",
          "2024-10-11T09:00:00.001000",
          "2024-10-11T11:00:00.001000",
          "2024-10-11T13:00:00.001000",
          "2024-10-11T15:00:00.001000",
          "2024-10-11T17:00:00.001000",
          "2024-10-11T19:00:00.001000",
          "2024-10-11T21:00:00.001000",
          "2024-10-11T23:00:00.001000",
          "2024-10-12T01:00:00.001000",
          "2024-10-12T03:00:00.001000",
          "2024-10-12T05:00:00.001000",
          "2024-10-12T07:00:00.001000",
          "2024-10-12T09:00:00.001000",
          "2024-10-12T11:00:00.001000",
          "2024-10-12T13:00:00.001000",
          "2024-10-12T15:00:00.001000",
          "2024-10-12T17:00:00.001000",
          "2024-10-12T19:00:00.001000",
          "2024-10-12T21:00:00.001000",
          "2024-10-12T23:00:00.001000",
          "2024-10-13T01:00:00.001000",
          "2024-10-13T03:00:00.001000",
          "2024-10-13T05:00:00.001000",
          "2024-10-13T07:00:00.001000",
          "2024-10-13T09:00:00.001000",
          "2024-10-13T11:00:00.001000"
         ],
         "y": {
          "bdata": "uB6F61G4AEBmZmZmZmYAQHE9CtejcPk/UrgehetR6D+kcD0K16PoP0jhehSuR+k/mpmZmZmZ6T97FK5H4XrsP/YoXI/C9eg/16NwPQrX6z9xPQrXo3D1P3E9CtejcO0/zczMzMzM8D8zMzMzMzPzP7gehetRuPI/CtejcD0K7z8fhetRuB7tP83MzMzMzOw/exSuR+F68D+4HoXrUbjuP3sUrkfhevA/uB6F61G47j97FK5H4XrsP2ZmZmZmZu4/pHA9Ctej8D/Xo3A9CtfrP+F6FK5H4eo/UrgehetR8D+PwvUoXI/qPw==",
          "dtype": "f8"
         }
        },
        {
         "mode": "lines",
         "name": "Segment 73",
         "showlegend": false,
         "type": "scatter",
         "x": [
          "2024-10-13T17:00:00.001000",
          "2024-10-13T19:00:00.001000",
          "2024-10-13T21:00:00.001000",
          "2024-10-13T23:00:00.001000",
          "2024-10-14T01:00:00.001000",
          "2024-10-14T03:00:00.001000",
          "2024-10-14T05:00:00.001000",
          "2024-10-14T07:00:00.001000",
          "2024-10-14T11:00:00.001000",
          "2024-10-14T13:00:00.001000",
          "2024-10-14T15:00:00.001000",
          "2024-10-14T17:00:00.001000",
          "2024-10-14T19:00:00.001000",
          "2024-10-14T21:00:00.001000",
          "2024-10-15T01:00:00.001000",
          "2024-10-15T05:00:00.001000",
          "2024-10-15T07:00:00.001000",
          "2024-10-15T08:40:00.001000",
          "2024-10-15T09:00:00.001000",
          "2024-10-15T11:00:00.001000",
          "2024-10-15T13:00:00.001000"
         ],
         "y": {
          "bdata": "CtejcD0K9z/sUbgehev1P4XrUbgehfs/SOF6FK5HC0DD9Shcj8L5P1yPwvUoXO8/ZmZmZmZm7j/2KFyPwvXoP+xRuB6F6+k/exSuR+F65D+PwvUoXI/qP+xRuB6F6+k/FK5H4XoUCEA9CtejcD0IQAAAAAAAAAxAFK5H4XoUAECF61G4HoX3P65H4XoUrvc/SOF6FK5HH0C4HoXrUbgzQFyPwvUoXAdA",
          "dtype": "f8"
         }
        },
        {
         "mode": "lines",
         "name": "Segment 74",
         "showlegend": false,
         "type": "scatter",
         "x": [
          "2024-10-15T19:00:00.001000",
          "2024-10-15T21:00:00.001000",
          "2024-10-15T23:00:00.001000",
          "2024-10-16T01:00:00.001000",
          "2024-10-16T03:00:00.001000",
          "2024-10-16T05:00:00.001000"
         ],
         "y": {
          "bdata": "4XoUrkfh9j9cj8L1KFz/P7gehetRuPY/KVyPwvUo8D+PwvUoXI8OQHsUrkfhegpA",
          "dtype": "f8"
         }
        },
        {
         "mode": "lines",
         "name": "Segment 75",
         "showlegend": false,
         "type": "scatter",
         "x": [
          "2024-10-16T11:00:00.001000",
          "2024-10-16T13:00:00.001000",
          "2024-10-16T15:00:00.001000",
          "2024-10-16T17:00:00.001000",
          "2024-10-16T19:00:00.001000",
          "2024-10-16T23:00:00.001000",
          "2024-10-17T01:00:00.001000",
          "2024-10-17T03:00:00.001000",
          "2024-10-17T05:00:00.001000",
          "2024-10-17T07:00:00.001000",
          "2024-10-17T09:00:00.001000",
          "2024-10-17T11:00:00.001000",
          "2024-10-17T13:00:00.001000",
          "2024-10-17T15:00:00.001000",
          "2024-10-17T17:00:00.001000"
         ],
         "y": {
          "bdata": "4XoUrkfh+j8AAAAAAAD4P9ejcD0K1wFA9ihcj8L1BkAAAAAAAAD0PxSuR+F6FAJAexSuR+F68D+uR+F6FK7vP2ZmZmZmZvI/w/UoXI/CB0ApXI/C9SgKQFyPwvUoXPM/pHA9Ctej9D9I4XoUrkf1PwrXo3A9CvM/",
          "dtype": "f8"
         }
        },
        {
         "mode": "lines",
         "name": "Segment 76",
         "showlegend": false,
         "type": "scatter",
         "x": [
          "2024-10-17T23:00:00.001000",
          "2024-10-18T01:00:00.001000",
          "2024-10-18T02:40:00.001000",
          "2024-10-18T03:00:00.001000",
          "2024-10-18T05:00:00.001000",
          "2024-10-18T07:00:00.001000",
          "2024-10-18T09:00:00.001000",
          "2024-10-18T11:00:00.001000",
          "2024-10-18T13:00:00.001000"
         ],
         "y": {
          "bdata": "16NwPQrX6z/2KFyPwvXwPx+F61G4HvE/16NwPQrXHUCuR+F6FK4VQKRwPQrXIyZAH4XrUbgeFUApXI/C9SjwP5qZmZmZmfE/",
          "dtype": "f8"
         }
        },
        {
         "mode": "lines",
         "name": "Segment 77",
         "showlegend": false,
         "type": "scatter",
         "x": [
          "2024-10-19T01:00:00.001000",
          "2024-10-19T03:00:00.001000",
          "2024-10-19T05:00:00.001000"
         ],
         "y": {
          "bdata": "16NwPQrXGUDsUbgehevxP8P1KFyPwvE/",
          "dtype": "f8"
         }
        },
        {
         "mode": "lines",
         "name": "Segment 78",
         "showlegend": false,
         "type": "scatter",
         "x": [
          "2024-10-19T15:00:00.001000",
          "2024-10-19T17:00:00.001000",
          "2024-10-19T19:00:00.001000",
          "2024-10-19T21:00:00.001000",
          "2024-10-19T23:00:00.001000",
          "2024-10-20T01:00:00.001000",
          "2024-10-20T03:00:00.001000",
          "2024-10-20T05:00:00.001000",
          "2024-10-20T07:00:00.001000",
          "2024-10-20T08:40:00.001000",
          "2024-10-20T09:00:00.001000",
          "2024-10-20T11:00:00.001000",
          "2024-10-20T13:00:00.001000",
          "2024-10-20T15:00:00.001000",
          "2024-10-20T17:00:00.001000",
          "2024-10-20T21:00:00.001000",
          "2024-10-20T23:00:00.001000",
          "2024-10-21T01:00:00.001000"
         ],
         "y": {
          "bdata": "H4XrUbge9T/2KFyPwvXwP9ejcD0K1/M/ZmZmZmZmG0CF61G4HoUSQPYoXI/C9RFA16NwPQpXK0BmZmZmZmbyP4/C9Shcj/o/uB6F61G4+j+kcD0K16MnQMP1KFyPwgNAKVyPwvUoFUBmZmZmZmbyP7gehetRuPY/SOF6FK5H9T/Xo3A9CtfzP3sUrkfhegJA",
          "dtype": "f8"
         }
        },
        {
         "mode": "lines",
         "name": "Segment 79",
         "showlegend": false,
         "type": "scatter",
         "x": [
          "2024-10-21T10:40:00.001000",
          "2024-10-21T11:00:00.001000"
         ],
         "y": {
          "bdata": "pHA9CtejAkDXo3A9Chc1QA==",
          "dtype": "f8"
         }
        },
        {
         "mode": "lines",
         "name": "Segment 80",
         "showlegend": false,
         "type": "scatter",
         "x": [
          "2024-11-14T11:00:00.001000",
          "2024-11-14T15:00:00.001000",
          "2024-11-14T17:00:00.001000",
          "2024-11-14T19:00:00.001000",
          "2024-11-14T21:00:00.001000",
          "2024-11-14T23:00:00.001000"
         ],
         "y": {
          "bdata": "cT0K16Nw7T/D9Shcj8LxP3E9CtejcO0/w/UoXI/C8T+kcD0K16PoP5qZmZmZmek/",
          "dtype": "f8"
         }
        },
        {
         "mode": "lines",
         "name": "Segment 81",
         "showlegend": false,
         "type": "scatter",
         "x": [
          "2024-11-15T13:00:00.001000",
          "2024-11-15T15:00:00.001000",
          "2024-11-15T17:00:00.001000",
          "2024-11-15T19:00:00.001000",
          "2024-11-15T21:00:00.001000",
          "2024-11-15T23:00:00.001000",
          "2024-11-16T01:00:00.001000",
          "2024-11-16T03:00:00.001000",
          "2024-11-16T05:00:00.001000",
          "2024-11-16T07:00:00.001000"
         ],
         "y": {
          "bdata": "KVyPwvUo9D9mZmZmZmYAQAAAAAAAAAJAcT0K16Nw8T8fhetRuB75P+F6FK5H4fI/16NwPQrXAUBI4XoUrkcJQGZmZmZmZvI/9ihcj8L1+D8=",
          "dtype": "f8"
         }
        },
        {
         "mode": "lines",
         "name": "Segment 82",
         "showlegend": false,
         "type": "scatter",
         "x": [
          "2024-11-16T13:00:00.001000",
          "2024-11-16T17:00:00.001000",
          "2024-11-16T19:00:00.001000",
          "2024-11-16T21:00:00.001000",
          "2024-11-16T23:00:00.001000",
          "2024-11-17T01:00:00.001000",
          "2024-11-17T03:00:00.001000",
          "2024-11-17T07:00:00.001000",
          "2024-11-17T09:00:00.001000",
          "2024-11-17T11:00:00.001000",
          "2024-11-17T13:00:00.001000",
          "2024-11-17T15:00:00.001000",
          "2024-11-17T17:00:00.001000",
          "2024-11-17T19:00:00.001000",
          "2024-11-17T21:00:00.001000",
          "2024-11-17T23:00:00.001000",
          "2024-11-18T01:00:00.001000",
          "2024-11-18T03:00:00.001000",
          "2024-11-18T05:00:00.001000",
          "2024-11-18T07:00:00.001000",
          "2024-11-18T09:00:00.001000",
          "2024-11-18T11:00:00.001000"
         ],
         "y": {
          "bdata": "AAAAAAAA/D/hehSuR+HyP7gehetRuO4/zczMzMzM+D+kcD0K16MGQEjhehSuRxBA16NwPQrX+z8fhetRuB7xPwAAAAAAAPA/rkfhehSu7z/D9Shcj8L5Pylcj8L1KPw/CtejcD0K+z9SuB6F61HwP4XrUbgehes/AAAAAAAAAkD2KFyPwvUEQHE9CtejcPU/cT0K16NwE0CamZmZmZnpP6RwPQrXo/g/PQrXo3A9+j8=",
          "dtype": "f8"
         }
        },
        {
         "mode": "lines",
         "name": "Segment 83",
         "showlegend": false,
         "type": "scatter",
         "x": [
          "2024-11-19T05:00:00.001000",
          "2024-11-19T06:40:00.001000",
          "2024-11-19T07:00:00.001000"
         ],
         "y": {
          "bdata": "MzMzMzMzB0BI4XoUrkcHQArXo3A9CitA",
          "dtype": "f8"
         }
        },
        {
         "mode": "lines",
         "name": "Segment 84",
         "showlegend": false,
         "type": "scatter",
         "x": [
          "2024-11-19T13:00:00.001000"
         ],
         "y": {
          "bdata": "j8L1KFyP+j8=",
          "dtype": "f8"
         }
        },
        {
         "mode": "lines",
         "name": "Segment 85",
         "showlegend": false,
         "type": "scatter",
         "x": [
          "2024-11-20T19:00:00.001000",
          "2024-11-20T21:00:00.001000",
          "2024-11-20T23:00:00.001000",
          "2024-11-21T01:00:00.001000",
          "2024-11-21T03:00:00.001000",
          "2024-11-21T05:00:00.001000"
         ],
         "y": {
          "bdata": "zczMzMzMAkBcj8L1KFwQQOF6FK5H4QJA16NwPQrX+z/hehSuR+EIQK5H4XoUrgFA",
          "dtype": "f8"
         }
        },
        {
         "mode": "lines",
         "name": "Segment 86",
         "showlegend": false,
         "type": "scatter",
         "x": [
          "2024-11-22T01:00:00.001000",
          "2024-11-22T03:00:00.001000",
          "2024-11-22T05:00:00.001000",
          "2024-11-22T07:00:00.001000",
          "2024-11-22T09:00:00.001000",
          "2024-11-22T11:00:00.001000",
          "2024-11-22T13:00:00.001000"
         ],
         "y": {
          "bdata": "AAAAAAAA9D+uR+F6FK73P83MzMzMzBZArkfhehQuLUCuR+F6FK7/Pz0K16NwPQZArkfhehSu9z8=",
          "dtype": "f8"
         }
        },
        {
         "mode": "lines",
         "name": "Segment 87",
         "showlegend": false,
         "type": "scatter",
         "x": [
          "2024-11-23T05:00:00.001000",
          "2024-11-23T07:00:00.001000",
          "2024-11-23T09:00:00.001000",
          "2024-11-23T13:00:00.001000",
          "2024-11-23T15:00:00.001000",
          "2024-11-23T17:00:00.001000",
          "2024-11-23T19:00:00.001000",
          "2024-11-23T21:00:00.001000",
          "2024-11-23T23:00:00.001000",
          "2024-11-24T01:00:00.001000",
          "2024-11-24T03:00:00.001000",
          "2024-11-24T05:00:00.001000",
          "2024-11-24T07:00:00.001000",
          "2024-11-24T09:00:00.001000",
          "2024-11-24T11:00:00.001000",
          "2024-11-24T13:00:00.001000",
          "2024-11-24T15:00:00.001000",
          "2024-11-24T17:00:00.001000",
          "2024-11-24T19:00:00.001000",
          "2024-11-24T21:00:00.001000",
          "2024-11-24T23:00:00.001000",
          "2024-11-25T01:00:00.001000",
          "2024-11-25T03:00:00.001000",
          "2024-11-25T05:00:00.001000",
          "2024-11-25T07:00:00.001000",
          "2024-11-25T09:00:00.001000",
          "2024-11-25T11:00:00.001000",
          "2024-11-25T13:00:00.001000",
          "2024-11-25T15:00:00.001000",
          "2024-11-25T17:00:00.001000",
          "2024-11-25T19:00:00.001000",
          "2024-11-25T21:00:00.001000",
          "2024-11-25T23:00:00.001000",
          "2024-11-26T01:00:00.001000",
          "2024-11-26T03:00:00.001000",
          "2024-11-26T05:00:00.001000",
          "2024-11-26T07:00:00.001000",
          "2024-11-26T09:00:00.001000",
          "2024-11-26T11:00:00.001000",
          "2024-11-26T13:00:00.001000",
          "2024-11-26T15:00:00.001000",
          "2024-11-26T17:00:00.001000",
          "2024-11-26T19:00:00.001000",
          "2024-11-26T21:00:00.001000",
          "2024-11-26T23:00:00.001000",
          "2024-11-27T01:00:00.001000",
          "2024-11-27T03:00:00.001000",
          "2024-11-27T05:00:00.001000",
          "2024-11-27T07:00:00.001000",
          "2024-11-27T09:00:00.001000",
          "2024-11-27T11:00:00.001000",
          "2024-11-27T13:00:00.001000",
          "2024-11-27T15:00:00.001000"
         ],
         "y": {
          "bdata": "hetRuB6F9z9SuB6F61HoP+xRuB6F6/E/w/UoXI/CCUBmZmZmZmYAQMP1KFyPwg9ArkfhehSuAUCF61G4HoXzP4/C9Shcj/Y/zczMzMzM9D8AAAAAAAACQHE9CtejcAtAUrgehetR9D9mZmZmZmYCQBSuR+F6FPo/MzMzMzMzHUAfhetRuB7xPwAAAAAAAOg/7FG4HoXr6T9cj8L1KFz/P9ejcD0K1x1AcT0K16NwAUBI4XoUrkcJQEjhehSuR/0/7FG4HoXr+T8UrkfhehT+P7gehetRuApAuB6F61G4EUDXo3A9CtfrP+F6FK5H4eo/FK5H4XoU5j+4HoXrUbjmPxSuR+F6FOY/zczMzMzM8D/sUbgehev1P65H4XoUru8/hetRuB6F6z9I4XoUrkfxP7gehetRuP4/mpmZmZmZE0CF61G4HoX7P0jhehSuR+k/KVyPwvUo7D/D9Shcj8LxP4/C9ShcjwBACtejcD0K5z+kcD0K16PoPzMzMzMzM+s/exSuR+F67D/hehSuR+HqP4XrUbgehes/XI/C9Shc9z9cj8L1KFwBQA==",
          "dtype": "f8"
         }
        },
        {
         "mode": "lines",
         "name": "Segment 88",
         "showlegend": false,
         "type": "scatter",
         "x": [
          "2024-11-27T21:00:00.001000",
          "2024-11-27T23:00:00.001000",
          "2024-11-28T01:00:00.001000",
          "2024-11-28T05:00:00.001000",
          "2024-11-28T07:00:00.001000",
          "2024-11-28T09:00:00.001000",
          "2024-11-28T11:00:00.001000",
          "2024-11-28T13:00:00.001000",
          "2024-11-28T15:00:00.001000",
          "2024-11-28T17:00:00.001000",
          "2024-11-28T19:00:00.001000",
          "2024-11-28T21:00:00.001000",
          "2024-11-28T23:00:00.001000",
          "2024-11-29T01:00:00.001000",
          "2024-11-29T03:00:00.001000"
         ],
         "y": {
          "bdata": "9ihcj8L18D+PwvUoXI8AQIXrUbgehQFAPQrXo3A96j9SuB6F61HwP3sUrkfhevQ/SOF6FK5H8T+uR+F6FK77P5qZmZmZmf0/uB6F61G4AkA9CtejcD0IQKRwPQrXowBAPQrXo3A96j+PwvUoXI/qP1K4HoXrUeg/",
          "dtype": "f8"
         }
        },
        {
         "mode": "lines",
         "name": "Segment 89",
         "showlegend": false,
         "type": "scatter",
         "x": [
          "2024-11-29T09:00:00.001000",
          "2024-11-29T11:00:00.001000",
          "2024-11-29T13:00:00.001000"
         ],
         "y": {
          "bdata": "mpmZmZmZ8T/NzMzMzMzsP4/C9Shcj/I/",
          "dtype": "f8"
         }
        },
        {
         "mode": "lines",
         "name": "Segment 90",
         "showlegend": false,
         "type": "scatter",
         "x": [
          "2024-12-04T07:00:00.001000",
          "2024-12-04T09:00:00.001000",
          "2024-12-04T11:00:00.001000",
          "2024-12-04T14:40:00.001000",
          "2024-12-04T15:00:00.001000",
          "2024-12-04T17:00:00.001000",
          "2024-12-04T19:00:00.001000",
          "2024-12-04T21:00:00.001000"
         ],
         "y": {
          "bdata": "KVyPwvUo9D8fhetRuB71P6RwPQrXo/Q/zczMzMzM9D+PwvUoXA8hQEjhehSuR/E/w/UoXI/C+T/D9Shcj8LxPw==",
          "dtype": "f8"
         }
        },
        {
         "mode": "lines",
         "name": "Segment 91",
         "showlegend": false,
         "type": "scatter",
         "x": [
          "2024-12-05T07:00:00.001000",
          "2024-12-05T09:00:00.001000",
          "2024-12-05T11:00:00.001000"
         ],
         "y": {
          "bdata": "cT0K16NwA0CamZmZmZn1P65H4XoUru8/",
          "dtype": "f8"
         }
        },
        {
         "mode": "lines",
         "name": "Segment 92",
         "showlegend": false,
         "type": "scatter",
         "x": [
          "2024-12-05T23:00:00.001000",
          "2024-12-06T01:00:00.001000"
         ],
         "y": {
          "bdata": "zczMzMzM+D8fhetRuB4WQA==",
          "dtype": "f8"
         }
        },
        {
         "mode": "lines",
         "name": "Segment 93",
         "showlegend": false,
         "type": "scatter",
         "x": [
          "2024-12-06T07:00:00.001000",
          "2024-12-06T09:00:00.001000",
          "2024-12-06T11:00:00.001000",
          "2024-12-06T13:00:00.001000",
          "2024-12-06T15:00:00.001000",
          "2024-12-06T19:00:00.001000",
          "2024-12-06T21:00:00.001000",
          "2024-12-06T23:00:00.001000",
          "2024-12-07T01:00:00.001000",
          "2024-12-07T03:00:00.001000",
          "2024-12-07T05:00:00.001000",
          "2024-12-07T07:00:00.001000",
          "2024-12-07T09:00:00.001000",
          "2024-12-07T11:00:00.001000",
          "2024-12-07T13:00:00.001000",
          "2024-12-07T15:00:00.001000",
          "2024-12-07T17:00:00.001000",
          "2024-12-07T19:00:00.001000",
          "2024-12-07T21:00:00.001000",
          "2024-12-07T23:00:00.001000",
          "2024-12-08T01:00:00.001000",
          "2024-12-08T03:00:00.001000",
          "2024-12-08T05:00:00.001000",
          "2024-12-08T07:00:00.001000",
          "2024-12-08T09:00:00.001000",
          "2024-12-08T11:40:00.001000",
          "2024-12-08T15:00:00.001000",
          "2024-12-08T17:00:00.001000",
          "2024-12-08T19:00:00.001000",
          "2024-12-08T21:00:00.001000",
          "2024-12-08T23:00:00.001000",
          "2024-12-09T01:00:00.001000",
          "2024-12-09T03:00:00.001000",
          "2024-12-09T05:00:00.001000",
          "2024-12-09T07:00:00.001000",
          "2024-12-09T09:00:00.001000",
          "2024-12-09T11:00:00.001000",
          "2024-12-09T13:00:00.001000",
          "2024-12-09T15:00:00.001000",
          "2024-12-09T17:00:00.001000",
          "2024-12-09T19:00:00.001000",
          "2024-12-09T21:00:00.001000",
          "2024-12-09T23:00:00.001000",
          "2024-12-10T01:00:00.001000",
          "2024-12-10T03:00:00.001000",
          "2024-12-10T05:00:00.001000",
          "2024-12-10T07:00:00.001000",
          "2024-12-10T09:00:00.001000",
          "2024-12-10T11:00:00.001000",
          "2024-12-10T13:00:00.001000",
          "2024-12-10T15:00:00.001000",
          "2024-12-10T17:00:00.001000",
          "2024-12-10T19:00:00.001000",
          "2024-12-10T21:00:00.001000",
          "2024-12-10T23:00:00.001000",
          "2024-12-11T03:00:00.001000",
          "2024-12-11T05:00:00.001000",
          "2024-12-11T07:00:00.001000",
          "2024-12-11T09:00:00.001000",
          "2024-12-11T11:00:00.001000",
          "2024-12-11T13:00:00.001000",
          "2024-12-11T17:00:00.001000",
          "2024-12-11T19:00:00.001000",
          "2024-12-11T21:00:00.001000",
          "2024-12-12T01:00:00.001000",
          "2024-12-12T03:00:00.001000",
          "2024-12-12T05:00:00.001000",
          "2024-12-12T07:00:00.001000",
          "2024-12-12T09:00:00.001000",
          "2024-12-12T11:00:00.001000",
          "2024-12-12T13:00:00.001000"
         ],
         "y": {
          "bdata": "pHA9CtcjIECkcD0K16P4P3E9CtejcANAzczMzMzMCkDXo3A9Ctf/P3E9CtejcBNAZmZmZmZm7j+kcD0K16P0P5qZmZmZmfU/KVyPwvUo+D+uR+F6FK7/P+F6FK5H4fI/16NwPQrX+z/hehSuR+ECQB+F61G4HgFAXI/C9Shc+z8K16NwPQrvP65H4XoUrv8/CtejcD0K7z/hehSuR+HqP0jhehSuR+k/9ihcj8L18D+uR+F6FK7vP+F6FK5H4QBArkfhehSuAUCkcD0K16MEQIXrUbgehf8/mpmZmZmZA0CkcD0K16MAQI/C9ShcjwBA4XoUrkfh/j8pXI/C9Sj4P65H4XoUrvM/hetRuB6F6z9mZmZmZmbyP2ZmZmZmZgRAcT0K16NwDUApXI/C9SgCQB+F61G4HgdAmpmZmZmZ6T+amZmZmZn1P7gehetRuPY/CtejcD0KAUAAAAAAAAD4P65H4XoUrgFAPQrXo3A98j9cj8L1KFwBQB+F61G4Hv0/PQrXo3A9GUB7FK5H4XrwP3E9CtejcO0/w/UoXI/C+T8fhetRuB79PwrXo3A9CvM/rkfhehSu+z8UrkfhehT2P3E9CtejcAFAXI/C9Shc8z/hehSuR+H2P6RwPQrXo/Q/PQrXo3A9FkDhehSuR+H6PwAAAAAAAPA/cT0K16Nw8T+F61G4HoX3PzMzMzMzM/c/pHA9Ctej+D8fhetRuB71P65H4XoUrvs/CtejcD0KFUAfhetRuB79Pw==",
          "dtype": "f8"
         }
        },
        {
         "mode": "lines",
         "name": "Segment 94",
         "showlegend": false,
         "type": "scatter",
         "x": [
          "2024-12-12T21:00:00.001000",
          "2024-12-12T23:00:00.001000",
          "2024-12-13T01:00:00.001000",
          "2024-12-13T03:00:00.001000",
          "2024-12-13T05:00:00.001000",
          "2024-12-13T07:00:00.001000",
          "2024-12-13T09:00:00.001000",
          "2024-12-13T11:00:00.001000",
          "2024-12-13T13:00:00.001000",
          "2024-12-13T15:00:00.001000",
          "2024-12-13T17:00:00.001000",
          "2024-12-13T19:00:00.001000",
          "2024-12-13T23:00:00.001000",
          "2024-12-14T01:00:00.001000",
          "2024-12-14T03:00:00.001000",
          "2024-12-14T05:00:00.001000",
          "2024-12-14T07:00:00.001000",
          "2024-12-14T09:00:00.001000",
          "2024-12-14T11:00:00.001000",
          "2024-12-14T13:00:00.001000",
          "2024-12-14T15:00:00.001000",
          "2024-12-14T17:00:00.001000"
         ],
         "y": {
          "bdata": "XI/C9ShcHUBmZmZmZmYGQM3MzMzMzBVAH4XrUbge+T8AAAAAAAAGQJqZmZmZmfk/H4XrUbge8T8UrkfhehTmP9ejcD0K1+M/KVyPwvUo9D9SuB6F61HoP3E9CtejcPk/j8L1KFyPCEBcj8L1KFz3P6RwPQrXoxBAMzMzMzMz8z97FK5H4Xr4Pz0K16NwPQBAXI/C9Shc/z9mZmZmZmYOQHE9CtejcBFAuB6F61G4BEA=",
          "dtype": "f8"
         }
        },
        {
         "mode": "lines",
         "name": "Segment 95",
         "showlegend": false,
         "type": "scatter",
         "x": [
          "2024-12-14T23:00:00.001000",
          "2024-12-15T00:40:00.001000",
          "2024-12-15T01:00:00.001000",
          "2024-12-15T03:00:00.001000",
          "2024-12-15T05:00:00.001000",
          "2024-12-15T07:00:00.001000",
          "2024-12-15T09:00:00.001000",
          "2024-12-15T11:00:00.001000",
          "2024-12-15T13:00:00.001000",
          "2024-12-15T15:00:00.001000",
          "2024-12-15T17:00:00.001000",
          "2024-12-15T19:00:00.001000",
          "2024-12-15T21:00:00.001000",
          "2024-12-15T22:40:00.001000",
          "2024-12-15T23:00:00.001000",
          "2024-12-16T01:00:00.001000",
          "2024-12-16T03:00:00.001000",
          "2024-12-16T05:00:00.001000",
          "2024-12-16T07:00:00.001000",
          "2024-12-16T09:00:00.001000",
          "2024-12-16T11:00:00.001000",
          "2024-12-16T13:00:00.001000",
          "2024-12-16T15:00:00.001000",
          "2024-12-16T17:00:00.001000",
          "2024-12-16T19:00:00.001000",
          "2024-12-16T21:00:00.001000",
          "2024-12-16T23:00:00.001000",
          "2024-12-17T01:00:00.001000",
          "2024-12-17T03:00:00.001000",
          "2024-12-17T05:00:00.001000",
          "2024-12-17T07:00:00.001000",
          "2024-12-17T09:00:00.001000",
          "2024-12-17T11:00:00.001000",
          "2024-12-17T13:00:00.001000",
          "2024-12-17T15:00:00.001000",
          "2024-12-17T17:00:00.001000",
          "2024-12-17T19:00:00.001000"
         ],
         "y": {
          "bdata": "rkfhehSuAUDD9Shcj8IBQGZmZmZmZihAhetRuB6FD0Bcj8L1KFwFQNejcD0K1/s/H4XrUbge+T8AAAAAAAD4PxSuR+F6FO4/9ihcj8L18D8K16NwPQr3P8P1KFyPwvk/CtejcD0K7z9cj8L1KFzvP7gehetRuCBApHA9CtcjIkDD9Shcj8IJQK5H4XoUrvs/SOF6FK5H+T8K16NwPQr3P8P1KFyPwgFAexSuR+F6+D/2KFyPwvUEQD0K16NwPQBAcT0K16NwAUAzMzMzMzP7PwAAAAAAAPg/16NwPQrXAUBI4XoUrkcNQGZmZmZmZhtAj8L1KFyPBkCPwvUoXI/+P8P1KFyPwu0/mpmZmZmZ8T8UrkfhehQAQLgehetRuP4/exSuR+F65D8=",
          "dtype": "f8"
         }
        },
        {
         "mode": "lines",
         "name": "Segment 96",
         "showlegend": false,
         "type": "scatter",
         "x": [
          "2024-12-20T12:40:00.001000"
         ],
         "y": {
          "bdata": "mpmZmZmZ8T8=",
          "dtype": "f8"
         }
        },
        {
         "mode": "lines",
         "name": "Segment 97",
         "showlegend": false,
         "type": "scatter",
         "x": [
          "2024-12-20T17:00:00.001000"
         ],
         "y": {
          "bdata": "cT0K16Nw7T8=",
          "dtype": "f8"
         }
        },
        {
         "mode": "lines",
         "name": "Segment 98",
         "showlegend": false,
         "type": "scatter",
         "x": [
          "2024-12-20T22:40:00.001000"
         ],
         "y": {
          "bdata": "UrgehetR8D8=",
          "dtype": "f8"
         }
        },
        {
         "mode": "lines",
         "name": "Segment 99",
         "showlegend": false,
         "type": "scatter",
         "x": [
          "2024-12-21T05:00:00.001000",
          "2024-12-21T07:00:00.001000",
          "2024-12-21T09:00:00.001000",
          "2024-12-21T11:00:00.001000",
          "2024-12-21T13:00:00.001000",
          "2024-12-21T15:00:00.001000",
          "2024-12-21T17:00:00.001000",
          "2024-12-21T19:00:00.001000",
          "2024-12-21T21:00:00.001000",
          "2024-12-21T23:00:00.001000",
          "2024-12-22T01:00:00.001000",
          "2024-12-22T03:00:00.001000",
          "2024-12-22T05:00:00.001000",
          "2024-12-22T07:00:00.001000",
          "2024-12-22T09:00:00.001000",
          "2024-12-22T11:00:00.001000",
          "2024-12-22T13:00:00.001000",
          "2024-12-22T15:00:00.001000",
          "2024-12-22T17:00:00.001000",
          "2024-12-22T19:00:00.001000",
          "2024-12-22T21:00:00.001000",
          "2024-12-22T23:00:00.001000",
          "2024-12-23T01:00:00.001000",
          "2024-12-23T03:00:00.001000",
          "2024-12-23T05:00:00.001000",
          "2024-12-23T07:00:00.001000",
          "2024-12-23T09:00:00.001000",
          "2024-12-23T11:00:00.001000",
          "2024-12-23T13:00:00.001000",
          "2024-12-23T17:00:00.001000",
          "2024-12-23T19:00:00.001000",
          "2024-12-23T21:00:00.001000",
          "2024-12-23T22:40:00.001000",
          "2024-12-23T23:00:00.001000",
          "2024-12-24T01:00:00.001000",
          "2024-12-24T03:00:00.001000",
          "2024-12-24T05:00:00.001000",
          "2024-12-24T07:00:00.001000",
          "2024-12-24T09:00:00.001000",
          "2024-12-24T11:00:00.001000",
          "2024-12-24T13:00:00.001000",
          "2024-12-24T15:00:00.001000",
          "2024-12-24T17:00:00.001000",
          "2024-12-24T19:00:00.001000",
          "2024-12-24T23:00:00.001000",
          "2024-12-25T01:00:00.001000",
          "2024-12-25T03:00:00.001000",
          "2024-12-25T05:00:00.001000",
          "2024-12-25T09:00:00.001000",
          "2024-12-25T11:00:00.001000",
          "2024-12-25T13:00:00.001000",
          "2024-12-25T15:00:00.001000",
          "2024-12-25T17:00:00.001000",
          "2024-12-25T19:00:00.001000",
          "2024-12-25T21:00:00.001000",
          "2024-12-25T23:00:00.001000",
          "2024-12-26T01:00:00.001000",
          "2024-12-26T03:00:00.001000",
          "2024-12-26T05:00:00.001000",
          "2024-12-26T07:00:00.001000",
          "2024-12-26T09:00:00.001000",
          "2024-12-26T11:00:00.001000",
          "2024-12-26T13:00:00.001000",
          "2024-12-26T15:00:00.001000",
          "2024-12-26T17:00:00.001000",
          "2024-12-26T19:00:00.001000"
         ],
         "y": {
          "bdata": "ZmZmZmZmFEDNzMzMzMz8P4/C9ShcjxBACtejcD0KB0AK16NwPQoFQK5H4XoUru8/UrgehetR8D9I4XoUrkfpP83MzMzMzOw/ZmZmZmZm7j/hehSuR+HqP1K4HoXrUeg/SOF6FK5H6T9cj8L1KFznP2ZmZmZmZvo/j8L1KFyP6j/NzMzMzMzsP2ZmZmZmZvY/H4XrUbge7T+kcD0K16P4P1yPwvUoXPc/w/UoXI/C7T9xPQrXo3DxP2ZmZmZmZu4/7FG4HoXr6T+amZmZmZnpP3sUrkfhevQ/mpmZmZmZ6T/D9Shcj8LtP3sUrkfh+iRAFK5H4XoUFEBcj8L1KFwNQHE9CtejcA1Aj8L1KFzPM0BmZmZmZmYhQDMzMzMzsyJAXI/C9ShcE0AAAAAAAAD4P7gehetRuPI/pHA9Ctej9D/sUbgehevxP/YoXI/C9eg/SOF6FK5H6T9mZmZmZmbuPx+F61G4HvU/pHA9Ctej8D/NzMzMzMzwPx+F61G4HvE/4XoUrkfh+j+amZmZmZn9P2ZmZmZmZhRAhetRuB6FCUAzMzMzMzP3P4XrUbgehes/mpmZmZmZBUDD9Shcj8L1P+F6FK5H4fI/ZmZmZmZm/j+amZmZmZkBQMP1KFyPwvU/UrgehetR9D+F61G4HoX3P7gehetRuPo/FK5H4XoU7j8pXI/C9SjsP+F6FK5H4eo/",
          "dtype": "f8"
         }
        },
        {
         "mode": "lines",
         "name": "Segment 100",
         "showlegend": false,
         "type": "scatter",
         "x": [
          "2024-12-27T22:40:00.001000",
          "2024-12-27T23:00:00.001000",
          "2024-12-28T01:00:00.001000",
          "2024-12-28T03:00:00.001000",
          "2024-12-28T05:00:00.002000",
          "2024-12-28T07:00:00.002000",
          "2024-12-28T09:00:00.002000",
          "2024-12-28T11:00:00.002000",
          "2024-12-28T13:00:00.002000",
          "2024-12-28T15:00:00.002000",
          "2024-12-28T17:00:00.002000",
          "2024-12-28T19:00:00.002000",
          "2024-12-28T21:00:00.002000",
          "2024-12-28T23:00:00.002000",
          "2024-12-29T01:00:00.002000",
          "2024-12-29T03:00:00.002000",
          "2024-12-29T05:00:00.002000",
          "2024-12-29T07:00:00.002000",
          "2024-12-29T09:00:00.002000"
         ],
         "y": {
          "bdata": "MzMzMzMz6z9SuB6F69EnQK5H4XoUrgNAhetRuB6F/z97FK5H4Xr4P/YoXI/C9fA/7FG4HoXr9T9cj8L1KFzzPwAAAAAAAPA/7FG4HoXr6T8AAAAAAAD0P7gehetRuOY/hetRuB6F4z8pXI/C9SjkP9ejcD0K1+s/cT0K16Nw7T9I4XoUrkfpP1K4HoXrUeg/MzMzMzMz6z8=",
          "dtype": "f8"
         }
        },
        {
         "mode": "lines",
         "name": "Segment 101",
         "showlegend": false,
         "type": "scatter",
         "x": [
          "2024-12-29T23:00:00.002000",
          "2024-12-30T01:00:00.002000",
          "2024-12-30T05:00:00.002000",
          "2024-12-30T07:00:00.002000",
          "2024-12-30T09:00:00.002000",
          "2024-12-30T11:00:00.002000",
          "2024-12-30T13:00:00.002000",
          "2024-12-30T15:00:00.002000",
          "2024-12-30T17:00:00.002000",
          "2024-12-30T19:00:00.002000",
          "2024-12-30T21:00:00.002000",
          "2024-12-30T23:00:00.002000",
          "2024-12-31T01:00:00.002000"
         ],
         "y": {
          "bdata": "FK5H4XoU/j8UrkfhehTyP4XrUbgehfs/zczMzMzM8D9xPQrXo3DtP7gehetRuOY/H4XrUbge5T9I4XoUrkfxP9ejcD0K1/8/16NwPQrX+z89CtejcD3qP/YoXI/C9fA/mpmZmZmZ8T8=",
          "dtype": "f8"
         }
        },
        {
         "mode": "lines",
         "name": "Segment 102",
         "showlegend": false,
         "type": "scatter",
         "x": [
          "2025-01-01T03:00:00.002000",
          "2025-01-01T05:00:00.002000",
          "2025-01-01T07:00:00.002000",
          "2025-01-01T09:00:00.002000",
          "2025-01-01T11:00:00.002000",
          "2025-01-01T13:00:00.002000",
          "2025-01-01T15:00:00.002000",
          "2025-01-01T16:40:00.002000",
          "2025-01-01T17:00:00.002000",
          "2025-01-01T19:00:00.002000",
          "2025-01-01T21:00:00.002000",
          "2025-01-01T23:00:00.002000",
          "2025-01-02T01:00:00.002000",
          "2025-01-02T03:00:00.002000",
          "2025-01-02T05:00:00.002000",
          "2025-01-02T07:00:00.002000",
          "2025-01-02T09:00:00.002000",
          "2025-01-02T11:00:00.002000",
          "2025-01-02T13:00:00.002000",
          "2025-01-02T15:00:00.002000",
          "2025-01-02T17:00:00.002000",
          "2025-01-02T19:00:00.002000",
          "2025-01-02T21:00:00.002000",
          "2025-01-02T23:00:00.002000",
          "2025-01-03T01:00:00.002000",
          "2025-01-03T02:40:00.002000",
          "2025-01-03T03:00:00.002000",
          "2025-01-03T05:00:00.002000",
          "2025-01-03T07:00:00.002000",
          "2025-01-03T09:00:00.002000",
          "2025-01-03T11:00:00.002000",
          "2025-01-03T15:00:00.002000",
          "2025-01-03T17:00:00.002000",
          "2025-01-03T19:00:00.002000",
          "2025-01-03T21:00:00.002000",
          "2025-01-03T23:00:00.002000",
          "2025-01-04T01:00:00.002000",
          "2025-01-04T03:00:00.002000",
          "2025-01-04T04:40:00.002000",
          "2025-01-04T05:00:00.002000",
          "2025-01-04T07:00:00.002000",
          "2025-01-04T09:00:00.002000",
          "2025-01-04T11:00:00.002000",
          "2025-01-04T13:00:00.002000",
          "2025-01-04T15:00:00.002000",
          "2025-01-04T17:00:00.002000",
          "2025-01-04T19:00:00.002000",
          "2025-01-04T21:00:00.002000",
          "2025-01-04T23:00:00.002000",
          "2025-01-05T01:00:00.002000",
          "2025-01-05T02:40:00.002000",
          "2025-01-05T03:00:00.002000",
          "2025-01-05T05:00:00.002000",
          "2025-01-05T07:00:00.002000",
          "2025-01-05T09:00:00.002000",
          "2025-01-05T11:00:00.002000",
          "2025-01-05T13:00:00.002000",
          "2025-01-05T15:00:00.002000",
          "2025-01-05T17:00:00.002000",
          "2025-01-05T19:00:00.002000",
          "2025-01-05T21:00:00.002000",
          "2025-01-05T23:00:00.002000",
          "2025-01-06T01:00:00.002000",
          "2025-01-06T03:00:00.002000",
          "2025-01-06T05:00:00.002000",
          "2025-01-06T07:00:00.002000",
          "2025-01-06T09:00:00.002000"
         ],
         "y": {
          "bdata": "exSuR+F6FEC4HoXrUbgKQFyPwvUoXB1AuB6F61G48j/Xo3A9CtfzP/YoXI/C9fw/SOF6FK5H/T9xPQrXo3D9PzMzMzMzMyhA16NwPQrXHkDhehSuR+ESQEjhehSuRwlAUrgehetREkCF61G4HoX7P7gehetRuOY/KVyPwvUo5D/D9Shcj8LlP4/C9Shcj+o/MzMzMzMz6z9cj8L1KFznPxSuR+F6FO4/CtejcD0K7z+PwvUoXI/yP8P1KFyPwvU/16NwPQrX4z8pXI/C9SjkP83MzMzMzB5Aj8L1KFyPDEC4HoXrUbjmP+xRuB6F6/E/KVyPwvUo8D+PwvUoXI/qP0jhehSuR/E/FK5H4XoU+j/NzMzMzMwRQMP1KFyPwu0/exSuR+F68D97FK5H4Xr0P6RwPQrXo/Q/MzMzMzMzKUAzMzMzMzMLQEjhehSuR/E/4XoUrkfh9j9xPQrXo3DtP+F6FK5H4fY/4XoUrkfhAEDD9Shcj8IPQKRwPQrXo/A/KVyPwvUo7D+kcD0K16P4P83MzMzMzPg/AAAAAACAJUBSuB6F69EjQOF6FK5HYShACtejcD0KDUAfhetRuB7tP83MzMzMzPA/4XoUrkfh9j+kcD0K16PwP8P1KFyPwv0/PQrXo3A96j+kcD0K16PwP+xRuB6F6/U/FK5H4XoU8j+F61G4HoUUQOxRuB6F6xlAKVyPwvUoAkA=",
          "dtype": "f8"
         }
        },
        {
         "mode": "lines",
         "name": "Segment 103",
         "showlegend": false,
         "type": "scatter",
         "x": [
          "2025-01-06T15:00:00.002000",
          "2025-01-06T16:40:00.002000",
          "2025-01-06T17:00:00.002000",
          "2025-01-06T19:00:00.002000",
          "2025-01-06T21:00:00.002000",
          "2025-01-06T23:00:00.002000",
          "2025-01-07T01:00:00.002000",
          "2025-01-07T03:00:00.002000"
         ],
         "y": {
          "bdata": "UrgehetR+D97FK5H4Xr4P+xRuB6F6ydAH4XrUbieIkApXI/C9agjQPYoXI/C9R9Aw/UoXI/CEUCkcD0K16MWQA==",
          "dtype": "f8"
         }
        },
        {
         "mode": "lines",
         "name": "Segment 104",
         "showlegend": false,
         "type": "scatter",
         "x": [
          "2025-01-08T21:00:00.002000",
          "2025-01-08T23:00:00.002000"
         ],
         "y": {
          "bdata": "UrgehetRGEApXI/C9SgOQA==",
          "dtype": "f8"
         }
        },
        {
         "mode": "lines",
         "name": "Segment 105",
         "showlegend": false,
         "type": "scatter",
         "x": [
          "2025-01-09T05:00:00.002000",
          "2025-01-09T07:00:00.002000",
          "2025-01-09T09:00:00.002000",
          "2025-01-09T11:00:00.002000",
          "2025-01-09T13:00:00.002000",
          "2025-01-09T15:00:00.002000"
         ],
         "y": {
          "bdata": "cT0K16NwCUDNzMzMzMz0PzMzMzMzM/M/ZmZmZmZm9j+kcD0K16MTQK5H4XoUrhBA",
          "dtype": "f8"
         }
        },
        {
         "mode": "lines",
         "name": "Segment 106",
         "showlegend": false,
         "type": "scatter",
         "x": [
          "2025-01-09T21:00:00.002000",
          "2025-01-09T23:00:00.002000",
          "2025-01-10T01:00:00.002000",
          "2025-01-10T03:00:00.002000",
          "2025-01-10T05:00:00.002000",
          "2025-01-10T07:00:00.002000",
          "2025-01-10T09:00:00.002000"
         ],
         "y": {
          "bdata": "ZmZmZmZmAkCkcD0K16PwP83MzMzMzPw/pHA9CtejCkDsUbgehesfQMP1KFyPwixA7FG4HoXrKUA=",
          "dtype": "f8"
         }
        },
        {
         "mode": "lines",
         "name": "Segment 107",
         "showlegend": false,
         "type": "scatter",
         "x": [
          "2025-01-10T20:40:00.002000",
          "2025-01-10T21:00:00.002000"
         ],
         "y": {
          "bdata": "ZmZmZmbmKUBxPQrXo3ALQA==",
          "dtype": "f8"
         }
        },
        {
         "mode": "lines",
         "name": "Segment 108",
         "showlegend": false,
         "type": "scatter",
         "x": [
          "2025-01-11T03:00:00.002000",
          "2025-01-11T05:00:00.002000",
          "2025-01-11T07:00:00.002000",
          "2025-01-11T09:00:00.002000",
          "2025-01-11T11:00:00.002000",
          "2025-01-11T13:00:00.002000",
          "2025-01-11T15:00:00.002000",
          "2025-01-11T19:00:00.002000",
          "2025-01-11T21:00:00.002000",
          "2025-01-11T23:00:00.002000",
          "2025-01-12T01:00:00.002000",
          "2025-01-12T03:00:00.002000",
          "2025-01-12T05:00:00.002000",
          "2025-01-12T07:00:00.002000",
          "2025-01-12T09:00:00.002000",
          "2025-01-12T11:00:00.002000",
          "2025-01-12T13:00:00.002000",
          "2025-01-12T15:00:00.002000",
          "2025-01-12T17:00:00.002000",
          "2025-01-12T19:00:00.002000",
          "2025-01-12T23:00:00.002000",
          "2025-01-13T01:00:00.002000",
          "2025-01-13T03:00:00.002000",
          "2025-01-13T05:00:00.002000",
          "2025-01-13T07:00:00.002000",
          "2025-01-13T09:00:00.002000",
          "2025-01-13T11:00:00.002000",
          "2025-01-13T13:00:00.002000",
          "2025-01-13T15:00:00.002000",
          "2025-01-13T17:00:00.002000",
          "2025-01-13T19:00:00.002000",
          "2025-01-13T21:00:00.002000",
          "2025-01-14T00:40:00.002000",
          "2025-01-14T01:00:00.002000",
          "2025-01-14T03:00:00.002000",
          "2025-01-14T05:00:00.002000",
          "2025-01-14T07:00:00.002000",
          "2025-01-14T09:00:00.002000"
         ],
         "y": {
          "bdata": "w/UoXI/C/T8K16NwPQr7PxSuR+F6FPo/rkfhehSu9z8zMzMzMzPzP+xRuB6F6/k/H4XrUbgeA0A9CtejcD3+P/YoXI/C9QBAj8L1KFyPCkCamZmZmZkBQEjhehSuR/0/rkfhehSu8z89CtejcD32PwAAAAAAAPQ/hetRuB6F9z/D9Shcj8L5P0jhehSuRwVArkfhehSu8z/sUbgehevxP5qZmZmZmfE/rkfhehSu8z8UrkfhehTyP3E9CtejcPU/hetRuB6F8z+uR+F6FK4PQFK4HoXrUQpAcT0K16NwGUAUrkfhehTyPx+F61G4HvE/UrgehetR/D+F61G4HoUBQJqZmZmZmQFASOF6FK5HI0DD9Shcj8IbQIXrUbgehR1AexSuR+F68D/hehSuR+H2Pw==",
          "dtype": "f8"
         }
        },
        {
         "mode": "lines",
         "name": "Segment 109",
         "showlegend": false,
         "type": "scatter",
         "x": [
          "2025-01-14T23:00:00.002000",
          "2025-01-15T01:00:00.002000",
          "2025-01-15T03:00:00.002000",
          "2025-01-15T05:00:00.002000",
          "2025-01-15T07:00:00.002000",
          "2025-01-15T08:40:00.002000",
          "2025-01-15T09:00:00.002000",
          "2025-01-15T11:00:00.002000",
          "2025-01-15T13:00:00.002000",
          "2025-01-15T15:00:00.002000",
          "2025-01-15T16:40:00.002000",
          "2025-01-15T17:00:00.002000",
          "2025-01-15T18:40:00.002000",
          "2025-01-15T19:00:00.002000",
          "2025-01-15T21:00:00.002000",
          "2025-01-15T23:00:00.002000",
          "2025-01-16T01:00:00.002000",
          "2025-01-16T03:00:00.002000",
          "2025-01-16T05:00:00.002000",
          "2025-01-16T07:00:00.002000"
         ],
         "y": {
          "bdata": "rkfhehSu7z/sUbgehevxP3sUrkfhevA/uB6F61G4CkA9CtejcD36P2ZmZmZmZvo/9ihcj8J1I0AK16NwPQrzP0jhehSuR/E/j8L1KFyPCkCkcD0K16MKQPYoXI/CdTNAMzMzMzNzM0CF61G4HoUeQClcj8L1KPA/H4XrUbge8T+F61G4HoURQBSuR+F6FBRAhetRuB6F9z+PwvUoXI8CQA==",
          "dtype": "f8"
         }
        },
        {
         "mode": "lines",
         "name": "Segment 110",
         "showlegend": false,
         "type": "scatter",
         "x": [
          "2025-01-16T17:00:00.002000",
          "2025-01-16T19:00:00.002000",
          "2025-01-16T21:00:00.002000",
          "2025-01-16T23:00:00.002000",
          "2025-01-17T01:00:00.002000",
          "2025-01-17T03:00:00.002000"
         ],
         "y": {
          "bdata": "9ihcj8L1CkBSuB6F61EAQClcj8L1KPA/9ihcj8L19D9I4XoUrkfpP83MzMzMzBpA",
          "dtype": "f8"
         }
        },
        {
         "mode": "lines",
         "name": "Segment 111",
         "showlegend": false,
         "type": "scatter",
         "x": [
          "2025-01-17T09:00:00.002000",
          "2025-01-17T11:00:00.002000",
          "2025-01-17T13:00:00.002000"
         ],
         "y": {
          "bdata": "UrgehetRH0AUrkfhehTuPx+F61G4HvU/",
          "dtype": "f8"
         }
        },
        {
         "mode": "lines",
         "name": "Segment 112",
         "showlegend": false,
         "type": "scatter",
         "x": [
          "2025-01-17T21:00:00.002000",
          "2025-01-17T23:00:00.002000",
          "2025-01-18T01:00:00.002000",
          "2025-01-18T03:00:00.002000"
         ],
         "y": {
          "bdata": "ZmZmZmZm+j+uR+F6FK4SQM3MzMzMzOQ/H4XrUbge8T8=",
          "dtype": "f8"
         }
        },
        {
         "mode": "lines",
         "name": "Segment 113",
         "showlegend": false,
         "type": "scatter",
         "x": [
          "2025-01-18T11:00:00.002000",
          "2025-01-18T13:00:00.002000",
          "2025-01-18T15:00:00.002000",
          "2025-01-18T17:00:00.002000",
          "2025-01-18T19:00:00.002000",
          "2025-01-18T21:00:00.002000",
          "2025-01-18T23:00:00.002000",
          "2025-01-19T01:00:00.002000",
          "2025-01-19T03:00:00.002000",
          "2025-01-19T05:00:00.002000",
          "2025-01-19T07:00:00.002000",
          "2025-01-19T09:00:00.002000"
         ],
         "y": {
          "bdata": "9ihcj8L1+D8fhetRuB4SQOF6FK5H4QZAH4XrUbgeDUB7FK5H4XoIQPYoXI/C9RZArkfhehQuIUBI4XoUrkfpP3sUrkfheuQ/UrgehetR6D8fhetRuB79Px+F61G4HvU/",
          "dtype": "f8"
         }
        },
        {
         "mode": "lines",
         "name": "Segment 114",
         "showlegend": false,
         "type": "scatter",
         "x": [
          "2025-01-19T17:00:00.002000",
          "2025-01-19T19:00:00.002000",
          "2025-01-19T21:00:00.002000",
          "2025-01-19T23:00:00.002000"
         ],
         "y": {
          "bdata": "uB6F61G47j8AAAAAAADoP1yPwvUoXBhAhetRuB6FBUA=",
          "dtype": "f8"
         }
        },
        {
         "mode": "lines",
         "name": "Segment 115",
         "showlegend": false,
         "type": "scatter",
         "x": [
          "2025-01-20T05:00:00.002000",
          "2025-01-20T07:00:00.002000",
          "2025-01-20T09:00:00.002000",
          "2025-01-20T11:00:00.002000",
          "2025-01-20T13:00:00.002000",
          "2025-01-20T15:00:00.002000",
          "2025-01-20T17:00:00.002000",
          "2025-01-20T19:00:00.002000",
          "2025-01-20T21:00:00.002000",
          "2025-01-20T23:00:00.002000",
          "2025-01-21T01:00:00.002000",
          "2025-01-21T03:00:00.002000",
          "2025-01-21T05:00:00.002000",
          "2025-01-21T07:00:00.002000",
          "2025-01-21T09:00:00.002000",
          "2025-01-21T11:00:00.002000",
          "2025-01-21T15:00:00.002000",
          "2025-01-21T17:00:00.002000",
          "2025-01-21T19:00:00.002000",
          "2025-01-21T23:00:00.002000",
          "2025-01-22T01:00:00.002000",
          "2025-01-22T03:00:00.002000",
          "2025-01-22T05:00:00.002000",
          "2025-01-22T07:00:00.002000",
          "2025-01-22T09:00:00.002000",
          "2025-01-22T11:00:00.002000",
          "2025-01-22T13:00:00.002000",
          "2025-01-22T15:00:00.002000",
          "2025-01-22T17:00:00.002000",
          "2025-01-22T19:00:00.002000",
          "2025-01-22T21:00:00.002000",
          "2025-01-22T23:00:00.002000",
          "2025-01-23T01:00:00.002000",
          "2025-01-23T03:00:00.002000"
         ],
         "y": {
          "bdata": "XI/C9Shc8z8AAAAAAAD8P2ZmZmZmZgBAXI/C9Shc8z+uR+F6FK4QQAAAAAAAACRAZmZmZmZm9j/Xo3A9CtfzPz0K16NwPfY/KVyPwvUoDkAK16NwPQoZQGZmZmZmZgBAexSuR+F6/D9cj8L1KFz3Px+F61G4Hvk/FK5H4XoU7j9I4XoUrkcRQEjhehSuR/U/4XoUrkfh8j+uR+F6FK7zP83MzMzMzAZA4XoUrkdhKEDNzMzMzMwYQOxRuB6F6/E/MzMzMzMz6z9SuB6F61HoPylcj8L1KOQ/4XoUrkfh/j97FK5H4Xr0PwAAAAAAAARAzczMzMzM7D+F61G4HoX7P9ejcD0K1/c/w/UoXI/CBUA=",
          "dtype": "f8"
         }
        },
        {
         "mode": "lines",
         "name": "Segment 116",
         "showlegend": false,
         "type": "scatter",
         "x": [
          "2025-01-24T13:00:00.002000",
          "2025-01-24T15:00:00.002000",
          "2025-01-24T17:00:00.002000",
          "2025-01-24T19:00:00.002000",
          "2025-01-24T21:00:00.002000",
          "2025-01-24T23:00:00.002000",
          "2025-01-25T01:00:00.002000",
          "2025-01-25T02:40:00.002000",
          "2025-01-25T03:00:00.002000",
          "2025-01-25T05:00:00.002000",
          "2025-01-25T07:00:00.002000",
          "2025-01-25T09:00:00.002000",
          "2025-01-25T11:00:00.002000",
          "2025-01-25T13:00:00.002000",
          "2025-01-25T15:00:00.002000",
          "2025-01-25T17:00:00.002000",
          "2025-01-25T19:00:00.002000",
          "2025-01-25T21:00:00.002000",
          "2025-01-25T23:00:00.002000",
          "2025-01-26T01:00:00.002000",
          "2025-01-26T03:00:00.002000"
         ],
         "y": {
          "bdata": "zczMzMzM7D+PwvUoXI/qP/YoXI/C9fw/ZmZmZmZmEUCkcD0K16MdQArXo3A9Cg9AuB6F61G45j8K16NwPQrnPxSuR+F6lCdAw/UoXI/CEkAUrkfhehQmQClcj8L1KA5AXI/C9Shc5z+PwvUoXI8ZQNejcD0K1/c/mpmZmZmZ9T9xPQrXo3DtP8P1KFyPwuU/FK5H4XoU7j8UrkfhehTmP+xRuB6F6wNA",
          "dtype": "f8"
         }
        },
        {
         "mode": "lines",
         "name": "Segment 117",
         "showlegend": false,
         "type": "scatter",
         "x": [
          "2025-01-26T15:00:00.002000",
          "2025-01-26T17:00:00.002000",
          "2025-01-26T19:00:00.002000",
          "2025-01-26T21:00:00.002000",
          "2025-01-26T23:00:00.002000",
          "2025-01-27T01:00:00.002000",
          "2025-01-27T02:40:00.002000",
          "2025-01-27T03:00:00.002000",
          "2025-01-27T05:00:00.002000",
          "2025-01-27T06:40:00.002000",
          "2025-01-27T07:00:00.002000",
          "2025-01-27T09:00:00.002000",
          "2025-01-27T11:00:00.002000",
          "2025-01-27T13:00:00.002000",
          "2025-01-27T15:00:00.002000",
          "2025-01-27T17:00:00.002000",
          "2025-01-27T19:00:00.002000",
          "2025-01-27T23:00:00.002000",
          "2025-01-28T01:00:00.002000",
          "2025-01-28T05:00:00.002000",
          "2025-01-28T07:00:00.002000",
          "2025-01-28T11:00:00.002000",
          "2025-01-28T13:00:00.002000",
          "2025-01-28T15:00:00.002000",
          "2025-01-28T16:40:00.002000",
          "2025-01-28T17:00:00.002000",
          "2025-01-28T21:00:00.002000",
          "2025-01-28T23:00:00.002000",
          "2025-01-29T03:00:00.002000",
          "2025-01-29T05:00:00.002000",
          "2025-01-29T07:00:00.002000",
          "2025-01-29T09:00:00.002000",
          "2025-01-29T11:00:00.002000",
          "2025-01-29T13:00:00.002000",
          "2025-01-29T15:00:00.002000"
         ],
         "y": {
          "bdata": "mpmZmZmZ6T8K16NwPQrzP4/C9Shcj/Y/mpmZmZmZAUDNzMzMzMwIQPYoXI/C9fg/H4XrUbge+T9cj8L1KBwxQPYoXI/C9fQ/H4XrUbge9T89CtejcD0gQClcj8L1KARAAAAAAAAA9D/Xo3A9CtfrP3E9CtejcAdAKVyPwvUoFECPwvUoXI8WQKRwPQrXo+g/H4XrUbge8T8UrkfhehQAQOF6FK5H4eo/exSuR+F65D9mZmZmZmb2P0jhehSuR+k/mpmZmZmZ6T9SuB6F61EfQAAAAAAAACdASOF6FK5HFkApXI/C9SgbQK5H4XoUrv8/zczMzMzM/D97FK5H4Xr4Pz0K16NwPRlA9ihcj8L1CEDD9Shcj8LxPw==",
          "dtype": "f8"
         }
        },
        {
         "mode": "lines",
         "name": "Segment 118",
         "showlegend": false,
         "type": "scatter",
         "x": [
          "2025-01-29T21:00:00.002000",
          "2025-01-29T23:00:00.002000",
          "2025-01-30T01:00:00.002000",
          "2025-01-30T03:00:00.002000",
          "2025-01-30T05:00:00.002000",
          "2025-01-30T07:00:00.002000"
         ],
         "y": {
          "bdata": "9ihcj8L19D+kcD0K16MGQBSuR+F6FO4/7FG4HoXrE0Bcj8L1KFwYQFyPwvUoXBxA",
          "dtype": "f8"
         }
        },
        {
         "mode": "lines",
         "name": "Segment 119",
         "showlegend": false,
         "type": "scatter",
         "x": [
          "2025-01-30T21:00:00.002000",
          "2025-01-30T23:00:00.002000",
          "2025-01-31T01:00:00.002000",
          "2025-01-31T03:00:00.002000",
          "2025-01-31T05:00:00.002000",
          "2025-01-31T07:00:00.002000",
          "2025-01-31T09:00:00.002000",
          "2025-01-31T11:00:00.002000",
          "2025-01-31T13:00:00.002000",
          "2025-01-31T15:00:00.002000",
          "2025-01-31T17:00:00.002000",
          "2025-01-31T19:00:00.002000",
          "2025-01-31T21:00:00.002000",
          "2025-01-31T23:00:00.002000"
         ],
         "y": {
          "bdata": "CtejcD0K8z/NzMzMzMz0P6RwPQrXo/w/XI/C9ShcCUCamZmZmZn5Pz0K16NwPfI/9ihcj8L19D9cj8L1KFzvPwAAAAAAAOg/CtejcD0K5z+uR+F6FK7vP9ejcD0K1wlAAAAAAAAAE0ApXI/C9SgKQA==",
          "dtype": "f8"
         }
        }
       ],
       "layout": {
        "template": {
         "data": {
          "bar": [
           {
            "error_x": {
             "color": "#2a3f5f"
            },
            "error_y": {
             "color": "#2a3f5f"
            },
            "marker": {
             "line": {
              "color": "#E5ECF6",
              "width": 0.5
             },
             "pattern": {
              "fillmode": "overlay",
              "size": 10,
              "solidity": 0.2
             }
            },
            "type": "bar"
           }
          ],
          "barpolar": [
           {
            "marker": {
             "line": {
              "color": "#E5ECF6",
              "width": 0.5
             },
             "pattern": {
              "fillmode": "overlay",
              "size": 10,
              "solidity": 0.2
             }
            },
            "type": "barpolar"
           }
          ],
          "carpet": [
           {
            "aaxis": {
             "endlinecolor": "#2a3f5f",
             "gridcolor": "white",
             "linecolor": "white",
             "minorgridcolor": "white",
             "startlinecolor": "#2a3f5f"
            },
            "baxis": {
             "endlinecolor": "#2a3f5f",
             "gridcolor": "white",
             "linecolor": "white",
             "minorgridcolor": "white",
             "startlinecolor": "#2a3f5f"
            },
            "type": "carpet"
           }
          ],
          "choropleth": [
           {
            "colorbar": {
             "outlinewidth": 0,
             "ticks": ""
            },
            "type": "choropleth"
           }
          ],
          "contour": [
           {
            "colorbar": {
             "outlinewidth": 0,
             "ticks": ""
            },
            "colorscale": [
             [
              0,
              "#0d0887"
             ],
             [
              0.1111111111111111,
              "#46039f"
             ],
             [
              0.2222222222222222,
              "#7201a8"
             ],
             [
              0.3333333333333333,
              "#9c179e"
             ],
             [
              0.4444444444444444,
              "#bd3786"
             ],
             [
              0.5555555555555556,
              "#d8576b"
             ],
             [
              0.6666666666666666,
              "#ed7953"
             ],
             [
              0.7777777777777778,
              "#fb9f3a"
             ],
             [
              0.8888888888888888,
              "#fdca26"
             ],
             [
              1,
              "#f0f921"
             ]
            ],
            "type": "contour"
           }
          ],
          "contourcarpet": [
           {
            "colorbar": {
             "outlinewidth": 0,
             "ticks": ""
            },
            "type": "contourcarpet"
           }
          ],
          "heatmap": [
           {
            "colorbar": {
             "outlinewidth": 0,
             "ticks": ""
            },
            "colorscale": [
             [
              0,
              "#0d0887"
             ],
             [
              0.1111111111111111,
              "#46039f"
             ],
             [
              0.2222222222222222,
              "#7201a8"
             ],
             [
              0.3333333333333333,
              "#9c179e"
             ],
             [
              0.4444444444444444,
              "#bd3786"
             ],
             [
              0.5555555555555556,
              "#d8576b"
             ],
             [
              0.6666666666666666,
              "#ed7953"
             ],
             [
              0.7777777777777778,
              "#fb9f3a"
             ],
             [
              0.8888888888888888,
              "#fdca26"
             ],
             [
              1,
              "#f0f921"
             ]
            ],
            "type": "heatmap"
           }
          ],
          "histogram": [
           {
            "marker": {
             "pattern": {
              "fillmode": "overlay",
              "size": 10,
              "solidity": 0.2
             }
            },
            "type": "histogram"
           }
          ],
          "histogram2d": [
           {
            "colorbar": {
             "outlinewidth": 0,
             "ticks": ""
            },
            "colorscale": [
             [
              0,
              "#0d0887"
             ],
             [
              0.1111111111111111,
              "#46039f"
             ],
             [
              0.2222222222222222,
              "#7201a8"
             ],
             [
              0.3333333333333333,
              "#9c179e"
             ],
             [
              0.4444444444444444,
              "#bd3786"
             ],
             [
              0.5555555555555556,
              "#d8576b"
             ],
             [
              0.6666666666666666,
              "#ed7953"
             ],
             [
              0.7777777777777778,
              "#fb9f3a"
             ],
             [
              0.8888888888888888,
              "#fdca26"
             ],
             [
              1,
              "#f0f921"
             ]
            ],
            "type": "histogram2d"
           }
          ],
          "histogram2dcontour": [
           {
            "colorbar": {
             "outlinewidth": 0,
             "ticks": ""
            },
            "colorscale": [
             [
              0,
              "#0d0887"
             ],
             [
              0.1111111111111111,
              "#46039f"
             ],
             [
              0.2222222222222222,
              "#7201a8"
             ],
             [
              0.3333333333333333,
              "#9c179e"
             ],
             [
              0.4444444444444444,
              "#bd3786"
             ],
             [
              0.5555555555555556,
              "#d8576b"
             ],
             [
              0.6666666666666666,
              "#ed7953"
             ],
             [
              0.7777777777777778,
              "#fb9f3a"
             ],
             [
              0.8888888888888888,
              "#fdca26"
             ],
             [
              1,
              "#f0f921"
             ]
            ],
            "type": "histogram2dcontour"
           }
          ],
          "mesh3d": [
           {
            "colorbar": {
             "outlinewidth": 0,
             "ticks": ""
            },
            "type": "mesh3d"
           }
          ],
          "parcoords": [
           {
            "line": {
             "colorbar": {
              "outlinewidth": 0,
              "ticks": ""
             }
            },
            "type": "parcoords"
           }
          ],
          "pie": [
           {
            "automargin": true,
            "type": "pie"
           }
          ],
          "scatter": [
           {
            "fillpattern": {
             "fillmode": "overlay",
             "size": 10,
             "solidity": 0.2
            },
            "type": "scatter"
           }
          ],
          "scatter3d": [
           {
            "line": {
             "colorbar": {
              "outlinewidth": 0,
              "ticks": ""
             }
            },
            "marker": {
             "colorbar": {
              "outlinewidth": 0,
              "ticks": ""
             }
            },
            "type": "scatter3d"
           }
          ],
          "scattercarpet": [
           {
            "marker": {
             "colorbar": {
              "outlinewidth": 0,
              "ticks": ""
             }
            },
            "type": "scattercarpet"
           }
          ],
          "scattergeo": [
           {
            "marker": {
             "colorbar": {
              "outlinewidth": 0,
              "ticks": ""
             }
            },
            "type": "scattergeo"
           }
          ],
          "scattergl": [
           {
            "marker": {
             "colorbar": {
              "outlinewidth": 0,
              "ticks": ""
             }
            },
            "type": "scattergl"
           }
          ],
          "scattermap": [
           {
            "marker": {
             "colorbar": {
              "outlinewidth": 0,
              "ticks": ""
             }
            },
            "type": "scattermap"
           }
          ],
          "scattermapbox": [
           {
            "marker": {
             "colorbar": {
              "outlinewidth": 0,
              "ticks": ""
             }
            },
            "type": "scattermapbox"
           }
          ],
          "scatterpolar": [
           {
            "marker": {
             "colorbar": {
              "outlinewidth": 0,
              "ticks": ""
             }
            },
            "type": "scatterpolar"
           }
          ],
          "scatterpolargl": [
           {
            "marker": {
             "colorbar": {
              "outlinewidth": 0,
              "ticks": ""
             }
            },
            "type": "scatterpolargl"
           }
          ],
          "scatterternary": [
           {
            "marker": {
             "colorbar": {
              "outlinewidth": 0,
              "ticks": ""
             }
            },
            "type": "scatterternary"
           }
          ],
          "surface": [
           {
            "colorbar": {
             "outlinewidth": 0,
             "ticks": ""
            },
            "colorscale": [
             [
              0,
              "#0d0887"
             ],
             [
              0.1111111111111111,
              "#46039f"
             ],
             [
              0.2222222222222222,
              "#7201a8"
             ],
             [
              0.3333333333333333,
              "#9c179e"
             ],
             [
              0.4444444444444444,
              "#bd3786"
             ],
             [
              0.5555555555555556,
              "#d8576b"
             ],
             [
              0.6666666666666666,
              "#ed7953"
             ],
             [
              0.7777777777777778,
              "#fb9f3a"
             ],
             [
              0.8888888888888888,
              "#fdca26"
             ],
             [
              1,
              "#f0f921"
             ]
            ],
            "type": "surface"
           }
          ],
          "table": [
           {
            "cells": {
             "fill": {
              "color": "#EBF0F8"
             },
             "line": {
              "color": "white"
             }
            },
            "header": {
             "fill": {
              "color": "#C8D4E3"
             },
             "line": {
              "color": "white"
             }
            },
            "type": "table"
           }
          ]
         },
         "layout": {
          "annotationdefaults": {
           "arrowcolor": "#2a3f5f",
           "arrowhead": 0,
           "arrowwidth": 1
          },
          "autotypenumbers": "strict",
          "coloraxis": {
           "colorbar": {
            "outlinewidth": 0,
            "ticks": ""
           }
          },
          "colorscale": {
           "diverging": [
            [
             0,
             "#8e0152"
            ],
            [
             0.1,
             "#c51b7d"
            ],
            [
             0.2,
             "#de77ae"
            ],
            [
             0.3,
             "#f1b6da"
            ],
            [
             0.4,
             "#fde0ef"
            ],
            [
             0.5,
             "#f7f7f7"
            ],
            [
             0.6,
             "#e6f5d0"
            ],
            [
             0.7,
             "#b8e186"
            ],
            [
             0.8,
             "#7fbc41"
            ],
            [
             0.9,
             "#4d9221"
            ],
            [
             1,
             "#276419"
            ]
           ],
           "sequential": [
            [
             0,
             "#0d0887"
            ],
            [
             0.1111111111111111,
             "#46039f"
            ],
            [
             0.2222222222222222,
             "#7201a8"
            ],
            [
             0.3333333333333333,
             "#9c179e"
            ],
            [
             0.4444444444444444,
             "#bd3786"
            ],
            [
             0.5555555555555556,
             "#d8576b"
            ],
            [
             0.6666666666666666,
             "#ed7953"
            ],
            [
             0.7777777777777778,
             "#fb9f3a"
            ],
            [
             0.8888888888888888,
             "#fdca26"
            ],
            [
             1,
             "#f0f921"
            ]
           ],
           "sequentialminus": [
            [
             0,
             "#0d0887"
            ],
            [
             0.1111111111111111,
             "#46039f"
            ],
            [
             0.2222222222222222,
             "#7201a8"
            ],
            [
             0.3333333333333333,
             "#9c179e"
            ],
            [
             0.4444444444444444,
             "#bd3786"
            ],
            [
             0.5555555555555556,
             "#d8576b"
            ],
            [
             0.6666666666666666,
             "#ed7953"
            ],
            [
             0.7777777777777778,
             "#fb9f3a"
            ],
            [
             0.8888888888888888,
             "#fdca26"
            ],
            [
             1,
             "#f0f921"
            ]
           ]
          },
          "colorway": [
           "#636efa",
           "#EF553B",
           "#00cc96",
           "#ab63fa",
           "#FFA15A",
           "#19d3f3",
           "#FF6692",
           "#B6E880",
           "#FF97FF",
           "#FECB52"
          ],
          "font": {
           "color": "#2a3f5f"
          },
          "geo": {
           "bgcolor": "white",
           "lakecolor": "white",
           "landcolor": "#E5ECF6",
           "showlakes": true,
           "showland": true,
           "subunitcolor": "white"
          },
          "hoverlabel": {
           "align": "left"
          },
          "hovermode": "closest",
          "mapbox": {
           "style": "light"
          },
          "paper_bgcolor": "white",
          "plot_bgcolor": "#E5ECF6",
          "polar": {
           "angularaxis": {
            "gridcolor": "white",
            "linecolor": "white",
            "ticks": ""
           },
           "bgcolor": "#E5ECF6",
           "radialaxis": {
            "gridcolor": "white",
            "linecolor": "white",
            "ticks": ""
           }
          },
          "scene": {
           "xaxis": {
            "backgroundcolor": "#E5ECF6",
            "gridcolor": "white",
            "gridwidth": 2,
            "linecolor": "white",
            "showbackground": true,
            "ticks": "",
            "zerolinecolor": "white"
           },
           "yaxis": {
            "backgroundcolor": "#E5ECF6",
            "gridcolor": "white",
            "gridwidth": 2,
            "linecolor": "white",
            "showbackground": true,
            "ticks": "",
            "zerolinecolor": "white"
           },
           "zaxis": {
            "backgroundcolor": "#E5ECF6",
            "gridcolor": "white",
            "gridwidth": 2,
            "linecolor": "white",
            "showbackground": true,
            "ticks": "",
            "zerolinecolor": "white"
           }
          },
          "shapedefaults": {
           "line": {
            "color": "#2a3f5f"
           }
          },
          "ternary": {
           "aaxis": {
            "gridcolor": "white",
            "linecolor": "white",
            "ticks": ""
           },
           "baxis": {
            "gridcolor": "white",
            "linecolor": "white",
            "ticks": ""
           },
           "bgcolor": "#E5ECF6",
           "caxis": {
            "gridcolor": "white",
            "linecolor": "white",
            "ticks": ""
           }
          },
          "title": {
           "x": 0.05
          },
          "xaxis": {
           "automargin": true,
           "gridcolor": "white",
           "linecolor": "white",
           "ticks": "",
           "title": {
            "standoff": 15
           },
           "zerolinecolor": "white",
           "zerolinewidth": 2
          },
          "yaxis": {
           "automargin": true,
           "gridcolor": "white",
           "linecolor": "white",
           "ticks": "",
           "title": {
            "standoff": 15
           },
           "zerolinecolor": "white",
           "zerolinewidth": 2
          }
         }
        },
        "title": {
         "text": "conc_silica Over Time (gaps shown)"
        },
        "xaxis": {
         "title": {
          "text": "inicio"
         }
        },
        "yaxis": {
         "title": {
          "text": "conc_silica"
         }
        }
       }
      }
     },
     "metadata": {},
     "output_type": "display_data"
    }
   ],
   "source": [
    "plot_time_series_with_gaps(df_clean,'inicio','conc_silica')"
   ]
  },
  {
   "cell_type": "code",
   "execution_count": 9,
   "id": "8f475105",
   "metadata": {},
   "outputs": [
    {
     "data": {
      "application/vnd.plotly.v1+json": {
       "config": {
        "plotlyServerURL": "https://plot.ly"
       },
       "data": [
        {
         "bingroup": "x",
         "hovertemplate": "conc_silica=%{x}<br>count=%{y}<extra></extra>",
         "legendgroup": "",
         "marker": {
          "color": "#636efa",
          "pattern": {
           "shape": ""
          }
         },
         "name": "",
         "nbinsx": 30,
         "orientation": "v",
         "showlegend": false,
         "type": "histogram",
         "x": {
          "bdata": "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",
          "dtype": "f8"
         },
         "xaxis": "x",
         "yaxis": "y"
        }
       ],
       "layout": {
        "barmode": "relative",
        "legend": {
         "tracegroupgap": 0
        },
        "template": {
         "data": {
          "bar": [
           {
            "error_x": {
             "color": "#2a3f5f"
            },
            "error_y": {
             "color": "#2a3f5f"
            },
            "marker": {
             "line": {
              "color": "#E5ECF6",
              "width": 0.5
             },
             "pattern": {
              "fillmode": "overlay",
              "size": 10,
              "solidity": 0.2
             }
            },
            "type": "bar"
           }
          ],
          "barpolar": [
           {
            "marker": {
             "line": {
              "color": "#E5ECF6",
              "width": 0.5
             },
             "pattern": {
              "fillmode": "overlay",
              "size": 10,
              "solidity": 0.2
             }
            },
            "type": "barpolar"
           }
          ],
          "carpet": [
           {
            "aaxis": {
             "endlinecolor": "#2a3f5f",
             "gridcolor": "white",
             "linecolor": "white",
             "minorgridcolor": "white",
             "startlinecolor": "#2a3f5f"
            },
            "baxis": {
             "endlinecolor": "#2a3f5f",
             "gridcolor": "white",
             "linecolor": "white",
             "minorgridcolor": "white",
             "startlinecolor": "#2a3f5f"
            },
            "type": "carpet"
           }
          ],
          "choropleth": [
           {
            "colorbar": {
             "outlinewidth": 0,
             "ticks": ""
            },
            "type": "choropleth"
           }
          ],
          "contour": [
           {
            "colorbar": {
             "outlinewidth": 0,
             "ticks": ""
            },
            "colorscale": [
             [
              0,
              "#0d0887"
             ],
             [
              0.1111111111111111,
              "#46039f"
             ],
             [
              0.2222222222222222,
              "#7201a8"
             ],
             [
              0.3333333333333333,
              "#9c179e"
             ],
             [
              0.4444444444444444,
              "#bd3786"
             ],
             [
              0.5555555555555556,
              "#d8576b"
             ],
             [
              0.6666666666666666,
              "#ed7953"
             ],
             [
              0.7777777777777778,
              "#fb9f3a"
             ],
             [
              0.8888888888888888,
              "#fdca26"
             ],
             [
              1,
              "#f0f921"
             ]
            ],
            "type": "contour"
           }
          ],
          "contourcarpet": [
           {
            "colorbar": {
             "outlinewidth": 0,
             "ticks": ""
            },
            "type": "contourcarpet"
           }
          ],
          "heatmap": [
           {
            "colorbar": {
             "outlinewidth": 0,
             "ticks": ""
            },
            "colorscale": [
             [
              0,
              "#0d0887"
             ],
             [
              0.1111111111111111,
              "#46039f"
             ],
             [
              0.2222222222222222,
              "#7201a8"
             ],
             [
              0.3333333333333333,
              "#9c179e"
             ],
             [
              0.4444444444444444,
              "#bd3786"
             ],
             [
              0.5555555555555556,
              "#d8576b"
             ],
             [
              0.6666666666666666,
              "#ed7953"
             ],
             [
              0.7777777777777778,
              "#fb9f3a"
             ],
             [
              0.8888888888888888,
              "#fdca26"
             ],
             [
              1,
              "#f0f921"
             ]
            ],
            "type": "heatmap"
           }
          ],
          "histogram": [
           {
            "marker": {
             "pattern": {
              "fillmode": "overlay",
              "size": 10,
              "solidity": 0.2
             }
            },
            "type": "histogram"
           }
          ],
          "histogram2d": [
           {
            "colorbar": {
             "outlinewidth": 0,
             "ticks": ""
            },
            "colorscale": [
             [
              0,
              "#0d0887"
             ],
             [
              0.1111111111111111,
              "#46039f"
             ],
             [
              0.2222222222222222,
              "#7201a8"
             ],
             [
              0.3333333333333333,
              "#9c179e"
             ],
             [
              0.4444444444444444,
              "#bd3786"
             ],
             [
              0.5555555555555556,
              "#d8576b"
             ],
             [
              0.6666666666666666,
              "#ed7953"
             ],
             [
              0.7777777777777778,
              "#fb9f3a"
             ],
             [
              0.8888888888888888,
              "#fdca26"
             ],
             [
              1,
              "#f0f921"
             ]
            ],
            "type": "histogram2d"
           }
          ],
          "histogram2dcontour": [
           {
            "colorbar": {
             "outlinewidth": 0,
             "ticks": ""
            },
            "colorscale": [
             [
              0,
              "#0d0887"
             ],
             [
              0.1111111111111111,
              "#46039f"
             ],
             [
              0.2222222222222222,
              "#7201a8"
             ],
             [
              0.3333333333333333,
              "#9c179e"
             ],
             [
              0.4444444444444444,
              "#bd3786"
             ],
             [
              0.5555555555555556,
              "#d8576b"
             ],
             [
              0.6666666666666666,
              "#ed7953"
             ],
             [
              0.7777777777777778,
              "#fb9f3a"
             ],
             [
              0.8888888888888888,
              "#fdca26"
             ],
             [
              1,
              "#f0f921"
             ]
            ],
            "type": "histogram2dcontour"
           }
          ],
          "mesh3d": [
           {
            "colorbar": {
             "outlinewidth": 0,
             "ticks": ""
            },
            "type": "mesh3d"
           }
          ],
          "parcoords": [
           {
            "line": {
             "colorbar": {
              "outlinewidth": 0,
              "ticks": ""
             }
            },
            "type": "parcoords"
           }
          ],
          "pie": [
           {
            "automargin": true,
            "type": "pie"
           }
          ],
          "scatter": [
           {
            "fillpattern": {
             "fillmode": "overlay",
             "size": 10,
             "solidity": 0.2
            },
            "type": "scatter"
           }
          ],
          "scatter3d": [
           {
            "line": {
             "colorbar": {
              "outlinewidth": 0,
              "ticks": ""
             }
            },
            "marker": {
             "colorbar": {
              "outlinewidth": 0,
              "ticks": ""
             }
            },
            "type": "scatter3d"
           }
          ],
          "scattercarpet": [
           {
            "marker": {
             "colorbar": {
              "outlinewidth": 0,
              "ticks": ""
             }
            },
            "type": "scattercarpet"
           }
          ],
          "scattergeo": [
           {
            "marker": {
             "colorbar": {
              "outlinewidth": 0,
              "ticks": ""
             }
            },
            "type": "scattergeo"
           }
          ],
          "scattergl": [
           {
            "marker": {
             "colorbar": {
              "outlinewidth": 0,
              "ticks": ""
             }
            },
            "type": "scattergl"
           }
          ],
          "scattermap": [
           {
            "marker": {
             "colorbar": {
              "outlinewidth": 0,
              "ticks": ""
             }
            },
            "type": "scattermap"
           }
          ],
          "scattermapbox": [
           {
            "marker": {
             "colorbar": {
              "outlinewidth": 0,
              "ticks": ""
             }
            },
            "type": "scattermapbox"
           }
          ],
          "scatterpolar": [
           {
            "marker": {
             "colorbar": {
              "outlinewidth": 0,
              "ticks": ""
             }
            },
            "type": "scatterpolar"
           }
          ],
          "scatterpolargl": [
           {
            "marker": {
             "colorbar": {
              "outlinewidth": 0,
              "ticks": ""
             }
            },
            "type": "scatterpolargl"
           }
          ],
          "scatterternary": [
           {
            "marker": {
             "colorbar": {
              "outlinewidth": 0,
              "ticks": ""
             }
            },
            "type": "scatterternary"
           }
          ],
          "surface": [
           {
            "colorbar": {
             "outlinewidth": 0,
             "ticks": ""
            },
            "colorscale": [
             [
              0,
              "#0d0887"
             ],
             [
              0.1111111111111111,
              "#46039f"
             ],
             [
              0.2222222222222222,
              "#7201a8"
             ],
             [
              0.3333333333333333,
              "#9c179e"
             ],
             [
              0.4444444444444444,
              "#bd3786"
             ],
             [
              0.5555555555555556,
              "#d8576b"
             ],
             [
              0.6666666666666666,
              "#ed7953"
             ],
             [
              0.7777777777777778,
              "#fb9f3a"
             ],
             [
              0.8888888888888888,
              "#fdca26"
             ],
             [
              1,
              "#f0f921"
             ]
            ],
            "type": "surface"
           }
          ],
          "table": [
           {
            "cells": {
             "fill": {
              "color": "#EBF0F8"
             },
             "line": {
              "color": "white"
             }
            },
            "header": {
             "fill": {
              "color": "#C8D4E3"
             },
             "line": {
              "color": "white"
             }
            },
            "type": "table"
           }
          ]
         },
         "layout": {
          "annotationdefaults": {
           "arrowcolor": "#2a3f5f",
           "arrowhead": 0,
           "arrowwidth": 1
          },
          "autotypenumbers": "strict",
          "coloraxis": {
           "colorbar": {
            "outlinewidth": 0,
            "ticks": ""
           }
          },
          "colorscale": {
           "diverging": [
            [
             0,
             "#8e0152"
            ],
            [
             0.1,
             "#c51b7d"
            ],
            [
             0.2,
             "#de77ae"
            ],
            [
             0.3,
             "#f1b6da"
            ],
            [
             0.4,
             "#fde0ef"
            ],
            [
             0.5,
             "#f7f7f7"
            ],
            [
             0.6,
             "#e6f5d0"
            ],
            [
             0.7,
             "#b8e186"
            ],
            [
             0.8,
             "#7fbc41"
            ],
            [
             0.9,
             "#4d9221"
            ],
            [
             1,
             "#276419"
            ]
           ],
           "sequential": [
            [
             0,
             "#0d0887"
            ],
            [
             0.1111111111111111,
             "#46039f"
            ],
            [
             0.2222222222222222,
             "#7201a8"
            ],
            [
             0.3333333333333333,
             "#9c179e"
            ],
            [
             0.4444444444444444,
             "#bd3786"
            ],
            [
             0.5555555555555556,
             "#d8576b"
            ],
            [
             0.6666666666666666,
             "#ed7953"
            ],
            [
             0.7777777777777778,
             "#fb9f3a"
            ],
            [
             0.8888888888888888,
             "#fdca26"
            ],
            [
             1,
             "#f0f921"
            ]
           ],
           "sequentialminus": [
            [
             0,
             "#0d0887"
            ],
            [
             0.1111111111111111,
             "#46039f"
            ],
            [
             0.2222222222222222,
             "#7201a8"
            ],
            [
             0.3333333333333333,
             "#9c179e"
            ],
            [
             0.4444444444444444,
             "#bd3786"
            ],
            [
             0.5555555555555556,
             "#d8576b"
            ],
            [
             0.6666666666666666,
             "#ed7953"
            ],
            [
             0.7777777777777778,
             "#fb9f3a"
            ],
            [
             0.8888888888888888,
             "#fdca26"
            ],
            [
             1,
             "#f0f921"
            ]
           ]
          },
          "colorway": [
           "#636efa",
           "#EF553B",
           "#00cc96",
           "#ab63fa",
           "#FFA15A",
           "#19d3f3",
           "#FF6692",
           "#B6E880",
           "#FF97FF",
           "#FECB52"
          ],
          "font": {
           "color": "#2a3f5f"
          },
          "geo": {
           "bgcolor": "white",
           "lakecolor": "white",
           "landcolor": "#E5ECF6",
           "showlakes": true,
           "showland": true,
           "subunitcolor": "white"
          },
          "hoverlabel": {
           "align": "left"
          },
          "hovermode": "closest",
          "mapbox": {
           "style": "light"
          },
          "paper_bgcolor": "white",
          "plot_bgcolor": "#E5ECF6",
          "polar": {
           "angularaxis": {
            "gridcolor": "white",
            "linecolor": "white",
            "ticks": ""
           },
           "bgcolor": "#E5ECF6",
           "radialaxis": {
            "gridcolor": "white",
            "linecolor": "white",
            "ticks": ""
           }
          },
          "scene": {
           "xaxis": {
            "backgroundcolor": "#E5ECF6",
            "gridcolor": "white",
            "gridwidth": 2,
            "linecolor": "white",
            "showbackground": true,
            "ticks": "",
            "zerolinecolor": "white"
           },
           "yaxis": {
            "backgroundcolor": "#E5ECF6",
            "gridcolor": "white",
            "gridwidth": 2,
            "linecolor": "white",
            "showbackground": true,
            "ticks": "",
            "zerolinecolor": "white"
           },
           "zaxis": {
            "backgroundcolor": "#E5ECF6",
            "gridcolor": "white",
            "gridwidth": 2,
            "linecolor": "white",
            "showbackground": true,
            "ticks": "",
            "zerolinecolor": "white"
           }
          },
          "shapedefaults": {
           "line": {
            "color": "#2a3f5f"
           }
          },
          "ternary": {
           "aaxis": {
            "gridcolor": "white",
            "linecolor": "white",
            "ticks": ""
           },
           "baxis": {
            "gridcolor": "white",
            "linecolor": "white",
            "ticks": ""
           },
           "bgcolor": "#E5ECF6",
           "caxis": {
            "gridcolor": "white",
            "linecolor": "white",
            "ticks": ""
           }
          },
          "title": {
           "x": 0.05
          },
          "xaxis": {
           "automargin": true,
           "gridcolor": "white",
           "linecolor": "white",
           "ticks": "",
           "title": {
            "standoff": 15
           },
           "zerolinecolor": "white",
           "zerolinewidth": 2
          },
          "yaxis": {
           "automargin": true,
           "gridcolor": "white",
           "linecolor": "white",
           "ticks": "",
           "title": {
            "standoff": 15
           },
           "zerolinecolor": "white",
           "zerolinewidth": 2
          }
         }
        },
        "title": {
         "text": "Distribution of conc_silica"
        },
        "xaxis": {
         "anchor": "y",
         "domain": [
          0,
          1
         ],
         "title": {
          "text": "conc_silica"
         }
        },
        "yaxis": {
         "anchor": "x",
         "domain": [
          0,
          1
         ],
         "title": {
          "text": "count"
         }
        }
       }
      }
     },
     "metadata": {},
     "output_type": "display_data"
    }
   ],
   "source": [
    "# Usage examples:\n",
    "# plot_time_series(df_clean, 'inicio', 'conc_silica')\n",
    "plot_histogram(df_clean, 'conc_silica')\n",
    "# plot_scatter(df_clean, 'vazao_alimentacao_flotacao', 'conc_silica')\n",
    "# plot_pairwise(df_clean, ['conc_silica', 'conc_fe', 'dosagem_amina_conc_magnetica', 'vazao_alimentacao_flotacao'])"
   ]
  },
  {
   "cell_type": "code",
   "execution_count": 10,
   "id": "131029cb",
   "metadata": {},
   "outputs": [],
   "source": [
    "# df_clean.columns"
   ]
  },
  {
   "cell_type": "code",
   "execution_count": 11,
   "id": "d2ad34d2",
   "metadata": {},
   "outputs": [
    {
     "data": {
      "application/vnd.plotly.v1+json": {
       "config": {
        "plotlyServerURL": "https://plot.ly"
       },
       "data": [
        {
         "hovertemplate": "ph_flotacao_linha01=%{x}<br>conc_silica=%{y}<extra></extra>",
         "legendgroup": "",
         "marker": {
          "color": "#636efa",
          "symbol": "circle"
         },
         "mode": "markers",
         "name": "",
         "showlegend": false,
         "type": "scattergl",
         "x": {
          "bdata": "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",
          "dtype": "f8"
         },
         "xaxis": "x",
         "y": {
          "bdata": "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",
          "dtype": "f8"
         },
         "yaxis": "y"
        }
       ],
       "layout": {
        "legend": {
         "tracegroupgap": 0
        },
        "template": {
         "data": {
          "bar": [
           {
            "error_x": {
             "color": "#2a3f5f"
            },
            "error_y": {
             "color": "#2a3f5f"
            },
            "marker": {
             "line": {
              "color": "#E5ECF6",
              "width": 0.5
             },
             "pattern": {
              "fillmode": "overlay",
              "size": 10,
              "solidity": 0.2
             }
            },
            "type": "bar"
           }
          ],
          "barpolar": [
           {
            "marker": {
             "line": {
              "color": "#E5ECF6",
              "width": 0.5
             },
             "pattern": {
              "fillmode": "overlay",
              "size": 10,
              "solidity": 0.2
             }
            },
            "type": "barpolar"
           }
          ],
          "carpet": [
           {
            "aaxis": {
             "endlinecolor": "#2a3f5f",
             "gridcolor": "white",
             "linecolor": "white",
             "minorgridcolor": "white",
             "startlinecolor": "#2a3f5f"
            },
            "baxis": {
             "endlinecolor": "#2a3f5f",
             "gridcolor": "white",
             "linecolor": "white",
             "minorgridcolor": "white",
             "startlinecolor": "#2a3f5f"
            },
            "type": "carpet"
           }
          ],
          "choropleth": [
           {
            "colorbar": {
             "outlinewidth": 0,
             "ticks": ""
            },
            "type": "choropleth"
           }
          ],
          "contour": [
           {
            "colorbar": {
             "outlinewidth": 0,
             "ticks": ""
            },
            "colorscale": [
             [
              0,
              "#0d0887"
             ],
             [
              0.1111111111111111,
              "#46039f"
             ],
             [
              0.2222222222222222,
              "#7201a8"
             ],
             [
              0.3333333333333333,
              "#9c179e"
             ],
             [
              0.4444444444444444,
              "#bd3786"
             ],
             [
              0.5555555555555556,
              "#d8576b"
             ],
             [
              0.6666666666666666,
              "#ed7953"
             ],
             [
              0.7777777777777778,
              "#fb9f3a"
             ],
             [
              0.8888888888888888,
              "#fdca26"
             ],
             [
              1,
              "#f0f921"
             ]
            ],
            "type": "contour"
           }
          ],
          "contourcarpet": [
           {
            "colorbar": {
             "outlinewidth": 0,
             "ticks": ""
            },
            "type": "contourcarpet"
           }
          ],
          "heatmap": [
           {
            "colorbar": {
             "outlinewidth": 0,
             "ticks": ""
            },
            "colorscale": [
             [
              0,
              "#0d0887"
             ],
             [
              0.1111111111111111,
              "#46039f"
             ],
             [
              0.2222222222222222,
              "#7201a8"
             ],
             [
              0.3333333333333333,
              "#9c179e"
             ],
             [
              0.4444444444444444,
              "#bd3786"
             ],
             [
              0.5555555555555556,
              "#d8576b"
             ],
             [
              0.6666666666666666,
              "#ed7953"
             ],
             [
              0.7777777777777778,
              "#fb9f3a"
             ],
             [
              0.8888888888888888,
              "#fdca26"
             ],
             [
              1,
              "#f0f921"
             ]
            ],
            "type": "heatmap"
           }
          ],
          "histogram": [
           {
            "marker": {
             "pattern": {
              "fillmode": "overlay",
              "size": 10,
              "solidity": 0.2
             }
            },
            "type": "histogram"
           }
          ],
          "histogram2d": [
           {
            "colorbar": {
             "outlinewidth": 0,
             "ticks": ""
            },
            "colorscale": [
             [
              0,
              "#0d0887"
             ],
             [
              0.1111111111111111,
              "#46039f"
             ],
             [
              0.2222222222222222,
              "#7201a8"
             ],
             [
              0.3333333333333333,
              "#9c179e"
             ],
             [
              0.4444444444444444,
              "#bd3786"
             ],
             [
              0.5555555555555556,
              "#d8576b"
             ],
             [
              0.6666666666666666,
              "#ed7953"
             ],
             [
              0.7777777777777778,
              "#fb9f3a"
             ],
             [
              0.8888888888888888,
              "#fdca26"
             ],
             [
              1,
              "#f0f921"
             ]
            ],
            "type": "histogram2d"
           }
          ],
          "histogram2dcontour": [
           {
            "colorbar": {
             "outlinewidth": 0,
             "ticks": ""
            },
            "colorscale": [
             [
              0,
              "#0d0887"
             ],
             [
              0.1111111111111111,
              "#46039f"
             ],
             [
              0.2222222222222222,
              "#7201a8"
             ],
             [
              0.3333333333333333,
              "#9c179e"
             ],
             [
              0.4444444444444444,
              "#bd3786"
             ],
             [
              0.5555555555555556,
              "#d8576b"
             ],
             [
              0.6666666666666666,
              "#ed7953"
             ],
             [
              0.7777777777777778,
              "#fb9f3a"
             ],
             [
              0.8888888888888888,
              "#fdca26"
             ],
             [
              1,
              "#f0f921"
             ]
            ],
            "type": "histogram2dcontour"
           }
          ],
          "mesh3d": [
           {
            "colorbar": {
             "outlinewidth": 0,
             "ticks": ""
            },
            "type": "mesh3d"
           }
          ],
          "parcoords": [
           {
            "line": {
             "colorbar": {
              "outlinewidth": 0,
              "ticks": ""
             }
            },
            "type": "parcoords"
           }
          ],
          "pie": [
           {
            "automargin": true,
            "type": "pie"
           }
          ],
          "scatter": [
           {
            "fillpattern": {
             "fillmode": "overlay",
             "size": 10,
             "solidity": 0.2
            },
            "type": "scatter"
           }
          ],
          "scatter3d": [
           {
            "line": {
             "colorbar": {
              "outlinewidth": 0,
              "ticks": ""
             }
            },
            "marker": {
             "colorbar": {
              "outlinewidth": 0,
              "ticks": ""
             }
            },
            "type": "scatter3d"
           }
          ],
          "scattercarpet": [
           {
            "marker": {
             "colorbar": {
              "outlinewidth": 0,
              "ticks": ""
             }
            },
            "type": "scattercarpet"
           }
          ],
          "scattergeo": [
           {
            "marker": {
             "colorbar": {
              "outlinewidth": 0,
              "ticks": ""
             }
            },
            "type": "scattergeo"
           }
          ],
          "scattergl": [
           {
            "marker": {
             "colorbar": {
              "outlinewidth": 0,
              "ticks": ""
             }
            },
            "type": "scattergl"
           }
          ],
          "scattermap": [
           {
            "marker": {
             "colorbar": {
              "outlinewidth": 0,
              "ticks": ""
             }
            },
            "type": "scattermap"
           }
          ],
          "scattermapbox": [
           {
            "marker": {
             "colorbar": {
              "outlinewidth": 0,
              "ticks": ""
             }
            },
            "type": "scattermapbox"
           }
          ],
          "scatterpolar": [
           {
            "marker": {
             "colorbar": {
              "outlinewidth": 0,
              "ticks": ""
             }
            },
            "type": "scatterpolar"
           }
          ],
          "scatterpolargl": [
           {
            "marker": {
             "colorbar": {
              "outlinewidth": 0,
              "ticks": ""
             }
            },
            "type": "scatterpolargl"
           }
          ],
          "scatterternary": [
           {
            "marker": {
             "colorbar": {
              "outlinewidth": 0,
              "ticks": ""
             }
            },
            "type": "scatterternary"
           }
          ],
          "surface": [
           {
            "colorbar": {
             "outlinewidth": 0,
             "ticks": ""
            },
            "colorscale": [
             [
              0,
              "#0d0887"
             ],
             [
              0.1111111111111111,
              "#46039f"
             ],
             [
              0.2222222222222222,
              "#7201a8"
             ],
             [
              0.3333333333333333,
              "#9c179e"
             ],
             [
              0.4444444444444444,
              "#bd3786"
             ],
             [
              0.5555555555555556,
              "#d8576b"
             ],
             [
              0.6666666666666666,
              "#ed7953"
             ],
             [
              0.7777777777777778,
              "#fb9f3a"
             ],
             [
              0.8888888888888888,
              "#fdca26"
             ],
             [
              1,
              "#f0f921"
             ]
            ],
            "type": "surface"
           }
          ],
          "table": [
           {
            "cells": {
             "fill": {
              "color": "#EBF0F8"
             },
             "line": {
              "color": "white"
             }
            },
            "header": {
             "fill": {
              "color": "#C8D4E3"
             },
             "line": {
              "color": "white"
             }
            },
            "type": "table"
           }
          ]
         },
         "layout": {
          "annotationdefaults": {
           "arrowcolor": "#2a3f5f",
           "arrowhead": 0,
           "arrowwidth": 1
          },
          "autotypenumbers": "strict",
          "coloraxis": {
           "colorbar": {
            "outlinewidth": 0,
            "ticks": ""
           }
          },
          "colorscale": {
           "diverging": [
            [
             0,
             "#8e0152"
            ],
            [
             0.1,
             "#c51b7d"
            ],
            [
             0.2,
             "#de77ae"
            ],
            [
             0.3,
             "#f1b6da"
            ],
            [
             0.4,
             "#fde0ef"
            ],
            [
             0.5,
             "#f7f7f7"
            ],
            [
             0.6,
             "#e6f5d0"
            ],
            [
             0.7,
             "#b8e186"
            ],
            [
             0.8,
             "#7fbc41"
            ],
            [
             0.9,
             "#4d9221"
            ],
            [
             1,
             "#276419"
            ]
           ],
           "sequential": [
            [
             0,
             "#0d0887"
            ],
            [
             0.1111111111111111,
             "#46039f"
            ],
            [
             0.2222222222222222,
             "#7201a8"
            ],
            [
             0.3333333333333333,
             "#9c179e"
            ],
            [
             0.4444444444444444,
             "#bd3786"
            ],
            [
             0.5555555555555556,
             "#d8576b"
            ],
            [
             0.6666666666666666,
             "#ed7953"
            ],
            [
             0.7777777777777778,
             "#fb9f3a"
            ],
            [
             0.8888888888888888,
             "#fdca26"
            ],
            [
             1,
             "#f0f921"
            ]
           ],
           "sequentialminus": [
            [
             0,
             "#0d0887"
            ],
            [
             0.1111111111111111,
             "#46039f"
            ],
            [
             0.2222222222222222,
             "#7201a8"
            ],
            [
             0.3333333333333333,
             "#9c179e"
            ],
            [
             0.4444444444444444,
             "#bd3786"
            ],
            [
             0.5555555555555556,
             "#d8576b"
            ],
            [
             0.6666666666666666,
             "#ed7953"
            ],
            [
             0.7777777777777778,
             "#fb9f3a"
            ],
            [
             0.8888888888888888,
             "#fdca26"
            ],
            [
             1,
             "#f0f921"
            ]
           ]
          },
          "colorway": [
           "#636efa",
           "#EF553B",
           "#00cc96",
           "#ab63fa",
           "#FFA15A",
           "#19d3f3",
           "#FF6692",
           "#B6E880",
           "#FF97FF",
           "#FECB52"
          ],
          "font": {
           "color": "#2a3f5f"
          },
          "geo": {
           "bgcolor": "white",
           "lakecolor": "white",
           "landcolor": "#E5ECF6",
           "showlakes": true,
           "showland": true,
           "subunitcolor": "white"
          },
          "hoverlabel": {
           "align": "left"
          },
          "hovermode": "closest",
          "mapbox": {
           "style": "light"
          },
          "paper_bgcolor": "white",
          "plot_bgcolor": "#E5ECF6",
          "polar": {
           "angularaxis": {
            "gridcolor": "white",
            "linecolor": "white",
            "ticks": ""
           },
           "bgcolor": "#E5ECF6",
           "radialaxis": {
            "gridcolor": "white",
            "linecolor": "white",
            "ticks": ""
           }
          },
          "scene": {
           "xaxis": {
            "backgroundcolor": "#E5ECF6",
            "gridcolor": "white",
            "gridwidth": 2,
            "linecolor": "white",
            "showbackground": true,
            "ticks": "",
            "zerolinecolor": "white"
           },
           "yaxis": {
            "backgroundcolor": "#E5ECF6",
            "gridcolor": "white",
            "gridwidth": 2,
            "linecolor": "white",
            "showbackground": true,
            "ticks": "",
            "zerolinecolor": "white"
           },
           "zaxis": {
            "backgroundcolor": "#E5ECF6",
            "gridcolor": "white",
            "gridwidth": 2,
            "linecolor": "white",
            "showbackground": true,
            "ticks": "",
            "zerolinecolor": "white"
           }
          },
          "shapedefaults": {
           "line": {
            "color": "#2a3f5f"
           }
          },
          "ternary": {
           "aaxis": {
            "gridcolor": "white",
            "linecolor": "white",
            "ticks": ""
           },
           "baxis": {
            "gridcolor": "white",
            "linecolor": "white",
            "ticks": ""
           },
           "bgcolor": "#E5ECF6",
           "caxis": {
            "gridcolor": "white",
            "linecolor": "white",
            "ticks": ""
           }
          },
          "title": {
           "x": 0.05
          },
          "xaxis": {
           "automargin": true,
           "gridcolor": "white",
           "linecolor": "white",
           "ticks": "",
           "title": {
            "standoff": 15
           },
           "zerolinecolor": "white",
           "zerolinewidth": 2
          },
          "yaxis": {
           "automargin": true,
           "gridcolor": "white",
           "linecolor": "white",
           "ticks": "",
           "title": {
            "standoff": 15
           },
           "zerolinecolor": "white",
           "zerolinewidth": 2
          }
         }
        },
        "title": {
         "text": "conc_silica vs ph_flotacao_linha01"
        },
        "xaxis": {
         "anchor": "y",
         "domain": [
          0,
          1
         ],
         "title": {
          "text": "ph_flotacao_linha01"
         }
        },
        "yaxis": {
         "anchor": "x",
         "domain": [
          0,
          1
         ],
         "title": {
          "text": "conc_silica"
         }
        }
       }
      }
     },
     "metadata": {},
     "output_type": "display_data"
    }
   ],
   "source": [
    "plot_scatter(df_clean, 'ph_flotacao_linha01', 'conc_silica')"
   ]
  },
  {
   "cell_type": "code",
   "execution_count": 12,
   "id": "60a1591f",
   "metadata": {},
   "outputs": [
    {
     "data": {
      "application/vnd.plotly.v1+json": {
       "config": {
        "plotlyServerURL": "https://plot.ly"
       },
       "data": [
        {
         "hovertemplate": "vazao_alimentacao_flotacao=%{x}<br>conc_silica=%{y}<extra></extra>",
         "legendgroup": "",
         "marker": {
          "color": "#636efa",
          "symbol": "circle"
         },
         "mode": "markers",
         "name": "",
         "showlegend": false,
         "type": "scattergl",
         "x": {
          "bdata": "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",
          "dtype": "f8"
         },
         "xaxis": "x",
         "y": {
          "bdata": "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",
          "dtype": "f8"
         },
         "yaxis": "y"
        }
       ],
       "layout": {
        "legend": {
         "tracegroupgap": 0
        },
        "template": {
         "data": {
          "bar": [
           {
            "error_x": {
             "color": "#2a3f5f"
            },
            "error_y": {
             "color": "#2a3f5f"
            },
            "marker": {
             "line": {
              "color": "#E5ECF6",
              "width": 0.5
             },
             "pattern": {
              "fillmode": "overlay",
              "size": 10,
              "solidity": 0.2
             }
            },
            "type": "bar"
           }
          ],
          "barpolar": [
           {
            "marker": {
             "line": {
              "color": "#E5ECF6",
              "width": 0.5
             },
             "pattern": {
              "fillmode": "overlay",
              "size": 10,
              "solidity": 0.2
             }
            },
            "type": "barpolar"
           }
          ],
          "carpet": [
           {
            "aaxis": {
             "endlinecolor": "#2a3f5f",
             "gridcolor": "white",
             "linecolor": "white",
             "minorgridcolor": "white",
             "startlinecolor": "#2a3f5f"
            },
            "baxis": {
             "endlinecolor": "#2a3f5f",
             "gridcolor": "white",
             "linecolor": "white",
             "minorgridcolor": "white",
             "startlinecolor": "#2a3f5f"
            },
            "type": "carpet"
           }
          ],
          "choropleth": [
           {
            "colorbar": {
             "outlinewidth": 0,
             "ticks": ""
            },
            "type": "choropleth"
           }
          ],
          "contour": [
           {
            "colorbar": {
             "outlinewidth": 0,
             "ticks": ""
            },
            "colorscale": [
             [
              0,
              "#0d0887"
             ],
             [
              0.1111111111111111,
              "#46039f"
             ],
             [
              0.2222222222222222,
              "#7201a8"
             ],
             [
              0.3333333333333333,
              "#9c179e"
             ],
             [
              0.4444444444444444,
              "#bd3786"
             ],
             [
              0.5555555555555556,
              "#d8576b"
             ],
             [
              0.6666666666666666,
              "#ed7953"
             ],
             [
              0.7777777777777778,
              "#fb9f3a"
             ],
             [
              0.8888888888888888,
              "#fdca26"
             ],
             [
              1,
              "#f0f921"
             ]
            ],
            "type": "contour"
           }
          ],
          "contourcarpet": [
           {
            "colorbar": {
             "outlinewidth": 0,
             "ticks": ""
            },
            "type": "contourcarpet"
           }
          ],
          "heatmap": [
           {
            "colorbar": {
             "outlinewidth": 0,
             "ticks": ""
            },
            "colorscale": [
             [
              0,
              "#0d0887"
             ],
             [
              0.1111111111111111,
              "#46039f"
             ],
             [
              0.2222222222222222,
              "#7201a8"
             ],
             [
              0.3333333333333333,
              "#9c179e"
             ],
             [
              0.4444444444444444,
              "#bd3786"
             ],
             [
              0.5555555555555556,
              "#d8576b"
             ],
             [
              0.6666666666666666,
              "#ed7953"
             ],
             [
              0.7777777777777778,
              "#fb9f3a"
             ],
             [
              0.8888888888888888,
              "#fdca26"
             ],
             [
              1,
              "#f0f921"
             ]
            ],
            "type": "heatmap"
           }
          ],
          "histogram": [
           {
            "marker": {
             "pattern": {
              "fillmode": "overlay",
              "size": 10,
              "solidity": 0.2
             }
            },
            "type": "histogram"
           }
          ],
          "histogram2d": [
           {
            "colorbar": {
             "outlinewidth": 0,
             "ticks": ""
            },
            "colorscale": [
             [
              0,
              "#0d0887"
             ],
             [
              0.1111111111111111,
              "#46039f"
             ],
             [
              0.2222222222222222,
              "#7201a8"
             ],
             [
              0.3333333333333333,
              "#9c179e"
             ],
             [
              0.4444444444444444,
              "#bd3786"
             ],
             [
              0.5555555555555556,
              "#d8576b"
             ],
             [
              0.6666666666666666,
              "#ed7953"
             ],
             [
              0.7777777777777778,
              "#fb9f3a"
             ],
             [
              0.8888888888888888,
              "#fdca26"
             ],
             [
              1,
              "#f0f921"
             ]
            ],
            "type": "histogram2d"
           }
          ],
          "histogram2dcontour": [
           {
            "colorbar": {
             "outlinewidth": 0,
             "ticks": ""
            },
            "colorscale": [
             [
              0,
              "#0d0887"
             ],
             [
              0.1111111111111111,
              "#46039f"
             ],
             [
              0.2222222222222222,
              "#7201a8"
             ],
             [
              0.3333333333333333,
              "#9c179e"
             ],
             [
              0.4444444444444444,
              "#bd3786"
             ],
             [
              0.5555555555555556,
              "#d8576b"
             ],
             [
              0.6666666666666666,
              "#ed7953"
             ],
             [
              0.7777777777777778,
              "#fb9f3a"
             ],
             [
              0.8888888888888888,
              "#fdca26"
             ],
             [
              1,
              "#f0f921"
             ]
            ],
            "type": "histogram2dcontour"
           }
          ],
          "mesh3d": [
           {
            "colorbar": {
             "outlinewidth": 0,
             "ticks": ""
            },
            "type": "mesh3d"
           }
          ],
          "parcoords": [
           {
            "line": {
             "colorbar": {
              "outlinewidth": 0,
              "ticks": ""
             }
            },
            "type": "parcoords"
           }
          ],
          "pie": [
           {
            "automargin": true,
            "type": "pie"
           }
          ],
          "scatter": [
           {
            "fillpattern": {
             "fillmode": "overlay",
             "size": 10,
             "solidity": 0.2
            },
            "type": "scatter"
           }
          ],
          "scatter3d": [
           {
            "line": {
             "colorbar": {
              "outlinewidth": 0,
              "ticks": ""
             }
            },
            "marker": {
             "colorbar": {
              "outlinewidth": 0,
              "ticks": ""
             }
            },
            "type": "scatter3d"
           }
          ],
          "scattercarpet": [
           {
            "marker": {
             "colorbar": {
              "outlinewidth": 0,
              "ticks": ""
             }
            },
            "type": "scattercarpet"
           }
          ],
          "scattergeo": [
           {
            "marker": {
             "colorbar": {
              "outlinewidth": 0,
              "ticks": ""
             }
            },
            "type": "scattergeo"
           }
          ],
          "scattergl": [
           {
            "marker": {
             "colorbar": {
              "outlinewidth": 0,
              "ticks": ""
             }
            },
            "type": "scattergl"
           }
          ],
          "scattermap": [
           {
            "marker": {
             "colorbar": {
              "outlinewidth": 0,
              "ticks": ""
             }
            },
            "type": "scattermap"
           }
          ],
          "scattermapbox": [
           {
            "marker": {
             "colorbar": {
              "outlinewidth": 0,
              "ticks": ""
             }
            },
            "type": "scattermapbox"
           }
          ],
          "scatterpolar": [
           {
            "marker": {
             "colorbar": {
              "outlinewidth": 0,
              "ticks": ""
             }
            },
            "type": "scatterpolar"
           }
          ],
          "scatterpolargl": [
           {
            "marker": {
             "colorbar": {
              "outlinewidth": 0,
              "ticks": ""
             }
            },
            "type": "scatterpolargl"
           }
          ],
          "scatterternary": [
           {
            "marker": {
             "colorbar": {
              "outlinewidth": 0,
              "ticks": ""
             }
            },
            "type": "scatterternary"
           }
          ],
          "surface": [
           {
            "colorbar": {
             "outlinewidth": 0,
             "ticks": ""
            },
            "colorscale": [
             [
              0,
              "#0d0887"
             ],
             [
              0.1111111111111111,
              "#46039f"
             ],
             [
              0.2222222222222222,
              "#7201a8"
             ],
             [
              0.3333333333333333,
              "#9c179e"
             ],
             [
              0.4444444444444444,
              "#bd3786"
             ],
             [
              0.5555555555555556,
              "#d8576b"
             ],
             [
              0.6666666666666666,
              "#ed7953"
             ],
             [
              0.7777777777777778,
              "#fb9f3a"
             ],
             [
              0.8888888888888888,
              "#fdca26"
             ],
             [
              1,
              "#f0f921"
             ]
            ],
            "type": "surface"
           }
          ],
          "table": [
           {
            "cells": {
             "fill": {
              "color": "#EBF0F8"
             },
             "line": {
              "color": "white"
             }
            },
            "header": {
             "fill": {
              "color": "#C8D4E3"
             },
             "line": {
              "color": "white"
             }
            },
            "type": "table"
           }
          ]
         },
         "layout": {
          "annotationdefaults": {
           "arrowcolor": "#2a3f5f",
           "arrowhead": 0,
           "arrowwidth": 1
          },
          "autotypenumbers": "strict",
          "coloraxis": {
           "colorbar": {
            "outlinewidth": 0,
            "ticks": ""
           }
          },
          "colorscale": {
           "diverging": [
            [
             0,
             "#8e0152"
            ],
            [
             0.1,
             "#c51b7d"
            ],
            [
             0.2,
             "#de77ae"
            ],
            [
             0.3,
             "#f1b6da"
            ],
            [
             0.4,
             "#fde0ef"
            ],
            [
             0.5,
             "#f7f7f7"
            ],
            [
             0.6,
             "#e6f5d0"
            ],
            [
             0.7,
             "#b8e186"
            ],
            [
             0.8,
             "#7fbc41"
            ],
            [
             0.9,
             "#4d9221"
            ],
            [
             1,
             "#276419"
            ]
           ],
           "sequential": [
            [
             0,
             "#0d0887"
            ],
            [
             0.1111111111111111,
             "#46039f"
            ],
            [
             0.2222222222222222,
             "#7201a8"
            ],
            [
             0.3333333333333333,
             "#9c179e"
            ],
            [
             0.4444444444444444,
             "#bd3786"
            ],
            [
             0.5555555555555556,
             "#d8576b"
            ],
            [
             0.6666666666666666,
             "#ed7953"
            ],
            [
             0.7777777777777778,
             "#fb9f3a"
            ],
            [
             0.8888888888888888,
             "#fdca26"
            ],
            [
             1,
             "#f0f921"
            ]
           ],
           "sequentialminus": [
            [
             0,
             "#0d0887"
            ],
            [
             0.1111111111111111,
             "#46039f"
            ],
            [
             0.2222222222222222,
             "#7201a8"
            ],
            [
             0.3333333333333333,
             "#9c179e"
            ],
            [
             0.4444444444444444,
             "#bd3786"
            ],
            [
             0.5555555555555556,
             "#d8576b"
            ],
            [
             0.6666666666666666,
             "#ed7953"
            ],
            [
             0.7777777777777778,
             "#fb9f3a"
            ],
            [
             0.8888888888888888,
             "#fdca26"
            ],
            [
             1,
             "#f0f921"
            ]
           ]
          },
          "colorway": [
           "#636efa",
           "#EF553B",
           "#00cc96",
           "#ab63fa",
           "#FFA15A",
           "#19d3f3",
           "#FF6692",
           "#B6E880",
           "#FF97FF",
           "#FECB52"
          ],
          "font": {
           "color": "#2a3f5f"
          },
          "geo": {
           "bgcolor": "white",
           "lakecolor": "white",
           "landcolor": "#E5ECF6",
           "showlakes": true,
           "showland": true,
           "subunitcolor": "white"
          },
          "hoverlabel": {
           "align": "left"
          },
          "hovermode": "closest",
          "mapbox": {
           "style": "light"
          },
          "paper_bgcolor": "white",
          "plot_bgcolor": "#E5ECF6",
          "polar": {
           "angularaxis": {
            "gridcolor": "white",
            "linecolor": "white",
            "ticks": ""
           },
           "bgcolor": "#E5ECF6",
           "radialaxis": {
            "gridcolor": "white",
            "linecolor": "white",
            "ticks": ""
           }
          },
          "scene": {
           "xaxis": {
            "backgroundcolor": "#E5ECF6",
            "gridcolor": "white",
            "gridwidth": 2,
            "linecolor": "white",
            "showbackground": true,
            "ticks": "",
            "zerolinecolor": "white"
           },
           "yaxis": {
            "backgroundcolor": "#E5ECF6",
            "gridcolor": "white",
            "gridwidth": 2,
            "linecolor": "white",
            "showbackground": true,
            "ticks": "",
            "zerolinecolor": "white"
           },
           "zaxis": {
            "backgroundcolor": "#E5ECF6",
            "gridcolor": "white",
            "gridwidth": 2,
            "linecolor": "white",
            "showbackground": true,
            "ticks": "",
            "zerolinecolor": "white"
           }
          },
          "shapedefaults": {
           "line": {
            "color": "#2a3f5f"
           }
          },
          "ternary": {
           "aaxis": {
            "gridcolor": "white",
            "linecolor": "white",
            "ticks": ""
           },
           "baxis": {
            "gridcolor": "white",
            "linecolor": "white",
            "ticks": ""
           },
           "bgcolor": "#E5ECF6",
           "caxis": {
            "gridcolor": "white",
            "linecolor": "white",
            "ticks": ""
           }
          },
          "title": {
           "x": 0.05
          },
          "xaxis": {
           "automargin": true,
           "gridcolor": "white",
           "linecolor": "white",
           "ticks": "",
           "title": {
            "standoff": 15
           },
           "zerolinecolor": "white",
           "zerolinewidth": 2
          },
          "yaxis": {
           "automargin": true,
           "gridcolor": "white",
           "linecolor": "white",
           "ticks": "",
           "title": {
            "standoff": 15
           },
           "zerolinecolor": "white",
           "zerolinewidth": 2
          }
         }
        },
        "title": {
         "text": "conc_silica vs vazao_alimentacao_flotacao"
        },
        "xaxis": {
         "anchor": "y",
         "domain": [
          0,
          1
         ],
         "title": {
          "text": "vazao_alimentacao_flotacao"
         }
        },
        "yaxis": {
         "anchor": "x",
         "domain": [
          0,
          1
         ],
         "title": {
          "text": "conc_silica"
         }
        }
       }
      }
     },
     "metadata": {},
     "output_type": "display_data"
    }
   ],
   "source": [
    "plot_scatter(df_clean, 'vazao_alimentacao_flotacao', 'conc_silica')"
   ]
  },
  {
   "cell_type": "markdown",
   "id": "71e736f1",
   "metadata": {},
   "source": [
    "## Prediction"
   ]
  },
  {
   "cell_type": "code",
   "execution_count": 13,
   "id": "ca9de09f",
   "metadata": {},
   "outputs": [
    {
     "data": {
      "text/plain": [
       "Index(['inicio', 'fim', 'conc_silica', 'conc_fe', 'param_dosagem_amido',\n",
       "       'dosagem_amina_conc_magnetica', 'ph_flotacao_linha01',\n",
       "       'ph_flotacao_linha02', 'densidade_alimentacao_flotacao',\n",
       "       'nivel_celula_li640101', 'TO_LI6401_02', 'nivel_celula_li640201',\n",
       "       'nivel_celula_li640202', 'nivel_celula_li641101',\n",
       "       'nivel_celula_li641102', 'nivel_celula_li641201',\n",
       "       'nivel_celula_li641202', 'nivel_celula_li642101',\n",
       "       'nivel_celula_li642201', 'nivel_celula_li643101',\n",
       "       'nivel_celula_li643201', 'vazao_alimentacao_flotacao', 'operacao',\n",
       "       'duration_min'],\n",
       "      dtype='object')"
      ]
     },
     "execution_count": 13,
     "metadata": {},
     "output_type": "execute_result"
    }
   ],
   "source": [
    "df_clean.columns"
   ]
  },
  {
   "cell_type": "code",
   "execution_count": 14,
   "id": "e3dcbf59",
   "metadata": {},
   "outputs": [
    {
     "name": "stdout",
     "output_type": "stream",
     "text": [
      "(2620, 24)\n",
      "(2620, 24)\n"
     ]
    }
   ],
   "source": [
    "features = df_clean.columns.tolist()\n",
    "drops = ['inicio','fim','conc_fe', 'operacao','duration_min']\n",
    "target = ['conc_silica']    \n",
    "\n",
    "features = list(set(features) - set(drops))\n",
    "features = list(set(features) - set(target))\n",
    "\n",
    "print(df_clean.shape)\n",
    "df_clean.dropna(inplace=True)\n",
    "print(df_clean.shape)\n",
    "df_clean.drop(columns=drops, inplace=True)\n"
   ]
  },
  {
   "cell_type": "code",
   "execution_count": 15,
   "id": "f96c85fb",
   "metadata": {},
   "outputs": [
    {
     "name": "stdout",
     "output_type": "stream",
     "text": [
      "Stage 1 (Quantile) → MAE: 0.1976, MAPE: 52.90%, extremes: 52/524\n",
      "Stage 2 (Silica) → MAE: 1.2320, MAPE: 39.53%\n"
     ]
    },
    {
     "data": {
      "text/plain": [
       "{'quantile_model': Pipeline(steps=[('scaler', StandardScaler()),\n",
       "                 ('rf', RandomForestRegressor(n_estimators=200))]),\n",
       " 'final_model': Pipeline(steps=[('scaler', StandardScaler()),\n",
       "                 ('rf', RandomForestRegressor(n_estimators=200))]),\n",
       " 'test_df':       conc_silica  param_dosagem_amido  dosagem_amina_conc_magnetica  \\\n",
       " 2380         1.54               487.01                        135.00   \n",
       " 100          1.29               490.00                        135.00   \n",
       " 902          1.91               498.77                        148.24   \n",
       " 1253         2.68               490.00                        147.54   \n",
       " 1987         1.61               497.33                        135.00   \n",
       " ...           ...                  ...                           ...   \n",
       " 2310         0.71               492.26                        136.47   \n",
       " 2284         3.19               495.48                        162.56   \n",
       " 547          1.54               492.38                        140.54   \n",
       " 343          2.27               488.25                        151.62   \n",
       " 1352         2.04               500.00                        144.75   \n",
       " \n",
       "       ph_flotacao_linha01  ph_flotacao_linha02  \\\n",
       " 2380                 9.35                 9.49   \n",
       " 100                  9.50                 9.39   \n",
       " 902                  9.48                 9.28   \n",
       " 1253                 9.46                 9.11   \n",
       " 1987                 9.24                 9.52   \n",
       " ...                   ...                  ...   \n",
       " 2310                 9.04                 9.42   \n",
       " 2284                 9.02                 9.35   \n",
       " 547                  9.52                 9.21   \n",
       " 343                  9.47                 8.57   \n",
       " 1352                 8.52                 9.51   \n",
       " \n",
       "       densidade_alimentacao_flotacao  nivel_celula_li640101  TO_LI6401_02  \\\n",
       " 2380                            1.61                 369.87        357.65   \n",
       " 100                             1.63                 360.95        355.25   \n",
       " 902                             1.65                 370.38        364.32   \n",
       " 1253                            1.63                 370.78        379.21   \n",
       " 1987                            1.62                 357.85        352.71   \n",
       " ...                              ...                    ...           ...   \n",
       " 2310                            1.60                 369.51        368.80   \n",
       " 2284                            1.54                 369.10        368.96   \n",
       " 547                             1.63                 369.40        371.13   \n",
       " 343                             1.65                 368.26        369.05   \n",
       " 1352                            1.63                 410.00        369.62   \n",
       " \n",
       "       nivel_celula_li640201  nivel_celula_li640202  ...  \\\n",
       " 2380                 369.45                 346.00  ...   \n",
       " 100                  362.98                 361.10  ...   \n",
       " 902                  364.87                 354.37  ...   \n",
       " 1253                 375.98                 373.27  ...   \n",
       " 1987                 357.82                 359.46  ...   \n",
       " ...                     ...                    ...  ...   \n",
       " 2310                 368.42                 362.74  ...   \n",
       " 2284                 369.35                 368.28  ...   \n",
       " 547                  346.28                 349.06  ...   \n",
       " 343                  370.55                 369.27  ...   \n",
       " 1352                 370.62                 368.42  ...   \n",
       " \n",
       "       nivel_celula_li641102  nivel_celula_li641201  nivel_celula_li641202  \\\n",
       " 2380                 348.26                 278.80                 349.35   \n",
       " 100                  349.70                 351.69                   0.16   \n",
       " 902                  349.25                 349.38                   0.33   \n",
       " 1253                 352.69                 408.04                 350.54   \n",
       " 1987                 409.94                 338.86                 328.51   \n",
       " ...                     ...                    ...                    ...   \n",
       " 2310                 348.65                 203.41                 349.53   \n",
       " 2284                 349.46                 331.35                 350.27   \n",
       " 547                  349.90                 342.00                 343.16   \n",
       " 343                  350.64                 347.93                   0.00   \n",
       " 1352                 349.36                 349.25                 349.79   \n",
       " \n",
       "       nivel_celula_li642101  nivel_celula_li642201  nivel_celula_li643101  \\\n",
       " 2380                 273.14                 315.07                 224.83   \n",
       " 100                  360.84                 362.05                 386.57   \n",
       " 902                  359.42                 356.34                 360.19   \n",
       " 1253                 357.51                 358.35                 341.53   \n",
       " 1987                 356.97                 384.87                 359.55   \n",
       " ...                     ...                    ...                    ...   \n",
       " 2310                 369.94                 410.00                 270.92   \n",
       " 2284                 358.93                 409.98                 295.73   \n",
       " 547                  361.54                 355.78                 359.58   \n",
       " 343                  216.10                 357.39                 360.72   \n",
       " 1352                 375.87                 409.39                 280.13   \n",
       " \n",
       "       nivel_celula_li643201  vazao_alimentacao_flotacao  conc_silica_quantile  \\\n",
       " 2380                 195.92                      716.71                   0.4   \n",
       " 100                  335.17                      717.04                   0.3   \n",
       " 902                  213.66                      813.73                   0.6   \n",
       " 1253                 317.61                      784.96                   0.8   \n",
       " 1987                 326.32                      958.65                   0.5   \n",
       " ...                     ...                         ...                   ...   \n",
       " 2310                 321.05                     1120.17                   0.1   \n",
       " 2284                 254.89                      622.32                   0.8   \n",
       " 547                  326.14                      950.15                   0.4   \n",
       " 343                  313.86                      748.23                   0.7   \n",
       " 1352                 266.54                      735.01                   0.6   \n",
       " \n",
       "       pred_quantile  \n",
       " 2380       0.335720  \n",
       " 100        0.301537  \n",
       " 902        0.540423  \n",
       " 1253       0.646656  \n",
       " 1987       0.230933  \n",
       " ...             ...  \n",
       " 2310       0.388050  \n",
       " 2284       0.663005  \n",
       " 547        0.400478  \n",
       " 343        0.576948  \n",
       " 1352       0.656126  \n",
       " \n",
       " [524 rows x 21 columns],\n",
       " 'quantile_metrics': {'MAE': np.float64(0.19758692948400444),\n",
       "  'MAPE': np.float64(52.90045256664273),\n",
       "  'extremes': 52},\n",
       " 'silica_metrics': {'MAE': np.float64(1.2320355916030534),\n",
       "  'MAPE': np.float64(39.53014959384482)}}"
      ]
     },
     "execution_count": 15,
     "metadata": {},
     "output_type": "execute_result"
    }
   ],
   "source": [
    "res_two = two_stage_quantile_then_conc(df_clean, features)\n",
    "res_two"
   ]
  },
  {
   "cell_type": "code",
   "execution_count": 23,
   "id": "a3f3b911",
   "metadata": {},
   "outputs": [
    {
     "name": "stdout",
     "output_type": "stream",
     "text": [
      "Stage 1 (Percentile) → MAE: 0.1977, MAPE: 157.71%, extremes: 14/1048\n",
      "Stage 2 (Silica) → MAE: 1.3132, MAPE: 41.14%\n"
     ]
    },
    {
     "data": {
      "application/vnd.plotly.v1+json": {
       "config": {
        "plotlyServerURL": "https://plot.ly"
       },
       "data": [
        {
         "hovertemplate": "pred=%{x}<br>Residual=%{y}<extra></extra>",
         "legendgroup": "",
         "marker": {
          "color": "#636efa",
          "symbol": "circle"
         },
         "mode": "markers",
         "name": "",
         "showlegend": false,
         "type": "scattergl",
         "x": {
          "bdata": "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",
          "dtype": "f8"
         },
         "xaxis": "x",
         "y": {
          "bdata": "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",
          "dtype": "f8"
         },
         "yaxis": "y"
        }
       ],
       "layout": {
        "legend": {
         "tracegroupgap": 0
        },
        "shapes": [
         {
          "line": {
           "color": "red",
           "dash": "dash"
          },
          "type": "line",
          "x0": 0,
          "x1": 1,
          "xref": "x domain",
          "y0": 0,
          "y1": 0,
          "yref": "y"
         }
        ],
        "template": {
         "data": {
          "bar": [
           {
            "error_x": {
             "color": "#2a3f5f"
            },
            "error_y": {
             "color": "#2a3f5f"
            },
            "marker": {
             "line": {
              "color": "#E5ECF6",
              "width": 0.5
             },
             "pattern": {
              "fillmode": "overlay",
              "size": 10,
              "solidity": 0.2
             }
            },
            "type": "bar"
           }
          ],
          "barpolar": [
           {
            "marker": {
             "line": {
              "color": "#E5ECF6",
              "width": 0.5
             },
             "pattern": {
              "fillmode": "overlay",
              "size": 10,
              "solidity": 0.2
             }
            },
            "type": "barpolar"
           }
          ],
          "carpet": [
           {
            "aaxis": {
             "endlinecolor": "#2a3f5f",
             "gridcolor": "white",
             "linecolor": "white",
             "minorgridcolor": "white",
             "startlinecolor": "#2a3f5f"
            },
            "baxis": {
             "endlinecolor": "#2a3f5f",
             "gridcolor": "white",
             "linecolor": "white",
             "minorgridcolor": "white",
             "startlinecolor": "#2a3f5f"
            },
            "type": "carpet"
           }
          ],
          "choropleth": [
           {
            "colorbar": {
             "outlinewidth": 0,
             "ticks": ""
            },
            "type": "choropleth"
           }
          ],
          "contour": [
           {
            "colorbar": {
             "outlinewidth": 0,
             "ticks": ""
            },
            "colorscale": [
             [
              0,
              "#0d0887"
             ],
             [
              0.1111111111111111,
              "#46039f"
             ],
             [
              0.2222222222222222,
              "#7201a8"
             ],
             [
              0.3333333333333333,
              "#9c179e"
             ],
             [
              0.4444444444444444,
              "#bd3786"
             ],
             [
              0.5555555555555556,
              "#d8576b"
             ],
             [
              0.6666666666666666,
              "#ed7953"
             ],
             [
              0.7777777777777778,
              "#fb9f3a"
             ],
             [
              0.8888888888888888,
              "#fdca26"
             ],
             [
              1,
              "#f0f921"
             ]
            ],
            "type": "contour"
           }
          ],
          "contourcarpet": [
           {
            "colorbar": {
             "outlinewidth": 0,
             "ticks": ""
            },
            "type": "contourcarpet"
           }
          ],
          "heatmap": [
           {
            "colorbar": {
             "outlinewidth": 0,
             "ticks": ""
            },
            "colorscale": [
             [
              0,
              "#0d0887"
             ],
             [
              0.1111111111111111,
              "#46039f"
             ],
             [
              0.2222222222222222,
              "#7201a8"
             ],
             [
              0.3333333333333333,
              "#9c179e"
             ],
             [
              0.4444444444444444,
              "#bd3786"
             ],
             [
              0.5555555555555556,
              "#d8576b"
             ],
             [
              0.6666666666666666,
              "#ed7953"
             ],
             [
              0.7777777777777778,
              "#fb9f3a"
             ],
             [
              0.8888888888888888,
              "#fdca26"
             ],
             [
              1,
              "#f0f921"
             ]
            ],
            "type": "heatmap"
           }
          ],
          "histogram": [
           {
            "marker": {
             "pattern": {
              "fillmode": "overlay",
              "size": 10,
              "solidity": 0.2
             }
            },
            "type": "histogram"
           }
          ],
          "histogram2d": [
           {
            "colorbar": {
             "outlinewidth": 0,
             "ticks": ""
            },
            "colorscale": [
             [
              0,
              "#0d0887"
             ],
             [
              0.1111111111111111,
              "#46039f"
             ],
             [
              0.2222222222222222,
              "#7201a8"
             ],
             [
              0.3333333333333333,
              "#9c179e"
             ],
             [
              0.4444444444444444,
              "#bd3786"
             ],
             [
              0.5555555555555556,
              "#d8576b"
             ],
             [
              0.6666666666666666,
              "#ed7953"
             ],
             [
              0.7777777777777778,
              "#fb9f3a"
             ],
             [
              0.8888888888888888,
              "#fdca26"
             ],
             [
              1,
              "#f0f921"
             ]
            ],
            "type": "histogram2d"
           }
          ],
          "histogram2dcontour": [
           {
            "colorbar": {
             "outlinewidth": 0,
             "ticks": ""
            },
            "colorscale": [
             [
              0,
              "#0d0887"
             ],
             [
              0.1111111111111111,
              "#46039f"
             ],
             [
              0.2222222222222222,
              "#7201a8"
             ],
             [
              0.3333333333333333,
              "#9c179e"
             ],
             [
              0.4444444444444444,
              "#bd3786"
             ],
             [
              0.5555555555555556,
              "#d8576b"
             ],
             [
              0.6666666666666666,
              "#ed7953"
             ],
             [
              0.7777777777777778,
              "#fb9f3a"
             ],
             [
              0.8888888888888888,
              "#fdca26"
             ],
             [
              1,
              "#f0f921"
             ]
            ],
            "type": "histogram2dcontour"
           }
          ],
          "mesh3d": [
           {
            "colorbar": {
             "outlinewidth": 0,
             "ticks": ""
            },
            "type": "mesh3d"
           }
          ],
          "parcoords": [
           {
            "line": {
             "colorbar": {
              "outlinewidth": 0,
              "ticks": ""
             }
            },
            "type": "parcoords"
           }
          ],
          "pie": [
           {
            "automargin": true,
            "type": "pie"
           }
          ],
          "scatter": [
           {
            "fillpattern": {
             "fillmode": "overlay",
             "size": 10,
             "solidity": 0.2
            },
            "type": "scatter"
           }
          ],
          "scatter3d": [
           {
            "line": {
             "colorbar": {
              "outlinewidth": 0,
              "ticks": ""
             }
            },
            "marker": {
             "colorbar": {
              "outlinewidth": 0,
              "ticks": ""
             }
            },
            "type": "scatter3d"
           }
          ],
          "scattercarpet": [
           {
            "marker": {
             "colorbar": {
              "outlinewidth": 0,
              "ticks": ""
             }
            },
            "type": "scattercarpet"
           }
          ],
          "scattergeo": [
           {
            "marker": {
             "colorbar": {
              "outlinewidth": 0,
              "ticks": ""
             }
            },
            "type": "scattergeo"
           }
          ],
          "scattergl": [
           {
            "marker": {
             "colorbar": {
              "outlinewidth": 0,
              "ticks": ""
             }
            },
            "type": "scattergl"
           }
          ],
          "scattermap": [
           {
            "marker": {
             "colorbar": {
              "outlinewidth": 0,
              "ticks": ""
             }
            },
            "type": "scattermap"
           }
          ],
          "scattermapbox": [
           {
            "marker": {
             "colorbar": {
              "outlinewidth": 0,
              "ticks": ""
             }
            },
            "type": "scattermapbox"
           }
          ],
          "scatterpolar": [
           {
            "marker": {
             "colorbar": {
              "outlinewidth": 0,
              "ticks": ""
             }
            },
            "type": "scatterpolar"
           }
          ],
          "scatterpolargl": [
           {
            "marker": {
             "colorbar": {
              "outlinewidth": 0,
              "ticks": ""
             }
            },
            "type": "scatterpolargl"
           }
          ],
          "scatterternary": [
           {
            "marker": {
             "colorbar": {
              "outlinewidth": 0,
              "ticks": ""
             }
            },
            "type": "scatterternary"
           }
          ],
          "surface": [
           {
            "colorbar": {
             "outlinewidth": 0,
             "ticks": ""
            },
            "colorscale": [
             [
              0,
              "#0d0887"
             ],
             [
              0.1111111111111111,
              "#46039f"
             ],
             [
              0.2222222222222222,
              "#7201a8"
             ],
             [
              0.3333333333333333,
              "#9c179e"
             ],
             [
              0.4444444444444444,
              "#bd3786"
             ],
             [
              0.5555555555555556,
              "#d8576b"
             ],
             [
              0.6666666666666666,
              "#ed7953"
             ],
             [
              0.7777777777777778,
              "#fb9f3a"
             ],
             [
              0.8888888888888888,
              "#fdca26"
             ],
             [
              1,
              "#f0f921"
             ]
            ],
            "type": "surface"
           }
          ],
          "table": [
           {
            "cells": {
             "fill": {
              "color": "#EBF0F8"
             },
             "line": {
              "color": "white"
             }
            },
            "header": {
             "fill": {
              "color": "#C8D4E3"
             },
             "line": {
              "color": "white"
             }
            },
            "type": "table"
           }
          ]
         },
         "layout": {
          "annotationdefaults": {
           "arrowcolor": "#2a3f5f",
           "arrowhead": 0,
           "arrowwidth": 1
          },
          "autotypenumbers": "strict",
          "coloraxis": {
           "colorbar": {
            "outlinewidth": 0,
            "ticks": ""
           }
          },
          "colorscale": {
           "diverging": [
            [
             0,
             "#8e0152"
            ],
            [
             0.1,
             "#c51b7d"
            ],
            [
             0.2,
             "#de77ae"
            ],
            [
             0.3,
             "#f1b6da"
            ],
            [
             0.4,
             "#fde0ef"
            ],
            [
             0.5,
             "#f7f7f7"
            ],
            [
             0.6,
             "#e6f5d0"
            ],
            [
             0.7,
             "#b8e186"
            ],
            [
             0.8,
             "#7fbc41"
            ],
            [
             0.9,
             "#4d9221"
            ],
            [
             1,
             "#276419"
            ]
           ],
           "sequential": [
            [
             0,
             "#0d0887"
            ],
            [
             0.1111111111111111,
             "#46039f"
            ],
            [
             0.2222222222222222,
             "#7201a8"
            ],
            [
             0.3333333333333333,
             "#9c179e"
            ],
            [
             0.4444444444444444,
             "#bd3786"
            ],
            [
             0.5555555555555556,
             "#d8576b"
            ],
            [
             0.6666666666666666,
             "#ed7953"
            ],
            [
             0.7777777777777778,
             "#fb9f3a"
            ],
            [
             0.8888888888888888,
             "#fdca26"
            ],
            [
             1,
             "#f0f921"
            ]
           ],
           "sequentialminus": [
            [
             0,
             "#0d0887"
            ],
            [
             0.1111111111111111,
             "#46039f"
            ],
            [
             0.2222222222222222,
             "#7201a8"
            ],
            [
             0.3333333333333333,
             "#9c179e"
            ],
            [
             0.4444444444444444,
             "#bd3786"
            ],
            [
             0.5555555555555556,
             "#d8576b"
            ],
            [
             0.6666666666666666,
             "#ed7953"
            ],
            [
             0.7777777777777778,
             "#fb9f3a"
            ],
            [
             0.8888888888888888,
             "#fdca26"
            ],
            [
             1,
             "#f0f921"
            ]
           ]
          },
          "colorway": [
           "#636efa",
           "#EF553B",
           "#00cc96",
           "#ab63fa",
           "#FFA15A",
           "#19d3f3",
           "#FF6692",
           "#B6E880",
           "#FF97FF",
           "#FECB52"
          ],
          "font": {
           "color": "#2a3f5f"
          },
          "geo": {
           "bgcolor": "white",
           "lakecolor": "white",
           "landcolor": "#E5ECF6",
           "showlakes": true,
           "showland": true,
           "subunitcolor": "white"
          },
          "hoverlabel": {
           "align": "left"
          },
          "hovermode": "closest",
          "mapbox": {
           "style": "light"
          },
          "paper_bgcolor": "white",
          "plot_bgcolor": "#E5ECF6",
          "polar": {
           "angularaxis": {
            "gridcolor": "white",
            "linecolor": "white",
            "ticks": ""
           },
           "bgcolor": "#E5ECF6",
           "radialaxis": {
            "gridcolor": "white",
            "linecolor": "white",
            "ticks": ""
           }
          },
          "scene": {
           "xaxis": {
            "backgroundcolor": "#E5ECF6",
            "gridcolor": "white",
            "gridwidth": 2,
            "linecolor": "white",
            "showbackground": true,
            "ticks": "",
            "zerolinecolor": "white"
           },
           "yaxis": {
            "backgroundcolor": "#E5ECF6",
            "gridcolor": "white",
            "gridwidth": 2,
            "linecolor": "white",
            "showbackground": true,
            "ticks": "",
            "zerolinecolor": "white"
           },
           "zaxis": {
            "backgroundcolor": "#E5ECF6",
            "gridcolor": "white",
            "gridwidth": 2,
            "linecolor": "white",
            "showbackground": true,
            "ticks": "",
            "zerolinecolor": "white"
           }
          },
          "shapedefaults": {
           "line": {
            "color": "#2a3f5f"
           }
          },
          "ternary": {
           "aaxis": {
            "gridcolor": "white",
            "linecolor": "white",
            "ticks": ""
           },
           "baxis": {
            "gridcolor": "white",
            "linecolor": "white",
            "ticks": ""
           },
           "bgcolor": "#E5ECF6",
           "caxis": {
            "gridcolor": "white",
            "linecolor": "white",
            "ticks": ""
           }
          },
          "title": {
           "x": 0.05
          },
          "xaxis": {
           "automargin": true,
           "gridcolor": "white",
           "linecolor": "white",
           "ticks": "",
           "title": {
            "standoff": 15
           },
           "zerolinecolor": "white",
           "zerolinewidth": 2
          },
          "yaxis": {
           "automargin": true,
           "gridcolor": "white",
           "linecolor": "white",
           "ticks": "",
           "title": {
            "standoff": 15
           },
           "zerolinecolor": "white",
           "zerolinewidth": 2
          }
         }
        },
        "title": {
         "text": "Residuals vs. Predicted Values"
        },
        "xaxis": {
         "anchor": "y",
         "domain": [
          0,
          1
         ],
         "title": {
          "text": "pred"
         }
        },
        "yaxis": {
         "anchor": "x",
         "domain": [
          0,
          1
         ],
         "title": {
          "text": "Residual"
         }
        }
       }
      }
     },
     "metadata": {},
     "output_type": "display_data"
    },
    {
     "data": {
      "application/vnd.plotly.v1+json": {
       "config": {
        "plotlyServerURL": "https://plot.ly"
       },
       "data": [
        {
         "hovertemplate": "conc_silica=%{x}<br>Residual=%{y}<extra></extra>",
         "legendgroup": "",
         "marker": {
          "color": "#636efa",
          "symbol": "circle"
         },
         "mode": "markers",
         "name": "",
         "showlegend": false,
         "type": "scattergl",
         "x": {
          "bdata": "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",
          "dtype": "f8"
         },
         "xaxis": "x",
         "y": {
          "bdata": "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",
          "dtype": "f8"
         },
         "yaxis": "y"
        }
       ],
       "layout": {
        "legend": {
         "tracegroupgap": 0
        },
        "shapes": [
         {
          "line": {
           "color": "red",
           "dash": "dash"
          },
          "type": "line",
          "x0": 0,
          "x1": 1,
          "xref": "x domain",
          "y0": 0,
          "y1": 0,
          "yref": "y"
         }
        ],
        "template": {
         "data": {
          "bar": [
           {
            "error_x": {
             "color": "#2a3f5f"
            },
            "error_y": {
             "color": "#2a3f5f"
            },
            "marker": {
             "line": {
              "color": "#E5ECF6",
              "width": 0.5
             },
             "pattern": {
              "fillmode": "overlay",
              "size": 10,
              "solidity": 0.2
             }
            },
            "type": "bar"
           }
          ],
          "barpolar": [
           {
            "marker": {
             "line": {
              "color": "#E5ECF6",
              "width": 0.5
             },
             "pattern": {
              "fillmode": "overlay",
              "size": 10,
              "solidity": 0.2
             }
            },
            "type": "barpolar"
           }
          ],
          "carpet": [
           {
            "aaxis": {
             "endlinecolor": "#2a3f5f",
             "gridcolor": "white",
             "linecolor": "white",
             "minorgridcolor": "white",
             "startlinecolor": "#2a3f5f"
            },
            "baxis": {
             "endlinecolor": "#2a3f5f",
             "gridcolor": "white",
             "linecolor": "white",
             "minorgridcolor": "white",
             "startlinecolor": "#2a3f5f"
            },
            "type": "carpet"
           }
          ],
          "choropleth": [
           {
            "colorbar": {
             "outlinewidth": 0,
             "ticks": ""
            },
            "type": "choropleth"
           }
          ],
          "contour": [
           {
            "colorbar": {
             "outlinewidth": 0,
             "ticks": ""
            },
            "colorscale": [
             [
              0,
              "#0d0887"
             ],
             [
              0.1111111111111111,
              "#46039f"
             ],
             [
              0.2222222222222222,
              "#7201a8"
             ],
             [
              0.3333333333333333,
              "#9c179e"
             ],
             [
              0.4444444444444444,
              "#bd3786"
             ],
             [
              0.5555555555555556,
              "#d8576b"
             ],
             [
              0.6666666666666666,
              "#ed7953"
             ],
             [
              0.7777777777777778,
              "#fb9f3a"
             ],
             [
              0.8888888888888888,
              "#fdca26"
             ],
             [
              1,
              "#f0f921"
             ]
            ],
            "type": "contour"
           }
          ],
          "contourcarpet": [
           {
            "colorbar": {
             "outlinewidth": 0,
             "ticks": ""
            },
            "type": "contourcarpet"
           }
          ],
          "heatmap": [
           {
            "colorbar": {
             "outlinewidth": 0,
             "ticks": ""
            },
            "colorscale": [
             [
              0,
              "#0d0887"
             ],
             [
              0.1111111111111111,
              "#46039f"
             ],
             [
              0.2222222222222222,
              "#7201a8"
             ],
             [
              0.3333333333333333,
              "#9c179e"
             ],
             [
              0.4444444444444444,
              "#bd3786"
             ],
             [
              0.5555555555555556,
              "#d8576b"
             ],
             [
              0.6666666666666666,
              "#ed7953"
             ],
             [
              0.7777777777777778,
              "#fb9f3a"
             ],
             [
              0.8888888888888888,
              "#fdca26"
             ],
             [
              1,
              "#f0f921"
             ]
            ],
            "type": "heatmap"
           }
          ],
          "histogram": [
           {
            "marker": {
             "pattern": {
              "fillmode": "overlay",
              "size": 10,
              "solidity": 0.2
             }
            },
            "type": "histogram"
           }
          ],
          "histogram2d": [
           {
            "colorbar": {
             "outlinewidth": 0,
             "ticks": ""
            },
            "colorscale": [
             [
              0,
              "#0d0887"
             ],
             [
              0.1111111111111111,
              "#46039f"
             ],
             [
              0.2222222222222222,
              "#7201a8"
             ],
             [
              0.3333333333333333,
              "#9c179e"
             ],
             [
              0.4444444444444444,
              "#bd3786"
             ],
             [
              0.5555555555555556,
              "#d8576b"
             ],
             [
              0.6666666666666666,
              "#ed7953"
             ],
             [
              0.7777777777777778,
              "#fb9f3a"
             ],
             [
              0.8888888888888888,
              "#fdca26"
             ],
             [
              1,
              "#f0f921"
             ]
            ],
            "type": "histogram2d"
           }
          ],
          "histogram2dcontour": [
           {
            "colorbar": {
             "outlinewidth": 0,
             "ticks": ""
            },
            "colorscale": [
             [
              0,
              "#0d0887"
             ],
             [
              0.1111111111111111,
              "#46039f"
             ],
             [
              0.2222222222222222,
              "#7201a8"
             ],
             [
              0.3333333333333333,
              "#9c179e"
             ],
             [
              0.4444444444444444,
              "#bd3786"
             ],
             [
              0.5555555555555556,
              "#d8576b"
             ],
             [
              0.6666666666666666,
              "#ed7953"
             ],
             [
              0.7777777777777778,
              "#fb9f3a"
             ],
             [
              0.8888888888888888,
              "#fdca26"
             ],
             [
              1,
              "#f0f921"
             ]
            ],
            "type": "histogram2dcontour"
           }
          ],
          "mesh3d": [
           {
            "colorbar": {
             "outlinewidth": 0,
             "ticks": ""
            },
            "type": "mesh3d"
           }
          ],
          "parcoords": [
           {
            "line": {
             "colorbar": {
              "outlinewidth": 0,
              "ticks": ""
             }
            },
            "type": "parcoords"
           }
          ],
          "pie": [
           {
            "automargin": true,
            "type": "pie"
           }
          ],
          "scatter": [
           {
            "fillpattern": {
             "fillmode": "overlay",
             "size": 10,
             "solidity": 0.2
            },
            "type": "scatter"
           }
          ],
          "scatter3d": [
           {
            "line": {
             "colorbar": {
              "outlinewidth": 0,
              "ticks": ""
             }
            },
            "marker": {
             "colorbar": {
              "outlinewidth": 0,
              "ticks": ""
             }
            },
            "type": "scatter3d"
           }
          ],
          "scattercarpet": [
           {
            "marker": {
             "colorbar": {
              "outlinewidth": 0,
              "ticks": ""
             }
            },
            "type": "scattercarpet"
           }
          ],
          "scattergeo": [
           {
            "marker": {
             "colorbar": {
              "outlinewidth": 0,
              "ticks": ""
             }
            },
            "type": "scattergeo"
           }
          ],
          "scattergl": [
           {
            "marker": {
             "colorbar": {
              "outlinewidth": 0,
              "ticks": ""
             }
            },
            "type": "scattergl"
           }
          ],
          "scattermap": [
           {
            "marker": {
             "colorbar": {
              "outlinewidth": 0,
              "ticks": ""
             }
            },
            "type": "scattermap"
           }
          ],
          "scattermapbox": [
           {
            "marker": {
             "colorbar": {
              "outlinewidth": 0,
              "ticks": ""
             }
            },
            "type": "scattermapbox"
           }
          ],
          "scatterpolar": [
           {
            "marker": {
             "colorbar": {
              "outlinewidth": 0,
              "ticks": ""
             }
            },
            "type": "scatterpolar"
           }
          ],
          "scatterpolargl": [
           {
            "marker": {
             "colorbar": {
              "outlinewidth": 0,
              "ticks": ""
             }
            },
            "type": "scatterpolargl"
           }
          ],
          "scatterternary": [
           {
            "marker": {
             "colorbar": {
              "outlinewidth": 0,
              "ticks": ""
             }
            },
            "type": "scatterternary"
           }
          ],
          "surface": [
           {
            "colorbar": {
             "outlinewidth": 0,
             "ticks": ""
            },
            "colorscale": [
             [
              0,
              "#0d0887"
             ],
             [
              0.1111111111111111,
              "#46039f"
             ],
             [
              0.2222222222222222,
              "#7201a8"
             ],
             [
              0.3333333333333333,
              "#9c179e"
             ],
             [
              0.4444444444444444,
              "#bd3786"
             ],
             [
              0.5555555555555556,
              "#d8576b"
             ],
             [
              0.6666666666666666,
              "#ed7953"
             ],
             [
              0.7777777777777778,
              "#fb9f3a"
             ],
             [
              0.8888888888888888,
              "#fdca26"
             ],
             [
              1,
              "#f0f921"
             ]
            ],
            "type": "surface"
           }
          ],
          "table": [
           {
            "cells": {
             "fill": {
              "color": "#EBF0F8"
             },
             "line": {
              "color": "white"
             }
            },
            "header": {
             "fill": {
              "color": "#C8D4E3"
             },
             "line": {
              "color": "white"
             }
            },
            "type": "table"
           }
          ]
         },
         "layout": {
          "annotationdefaults": {
           "arrowcolor": "#2a3f5f",
           "arrowhead": 0,
           "arrowwidth": 1
          },
          "autotypenumbers": "strict",
          "coloraxis": {
           "colorbar": {
            "outlinewidth": 0,
            "ticks": ""
           }
          },
          "colorscale": {
           "diverging": [
            [
             0,
             "#8e0152"
            ],
            [
             0.1,
             "#c51b7d"
            ],
            [
             0.2,
             "#de77ae"
            ],
            [
             0.3,
             "#f1b6da"
            ],
            [
             0.4,
             "#fde0ef"
            ],
            [
             0.5,
             "#f7f7f7"
            ],
            [
             0.6,
             "#e6f5d0"
            ],
            [
             0.7,
             "#b8e186"
            ],
            [
             0.8,
             "#7fbc41"
            ],
            [
             0.9,
             "#4d9221"
            ],
            [
             1,
             "#276419"
            ]
           ],
           "sequential": [
            [
             0,
             "#0d0887"
            ],
            [
             0.1111111111111111,
             "#46039f"
            ],
            [
             0.2222222222222222,
             "#7201a8"
            ],
            [
             0.3333333333333333,
             "#9c179e"
            ],
            [
             0.4444444444444444,
             "#bd3786"
            ],
            [
             0.5555555555555556,
             "#d8576b"
            ],
            [
             0.6666666666666666,
             "#ed7953"
            ],
            [
             0.7777777777777778,
             "#fb9f3a"
            ],
            [
             0.8888888888888888,
             "#fdca26"
            ],
            [
             1,
             "#f0f921"
            ]
           ],
           "sequentialminus": [
            [
             0,
             "#0d0887"
            ],
            [
             0.1111111111111111,
             "#46039f"
            ],
            [
             0.2222222222222222,
             "#7201a8"
            ],
            [
             0.3333333333333333,
             "#9c179e"
            ],
            [
             0.4444444444444444,
             "#bd3786"
            ],
            [
             0.5555555555555556,
             "#d8576b"
            ],
            [
             0.6666666666666666,
             "#ed7953"
            ],
            [
             0.7777777777777778,
             "#fb9f3a"
            ],
            [
             0.8888888888888888,
             "#fdca26"
            ],
            [
             1,
             "#f0f921"
            ]
           ]
          },
          "colorway": [
           "#636efa",
           "#EF553B",
           "#00cc96",
           "#ab63fa",
           "#FFA15A",
           "#19d3f3",
           "#FF6692",
           "#B6E880",
           "#FF97FF",
           "#FECB52"
          ],
          "font": {
           "color": "#2a3f5f"
          },
          "geo": {
           "bgcolor": "white",
           "lakecolor": "white",
           "landcolor": "#E5ECF6",
           "showlakes": true,
           "showland": true,
           "subunitcolor": "white"
          },
          "hoverlabel": {
           "align": "left"
          },
          "hovermode": "closest",
          "mapbox": {
           "style": "light"
          },
          "paper_bgcolor": "white",
          "plot_bgcolor": "#E5ECF6",
          "polar": {
           "angularaxis": {
            "gridcolor": "white",
            "linecolor": "white",
            "ticks": ""
           },
           "bgcolor": "#E5ECF6",
           "radialaxis": {
            "gridcolor": "white",
            "linecolor": "white",
            "ticks": ""
           }
          },
          "scene": {
           "xaxis": {
            "backgroundcolor": "#E5ECF6",
            "gridcolor": "white",
            "gridwidth": 2,
            "linecolor": "white",
            "showbackground": true,
            "ticks": "",
            "zerolinecolor": "white"
           },
           "yaxis": {
            "backgroundcolor": "#E5ECF6",
            "gridcolor": "white",
            "gridwidth": 2,
            "linecolor": "white",
            "showbackground": true,
            "ticks": "",
            "zerolinecolor": "white"
           },
           "zaxis": {
            "backgroundcolor": "#E5ECF6",
            "gridcolor": "white",
            "gridwidth": 2,
            "linecolor": "white",
            "showbackground": true,
            "ticks": "",
            "zerolinecolor": "white"
           }
          },
          "shapedefaults": {
           "line": {
            "color": "#2a3f5f"
           }
          },
          "ternary": {
           "aaxis": {
            "gridcolor": "white",
            "linecolor": "white",
            "ticks": ""
           },
           "baxis": {
            "gridcolor": "white",
            "linecolor": "white",
            "ticks": ""
           },
           "bgcolor": "#E5ECF6",
           "caxis": {
            "gridcolor": "white",
            "linecolor": "white",
            "ticks": ""
           }
          },
          "title": {
           "x": 0.05
          },
          "xaxis": {
           "automargin": true,
           "gridcolor": "white",
           "linecolor": "white",
           "ticks": "",
           "title": {
            "standoff": 15
           },
           "zerolinecolor": "white",
           "zerolinewidth": 2
          },
          "yaxis": {
           "automargin": true,
           "gridcolor": "white",
           "linecolor": "white",
           "ticks": "",
           "title": {
            "standoff": 15
           },
           "zerolinecolor": "white",
           "zerolinewidth": 2
          }
         }
        },
        "title": {
         "text": "Residuals vs. Actual Values"
        },
        "xaxis": {
         "anchor": "y",
         "domain": [
          0,
          1
         ],
         "title": {
          "text": "conc_silica"
         }
        },
        "yaxis": {
         "anchor": "x",
         "domain": [
          0,
          1
         ],
         "title": {
          "text": "Residual"
         }
        }
       }
      }
     },
     "metadata": {},
     "output_type": "display_data"
    },
    {
     "data": {
      "application/vnd.plotly.v1+json": {
       "config": {
        "plotlyServerURL": "https://plot.ly"
       },
       "data": [
        {
         "hovertemplate": "conc_silica=%{x}<br>pred=%{y}<extra></extra>",
         "legendgroup": "",
         "marker": {
          "color": "#636efa",
          "symbol": "circle"
         },
         "mode": "markers",
         "name": "",
         "showlegend": false,
         "type": "scattergl",
         "x": {
          "bdata": "ZmZmZmZm+j+4HoXrUbj6P6RwPQrXIyJAAAAAAAAA9D/D9Shcj8LlP3sUrkfhevA/4XoUrkfh9j+PwvUoXI8MQOxRuB6F6/k/w/UoXI/C7T9mZmZmZmYbQJqZmZmZmfU/ZmZmZmZm8j/D9Shcj8IFQHE9CtejcANACtejcD0K9z8AAAAAAAD4P3E9CtejcPk/PQrXo3A9AEDhehSuR+EAQK5H4XoUrvs/AAAAAAAAAEBSuB6F69EzQFyPwvUoXPM/7FG4HoXr/T+uR+F6FK4HQLgehetRuPI/H4XrUbgeHEAzMzMzMzP3P7gehetRuABACtejcD0K5z+F61G4HoUJQM3MzMzMzPA/zczMzMzM9D8UrkfhehQCQAAAAAAAAAhA9ihcj8L1CkApXI/C9SjkP/YoXI/C9fQ/MzMzMzMz8z+kcD0K16P4P3E9CtejcO0/9ihcj8L1AkBmZmZmZuYiQFyPwvUoXAFA16NwPQrX6z+uR+F6FK7zP4/C9Shcj+o/AAAAAAAA9D+uR+F6FK7/PwrXo3A9CgFAKVyPwvUoBkB7FK5H4XoIQGZmZmZmZu4/16NwPQrXHUC4HoXrUbj2Px+F61G4HvU/mpmZmZmZ8T97FK5H4Xr4P3E9CtejcAtAAAAAAAAA9D89CtejcD0AQEjhehSuRwVAAAAAAAAAEUC4HoXrUbjmP/YoXI/C9RFAuB6F61G4M0DsUbgehesBQK5H4XoUrvM/AAAAAAAAE0DNzMzMzMz4P8P1KFyPwg9AFK5H4XoUF0AUrkfhehQIQMP1KFyPwvE/UrgehetR+D+amZmZmZkTQIXrUbgehfs/mpmZmZmZ+T9mZmZmZmb2P2ZmZmZmZu4/zczMzMzMGEC4HoXrUbj2Pz0K16NwPQBAPQrXo3A99j8K16NwPQr7PwrXo3A9Cvs/j8L1KFyPCkC4HoXrUbjyP6RwPQrXo/w/rkfhehSu9z8K16NwPQoDQClcj8L1KBVA16NwPQrXB0AzMzMzMzP7P/YoXI/C9fA/MzMzMzMzC0AAAAAAAAD0Px+F61G4HvE/zczMzMzMBkBmZmZmZmYAQDMzMzMzM/c/16NwPQrX9z/NzMzMzMz8P+xRuB6F6+k/exSuR+F68D/Xo3A9CtfzP4/C9Shcj/4/CtejcD0KB0BI4XoUrkcHQBSuR+F6FABAhetRuB6F8z+4HoXrUbgXQFK4HoXrUQRAexSuR+F6CEB7FK5H4Xr8PwrXo3A9Cv8/rkfhehSu9z9SuB6F61HwP4XrUbgehQNApHA9Ctej6D+amZmZmZkDQM3MzMzMzPA/mpmZmZmZ6T+amZmZmZn5P9ejcD0K1/8/FK5H4XoU/j8UrkfhehQUQI/C9Shcj+o/exSuR+F68D8AAAAAAAACQPYoXI/C9fw/FK5H4XoU8j+amZmZmZkiQOF6FK5H4fY/MzMzMzMz6z8UrkfhehT+PwrXo3A9ChhAuB6F61G4AECamZmZmZkBQGZmZmZmZhtAUrgehetRBECamZmZmZnxP1yPwvUoXAtAFK5H4XoU8j/Xo3A9Ctf/P1K4HoXrUfQ/XI/C9Shc8z8UrkfhehTuP4XrUbgehfs/pHA9CtejAEDhehSuR+EEQOF6FK5H4QJApHA9CtejCkApXI/C9Sj0P6RwPQrXowJAPQrXo3A96j+kcD0K16MTQMP1KFyPwv0/H4XrUbge8T9xPQrXo3DtP0jhehSuR/U/cT0K16Nw8T9cj8L1KFz7Px+F61G4HgNA4XoUrkfhAEBmZmZmZmb2PwrXo3A9CvM/PQrXo3A9BkDNzMzMzMwCQM3MzMzMzAxAcT0K16NwO0ApXI/C9Sj0P4/C9ShcjwZASOF6FK5H/T/D9Shcj8LxP65H4XoUrgFAMzMzMzMzCUAUrkfhehT2P0jhehSuRwVA7FG4HoXrEkB7FK5H4XoKQHE9CtejcO0/H4XrUbge9T/2KFyPwvX0P+xRuB6F6yNArkfhehSuB0CF61G4HoUBQMP1KFyPwgNACtejcD0KBUBxPQrXo/AmQIXrUbgehQNApHA9Ctej+D9cj8L1KFwBQLgehetRuAJAUrgehetR+D8K16NwPQrvPxSuR+F6FBBApHA9Ctej+D/2KFyPwvUUQIXrUbgehQFArkfhehSu+z/2KFyPwvUAQJqZmZmZmfU/16NwPQrX6z97FK5H4XrsP3E9CtejcAFAKVyPwvUo5D+4HoXrUbjmP7gehetRuP4/pHA9CtejDkBxPQrXo3AoQOxRuB6F6xNA7FG4HoXrAUA9CtejcD32P+F6FK5H4eI/KVyPwvUo8D9xPQrXo3D9P0jhehSuR/0/KVyPwvUo9D97FK5H4XoUQOxRuB6F6/U/uB6F61G4EkB7FK5H4XoWQKRwPQrXowBA4XoUrkfhAEBcj8L1KFwDQEjhehSuRwNAexSuR+F68D+uR+F6FK4eQM3MzMzMzOw/7FG4HoVrK0CPwvUoXI/6P2ZmZmZmZgBAj8L1KFyPFED2KFyPwvXoPwrXo3A9Cu8/MzMzMzMz+z8AAAAAAAAkQHsUrkfhegRAuB6F61G47j+F61G4HoX7P5qZmZmZmQFA9ihcj8L18D9mZmZmZmYhQGZmZmZmZvI/16NwPQrXCUB7FK5H4XoCQPYoXI/C9fA/16NwPQrX/z+uR+F6FK4BQMP1KFyPwgdAuB6F61G45j8pXI/C9SgOQAAAAAAAAOg/KVyPwvUo7D+4HoXrUbgKQFK4HoXr0SNAexSuR+F6AECF61G4HoUBQFyPwvUoXO8/rkfhehSu8z8fhetRuB71P4XrUbgehRRA9ihcj8L1+D8K16NwPQr/P1yPwvUoXP8/mpmZmZmZ9T8UrkfhehT6P65H4XoUrv8/FK5H4XoU8j+kcD0K1yMmQAAAAAAAAOg/SOF6FK5H+T9I4XoUrkf1P+xRuB6F6wtAuB6F61G49j+uR+F6FK4UQFK4HoXrUfQ/CtejcD0K7z9xPQrXo3ADQB+F61G4HgNAhetRuB6F6z/D9Shcj8LxPwrXo3A9ChtAH4XrUbieIkD2KFyPwvUbQI/C9ShcjxlA4XoUrkfhGkCkcD0K16MpQBSuR+F6FPo/cT0K16NwA0C4HoXrUbgEQD0K16NwPfY/SOF6FK5HLkAfhetRuB75P2ZmZmZmZghAj8L1KFzPM0DD9Shcj8IgQNejcD0K1+s/uB6F61G4/j9xPQrXo3ABQK5H4XoUrhJAUrgehetRAECkcD0K16MIQLgehetRuO4/FK5H4XoUJkAK16NwPQr3PxSuR+F6FPI/H4XrUbge+T/D9Shcj8ISQHE9CtejcPE/CtejcD0KBUApXI/C9SgGQLgehetRuApA16NwPQrX/z+4HoXrUbj+P1K4HoXrUfw/9ihcj8L16D/2KFyPwvXwP65H4XoUru8/CtejcD0KA0AAAAAAAAAKQAAAAAAAAPA/pHA9CtejAECkcD0K16P0P3E9CtejcPE/KVyPwvUo/D+F61G4HoUDQLgehetRuO4/exSuR+F68D8UrkfhehTyP7gehetRuBxAcT0K16NwBUDhehSuR+H+P0jhehSuR+k/FK5H4XoUEkBxPQrXo3DxP/YoXI/C9fw/SOF6FK5H6T/D9Shcj8IJQEjhehSuRwdAzczMzMzM+D97FK5H4Xr4P+F6FK5H4QZAhetRuB6FEECamZmZmZkBQNejcD0K1/c/FK5H4XoUEkDsUbgehev5P3E9CtejcANA16NwPQrXHUDsUbgehev1P65H4XoUrvM/SOF6FK5HC0AzMzMzMzPzPzMzMzMzM/M/w/UoXI/C9T97FK5H4XoEQPYoXI/C9QRA4XoUrkfh+j8K16NwPQoFQEjhehSuRwdAcT0K16Nw/T89CtejcD3qP83MzMzMzOQ/cT0K16NwAUBI4XoUrkf1Pylcj8L1KPQ/AAAAAAAAG0D2KFyPwvUTQLgehetRuPY/SOF6FK5H9T9cj8L1KFz7P83MzMzMzPg/4XoUrkfh9j8AAAAAAAD4P1yPwvUoXP8/zczMzMzMBEBcj8L1KFz7P8P1KFyPwhJAFK5H4XoU/j97FK5H4Xr0P4XrUbgexTRACtejcD0K/z/D9Shcj8IPQKRwPQrXo/w/16NwPQrX4z89CtejcD36P+F6FK5H4fI/KVyPwvWoI0BSuB6F61H4P83MzMzMzAJAZmZmZmZmAkCamZmZmZn1PzMzMzMzMwFAcT0K16Nw9T/2KFyPwvUIQKRwPQrXo/Q/AAAAAAAADEAzMzMzMzMBQM3MzMzMzPQ/zczMzMzM7D8UrkfhehQTQGZmZmZmZu4/4XoUrkfhCEAK16NwPQrvP83MzMzMzPQ/KVyPwvUo9D/D9Shcj8L5P7gehetRuAJAKVyPwvUo5D9mZmZmZmYRQDMzMzMzMwFAcT0K16NwGECuR+F6FK4LQDMzMzMzM/c/pHA9CtcjJECamZmZmZkWQNejcD0K1wlAcT0K16NwE0CamZmZmZkDQNejcD0K1/8/hetRuB6F+z8pXI/C9Sj0P4XrUbgehes/pHA9CtejBEAfhetRuJ4iQK5H4XoUrgtA4XoUrkfhAECPwvUoXI/+P4/C9Shcj/o/XI/C9ShcA0AAAAAAAAAMQBSuR+F6FOY/CtejcD0K8z9mZmZmZmYRQHsUrkfheuw/j8L1KFyP+j+4HoXrUbj2PwrXo3A9Cvs/w/UoXI/C7T8pXI/C9SgaQGZmZmZmZvY/KVyPwvUo+D8AAAAAAAD4PzMzMzMzM/M/9ihcj8L1/D89CtejcD36PxSuR+F6FARA4XoUrkfh9j9cj8L1KFznP7gehetRuPI/KVyPwvUo8D/Xo3A9CtcBQEjhehSuR/E/cT0K16NwBUDNzMzMzMz4P5qZmZmZmfk/FK5H4XoUBkDXo3A9CtfrP1K4HoXrUQxAMzMzMzMz6z9SuB6F61H4P8P1KFyPwvE/MzMzMzMz+z/sUbgehesnQDMzMzMzMwdAUrgehetRAkD2KFyPwvX0P65H4XoUrvs/7FG4HoXr8T/Xo3A9CtcbQGZmZmZmZuY/CtejcD0KAUBmZmZmZmb2P1K4HoXrUQ5AZmZmZmZmCkApXI/C9Sj0PwAAAAAAAPQ/uB6F61G49j9mZmZmZmYrQFK4HoXrUfw/rkfhehSu8z/sUbgehev5P1yPwvUoXB1AmpmZmZmZ8T/NzMzMzMz4P/YoXI/C9QRArkfhehSu/z8fhetRuB4BQK5H4XoUrvc/7FG4HoXr+T/2KFyPwvUAQB+F61G4HvE/rkfhehSu7z/sUbgehesBQD0K16NwPQBASOF6FK5H/T8K16NwPQrzP+xRuB6F6wNAcT0K16NwFEAUrkfhehTuP65H4XoUrv8/rkfhehSu8z8UrkfhehTyP4/C9Shcj/I/UrgehetR9D9mZmZmZmYGQK5H4XoUru8/j8L1KFyP6j/Xo3A9CtcBQK5H4XoUrhJACtejcD0K7z8K16NwPQr3Pz0K16NwPQBAZmZmZmZm9j8K16NwPQr7P1yPwvUoXP8/uB6F61G4+j/2KFyPwvXwP1K4HoXrUfA/7FG4HoXr6T8K16NwPYolQM3MzMzMzPw/UrgehetR/D/sUbgehesPQBSuR+F6FO4/pHA9Ctej8D8K16NwPQr3P5qZmZmZmfU/7FG4HoXrGUCuR+F6FK7/P/YoXI/C9QBAhetRuB6F9z/Xo3A9CtcLQKRwPQrXowBA16NwPQrXAUD2KFyPwvUAQFK4HoXrUeg/FK5H4XoUAEAK16NwPQoBQD0K16NwPfo/uB6F61G49j+amZmZmZn9P1K4HoXrUfQ/KVyPwvUoG0Bcj8L1KFwTQI/C9ShcjwJAAAAAAAAACkDhehSuR+H+P1yPwvUoXANAexSuR+F6CED2KFyPwvX4PwrXo3A9CvM/mpmZmZmZ+T/Xo3A9Ctf7P8P1KFyPwvU/7FG4HoXr+T8UrkfhehQGQOxRuB6F6/k/9ihcj8L1+D9mZmZmZmYCQAAAAAAAAApAMzMzMzMz8z8AAAAAAAAKQFK4HoXrURZAhetRuB6F8z+4HoXrUbgCQOF6FK5H4fI/hetRuB6F8z/NzMzMzMwGQIXrUbgehQ9AzczMzMzM7D97FK5H4Xr4P83MzMzMzAZAH4XrUbgeEkC4HoXrUbj2PwAAAAAAAAhA16NwPQrX9z+uR+F6FC4tQKRwPQrXo/Q/SOF6FK5HI0DsUbgehev5P2ZmZmZmZvo/4XoUrkfh/j/hehSuR+H+P1K4HoXrUfA/PQrXo3A9+j8AAAAAAADoP3sUrkfhevQ/cT0K16NwEUBmZmZmZmbyPz0K16NwPfI/rkfhehQuIUA9CtejcD36PwrXo3A9Cv8/FK5H4XoUG0Bcj8L1KFz3PzMzMzMzM/c/hetRuB6F/z+PwvUoXI/yP3E9CtejcAFAexSuR+F69D/Xo3A9Ctf3Px+F61G4Hu0/H4XrUbge+T8UrkfhehTmP+F6FK5H4RJAFK5H4XqUKUCkcD0K1yMmQPYoXI/C9fA/w/UoXI/C8T8K16NwPQr7P1K4HoXrUfA/pHA9CtfjMUAfhetRuB79P8P1KFyPwgFASOF6FK5H8T/Xo3A9CtfzPxSuR+F6FPo/hetRuB6FA0BxPQrXo3ADQM3MzMzMzPQ/MzMzMzMzC0CuR+F6FK77Pylcj8L1KPQ/rkfhehSuAUD2KFyPwvUAQClcj8L1KBBAPQrXo3A9AkBI4XoUrkfxP3sUrkfhevg/SOF6FK5HG0DhehSuR+HyP+xRuB6F6wNAuB6F61G4+j/hehSuR+EGQK5H4XoUrvc/AAAAAAAA+D8pXI/C9Sj8PzMzMzMzM/M/16NwPQrX6z97FK5H4XocQArXo3A9CglAexSuR+F68D+PwvUoXI/qP83MzMzMzPQ/zczMzMzMBkDXo3A9CtfzP1K4HoXrURNAAAAAAAAA6D89CtejcD0CQArXo3A9CvM/ZmZmZmZm/j/D9Shcj8IJQK5H4XoUrv8/j8L1KFyP8j9I4XoUrkf9P7gehetRuPY/j8L1KFyPDEAUrkfhehQUQHsUrkfhegpAXI/C9ShcEUC4HoXrUbjyP9ejcD0K1/M/uB6F61G4+j97FK5H4Xr8P1K4HoXrUfw/MzMzMzMzMUD2KFyPwvX8PwAAAAAAAABAZmZmZmZm5j/sUbgehevpPxSuR+F6FABAZmZmZmZm/j8UrkfhehQAQOxRuB6F6/E/w/UoXI/C7T8fhetRuB7xP+F6FK5H4RZAuB6F61G45j/hehSuR+H+PzMzMzMzM/8/mpmZmZlZMEB7FK5H4Xr0Px+F61G4HvU/XI/C9ShcEkDXo3A9CtcUQIXrUbgehQ1AexSuR+F65D8zMzMzMzMFQArXo3A9Cg1AXI/C9Shc/z9SuB6F61HoP65H4XoUrgFAj8L1KFyPBEB7FK5H4XrsP7gehetRuPo/FK5H4XoUBEDNzMzMzMwCQB+F61G4Hvk/PQrXo3A9FkAUrkfhehTyP3E9CtejcBVApHA9Ctej9D9I4XoUrkf9P+F6FK5H4fo/4XoUrkfh6j8UrkfhehTuPxSuR+F6FPY/mpmZmZmZ/T/2KFyPwvX4P65H4XoUrvM/w/UoXI/CFUAK16NwPQr7P4XrUbgehQtAH4XrUbge+T+F61G4HoUFQIXrUbgehfM/AAAAAAAA9D+4HoXrUbgAQArXo3A9CgtA7FG4HoXrC0CPwvUoXI8OQHsUrkfhevQ/XI/C9ShcD0AfhetRuB7xP7gehetRuOY/cT0K16NwDUDNzMzMzMwIQAAAAAAAAPQ/zczMzMzMDkCkcD0K16MCQAAAAAAAAAZAUrgehetRCkCuR+F6FK4JQOF6FK5H4eo/j8L1KFyP/j9mZmZmZmbuP8P1KFyPwv0/XI/C9Shc/z+kcD0K16PwP6RwPQrXoydAhetRuB6FA0AzMzMzMzP/PxSuR+F6FP4/FK5H4XqUJ0ApXI/C9SjwP5qZmZmZmf0/CtejcD0KA0DsUbgehev1P4XrUbgehfs/MzMzMzMzKEDXo3A9CtfrPzMzMzMzMwlA4XoUrkfh9j/Xo3A9CtceQMP1KFyPwgVAPQrXo3A9/j/Xo3A9CtcUQEjhehSuRwNAmpmZmZmZ6T+uR+F6FK4WQI/C9ShcjwZAmpmZmZmZ/T89CtejcD3yP1K4HoXrUfw/exSuR+F69D9xPQrXo3D5Pz0K16NwPRJAAAAAAAAA/D+kcD0K16MCQOxRuB6F6/E/cT0K16NwAUDD9Shcj8IQQHsUrkfhevA/H4XrUbge7T9xPQrXo3ABQEjhehSuR+k/4XoUrkfh6j+PwvUoXI/+P2ZmZmZmZv4/zczMzMzM/D97FK5H4XrwP7gehetROCdAzczMzMzM+D8AAAAAAAD8P5qZmZmZmfE/9ihcj8L1/D8pXI/C9Sj0P+F6FK5H4Q5AmpmZmZmZ+T89CtejcD0EQClcj8L1KABAPQrXo3A9+j9I4XoUrkcfQDMzMzMzczNAmpmZmZmZ8T8pXI/C9Sj4Pz0K16NwPfI/H4XrUbge+T9I4XoUrkfpP7gehetRuABACtejcD0K9z9mZmZmZmYbQKRwPQrXo/A/zczMzMzM7D9cj8L1KFzvP3sUrkfhegpAw/UoXI/C/T8AAAAAAAAAQDMzMzMzM/M/pHA9CtejBkAUrkfhehQAQOxRuB6F6xNAH4XrUbge8T9cj8L1KFwdQOF6FK5H4eo/KVyPwvUoFEAAAAAAAAD0P9ejcD0K1xVA7FG4HoXr+T9cj8L1KFzzP6RwPQrXo/Q/XI/C9Shc9z/D9Shcj8L1Px+F61G4HhlAhetRuB6F8z+amZmZmZkBQHE9CtejcPk/16NwPQrX6z89CtejcD32P0jhehSuR/E/CtejcD0K9z/D9Shcj8L9PxSuR+F6FA5AUrgehetR6D8UrkfhehT6Pz0K16NwPfo/XI/C9Shc5z+kcD0K16MMQKRwPQrXo/Q/pHA9CtejAEBxPQrXo3DtP9ejcD0K1/M/mpmZmZmZ8T+PwvUoXI/6P65H4XoUru8/hetRuB6FHkBxPQrXo3DtPx+F61G4Hvk/H4XrUbge9T89CtejcD3yP4XrUbgehRRAPQrXo3A99j/Xo3A9Ctf/P4XrUbgehf8/w/UoXI/C+T9SuB6F61HwP9ejcD0K1xlAUrgehetR8D8AAAAAAAACQEjhehSuR/k/4XoUrkfh+j/hehSuR+EAQArXo3A9Cg9AZmZmZmZmFEAzMzMzMzP/P2ZmZmZmZu4/SOF6FK5HI0AUrkfhehT6P8P1KFyPwvk/16NwPQrXE0BSuB6F61EAQPYoXI/C9QJArkfhehSu9z9I4XoUrkfpPx+F61G4HvU/H4XrUbge/T/NzMzMzMz0P6RwPQrXo+g/4XoUrkfh8j8AAAAAAAD4P+xRuB6F6wFA9ihcj8L16D97FK5H4Xr0P1yPwvUoXChAj8L1KFyPBkCkcD0K16P0Pylcj8L1KApAAAAAAAAA/D/hehSuR+H6P83MzMzMzAJAAAAAAAAAFkAK16NwPQrzP7gehetRuPI/CtejcD0K9z/NzMzMzMwCQK5H4XoUrgNAzczMzMzM/D8K16NwPQoHQKRwPQrXo/g/9ihcj8L1EEAAAAAAAAAKQNejcD0K1/8/XI/C9Shc/z/Xo3A9Ctf7P3sUrkfh+ipAH4XrUbge+T97FK5H4XrsP83MzMzMzOw/PQrXo3A9GUCamZmZmZnpPxSuR+F6FOY/exSuR+F67D9cj8L1KFwQQLgehetRuAJAAAAAAAAAAkBcj8L1KFz3P4/C9ShczzNAcT0K16Nw/T+amZmZmZkUQFK4HoXrUfg/CtejcD0KA0DNzMzMzMzwP7gehetRuBBAKVyPwvUo5D+F61G4HoX3PwrXo3A9CgVApHA9Ctej9D/NzMzMzMz8Px+F61G4HvE/mpmZmZmZ4T9cj8L1KFz7PzMzMzMzMwtA4XoUrkfhAEDD9Shcj8IFQOF6FK5H4f4/j8L1KFyPDEBmZmZmZmb+P5qZmZmZ2TlAzczMzMzMEUCuR+F6FK4LQOxRuB6F6wdAFK5H4XoU/j/hehSuR+EAQB+F61G4Hu0/KVyPwvUo/D/hehSuR+H2Px+F61G4HuU/rkfhehSu+z97FK5H4XoAQNejcD0K1xdASOF6FK5HC0C4HoXrUbjyPxSuR+F6FPI/UrgehetRHkB7FK5H4XrkP4XrUbgehfs/MzMzMzMz9z/Xo3A9CtfrP9ejcD0K1/s/j8L1KFyPCkCuR+F6FK7/PzMzMzMzMwVApHA9Ctej/D8AAAAAAAAcQHsUrkfhegZAzczMzMzM+D9SuB6F61EGQLgehetRuApArkfhehSu/z/Xo3A9CtcVQBSuR+F6FPo/w/UoXI/CB0AAAAAAAIAkQOF6FK5H4QJASOF6FK5H+T+PwvUoXI/qP0jhehSuR/E/7FG4HoXrD0CuR+F6FK7vP9ejcD0KVzBAZmZmZmZmBkA9CtejcD0GQPYoXI/C9fA/exSuR+F6DkA9CtejcD3+PwrXo3A9CgFAUrgehetR8D9xPQrXo3DtPz0K16NwPfY/exSuR+F67D+PwvUoXI/6PzMzMzMzM+s/hetRuB6F4z97FK5H4XrwP4/C9Shcj+o/exSuR+F6AkBmZmZmZmbuP+xRuB6F6/E/mpmZmZmZ+T8K16NwPQrvPylcj8L1KPw/H4XrUbgeAUAfhetRuB7xP65H4XoU7jBArkfhehSu9z8zMzMzMzP3P8P1KFyPwu0/w/UoXI/C8T/Xo3A9ClcjQM3MzMzMzPw/ZmZmZmZm/j9mZmZmZmYAQFyPwvUoXPc/uB6F61G48j/NzMzMzMz0Pylcj8L1KOQ/hetRuB6F8z+amZmZmZn5Px+F61G4HvU/4XoUrkfh/j9xPQrXo3ALQEjhehSuR/U/mpmZmZmZAUCamZmZmZn9P9ejcD0K1/8/ZmZmZmZm9j8K16NwPQoLQOF6FK5H4f4/XI/C9ShcAUAfhetRuB71PwrXo3A9Cv8/SOF6FK5H9T8fhetRuB79P8P1KFyPwhNAMzMzMzMzBUBcj8L1KFwFQKRwPQrXowpA9ihcj8J1I0AUrkfhehQCQMP1KFyPwvE/AAAAAAAAAECF61G4HoX7PwrXo3A9Cvc/UrgehetR8D8=",
          "dtype": "f8"
         },
         "xaxis": "x",
         "y": {
          "bdata": "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",
          "dtype": "f8"
         },
         "yaxis": "y"
        }
       ],
       "layout": {
        "legend": {
         "tracegroupgap": 0
        },
        "shapes": [
         {
          "line": {
           "color": "red",
           "dash": "dash"
          },
          "type": "line",
          "x0": 0.55,
          "x1": 27.44,
          "y0": 0.55,
          "y1": 27.44
         }
        ],
        "template": {
         "data": {
          "bar": [
           {
            "error_x": {
             "color": "#2a3f5f"
            },
            "error_y": {
             "color": "#2a3f5f"
            },
            "marker": {
             "line": {
              "color": "#E5ECF6",
              "width": 0.5
             },
             "pattern": {
              "fillmode": "overlay",
              "size": 10,
              "solidity": 0.2
             }
            },
            "type": "bar"
           }
          ],
          "barpolar": [
           {
            "marker": {
             "line": {
              "color": "#E5ECF6",
              "width": 0.5
             },
             "pattern": {
              "fillmode": "overlay",
              "size": 10,
              "solidity": 0.2
             }
            },
            "type": "barpolar"
           }
          ],
          "carpet": [
           {
            "aaxis": {
             "endlinecolor": "#2a3f5f",
             "gridcolor": "white",
             "linecolor": "white",
             "minorgridcolor": "white",
             "startlinecolor": "#2a3f5f"
            },
            "baxis": {
             "endlinecolor": "#2a3f5f",
             "gridcolor": "white",
             "linecolor": "white",
             "minorgridcolor": "white",
             "startlinecolor": "#2a3f5f"
            },
            "type": "carpet"
           }
          ],
          "choropleth": [
           {
            "colorbar": {
             "outlinewidth": 0,
             "ticks": ""
            },
            "type": "choropleth"
           }
          ],
          "contour": [
           {
            "colorbar": {
             "outlinewidth": 0,
             "ticks": ""
            },
            "colorscale": [
             [
              0,
              "#0d0887"
             ],
             [
              0.1111111111111111,
              "#46039f"
             ],
             [
              0.2222222222222222,
              "#7201a8"
             ],
             [
              0.3333333333333333,
              "#9c179e"
             ],
             [
              0.4444444444444444,
              "#bd3786"
             ],
             [
              0.5555555555555556,
              "#d8576b"
             ],
             [
              0.6666666666666666,
              "#ed7953"
             ],
             [
              0.7777777777777778,
              "#fb9f3a"
             ],
             [
              0.8888888888888888,
              "#fdca26"
             ],
             [
              1,
              "#f0f921"
             ]
            ],
            "type": "contour"
           }
          ],
          "contourcarpet": [
           {
            "colorbar": {
             "outlinewidth": 0,
             "ticks": ""
            },
            "type": "contourcarpet"
           }
          ],
          "heatmap": [
           {
            "colorbar": {
             "outlinewidth": 0,
             "ticks": ""
            },
            "colorscale": [
             [
              0,
              "#0d0887"
             ],
             [
              0.1111111111111111,
              "#46039f"
             ],
             [
              0.2222222222222222,
              "#7201a8"
             ],
             [
              0.3333333333333333,
              "#9c179e"
             ],
             [
              0.4444444444444444,
              "#bd3786"
             ],
             [
              0.5555555555555556,
              "#d8576b"
             ],
             [
              0.6666666666666666,
              "#ed7953"
             ],
             [
              0.7777777777777778,
              "#fb9f3a"
             ],
             [
              0.8888888888888888,
              "#fdca26"
             ],
             [
              1,
              "#f0f921"
             ]
            ],
            "type": "heatmap"
           }
          ],
          "histogram": [
           {
            "marker": {
             "pattern": {
              "fillmode": "overlay",
              "size": 10,
              "solidity": 0.2
             }
            },
            "type": "histogram"
           }
          ],
          "histogram2d": [
           {
            "colorbar": {
             "outlinewidth": 0,
             "ticks": ""
            },
            "colorscale": [
             [
              0,
              "#0d0887"
             ],
             [
              0.1111111111111111,
              "#46039f"
             ],
             [
              0.2222222222222222,
              "#7201a8"
             ],
             [
              0.3333333333333333,
              "#9c179e"
             ],
             [
              0.4444444444444444,
              "#bd3786"
             ],
             [
              0.5555555555555556,
              "#d8576b"
             ],
             [
              0.6666666666666666,
              "#ed7953"
             ],
             [
              0.7777777777777778,
              "#fb9f3a"
             ],
             [
              0.8888888888888888,
              "#fdca26"
             ],
             [
              1,
              "#f0f921"
             ]
            ],
            "type": "histogram2d"
           }
          ],
          "histogram2dcontour": [
           {
            "colorbar": {
             "outlinewidth": 0,
             "ticks": ""
            },
            "colorscale": [
             [
              0,
              "#0d0887"
             ],
             [
              0.1111111111111111,
              "#46039f"
             ],
             [
              0.2222222222222222,
              "#7201a8"
             ],
             [
              0.3333333333333333,
              "#9c179e"
             ],
             [
              0.4444444444444444,
              "#bd3786"
             ],
             [
              0.5555555555555556,
              "#d8576b"
             ],
             [
              0.6666666666666666,
              "#ed7953"
             ],
             [
              0.7777777777777778,
              "#fb9f3a"
             ],
             [
              0.8888888888888888,
              "#fdca26"
             ],
             [
              1,
              "#f0f921"
             ]
            ],
            "type": "histogram2dcontour"
           }
          ],
          "mesh3d": [
           {
            "colorbar": {
             "outlinewidth": 0,
             "ticks": ""
            },
            "type": "mesh3d"
           }
          ],
          "parcoords": [
           {
            "line": {
             "colorbar": {
              "outlinewidth": 0,
              "ticks": ""
             }
            },
            "type": "parcoords"
           }
          ],
          "pie": [
           {
            "automargin": true,
            "type": "pie"
           }
          ],
          "scatter": [
           {
            "fillpattern": {
             "fillmode": "overlay",
             "size": 10,
             "solidity": 0.2
            },
            "type": "scatter"
           }
          ],
          "scatter3d": [
           {
            "line": {
             "colorbar": {
              "outlinewidth": 0,
              "ticks": ""
             }
            },
            "marker": {
             "colorbar": {
              "outlinewidth": 0,
              "ticks": ""
             }
            },
            "type": "scatter3d"
           }
          ],
          "scattercarpet": [
           {
            "marker": {
             "colorbar": {
              "outlinewidth": 0,
              "ticks": ""
             }
            },
            "type": "scattercarpet"
           }
          ],
          "scattergeo": [
           {
            "marker": {
             "colorbar": {
              "outlinewidth": 0,
              "ticks": ""
             }
            },
            "type": "scattergeo"
           }
          ],
          "scattergl": [
           {
            "marker": {
             "colorbar": {
              "outlinewidth": 0,
              "ticks": ""
             }
            },
            "type": "scattergl"
           }
          ],
          "scattermap": [
           {
            "marker": {
             "colorbar": {
              "outlinewidth": 0,
              "ticks": ""
             }
            },
            "type": "scattermap"
           }
          ],
          "scattermapbox": [
           {
            "marker": {
             "colorbar": {
              "outlinewidth": 0,
              "ticks": ""
             }
            },
            "type": "scattermapbox"
           }
          ],
          "scatterpolar": [
           {
            "marker": {
             "colorbar": {
              "outlinewidth": 0,
              "ticks": ""
             }
            },
            "type": "scatterpolar"
           }
          ],
          "scatterpolargl": [
           {
            "marker": {
             "colorbar": {
              "outlinewidth": 0,
              "ticks": ""
             }
            },
            "type": "scatterpolargl"
           }
          ],
          "scatterternary": [
           {
            "marker": {
             "colorbar": {
              "outlinewidth": 0,
              "ticks": ""
             }
            },
            "type": "scatterternary"
           }
          ],
          "surface": [
           {
            "colorbar": {
             "outlinewidth": 0,
             "ticks": ""
            },
            "colorscale": [
             [
              0,
              "#0d0887"
             ],
             [
              0.1111111111111111,
              "#46039f"
             ],
             [
              0.2222222222222222,
              "#7201a8"
             ],
             [
              0.3333333333333333,
              "#9c179e"
             ],
             [
              0.4444444444444444,
              "#bd3786"
             ],
             [
              0.5555555555555556,
              "#d8576b"
             ],
             [
              0.6666666666666666,
              "#ed7953"
             ],
             [
              0.7777777777777778,
              "#fb9f3a"
             ],
             [
              0.8888888888888888,
              "#fdca26"
             ],
             [
              1,
              "#f0f921"
             ]
            ],
            "type": "surface"
           }
          ],
          "table": [
           {
            "cells": {
             "fill": {
              "color": "#EBF0F8"
             },
             "line": {
              "color": "white"
             }
            },
            "header": {
             "fill": {
              "color": "#C8D4E3"
             },
             "line": {
              "color": "white"
             }
            },
            "type": "table"
           }
          ]
         },
         "layout": {
          "annotationdefaults": {
           "arrowcolor": "#2a3f5f",
           "arrowhead": 0,
           "arrowwidth": 1
          },
          "autotypenumbers": "strict",
          "coloraxis": {
           "colorbar": {
            "outlinewidth": 0,
            "ticks": ""
           }
          },
          "colorscale": {
           "diverging": [
            [
             0,
             "#8e0152"
            ],
            [
             0.1,
             "#c51b7d"
            ],
            [
             0.2,
             "#de77ae"
            ],
            [
             0.3,
             "#f1b6da"
            ],
            [
             0.4,
             "#fde0ef"
            ],
            [
             0.5,
             "#f7f7f7"
            ],
            [
             0.6,
             "#e6f5d0"
            ],
            [
             0.7,
             "#b8e186"
            ],
            [
             0.8,
             "#7fbc41"
            ],
            [
             0.9,
             "#4d9221"
            ],
            [
             1,
             "#276419"
            ]
           ],
           "sequential": [
            [
             0,
             "#0d0887"
            ],
            [
             0.1111111111111111,
             "#46039f"
            ],
            [
             0.2222222222222222,
             "#7201a8"
            ],
            [
             0.3333333333333333,
             "#9c179e"
            ],
            [
             0.4444444444444444,
             "#bd3786"
            ],
            [
             0.5555555555555556,
             "#d8576b"
            ],
            [
             0.6666666666666666,
             "#ed7953"
            ],
            [
             0.7777777777777778,
             "#fb9f3a"
            ],
            [
             0.8888888888888888,
             "#fdca26"
            ],
            [
             1,
             "#f0f921"
            ]
           ],
           "sequentialminus": [
            [
             0,
             "#0d0887"
            ],
            [
             0.1111111111111111,
             "#46039f"
            ],
            [
             0.2222222222222222,
             "#7201a8"
            ],
            [
             0.3333333333333333,
             "#9c179e"
            ],
            [
             0.4444444444444444,
             "#bd3786"
            ],
            [
             0.5555555555555556,
             "#d8576b"
            ],
            [
             0.6666666666666666,
             "#ed7953"
            ],
            [
             0.7777777777777778,
             "#fb9f3a"
            ],
            [
             0.8888888888888888,
             "#fdca26"
            ],
            [
             1,
             "#f0f921"
            ]
           ]
          },
          "colorway": [
           "#636efa",
           "#EF553B",
           "#00cc96",
           "#ab63fa",
           "#FFA15A",
           "#19d3f3",
           "#FF6692",
           "#B6E880",
           "#FF97FF",
           "#FECB52"
          ],
          "font": {
           "color": "#2a3f5f"
          },
          "geo": {
           "bgcolor": "white",
           "lakecolor": "white",
           "landcolor": "#E5ECF6",
           "showlakes": true,
           "showland": true,
           "subunitcolor": "white"
          },
          "hoverlabel": {
           "align": "left"
          },
          "hovermode": "closest",
          "mapbox": {
           "style": "light"
          },
          "paper_bgcolor": "white",
          "plot_bgcolor": "#E5ECF6",
          "polar": {
           "angularaxis": {
            "gridcolor": "white",
            "linecolor": "white",
            "ticks": ""
           },
           "bgcolor": "#E5ECF6",
           "radialaxis": {
            "gridcolor": "white",
            "linecolor": "white",
            "ticks": ""
           }
          },
          "scene": {
           "xaxis": {
            "backgroundcolor": "#E5ECF6",
            "gridcolor": "white",
            "gridwidth": 2,
            "linecolor": "white",
            "showbackground": true,
            "ticks": "",
            "zerolinecolor": "white"
           },
           "yaxis": {
            "backgroundcolor": "#E5ECF6",
            "gridcolor": "white",
            "gridwidth": 2,
            "linecolor": "white",
            "showbackground": true,
            "ticks": "",
            "zerolinecolor": "white"
           },
           "zaxis": {
            "backgroundcolor": "#E5ECF6",
            "gridcolor": "white",
            "gridwidth": 2,
            "linecolor": "white",
            "showbackground": true,
            "ticks": "",
            "zerolinecolor": "white"
           }
          },
          "shapedefaults": {
           "line": {
            "color": "#2a3f5f"
           }
          },
          "ternary": {
           "aaxis": {
            "gridcolor": "white",
            "linecolor": "white",
            "ticks": ""
           },
           "baxis": {
            "gridcolor": "white",
            "linecolor": "white",
            "ticks": ""
           },
           "bgcolor": "#E5ECF6",
           "caxis": {
            "gridcolor": "white",
            "linecolor": "white",
            "ticks": ""
           }
          },
          "title": {
           "x": 0.05
          },
          "xaxis": {
           "automargin": true,
           "gridcolor": "white",
           "linecolor": "white",
           "ticks": "",
           "title": {
            "standoff": 15
           },
           "zerolinecolor": "white",
           "zerolinewidth": 2
          },
          "yaxis": {
           "automargin": true,
           "gridcolor": "white",
           "linecolor": "white",
           "ticks": "",
           "title": {
            "standoff": 15
           },
           "zerolinecolor": "white",
           "zerolinewidth": 2
          }
         }
        },
        "title": {
         "text": "Actual vs. Predicted Values"
        },
        "xaxis": {
         "anchor": "y",
         "domain": [
          0,
          1
         ],
         "title": {
          "text": "conc_silica"
         }
        },
        "yaxis": {
         "anchor": "x",
         "domain": [
          0,
          1
         ],
         "title": {
          "text": "pred"
         }
        }
       }
      }
     },
     "metadata": {},
     "output_type": "display_data"
    },
    {
     "data": {
      "application/vnd.plotly.v1+json": {
       "config": {
        "plotlyServerURL": "https://plot.ly"
       },
       "data": [
        {
         "bingroup": "x",
         "hovertemplate": "Residual=%{x}<br>count=%{y}<extra></extra>",
         "legendgroup": "",
         "marker": {
          "color": "#636efa",
          "pattern": {
           "shape": ""
          }
         },
         "name": "",
         "nbinsx": 30,
         "orientation": "v",
         "showlegend": false,
         "type": "histogram",
         "x": {
          "bdata": "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",
          "dtype": "f8"
         },
         "xaxis": "x",
         "yaxis": "y"
        }
       ],
       "layout": {
        "barmode": "relative",
        "legend": {
         "tracegroupgap": 0
        },
        "template": {
         "data": {
          "bar": [
           {
            "error_x": {
             "color": "#2a3f5f"
            },
            "error_y": {
             "color": "#2a3f5f"
            },
            "marker": {
             "line": {
              "color": "#E5ECF6",
              "width": 0.5
             },
             "pattern": {
              "fillmode": "overlay",
              "size": 10,
              "solidity": 0.2
             }
            },
            "type": "bar"
           }
          ],
          "barpolar": [
           {
            "marker": {
             "line": {
              "color": "#E5ECF6",
              "width": 0.5
             },
             "pattern": {
              "fillmode": "overlay",
              "size": 10,
              "solidity": 0.2
             }
            },
            "type": "barpolar"
           }
          ],
          "carpet": [
           {
            "aaxis": {
             "endlinecolor": "#2a3f5f",
             "gridcolor": "white",
             "linecolor": "white",
             "minorgridcolor": "white",
             "startlinecolor": "#2a3f5f"
            },
            "baxis": {
             "endlinecolor": "#2a3f5f",
             "gridcolor": "white",
             "linecolor": "white",
             "minorgridcolor": "white",
             "startlinecolor": "#2a3f5f"
            },
            "type": "carpet"
           }
          ],
          "choropleth": [
           {
            "colorbar": {
             "outlinewidth": 0,
             "ticks": ""
            },
            "type": "choropleth"
           }
          ],
          "contour": [
           {
            "colorbar": {
             "outlinewidth": 0,
             "ticks": ""
            },
            "colorscale": [
             [
              0,
              "#0d0887"
             ],
             [
              0.1111111111111111,
              "#46039f"
             ],
             [
              0.2222222222222222,
              "#7201a8"
             ],
             [
              0.3333333333333333,
              "#9c179e"
             ],
             [
              0.4444444444444444,
              "#bd3786"
             ],
             [
              0.5555555555555556,
              "#d8576b"
             ],
             [
              0.6666666666666666,
              "#ed7953"
             ],
             [
              0.7777777777777778,
              "#fb9f3a"
             ],
             [
              0.8888888888888888,
              "#fdca26"
             ],
             [
              1,
              "#f0f921"
             ]
            ],
            "type": "contour"
           }
          ],
          "contourcarpet": [
           {
            "colorbar": {
             "outlinewidth": 0,
             "ticks": ""
            },
            "type": "contourcarpet"
           }
          ],
          "heatmap": [
           {
            "colorbar": {
             "outlinewidth": 0,
             "ticks": ""
            },
            "colorscale": [
             [
              0,
              "#0d0887"
             ],
             [
              0.1111111111111111,
              "#46039f"
             ],
             [
              0.2222222222222222,
              "#7201a8"
             ],
             [
              0.3333333333333333,
              "#9c179e"
             ],
             [
              0.4444444444444444,
              "#bd3786"
             ],
             [
              0.5555555555555556,
              "#d8576b"
             ],
             [
              0.6666666666666666,
              "#ed7953"
             ],
             [
              0.7777777777777778,
              "#fb9f3a"
             ],
             [
              0.8888888888888888,
              "#fdca26"
             ],
             [
              1,
              "#f0f921"
             ]
            ],
            "type": "heatmap"
           }
          ],
          "histogram": [
           {
            "marker": {
             "pattern": {
              "fillmode": "overlay",
              "size": 10,
              "solidity": 0.2
             }
            },
            "type": "histogram"
           }
          ],
          "histogram2d": [
           {
            "colorbar": {
             "outlinewidth": 0,
             "ticks": ""
            },
            "colorscale": [
             [
              0,
              "#0d0887"
             ],
             [
              0.1111111111111111,
              "#46039f"
             ],
             [
              0.2222222222222222,
              "#7201a8"
             ],
             [
              0.3333333333333333,
              "#9c179e"
             ],
             [
              0.4444444444444444,
              "#bd3786"
             ],
             [
              0.5555555555555556,
              "#d8576b"
             ],
             [
              0.6666666666666666,
              "#ed7953"
             ],
             [
              0.7777777777777778,
              "#fb9f3a"
             ],
             [
              0.8888888888888888,
              "#fdca26"
             ],
             [
              1,
              "#f0f921"
             ]
            ],
            "type": "histogram2d"
           }
          ],
          "histogram2dcontour": [
           {
            "colorbar": {
             "outlinewidth": 0,
             "ticks": ""
            },
            "colorscale": [
             [
              0,
              "#0d0887"
             ],
             [
              0.1111111111111111,
              "#46039f"
             ],
             [
              0.2222222222222222,
              "#7201a8"
             ],
             [
              0.3333333333333333,
              "#9c179e"
             ],
             [
              0.4444444444444444,
              "#bd3786"
             ],
             [
              0.5555555555555556,
              "#d8576b"
             ],
             [
              0.6666666666666666,
              "#ed7953"
             ],
             [
              0.7777777777777778,
              "#fb9f3a"
             ],
             [
              0.8888888888888888,
              "#fdca26"
             ],
             [
              1,
              "#f0f921"
             ]
            ],
            "type": "histogram2dcontour"
           }
          ],
          "mesh3d": [
           {
            "colorbar": {
             "outlinewidth": 0,
             "ticks": ""
            },
            "type": "mesh3d"
           }
          ],
          "parcoords": [
           {
            "line": {
             "colorbar": {
              "outlinewidth": 0,
              "ticks": ""
             }
            },
            "type": "parcoords"
           }
          ],
          "pie": [
           {
            "automargin": true,
            "type": "pie"
           }
          ],
          "scatter": [
           {
            "fillpattern": {
             "fillmode": "overlay",
             "size": 10,
             "solidity": 0.2
            },
            "type": "scatter"
           }
          ],
          "scatter3d": [
           {
            "line": {
             "colorbar": {
              "outlinewidth": 0,
              "ticks": ""
             }
            },
            "marker": {
             "colorbar": {
              "outlinewidth": 0,
              "ticks": ""
             }
            },
            "type": "scatter3d"
           }
          ],
          "scattercarpet": [
           {
            "marker": {
             "colorbar": {
              "outlinewidth": 0,
              "ticks": ""
             }
            },
            "type": "scattercarpet"
           }
          ],
          "scattergeo": [
           {
            "marker": {
             "colorbar": {
              "outlinewidth": 0,
              "ticks": ""
             }
            },
            "type": "scattergeo"
           }
          ],
          "scattergl": [
           {
            "marker": {
             "colorbar": {
              "outlinewidth": 0,
              "ticks": ""
             }
            },
            "type": "scattergl"
           }
          ],
          "scattermap": [
           {
            "marker": {
             "colorbar": {
              "outlinewidth": 0,
              "ticks": ""
             }
            },
            "type": "scattermap"
           }
          ],
          "scattermapbox": [
           {
            "marker": {
             "colorbar": {
              "outlinewidth": 0,
              "ticks": ""
             }
            },
            "type": "scattermapbox"
           }
          ],
          "scatterpolar": [
           {
            "marker": {
             "colorbar": {
              "outlinewidth": 0,
              "ticks": ""
             }
            },
            "type": "scatterpolar"
           }
          ],
          "scatterpolargl": [
           {
            "marker": {
             "colorbar": {
              "outlinewidth": 0,
              "ticks": ""
             }
            },
            "type": "scatterpolargl"
           }
          ],
          "scatterternary": [
           {
            "marker": {
             "colorbar": {
              "outlinewidth": 0,
              "ticks": ""
             }
            },
            "type": "scatterternary"
           }
          ],
          "surface": [
           {
            "colorbar": {
             "outlinewidth": 0,
             "ticks": ""
            },
            "colorscale": [
             [
              0,
              "#0d0887"
             ],
             [
              0.1111111111111111,
              "#46039f"
             ],
             [
              0.2222222222222222,
              "#7201a8"
             ],
             [
              0.3333333333333333,
              "#9c179e"
             ],
             [
              0.4444444444444444,
              "#bd3786"
             ],
             [
              0.5555555555555556,
              "#d8576b"
             ],
             [
              0.6666666666666666,
              "#ed7953"
             ],
             [
              0.7777777777777778,
              "#fb9f3a"
             ],
             [
              0.8888888888888888,
              "#fdca26"
             ],
             [
              1,
              "#f0f921"
             ]
            ],
            "type": "surface"
           }
          ],
          "table": [
           {
            "cells": {
             "fill": {
              "color": "#EBF0F8"
             },
             "line": {
              "color": "white"
             }
            },
            "header": {
             "fill": {
              "color": "#C8D4E3"
             },
             "line": {
              "color": "white"
             }
            },
            "type": "table"
           }
          ]
         },
         "layout": {
          "annotationdefaults": {
           "arrowcolor": "#2a3f5f",
           "arrowhead": 0,
           "arrowwidth": 1
          },
          "autotypenumbers": "strict",
          "coloraxis": {
           "colorbar": {
            "outlinewidth": 0,
            "ticks": ""
           }
          },
          "colorscale": {
           "diverging": [
            [
             0,
             "#8e0152"
            ],
            [
             0.1,
             "#c51b7d"
            ],
            [
             0.2,
             "#de77ae"
            ],
            [
             0.3,
             "#f1b6da"
            ],
            [
             0.4,
             "#fde0ef"
            ],
            [
             0.5,
             "#f7f7f7"
            ],
            [
             0.6,
             "#e6f5d0"
            ],
            [
             0.7,
             "#b8e186"
            ],
            [
             0.8,
             "#7fbc41"
            ],
            [
             0.9,
             "#4d9221"
            ],
            [
             1,
             "#276419"
            ]
           ],
           "sequential": [
            [
             0,
             "#0d0887"
            ],
            [
             0.1111111111111111,
             "#46039f"
            ],
            [
             0.2222222222222222,
             "#7201a8"
            ],
            [
             0.3333333333333333,
             "#9c179e"
            ],
            [
             0.4444444444444444,
             "#bd3786"
            ],
            [
             0.5555555555555556,
             "#d8576b"
            ],
            [
             0.6666666666666666,
             "#ed7953"
            ],
            [
             0.7777777777777778,
             "#fb9f3a"
            ],
            [
             0.8888888888888888,
             "#fdca26"
            ],
            [
             1,
             "#f0f921"
            ]
           ],
           "sequentialminus": [
            [
             0,
             "#0d0887"
            ],
            [
             0.1111111111111111,
             "#46039f"
            ],
            [
             0.2222222222222222,
             "#7201a8"
            ],
            [
             0.3333333333333333,
             "#9c179e"
            ],
            [
             0.4444444444444444,
             "#bd3786"
            ],
            [
             0.5555555555555556,
             "#d8576b"
            ],
            [
             0.6666666666666666,
             "#ed7953"
            ],
            [
             0.7777777777777778,
             "#fb9f3a"
            ],
            [
             0.8888888888888888,
             "#fdca26"
            ],
            [
             1,
             "#f0f921"
            ]
           ]
          },
          "colorway": [
           "#636efa",
           "#EF553B",
           "#00cc96",
           "#ab63fa",
           "#FFA15A",
           "#19d3f3",
           "#FF6692",
           "#B6E880",
           "#FF97FF",
           "#FECB52"
          ],
          "font": {
           "color": "#2a3f5f"
          },
          "geo": {
           "bgcolor": "white",
           "lakecolor": "white",
           "landcolor": "#E5ECF6",
           "showlakes": true,
           "showland": true,
           "subunitcolor": "white"
          },
          "hoverlabel": {
           "align": "left"
          },
          "hovermode": "closest",
          "mapbox": {
           "style": "light"
          },
          "paper_bgcolor": "white",
          "plot_bgcolor": "#E5ECF6",
          "polar": {
           "angularaxis": {
            "gridcolor": "white",
            "linecolor": "white",
            "ticks": ""
           },
           "bgcolor": "#E5ECF6",
           "radialaxis": {
            "gridcolor": "white",
            "linecolor": "white",
            "ticks": ""
           }
          },
          "scene": {
           "xaxis": {
            "backgroundcolor": "#E5ECF6",
            "gridcolor": "white",
            "gridwidth": 2,
            "linecolor": "white",
            "showbackground": true,
            "ticks": "",
            "zerolinecolor": "white"
           },
           "yaxis": {
            "backgroundcolor": "#E5ECF6",
            "gridcolor": "white",
            "gridwidth": 2,
            "linecolor": "white",
            "showbackground": true,
            "ticks": "",
            "zerolinecolor": "white"
           },
           "zaxis": {
            "backgroundcolor": "#E5ECF6",
            "gridcolor": "white",
            "gridwidth": 2,
            "linecolor": "white",
            "showbackground": true,
            "ticks": "",
            "zerolinecolor": "white"
           }
          },
          "shapedefaults": {
           "line": {
            "color": "#2a3f5f"
           }
          },
          "ternary": {
           "aaxis": {
            "gridcolor": "white",
            "linecolor": "white",
            "ticks": ""
           },
           "baxis": {
            "gridcolor": "white",
            "linecolor": "white",
            "ticks": ""
           },
           "bgcolor": "#E5ECF6",
           "caxis": {
            "gridcolor": "white",
            "linecolor": "white",
            "ticks": ""
           }
          },
          "title": {
           "x": 0.05
          },
          "xaxis": {
           "automargin": true,
           "gridcolor": "white",
           "linecolor": "white",
           "ticks": "",
           "title": {
            "standoff": 15
           },
           "zerolinecolor": "white",
           "zerolinewidth": 2
          },
          "yaxis": {
           "automargin": true,
           "gridcolor": "white",
           "linecolor": "white",
           "ticks": "",
           "title": {
            "standoff": 15
           },
           "zerolinecolor": "white",
           "zerolinewidth": 2
          }
         }
        },
        "title": {
         "text": "Residuals Distribution"
        },
        "xaxis": {
         "anchor": "y",
         "domain": [
          0,
          1
         ],
         "title": {
          "text": "Residual"
         }
        },
        "yaxis": {
         "anchor": "x",
         "domain": [
          0,
          1
         ],
         "title": {
          "text": "count"
         }
        }
       }
      }
     },
     "metadata": {},
     "output_type": "display_data"
    },
    {
     "data": {
      "text/plain": [
       "{'percentile_model': Pipeline(steps=[('scaler', StandardScaler()),\n",
       "                 ('rf', RandomForestRegressor(n_estimators=200))]),\n",
       " 'final_model': Pipeline(steps=[('scaler', StandardScaler()),\n",
       "                 ('rf', RandomForestRegressor(n_estimators=200))]),\n",
       " 'test_df':       conc_silica  param_dosagem_amido  dosagem_amina_conc_magnetica  \\\n",
       " 442          1.65               490.00                        138.86   \n",
       " 892          1.67               502.72                        167.48   \n",
       " 2208         9.07               498.36                        151.85   \n",
       " 226          1.25               495.13                        135.00   \n",
       " 82           0.68               493.17                        150.00   \n",
       " ...           ...                  ...                           ...   \n",
       " 2059         1.11               496.94                        135.00   \n",
       " 862          2.00               491.00                        150.75   \n",
       " 2344         1.72               485.82                        170.00   \n",
       " 1818         1.44               527.27                        136.10   \n",
       " 731          1.02               491.35                        143.22   \n",
       " \n",
       "       ph_flotacao_linha01  ph_flotacao_linha02  \\\n",
       " 442                  9.02                 9.66   \n",
       " 892                  9.51                 9.20   \n",
       " 2208                 9.51                 9.31   \n",
       " 226                  7.91                 9.52   \n",
       " 82                   9.47                 9.49   \n",
       " ...                   ...                  ...   \n",
       " 2059                 9.27                 9.40   \n",
       " 862                  9.57                 9.52   \n",
       " 2344                 9.47                 9.52   \n",
       " 1818                 9.49                 9.48   \n",
       " 731                  9.46                 9.19   \n",
       " \n",
       "       densidade_alimentacao_flotacao  nivel_celula_li640101  TO_LI6401_02  \\\n",
       " 442                             1.38                 367.07        208.68   \n",
       " 892                             1.65                 371.08        301.27   \n",
       " 2208                            1.53                 360.37        362.42   \n",
       " 226                             1.60                 140.42        276.29   \n",
       " 82                              1.63                 370.21        363.34   \n",
       " ...                              ...                    ...           ...   \n",
       " 2059                            1.56                 369.22        371.94   \n",
       " 862                             1.65                 359.23        324.32   \n",
       " 2344                            1.60                 369.96        369.60   \n",
       " 1818                            1.58                 369.85        370.38   \n",
       " 731                             1.63                 359.73        359.80   \n",
       " \n",
       "       nivel_celula_li640201  nivel_celula_li640202  ...  \\\n",
       " 442                  240.10                 244.57  ...   \n",
       " 892                  337.81                 369.03  ...   \n",
       " 2208                 365.47                 308.49  ...   \n",
       " 226                  320.94                 264.97  ...   \n",
       " 82                   354.25                 360.34  ...   \n",
       " ...                     ...                    ...  ...   \n",
       " 2059                 377.68                 306.16  ...   \n",
       " 862                  349.17                 357.25  ...   \n",
       " 2344                 369.86                 370.02  ...   \n",
       " 1818                 367.92                 370.19  ...   \n",
       " 731                  357.02                 359.26  ...   \n",
       " \n",
       "       nivel_celula_li641102  nivel_celula_li641201  nivel_celula_li641202  \\\n",
       " 442                  337.46                  86.15                   0.67   \n",
       " 892                  349.78                 353.68                   0.10   \n",
       " 2208                 340.84                 353.45                 339.94   \n",
       " 226                  173.61                 313.01                  59.44   \n",
       " 82                   345.45                 347.25                 346.74   \n",
       " ...                     ...                    ...                    ...   \n",
       " 2059                 351.57                 356.41                 349.87   \n",
       " 862                  349.56                 343.33                   0.00   \n",
       " 2344                 349.62                 307.34                 350.55   \n",
       " 1818                 337.33                 349.73                 350.09   \n",
       " 731                  349.01                 348.85                 128.59   \n",
       " \n",
       "       nivel_celula_li642101  nivel_celula_li642201  nivel_celula_li643101  \\\n",
       " 442                  347.65                 225.51                 358.13   \n",
       " 892                  358.92                 345.41                 359.49   \n",
       " 2208                 358.38                 286.51                 324.89   \n",
       " 226                  360.77                 334.04                 360.68   \n",
       " 82                   361.29                 364.14                 359.20   \n",
       " ...                     ...                    ...                    ...   \n",
       " 2059                 360.54                 331.85                 356.96   \n",
       " 862                  359.20                 246.30                 355.32   \n",
       " 2344                 368.95                 388.00                 370.29   \n",
       " 1818                 349.76                 228.16                 369.19   \n",
       " 731                  359.14                 359.58                 410.00   \n",
       " \n",
       "       nivel_celula_li643201  vazao_alimentacao_flotacao  conc_silica_quantile  \\\n",
       " 442                  182.49                      499.52                  0.44   \n",
       " 892                  194.92                      759.63                  0.45   \n",
       " 2208                   0.00                      640.06                  0.97   \n",
       " 226                  272.99                      517.34                  0.26   \n",
       " 82                   334.15                     1035.65                  0.01   \n",
       " ...                     ...                         ...                   ...   \n",
       " 2059                 248.93                      831.49                  0.17   \n",
       " 862                  217.09                      648.84                  0.57   \n",
       " 2344                 341.99                      829.65                  0.46   \n",
       " 1818                 178.06                      680.27                  0.35   \n",
       " 731                  311.56                      789.65                  0.12   \n",
       " \n",
       "       pred_percentile  \n",
       " 442          0.518809  \n",
       " 892          0.619459  \n",
       " 2208         0.508655  \n",
       " 226          0.454109  \n",
       " 82           0.463715  \n",
       " ...               ...  \n",
       " 2059         0.176926  \n",
       " 862          0.502440  \n",
       " 2344         0.624030  \n",
       " 1818         0.495814  \n",
       " 731          0.487756  \n",
       " \n",
       " [1048 rows x 21 columns],\n",
       " 'percentile_metrics': {'MAE': np.float64(0.19773542206893538),\n",
       "  'MAPE': np.float64(157.7062088736271),\n",
       "  'extremes': np.int64(14)},\n",
       " 'silica_metrics': {'MAE': np.float64(1.3132059160305347),\n",
       "  'MAPE': np.float64(41.13750297134518)}}"
      ]
     },
     "execution_count": 23,
     "metadata": {},
     "output_type": "execute_result"
    }
   ],
   "source": [
    "res_two_per = two_stage_quantile_then_conc_percentiles(df_clean, features, show_residuals=True, test_size=0.4)\n",
    "res_two_per"
   ]
  },
  {
   "cell_type": "code",
   "execution_count": 17,
   "id": "9ff37efe",
   "metadata": {},
   "outputs": [
    {
     "data": {
      "text/html": [
       "<div>\n",
       "<style scoped>\n",
       "    .dataframe tbody tr th:only-of-type {\n",
       "        vertical-align: middle;\n",
       "    }\n",
       "\n",
       "    .dataframe tbody tr th {\n",
       "        vertical-align: top;\n",
       "    }\n",
       "\n",
       "    .dataframe thead th {\n",
       "        text-align: right;\n",
       "    }\n",
       "</style>\n",
       "<table border=\"1\" class=\"dataframe\">\n",
       "  <thead>\n",
       "    <tr style=\"text-align: right;\">\n",
       "      <th></th>\n",
       "      <th>model</th>\n",
       "      <th>MAE</th>\n",
       "      <th>RMSE</th>\n",
       "      <th>R2</th>\n",
       "      <th>MAPE (%)</th>\n",
       "    </tr>\n",
       "  </thead>\n",
       "  <tbody>\n",
       "    <tr>\n",
       "      <th>0</th>\n",
       "      <td>LinearRegression</td>\n",
       "      <td>1.542683</td>\n",
       "      <td>2.629147</td>\n",
       "      <td>0.086427</td>\n",
       "      <td>70.106227</td>\n",
       "    </tr>\n",
       "    <tr>\n",
       "      <th>1</th>\n",
       "      <td>RandomForest</td>\n",
       "      <td>1.461500</td>\n",
       "      <td>2.554696</td>\n",
       "      <td>0.137434</td>\n",
       "      <td>63.496524</td>\n",
       "    </tr>\n",
       "    <tr>\n",
       "      <th>2</th>\n",
       "      <td>XGBoost</td>\n",
       "      <td>1.620073</td>\n",
       "      <td>2.629166</td>\n",
       "      <td>0.086414</td>\n",
       "      <td>71.527275</td>\n",
       "    </tr>\n",
       "  </tbody>\n",
       "</table>\n",
       "</div>"
      ],
      "text/plain": [
       "              model       MAE      RMSE        R2   MAPE (%)\n",
       "0  LinearRegression  1.542683  2.629147  0.086427  70.106227\n",
       "1      RandomForest  1.461500  2.554696  0.137434  63.496524\n",
       "2           XGBoost  1.620073  2.629166  0.086414  71.527275"
      ]
     },
     "execution_count": 17,
     "metadata": {},
     "output_type": "execute_result"
    }
   ],
   "source": [
    "res = evaluate_models(df_clean, features, target=target[0], show_residuals=False)\n",
    "res"
   ]
  },
  {
   "cell_type": "code",
   "execution_count": 18,
   "id": "317777aa",
   "metadata": {},
   "outputs": [],
   "source": [
    "#res_weights = evaluate_models_weights(df_clean, features, target=target[0])\n",
    "#res_weights"
   ]
  },
  {
   "cell_type": "code",
   "execution_count": 19,
   "id": "927e2071",
   "metadata": {},
   "outputs": [],
   "source": [
    "#res_q = evaluate_models_quantile(df_clean, features, target=target[0], show_residuals=False, quantile=0.9)\n",
    "#res_q"
   ]
  },
  {
   "cell_type": "code",
   "execution_count": 20,
   "id": "0f42c27a",
   "metadata": {},
   "outputs": [],
   "source": [
    "#res_q = evaluate_models_quantile(df_clean, features, target=target[0], show_residuals=False, quantile=0.95)\n",
    "#res_q"
   ]
  },
  {
   "cell_type": "code",
   "execution_count": 21,
   "id": "f4767c1e",
   "metadata": {},
   "outputs": [],
   "source": [
    "#res_q = evaluate_models_quantile(df_clean, features, target=target[0], show_residuals=False, quantile=0.5)\n",
    "#res_q"
   ]
  },
  {
   "cell_type": "code",
   "execution_count": 22,
   "id": "16de4e4e",
   "metadata": {},
   "outputs": [],
   "source": [
    "#res_tweedie = evaluate_tweedie_models(df_clean, features, target=target[0], power=1.5,show_residuals=True)\n",
    "#res_tweedie"
   ]
  }
 ],
 "metadata": {
  "kernelspec": {
   "display_name": "Python 3",
   "language": "python",
   "name": "python3"
  },
  "language_info": {
   "codemirror_mode": {
    "name": "ipython",
    "version": 3
   },
   "file_extension": ".py",
   "mimetype": "text/x-python",
   "name": "python",
   "nbconvert_exporter": "python",
   "pygments_lexer": "ipython3",
   "version": "3.13.0"
  }
 },
 "nbformat": 4,
 "nbformat_minor": 5
}
