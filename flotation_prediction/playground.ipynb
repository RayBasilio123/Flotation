{
 "cells": [
  {
   "cell_type": "code",
   "execution_count": 1,
   "id": "df47d304",
   "metadata": {},
   "outputs": [],
   "source": [
    "import pandas as pd\n",
    "from flot_util import *\n",
    "from flot_visualization import *\n",
    "from flot_prediction import *\n",
    "from flot_feature_engineering import *"
   ]
  },
  {
   "cell_type": "code",
   "execution_count": 2,
   "id": "d2709713",
   "metadata": {},
   "outputs": [],
   "source": [
    "df = pd.read_csv(r'C:\\Users\\rcpsi\\OneDrive\\Documents\\langchain\\Flotation\\dados\\Flotacao_Dados_Final.csv',sep=';')"
   ]
  },
  {
   "cell_type": "markdown",
   "id": "acd4ce69",
   "metadata": {},
   "source": [
    "## Data cleaning"
   ]
  },
  {
   "cell_type": "code",
   "execution_count": 3,
   "id": "67c1a3c0",
   "metadata": {},
   "outputs": [],
   "source": [
    "df = parse_time(df)\n",
    "df = remove_missing(df)\n",
    "df = filter_by_ph(df)\n",
    "df = filter_by_flow(df)\n",
    "df_clean = drop_consecutive_duplicates_tolerance(df)\n",
    "\n",
    "#df_clean = add_time_features(df_clean)\n",
    "#df_clean = add_ph_features(df_clean)\n",
    "#df_clean = add_dosage_flow_features(df_clean)\n",
    "#df_clean = add_cell_level_stats(df_clean)\n",
    "df_clean = add_rolling_features(df_clean)\n",
    "\n",
    "#df_clean = add_delta_silica_regular(df_clean)"
   ]
  },
  {
   "cell_type": "code",
   "execution_count": 4,
   "id": "41ceb192",
   "metadata": {},
   "outputs": [
    {
     "data": {
      "text/plain": [
       "(2618, 32)"
      ]
     },
     "execution_count": 4,
     "metadata": {},
     "output_type": "execute_result"
    }
   ],
   "source": [
    "df_clean.shape"
   ]
  },
  {
   "cell_type": "code",
   "execution_count": 5,
   "id": "948b47d6",
   "metadata": {},
   "outputs": [
    {
     "data": {
      "text/html": [
       "<div>\n",
       "<style scoped>\n",
       "    .dataframe tbody tr th:only-of-type {\n",
       "        vertical-align: middle;\n",
       "    }\n",
       "\n",
       "    .dataframe tbody tr th {\n",
       "        vertical-align: top;\n",
       "    }\n",
       "\n",
       "    .dataframe thead th {\n",
       "        text-align: right;\n",
       "    }\n",
       "</style>\n",
       "<table border=\"1\" class=\"dataframe\">\n",
       "  <thead>\n",
       "    <tr style=\"text-align: right;\">\n",
       "      <th></th>\n",
       "      <th>inicio</th>\n",
       "      <th>fim</th>\n",
       "      <th>conc_silica</th>\n",
       "      <th>conc_fe</th>\n",
       "      <th>param_dosagem_amido</th>\n",
       "      <th>dosagem_amina_conc_magnetica</th>\n",
       "      <th>ph_flotacao_linha01</th>\n",
       "      <th>ph_flotacao_linha02</th>\n",
       "      <th>densidade_alimentacao_flotacao</th>\n",
       "      <th>nivel_celula_li640101</th>\n",
       "      <th>...</th>\n",
       "      <th>operacao</th>\n",
       "      <th>duration_min</th>\n",
       "      <th>dosagem_amina_conc_magnetica_rollmean_3</th>\n",
       "      <th>vazao_alimentacao_flotacao_rollmean_3</th>\n",
       "      <th>densidade_alimentacao_flotacao_rollmean_3</th>\n",
       "      <th>param_dosagem_amido_rollmean_3</th>\n",
       "      <th>dosagem_amina_conc_magnetica_rollmean_5</th>\n",
       "      <th>vazao_alimentacao_flotacao_rollmean_5</th>\n",
       "      <th>densidade_alimentacao_flotacao_rollmean_5</th>\n",
       "      <th>param_dosagem_amido_rollmean_5</th>\n",
       "    </tr>\n",
       "  </thead>\n",
       "  <tbody>\n",
       "    <tr>\n",
       "      <th>0</th>\n",
       "      <td>2024-02-27 00:00:00</td>\n",
       "      <td>2024-02-27 00:20:00</td>\n",
       "      <td>2.72</td>\n",
       "      <td>64.59</td>\n",
       "      <td>492.50</td>\n",
       "      <td>152.54</td>\n",
       "      <td>9.47</td>\n",
       "      <td>7.99</td>\n",
       "      <td>1.60</td>\n",
       "      <td>369.44</td>\n",
       "      <td>...</td>\n",
       "      <td>True</td>\n",
       "      <td>20.0</td>\n",
       "      <td>NaN</td>\n",
       "      <td>NaN</td>\n",
       "      <td>NaN</td>\n",
       "      <td>NaN</td>\n",
       "      <td>NaN</td>\n",
       "      <td>NaN</td>\n",
       "      <td>NaN</td>\n",
       "      <td>NaN</td>\n",
       "    </tr>\n",
       "    <tr>\n",
       "      <th>1</th>\n",
       "      <td>2024-02-27 01:00:00</td>\n",
       "      <td>2024-02-27 01:20:00</td>\n",
       "      <td>1.23</td>\n",
       "      <td>67.40</td>\n",
       "      <td>492.50</td>\n",
       "      <td>147.58</td>\n",
       "      <td>9.60</td>\n",
       "      <td>7.95</td>\n",
       "      <td>1.57</td>\n",
       "      <td>369.84</td>\n",
       "      <td>...</td>\n",
       "      <td>True</td>\n",
       "      <td>20.0</td>\n",
       "      <td>152.540000</td>\n",
       "      <td>907.140000</td>\n",
       "      <td>1.600</td>\n",
       "      <td>492.500000</td>\n",
       "      <td>152.5400</td>\n",
       "      <td>907.140000</td>\n",
       "      <td>1.6000</td>\n",
       "      <td>492.500000</td>\n",
       "    </tr>\n",
       "    <tr>\n",
       "      <th>2</th>\n",
       "      <td>2024-02-27 03:00:00</td>\n",
       "      <td>2024-02-27 03:20:00</td>\n",
       "      <td>1.93</td>\n",
       "      <td>65.09</td>\n",
       "      <td>491.67</td>\n",
       "      <td>135.00</td>\n",
       "      <td>9.50</td>\n",
       "      <td>7.92</td>\n",
       "      <td>1.60</td>\n",
       "      <td>368.38</td>\n",
       "      <td>...</td>\n",
       "      <td>True</td>\n",
       "      <td>20.0</td>\n",
       "      <td>150.060000</td>\n",
       "      <td>792.560000</td>\n",
       "      <td>1.585</td>\n",
       "      <td>492.500000</td>\n",
       "      <td>150.0600</td>\n",
       "      <td>792.560000</td>\n",
       "      <td>1.5850</td>\n",
       "      <td>492.500000</td>\n",
       "    </tr>\n",
       "    <tr>\n",
       "      <th>3</th>\n",
       "      <td>2024-02-27 05:00:00</td>\n",
       "      <td>2024-02-27 05:20:00</td>\n",
       "      <td>2.04</td>\n",
       "      <td>65.46</td>\n",
       "      <td>491.67</td>\n",
       "      <td>146.53</td>\n",
       "      <td>9.38</td>\n",
       "      <td>9.50</td>\n",
       "      <td>1.60</td>\n",
       "      <td>369.72</td>\n",
       "      <td>...</td>\n",
       "      <td>True</td>\n",
       "      <td>20.0</td>\n",
       "      <td>145.040000</td>\n",
       "      <td>811.103333</td>\n",
       "      <td>1.590</td>\n",
       "      <td>492.223333</td>\n",
       "      <td>145.0400</td>\n",
       "      <td>811.103333</td>\n",
       "      <td>1.5900</td>\n",
       "      <td>492.223333</td>\n",
       "    </tr>\n",
       "    <tr>\n",
       "      <th>4</th>\n",
       "      <td>2024-02-27 07:00:00</td>\n",
       "      <td>2024-02-27 07:20:00</td>\n",
       "      <td>4.56</td>\n",
       "      <td>63.75</td>\n",
       "      <td>491.67</td>\n",
       "      <td>150.75</td>\n",
       "      <td>9.43</td>\n",
       "      <td>9.52</td>\n",
       "      <td>1.60</td>\n",
       "      <td>370.38</td>\n",
       "      <td>...</td>\n",
       "      <td>True</td>\n",
       "      <td>20.0</td>\n",
       "      <td>143.036667</td>\n",
       "      <td>800.046667</td>\n",
       "      <td>1.590</td>\n",
       "      <td>491.946667</td>\n",
       "      <td>145.4125</td>\n",
       "      <td>826.820000</td>\n",
       "      <td>1.5925</td>\n",
       "      <td>492.085000</td>\n",
       "    </tr>\n",
       "  </tbody>\n",
       "</table>\n",
       "<p>5 rows × 32 columns</p>\n",
       "</div>"
      ],
      "text/plain": [
       "               inicio                 fim  conc_silica  conc_fe  \\\n",
       "0 2024-02-27 00:00:00 2024-02-27 00:20:00         2.72    64.59   \n",
       "1 2024-02-27 01:00:00 2024-02-27 01:20:00         1.23    67.40   \n",
       "2 2024-02-27 03:00:00 2024-02-27 03:20:00         1.93    65.09   \n",
       "3 2024-02-27 05:00:00 2024-02-27 05:20:00         2.04    65.46   \n",
       "4 2024-02-27 07:00:00 2024-02-27 07:20:00         4.56    63.75   \n",
       "\n",
       "   param_dosagem_amido  dosagem_amina_conc_magnetica  ph_flotacao_linha01  \\\n",
       "0               492.50                        152.54                 9.47   \n",
       "1               492.50                        147.58                 9.60   \n",
       "2               491.67                        135.00                 9.50   \n",
       "3               491.67                        146.53                 9.38   \n",
       "4               491.67                        150.75                 9.43   \n",
       "\n",
       "   ph_flotacao_linha02  densidade_alimentacao_flotacao  nivel_celula_li640101  \\\n",
       "0                 7.99                            1.60                 369.44   \n",
       "1                 7.95                            1.57                 369.84   \n",
       "2                 7.92                            1.60                 368.38   \n",
       "3                 9.50                            1.60                 369.72   \n",
       "4                 9.52                            1.60                 370.38   \n",
       "\n",
       "   ...  operacao  duration_min  dosagem_amina_conc_magnetica_rollmean_3  \\\n",
       "0  ...      True          20.0                                      NaN   \n",
       "1  ...      True          20.0                               152.540000   \n",
       "2  ...      True          20.0                               150.060000   \n",
       "3  ...      True          20.0                               145.040000   \n",
       "4  ...      True          20.0                               143.036667   \n",
       "\n",
       "   vazao_alimentacao_flotacao_rollmean_3  \\\n",
       "0                                    NaN   \n",
       "1                             907.140000   \n",
       "2                             792.560000   \n",
       "3                             811.103333   \n",
       "4                             800.046667   \n",
       "\n",
       "   densidade_alimentacao_flotacao_rollmean_3  param_dosagem_amido_rollmean_3  \\\n",
       "0                                        NaN                             NaN   \n",
       "1                                      1.600                      492.500000   \n",
       "2                                      1.585                      492.500000   \n",
       "3                                      1.590                      492.223333   \n",
       "4                                      1.590                      491.946667   \n",
       "\n",
       "   dosagem_amina_conc_magnetica_rollmean_5  \\\n",
       "0                                      NaN   \n",
       "1                                 152.5400   \n",
       "2                                 150.0600   \n",
       "3                                 145.0400   \n",
       "4                                 145.4125   \n",
       "\n",
       "   vazao_alimentacao_flotacao_rollmean_5  \\\n",
       "0                                    NaN   \n",
       "1                             907.140000   \n",
       "2                             792.560000   \n",
       "3                             811.103333   \n",
       "4                             826.820000   \n",
       "\n",
       "   densidade_alimentacao_flotacao_rollmean_5  param_dosagem_amido_rollmean_5  \n",
       "0                                        NaN                             NaN  \n",
       "1                                     1.6000                      492.500000  \n",
       "2                                     1.5850                      492.500000  \n",
       "3                                     1.5900                      492.223333  \n",
       "4                                     1.5925                      492.085000  \n",
       "\n",
       "[5 rows x 32 columns]"
      ]
     },
     "execution_count": 5,
     "metadata": {},
     "output_type": "execute_result"
    }
   ],
   "source": [
    "df_clean.head()"
   ]
  },
  {
   "cell_type": "markdown",
   "id": "11b1ebc9",
   "metadata": {},
   "source": [
    "## Exploratory data analysis"
   ]
  },
  {
   "cell_type": "code",
   "execution_count": 6,
   "id": "83adb3da",
   "metadata": {},
   "outputs": [
    {
     "data": {
      "application/vnd.plotly.v1+json": {
       "config": {
        "plotlyServerURL": "https://plot.ly"
       },
       "data": [
        {
         "mode": "lines",
         "name": "Segment 0",
         "showlegend": false,
         "type": "scatter",
         "x": [
          "2024-02-27T00:00:00",
          "2024-02-27T01:00:00",
          "2024-02-27T03:00:00",
          "2024-02-27T05:00:00",
          "2024-02-27T07:00:00",
          "2024-02-27T09:00:00",
          "2024-02-27T11:00:00",
          "2024-02-27T13:00:00"
         ],
         "y": {
          "bdata": "w/UoXI/CBUCuR+F6FK7zP+F6FK5H4f4/UrgehetRAEA9CtejcD0SQD0K16NwPQpA7FG4HoXrCUCamZmZmZkgQA==",
          "dtype": "f8"
         }
        },
        {
         "mode": "lines",
         "name": "Segment 1",
         "showlegend": false,
         "type": "scatter",
         "x": [
          "2024-02-27T20:40:00"
         ],
         "y": {
          "bdata": "9ihcj8J1IkA=",
          "dtype": "f8"
         }
        },
        {
         "mode": "lines",
         "name": "Segment 2",
         "showlegend": false,
         "type": "scatter",
         "x": [
          "2024-02-28T01:00:00",
          "2024-02-28T03:00:00",
          "2024-02-28T05:00:00",
          "2024-02-28T07:00:00"
         ],
         "y": {
          "bdata": "16NwPQrX8z+uR+F6FK7zP3sUrkfhevQ/16NwPQrX+z8=",
          "dtype": "f8"
         }
        },
        {
         "mode": "lines",
         "name": "Segment 3",
         "showlegend": false,
         "type": "scatter",
         "x": [
          "2024-02-28T15:00:00"
         ],
         "y": {
          "bdata": "zczMzMzMAkA=",
          "dtype": "f8"
         }
        },
        {
         "mode": "lines",
         "name": "Segment 4",
         "showlegend": false,
         "type": "scatter",
         "x": [
          "2024-02-28T20:20:00",
          "2024-02-28T23:00:00",
          "2024-02-29T01:00:00",
          "2024-02-29T03:00:00",
          "2024-02-29T05:00:00",
          "2024-02-29T06:40:00",
          "2024-02-29T07:00:00",
          "2024-02-29T11:00:00",
          "2024-02-29T13:00:00",
          "2024-02-29T15:00:00",
          "2024-02-29T17:00:00",
          "2024-02-29T19:00:00",
          "2024-02-29T21:00:00",
          "2024-02-29T23:00:00",
          "2024-03-01T01:00:00",
          "2024-03-01T03:00:00",
          "2024-03-01T05:00:00",
          "2024-03-01T09:00:00",
          "2024-03-01T12:40:00",
          "2024-03-01T13:00:00",
          "2024-03-01T15:00:00",
          "2024-03-01T17:00:00",
          "2024-03-01T19:00:00",
          "2024-03-01T23:00:00",
          "2024-03-02T01:00:00",
          "2024-03-02T03:00:00",
          "2024-03-02T05:00:00",
          "2024-03-02T07:00:00",
          "2024-03-02T09:00:00",
          "2024-03-02T11:00:00",
          "2024-03-02T13:20:00",
          "2024-03-02T15:00:00",
          "2024-03-02T17:00:00",
          "2024-03-02T19:00:00",
          "2024-03-02T21:00:00",
          "2024-03-02T23:00:00",
          "2024-03-03T01:00:00",
          "2024-03-03T03:00:00",
          "2024-03-03T05:00:00",
          "2024-03-03T07:00:00",
          "2024-03-03T09:00:00",
          "2024-03-03T11:00:00",
          "2024-03-03T13:20:00",
          "2024-03-03T15:00:00",
          "2024-03-03T17:00:00",
          "2024-03-03T19:00:00",
          "2024-03-03T21:00:00",
          "2024-03-03T23:00:00",
          "2024-03-04T01:00:00",
          "2024-03-04T03:00:00",
          "2024-03-04T07:00:00",
          "2024-03-04T09:00:00",
          "2024-03-04T11:00:00",
          "2024-03-04T13:00:00"
         ],
         "y": {
          "bdata": "KVyPwvUoAEDsUbgehevpP+F6FK5H4fY/pHA9CtejF0A9CtejcD32P2ZmZmZmZvY/rkfhehSuHkBSuB6F61H8P+F6FK5H4QBACtejcD0KBUD2KFyPwvUKQD0K16NwPQZA16NwPQrXB0CuR+F6FK7zP3E9CtejcPU/16NwPQrX8z+uR+F6FK7zPylcj8L1KPg/UrgehetR+D8UrkfhepQhQI/C9ShcjwxAAAAAAAAA6D+amZmZmZnhP0jhehSuRwFAexSuR+F6/D9cj8L1KFzzP6RwPQrXowRAzczMzMzM/D9cj8L1KFz/PzMzMzMzMwFAFK5H4XoUBkB7FK5H4XoIQKRwPQrXowpA16NwPQrXC0DD9Shcj8IFQKRwPQrXowRAXI/C9ShcCUBxPQrXo3ADQOxRuB6F6w9A16NwPQrXC0DNzMzMzMwGQEjhehSuRwNA9ihcj8L1/D89CtejcD32P7gehetRuPY/XI/C9Shc/z/NzMzMzMwAQOxRuB6F6wNA7FG4HoXrAUD2KFyPwvUAQOF6FK5H4f4/ZmZmZmZm9j8UrkfhehQAQKRwPQrXowBA",
          "dtype": "f8"
         }
        },
        {
         "mode": "lines",
         "name": "Segment 5",
         "showlegend": false,
         "type": "scatter",
         "x": [
          "2024-03-05T01:00:00",
          "2024-03-05T05:00:00",
          "2024-03-05T07:00:00",
          "2024-03-05T09:00:00",
          "2024-03-05T11:00:00",
          "2024-03-05T13:00:00",
          "2024-03-05T15:00:00"
         ],
         "y": {
          "bdata": "4XoUrkfh/j8fhetRuB4DQFK4HoXrUQJA7FG4HoXrA0C4HoXrUbjyP+F6FK5H4fI/16NwPQrX8z8=",
          "dtype": "f8"
         }
        },
        {
         "mode": "lines",
         "name": "Segment 6",
         "showlegend": false,
         "type": "scatter",
         "x": [
          "2024-03-05T21:00:00",
          "2024-03-05T23:00:00",
          "2024-03-06T03:00:00"
         ],
         "y": {
          "bdata": "exSuR+F6+D+4HoXrUbgAQClcj8L1KPw/",
          "dtype": "f8"
         }
        },
        {
         "mode": "lines",
         "name": "Segment 7",
         "showlegend": false,
         "type": "scatter",
         "x": [
          "2024-03-07T00:40:00"
         ],
         "y": {
          "bdata": "mpmZmZmZ9T8=",
          "dtype": "f8"
         }
        },
        {
         "mode": "lines",
         "name": "Segment 8",
         "showlegend": false,
         "type": "scatter",
         "x": [
          "2024-03-07T05:00:00",
          "2024-03-07T07:00:00",
          "2024-03-07T09:00:00",
          "2024-03-07T11:00:00",
          "2024-03-07T13:00:00",
          "2024-03-07T17:00:00",
          "2024-03-07T19:00:00",
          "2024-03-07T21:00:00",
          "2024-03-07T23:00:00",
          "2024-03-08T02:40:00",
          "2024-03-08T05:00:00",
          "2024-03-08T07:00:00",
          "2024-03-08T09:00:00",
          "2024-03-08T11:00:00",
          "2024-03-08T15:00:00",
          "2024-03-08T17:00:00",
          "2024-03-08T19:00:00",
          "2024-03-08T21:00:00",
          "2024-03-08T23:00:00",
          "2024-03-09T01:00:00",
          "2024-03-09T03:00:00",
          "2024-03-09T05:00:00",
          "2024-03-09T07:00:00",
          "2024-03-09T09:00:00",
          "2024-03-09T11:00:00",
          "2024-03-09T13:00:00",
          "2024-03-09T15:00:00"
         ],
         "y": {
          "bdata": "16NwPQrX9z9cj8L1KFzvP83MzMzMzOQ/w/UoXI/C5T8UrkfhehTuPylcj8L1KOw/CtejcD0K9z9cj8L1KFzzPz0K16NwPf4/exSuR+F6AEBcj8L1KFwFQM3MzMzMzAxAFK5H4XoU+j8AAAAAAAD4P6RwPQrXo/A/KVyPwvUo7D9xPQrXo3DtP6RwPQrXo/Q/mpmZmZmZAUD2KFyPwvUAQOF6FK5H4fI/pHA9Ctej9D/Xo3A9Ctf7Pylcj8L1KABAcT0K16Nw+T9SuB6F61H0P4XrUbgehfM/",
          "dtype": "f8"
         }
        },
        {
         "mode": "lines",
         "name": "Segment 9",
         "showlegend": false,
         "type": "scatter",
         "x": [
          "2024-03-09T23:00:00",
          "2024-03-10T01:00:00",
          "2024-03-10T03:00:00",
          "2024-03-10T05:00:00",
          "2024-03-10T07:00:00",
          "2024-03-10T09:00:00",
          "2024-03-10T11:00:00",
          "2024-03-10T13:00:00",
          "2024-03-10T15:00:00",
          "2024-03-10T17:00:00",
          "2024-03-10T19:00:00",
          "2024-03-10T21:00:00",
          "2024-03-10T23:00:00",
          "2024-03-11T01:00:00",
          "2024-03-11T03:00:00",
          "2024-03-11T05:00:00",
          "2024-03-11T07:00:00",
          "2024-03-11T09:00:00",
          "2024-03-11T11:00:00",
          "2024-03-11T13:00:00",
          "2024-03-11T15:00:00",
          "2024-03-11T17:00:00",
          "2024-03-11T19:00:00",
          "2024-03-11T21:00:00",
          "2024-03-11T23:00:00",
          "2024-03-12T01:00:00",
          "2024-03-12T03:00:00",
          "2024-03-12T05:00:00",
          "2024-03-12T07:00:00",
          "2024-03-12T09:00:00",
          "2024-03-12T11:00:00",
          "2024-03-12T13:00:00",
          "2024-03-12T15:00:00"
         ],
         "y": {
          "bdata": "9ihcj8L1/D/sUbgehev1P7gehetRuPY/SOF6FK5H+T+F61G4HoUFQM3MzMzMzPw/MzMzMzMzAUCamZmZmZn5P2ZmZmZmZvY/16NwPQrX+z8UrkfhehQAQBSuR+F6FARAPQrXo3A99j/hehSuR+H2P0jhehSuR/E/mpmZmZmZ+T8zMzMzMzMFQB+F61G4HglA4XoUrkfhAEDsUbgehesBQHsUrkfheghAZmZmZmZm/j89CtejcD0CQHE9CtejcAFA7FG4HoXrCUAzMzMzMzMFQDMzMzMzM/s/exSuR+F69D+PwvUoXI/2P1yPwvUoXP8/CtejcD0KAUBSuB6F61ECQClcj8L1KPg/",
          "dtype": "f8"
         }
        },
        {
         "mode": "lines",
         "name": "Segment 10",
         "showlegend": false,
         "type": "scatter",
         "x": [
          "2024-03-12T23:00:00",
          "2024-03-13T01:00:00"
         ],
         "y": {
          "bdata": "exSuR+F6AkDhehSuR+H+Pw==",
          "dtype": "f8"
         }
        },
        {
         "mode": "lines",
         "name": "Segment 11",
         "showlegend": false,
         "type": "scatter",
         "x": [
          "2024-03-13T07:00:00",
          "2024-03-13T09:00:00",
          "2024-03-13T11:00:00",
          "2024-03-13T15:00:00",
          "2024-03-13T17:00:00",
          "2024-03-13T19:00:00",
          "2024-03-13T21:00:00",
          "2024-03-13T23:00:00",
          "2024-03-14T01:00:00",
          "2024-03-14T03:00:00",
          "2024-03-14T05:00:00",
          "2024-03-14T09:00:00",
          "2024-03-14T11:00:00",
          "2024-03-14T13:00:00",
          "2024-03-14T15:00:00",
          "2024-03-14T17:00:00",
          "2024-03-14T19:00:00",
          "2024-03-14T21:00:00",
          "2024-03-14T23:00:00",
          "2024-03-15T01:00:00"
         ],
         "y": {
          "bdata": "XI/C9Shc9z+kcD0K16P0P+F6FK5H4QJAZmZmZmZmAkA9CtejcD3+P3sUrkfhevw/16NwPQrX8z+amZmZmZn9PzMzMzMzM/8/ZmZmZmZmBEAfhetRuB4FQK5H4XoUrgVAuB6F61G4AEBcj8L1KFwDQB+F61G4HgNAXI/C9ShcBUCkcD0K16MAQK5H4XoUrvc/MzMzMzMzAUDXo3A9CtcJQA==",
          "dtype": "f8"
         }
        },
        {
         "mode": "lines",
         "name": "Segment 12",
         "showlegend": false,
         "type": "scatter",
         "x": [
          "2024-03-15T09:00:00",
          "2024-03-15T11:00:00",
          "2024-03-15T13:00:00",
          "2024-03-15T15:00:00",
          "2024-03-15T17:00:00",
          "2024-03-15T19:00:00",
          "2024-03-15T21:00:00",
          "2024-03-15T23:00:00",
          "2024-03-16T01:00:00",
          "2024-03-16T03:00:00",
          "2024-03-16T05:00:00",
          "2024-03-16T07:00:00",
          "2024-03-16T09:00:00",
          "2024-03-16T11:00:00",
          "2024-03-16T13:00:00",
          "2024-03-16T15:00:00",
          "2024-03-16T17:00:00",
          "2024-03-16T19:00:00",
          "2024-03-16T21:00:00",
          "2024-03-16T23:00:00",
          "2024-03-17T01:00:00",
          "2024-03-17T03:00:00",
          "2024-03-17T05:00:00",
          "2024-03-17T07:00:00",
          "2024-03-17T09:00:00",
          "2024-03-17T11:00:00",
          "2024-03-17T13:00:00",
          "2024-03-17T15:00:00",
          "2024-03-17T17:00:00",
          "2024-03-17T19:00:00",
          "2024-03-17T21:00:00",
          "2024-03-17T23:00:00",
          "2024-03-18T01:00:00",
          "2024-03-18T03:00:00",
          "2024-03-18T05:00:00",
          "2024-03-18T07:00:00",
          "2024-03-18T09:00:00",
          "2024-03-18T11:00:00",
          "2024-03-18T13:00:00",
          "2024-03-18T15:00:00"
         ],
         "y": {
          "bdata": "rkfhehSuCUCPwvUoXI/6P/YoXI/C9QBA4XoUrkfh/j+F61G4HoUJQHsUrkfhegpAAAAAAAAACEDD9Shcj8LxPwrXo3A9Cv8/rkfhehSuBUAfhetRuB4LQEjhehSuRw1ArkfhehSuAUBSuB6F61EEQD0K16NwPf4/XI/C9ShcAUC4HoXrUbgCQLgehetRuAZAhetRuB6FA0CamZmZmZn9P3E9CtejcAVAUrgehetRAkDhehSuR+H+P6RwPQrXo/w/mpmZmZmZ/T8AAAAAAAD8P1yPwvUoXP8/MzMzMzMz9z9I4XoUrkfpPxSuR+F6FAJAKVyPwvUo9D97FK5H4XrsPxSuR+F6FOY/MzMzMzMz6z8UrkfhehTuP8P1KFyPwgFA4XoUrkfhFkA9CtejcD0MQOxRuB6F6/k/SOF6FK5H9T8=",
          "dtype": "f8"
         }
        },
        {
         "mode": "lines",
         "name": "Segment 13",
         "showlegend": false,
         "type": "scatter",
         "x": [
          "2024-03-18T21:00:00",
          "2024-03-18T23:00:00",
          "2024-03-19T01:00:00",
          "2024-03-19T05:00:00",
          "2024-03-19T07:00:00",
          "2024-03-19T09:00:00",
          "2024-03-19T11:00:00",
          "2024-03-19T13:00:00"
         ],
         "y": {
          "bdata": "CtejcD0KG0D2KFyPwvUIQOxRuB6F6/k/uB6F61G47j/D9Shcj8ILQHsUrkfhevQ/4XoUrkfh9j/Xo3A9CtfrPw==",
          "dtype": "f8"
         }
        },
        {
         "mode": "lines",
         "name": "Segment 14",
         "showlegend": false,
         "type": "scatter",
         "x": [
          "2024-03-19T18:20:00",
          "2024-03-19T21:00:00",
          "2024-03-19T23:00:00",
          "2024-03-20T01:00:00",
          "2024-03-20T03:00:00"
         ],
         "y": {
          "bdata": "zczMzMzM8D+amZmZmZkNQGZmZmZmZvI/j8L1KFyP8j9I4XoUrkfpPw==",
          "dtype": "f8"
         }
        },
        {
         "mode": "lines",
         "name": "Segment 15",
         "showlegend": false,
         "type": "scatter",
         "x": [
          "2024-03-21T03:00:00",
          "2024-03-21T05:00:00",
          "2024-03-21T09:00:00",
          "2024-03-21T11:00:00",
          "2024-03-21T13:00:00",
          "2024-03-21T15:00:00",
          "2024-03-21T17:00:00",
          "2024-03-21T19:00:00.001000",
          "2024-03-21T21:00:00.001000",
          "2024-03-21T23:00:00.001000",
          "2024-03-22T01:00:00.001000",
          "2024-03-22T03:00:00.001000",
          "2024-03-22T05:00:00.001000",
          "2024-03-22T07:00:00.001000",
          "2024-03-22T09:00:00.001000",
          "2024-03-22T11:00:00.001000",
          "2024-03-22T13:00:00.001000",
          "2024-03-22T17:00:00.001000",
          "2024-03-22T21:00:00.001000",
          "2024-03-22T23:00:00.001000",
          "2024-03-23T01:00:00.001000",
          "2024-03-23T03:00:00.001000",
          "2024-03-23T05:00:00.001000",
          "2024-03-23T07:00:00.001000",
          "2024-03-23T09:00:00.001000",
          "2024-03-23T11:00:00.001000",
          "2024-03-23T13:00:00.001000",
          "2024-03-23T15:00:00.001000",
          "2024-03-23T17:00:00.001000",
          "2024-03-23T19:00:00.001000",
          "2024-03-23T21:00:00.001000",
          "2024-03-23T23:00:00.001000",
          "2024-03-24T01:00:00.001000",
          "2024-03-24T03:00:00.001000",
          "2024-03-24T05:00:00.001000",
          "2024-03-24T07:00:00.001000",
          "2024-03-24T09:00:00.001000",
          "2024-03-24T11:00:00.001000",
          "2024-03-24T13:00:00.001000",
          "2024-03-24T15:00:00.001000",
          "2024-03-24T17:00:00.001000",
          "2024-03-24T18:40:00.001000",
          "2024-03-24T19:00:00.001000",
          "2024-03-24T20:40:00.001000",
          "2024-03-24T21:00:00.001000",
          "2024-03-24T23:00:00.001000",
          "2024-03-25T01:00:00.001000",
          "2024-03-25T03:00:00.001000",
          "2024-03-25T05:00:00.001000",
          "2024-03-25T07:00:00.001000",
          "2024-03-25T09:00:00.001000",
          "2024-03-25T11:00:00.001000",
          "2024-03-25T13:00:00.001000",
          "2024-03-25T15:00:00.001000",
          "2024-03-25T17:00:00.001000",
          "2024-03-25T19:00:00.001000",
          "2024-03-25T21:00:00.001000",
          "2024-03-25T23:00:00.001000",
          "2024-03-26T01:00:00.001000",
          "2024-03-26T03:00:00.001000",
          "2024-03-26T05:00:00.001000",
          "2024-03-26T07:00:00.001000",
          "2024-03-26T09:00:00.001000",
          "2024-03-26T11:00:00.001000",
          "2024-03-26T13:00:00.001000",
          "2024-03-26T15:00:00.001000",
          "2024-03-26T17:00:00.001000",
          "2024-03-26T19:00:00.001000",
          "2024-03-26T21:00:00.001000",
          "2024-03-26T22:40:00.001000",
          "2024-03-26T23:00:00.001000",
          "2024-03-27T01:00:00.001000",
          "2024-03-27T03:00:00.001000",
          "2024-03-27T05:00:00.001000",
          "2024-03-27T07:00:00.001000",
          "2024-03-27T09:00:00.001000",
          "2024-03-27T11:00:00.001000",
          "2024-03-27T13:00:00.001000",
          "2024-03-27T15:00:00.001000",
          "2024-03-27T17:00:00.001000",
          "2024-03-27T19:00:00.001000",
          "2024-03-27T21:00:00.001000",
          "2024-03-27T23:00:00.001000",
          "2024-03-28T01:00:00.001000",
          "2024-03-28T03:00:00.001000",
          "2024-03-28T05:00:00.001000",
          "2024-03-28T07:00:00.001000"
         ],
         "y": {
          "bdata": "rkfhehSuCUDhehSuR+H2P65H4XoUru8/16NwPQrX6z/hehSuR+HyP1K4HoXrUfw/PQrXo3A9+j/2KFyPwvUAQKRwPQrXowBAcT0K16Nw9T97FK5H4Xr0P+xRuB6F6/E/AAAAAAAA9D/NzMzMzMwZQNejcD0K1wVAXI/C9Shc8z8UrkfhehTyPylcj8L1KPQ/MzMzMzMz8z8zMzMzMzP/PzMzMzMzM/c/j8L1KFyPAEDD9Shcj8IFQFK4HoXrUQBASOF6FK5H8T/Xo3A9Ctf/P0jhehSuR/U/CtejcD0K7z/NzMzMzMzsP65H4XoUrvM/CtejcD0K9z9cj8L1KFwLQAAAAAAAAApAZmZmZmZmAEAfhetRuB75PwAAAAAAAPw/w/UoXI/C8T8pXI/C9Sj0P6RwPQrXo/A/rkfhehSuC0DD9Shcj8IVQNejcD0K1xVA9ihcj8J1O0BxPQrXo3A7QIXrUbgehRBAZmZmZmZmAkCamZmZmZn5P+xRuB6F6wtA7FG4HoXr+T8AAAAAAADwP0jhehSuR+k/16NwPQrX6z97FK5H4Xr0PwrXo3A9Cu8/9ihcj8L16D9SuB6F61HoP6RwPQrXo+g/cT0K16Nw7T+4HoXrUbjyPwAAAAAAAPg/ZmZmZmZm8j8zMzMzMzPjP9ejcD0K1+M/UrgehetR8D+amZmZmZnhP5qZmZmZmQNAzczMzMzMBEAzMzMzMzP3P+F6FK5H4eo/MzMzMzMz6z8AAAAAAIAkQEjhehSuxyRAcT0K16Nw/T/sUbgehev5P3E9CtejcPE/H4XrUbge7T/D9Shcj8IVQFK4HoXrUfQ/rkfhehSu9z+F61G4HoXzP4/C9Shcj+o/SOF6FK5H6T/hehSuR+HqP1K4HoXrUfA/H4XrUbge7T+PwvUoXI/2P65H4XoUru8/",
          "dtype": "f8"
         }
        },
        {
         "mode": "lines",
         "name": "Segment 16",
         "showlegend": false,
         "type": "scatter",
         "x": [
          "2024-03-29T03:00:00.001000",
          "2024-03-29T05:00:00.001000",
          "2024-03-29T07:00:00.001000",
          "2024-03-29T09:00:00.001000",
          "2024-03-29T11:00:00.001000",
          "2024-03-29T13:00:00.001000",
          "2024-03-29T15:00:00.001000",
          "2024-03-29T17:00:00.001000",
          "2024-03-29T19:00:00.001000",
          "2024-03-29T21:00:00.001000",
          "2024-03-29T23:00:00.001000",
          "2024-03-30T01:00:00.001000",
          "2024-03-30T03:00:00.001000",
          "2024-03-30T05:00:00.001000",
          "2024-03-30T07:00:00.001000",
          "2024-03-30T09:00:00.001000",
          "2024-03-30T13:00:00.001000",
          "2024-03-30T15:00:00.001000",
          "2024-03-30T17:00:00.001000",
          "2024-03-30T19:00:00.001000",
          "2024-03-30T21:00:00.001000",
          "2024-03-30T23:00:00.001000",
          "2024-03-31T01:00:00.001000"
         ],
         "y": {
          "bdata": "pHA9CtejAkAUrkfhehT6PxSuR+F6FPY/rkfhehSu+z+F61G4HoULQI/C9ShcjwBA7FG4HoXrA0BI4XoUrkcBQB+F61G4HgVAMzMzMzMzDUDNzMzMzMwIQAAAAAAAAApAFK5H4XoU/j/Xo3A9CtcLQIXrUbgehQVAuB6F61G4EkAK16NwPQr7P8P1KFyPwvE/16NwPQrX6z9xPQrXo3DtPz0K16NwPfY/KVyPwvUoDEBmZmZmZmbmPw==",
          "dtype": "f8"
         }
        },
        {
         "mode": "lines",
         "name": "Segment 17",
         "showlegend": false,
         "type": "scatter",
         "x": [
          "2024-03-31T09:40:00.001000",
          "2024-03-31T13:00:00.001000",
          "2024-03-31T15:00:00.001000",
          "2024-03-31T17:00:00.001000",
          "2024-03-31T19:00:00.001000",
          "2024-03-31T21:00:00.001000",
          "2024-03-31T23:00:00.001000",
          "2024-04-01T01:00:00.001000",
          "2024-04-01T03:00:00.001000",
          "2024-04-01T05:00:00.001000",
          "2024-04-01T07:00:00.001000",
          "2024-04-01T09:00:00.001000",
          "2024-04-01T11:00:00.001000",
          "2024-04-01T13:00:00.001000",
          "2024-04-01T15:00:00.001000",
          "2024-04-01T17:00:00.001000",
          "2024-04-01T19:00:00.001000",
          "2024-04-01T21:00:00.001000",
          "2024-04-01T23:00:00.001000",
          "2024-04-02T01:00:00.001000",
          "2024-04-02T03:00:00.001000",
          "2024-04-02T05:00:00.001000",
          "2024-04-02T07:00:00.001000",
          "2024-04-02T09:00:00.001000",
          "2024-04-02T11:00:00.001000",
          "2024-04-02T13:00:00.001000",
          "2024-04-02T15:00:00.001000",
          "2024-04-02T17:00:00.001000",
          "2024-04-02T19:00:00.001000",
          "2024-04-02T21:00:00.001000",
          "2024-04-02T23:00:00.001000",
          "2024-04-03T01:00:00.001000"
         ],
         "y": {
          "bdata": "SOF6FK5HB0CuR+F6FK7/P83MzMzMzPg/rkfhehSu8z9I4XoUrkf5P5qZmZmZmfE/mpmZmZmZEEBcj8L1KFwFQFK4HoXrUfA/XI/C9Shc8z+4HoXrUbjuPwrXo3A9Cu8/cT0K16NwAUBI4XoUrkcuQHE9CtejcBVAUrgehetR9D89CtejcD0GQK5H4XoUrgNACtejcD0KAUApXI/C9SgCQHsUrkfhevw/CtejcD0K+z/hehSuR+H2P6RwPQrXo/Q/FK5H4XoU9j+4HoXrUbj2PwAAAAAAAPQ/w/UoXI/C7T+4HoXrUbj2P1yPwvUoXPM/exSuR+F69D+4HoXrUbjyPw==",
          "dtype": "f8"
         }
        },
        {
         "mode": "lines",
         "name": "Segment 18",
         "showlegend": false,
         "type": "scatter",
         "x": [
          "2024-04-04T01:00:00.001000",
          "2024-04-04T03:00:00.001000",
          "2024-04-04T05:00:00.001000",
          "2024-04-04T07:00:00.001000",
          "2024-04-04T09:00:00.001000"
         ],
         "y": {
          "bdata": "ZmZmZmZm7j8pXI/C9Sj4Pylcj8L1KApAKVyPwvUo5D89CtejcD3iPw==",
          "dtype": "f8"
         }
        },
        {
         "mode": "lines",
         "name": "Segment 19",
         "showlegend": false,
         "type": "scatter",
         "x": [
          "2024-04-05T07:00:00.001000",
          "2024-04-05T09:00:00.001000",
          "2024-04-05T11:00:00.001000",
          "2024-04-05T13:00:00.001000",
          "2024-04-05T15:00:00.001000",
          "2024-04-05T17:00:00.001000",
          "2024-04-05T19:00:00.001000",
          "2024-04-05T21:00:00.001000",
          "2024-04-05T23:00:00.001000",
          "2024-04-06T01:00:00.001000",
          "2024-04-06T03:00:00.001000",
          "2024-04-06T05:00:00.001000",
          "2024-04-06T07:00:00.001000",
          "2024-04-06T09:00:00.001000",
          "2024-04-06T11:20:00.001000"
         ],
         "y": {
          "bdata": "4XoUrkfh8j+uR+F6FK7zP7gehetRuO4/16NwPQrX8z9I4XoUrkf1Pz0K16NwPfY/j8L1KFyPDECkcD0K16MEQOxRuB6F6/k/zczMzMzMAEB7FK5H4XoIQGZmZmZmZgJAexSuR+F69D8UrkfhehQAQArXo3A9CglA",
          "dtype": "f8"
         }
        },
        {
         "mode": "lines",
         "name": "Segment 20",
         "showlegend": false,
         "type": "scatter",
         "x": [
          "2024-04-06T17:00:00.001000",
          "2024-04-06T19:00:00.001000",
          "2024-04-06T21:00:00.001000",
          "2024-04-06T23:00:00.001000",
          "2024-04-07T01:00:00.001000",
          "2024-04-07T03:00:00.001000",
          "2024-04-07T05:00:00.001000",
          "2024-04-07T07:00:00.001000",
          "2024-04-07T09:00:00.001000",
          "2024-04-07T11:00:00.001000",
          "2024-04-07T13:00:00.001000",
          "2024-04-07T15:00:00.001000",
          "2024-04-07T17:00:00.001000",
          "2024-04-07T19:00:00.001000",
          "2024-04-07T21:00:00.001000",
          "2024-04-07T23:00:00.001000",
          "2024-04-08T01:00:00.001000",
          "2024-04-08T03:00:00.001000",
          "2024-04-08T05:00:00.001000",
          "2024-04-08T07:00:00.001000",
          "2024-04-08T09:00:00.001000",
          "2024-04-08T13:00:00.001000",
          "2024-04-08T15:00:00.001000",
          "2024-04-08T17:00:00.001000",
          "2024-04-08T19:00:00.001000",
          "2024-04-08T21:00:00.001000",
          "2024-04-08T23:00:00.001000",
          "2024-04-09T01:00:00.001000",
          "2024-04-09T03:00:00.001000",
          "2024-04-09T05:00:00.001000",
          "2024-04-09T07:00:00.001000",
          "2024-04-09T09:00:00.001000",
          "2024-04-09T11:00:00.001000",
          "2024-04-09T13:00:00.001000",
          "2024-04-09T15:00:00.001000",
          "2024-04-09T17:00:00.001000",
          "2024-04-09T21:00:00.001000",
          "2024-04-09T23:00:00.001000",
          "2024-04-10T01:00:00.001000",
          "2024-04-10T03:00:00.001000",
          "2024-04-10T05:00:00.001000",
          "2024-04-10T07:00:00.001000",
          "2024-04-10T09:00:00.001000",
          "2024-04-10T11:00:00.001000",
          "2024-04-10T15:00:00.001000",
          "2024-04-10T17:00:00.001000",
          "2024-04-10T19:00:00.001000",
          "2024-04-10T23:00:00.001000",
          "2024-04-11T01:00:00.001000",
          "2024-04-11T03:00:00.001000",
          "2024-04-11T05:00:00.001000",
          "2024-04-11T07:00:00.001000",
          "2024-04-11T09:00:00.001000"
         ],
         "y": {
          "bdata": "AAAAAAAA8D+F61G4HoX/Px+F61G4Hu0/KVyPwvUo+D8UrkfhehTyPzMzMzMzM/c/AAAAAAAA9D9SuB6F61HoP83MzMzMzOw/9ihcj8L16D/hehSuR+HyP5qZmZmZmf0/exSuR+F67D8fhetRuB7xP3sUrkfhevA/zczMzMzM8D97FK5H4XrsP83MzMzMzAJACtejcD0KAUApXI/C9SjwP+xRuB6F6+k/9ihcj8L18D9SuB6F61H4P+xRuB6F6/E/exSuR+F69D8K16NwPQrzP/YoXI/C9fA/w/UoXI/C7T/2KFyPwvXwP1K4HoXrUeg/AAAAAAAA6D/Xo3A9CtfrPx+F61G4HvE/FK5H4XoU8j+kcD0K16PwP+xRuB6F6/E/16NwPQrX6z/Xo3A9CtfzPylcj8L1KPQ/uB6F61G47j9mZmZmZmYEQB+F61G4Hu0/PQrXo3A96j/2KFyPwvXwPxSuR+F6FPY/FK5H4XoU7j8K16NwPQrzP+F6FK5H4fI/PQrXo3A98j9SuB6F61HwPylcj8L1KPQ/SOF6FK5H6T8fhetRuB7xPw==",
          "dtype": "f8"
         }
        },
        {
         "mode": "lines",
         "name": "Segment 21",
         "showlegend": false,
         "type": "scatter",
         "x": [
          "2024-04-11T17:40:00.001000",
          "2024-04-11T21:00:00.001000",
          "2024-04-11T23:00:00.001000",
          "2024-04-12T01:00:00.001000",
          "2024-04-12T03:00:00.001000",
          "2024-04-12T05:00:00.001000",
          "2024-04-12T07:00:00.001000",
          "2024-04-12T09:00:00.001000",
          "2024-04-12T11:00:00.001000",
          "2024-04-12T13:00:00.001000",
          "2024-04-12T15:00:00.001000",
          "2024-04-12T17:00:00.001000",
          "2024-04-12T19:00:00.001000",
          "2024-04-12T21:00:00.001000",
          "2024-04-12T23:00:00.001000",
          "2024-04-13T03:00:00.001000",
          "2024-04-13T05:00:00.001000",
          "2024-04-13T07:00:00.001000",
          "2024-04-13T09:00:00.001000",
          "2024-04-13T11:00:00.001000",
          "2024-04-13T15:00:00.001000",
          "2024-04-13T17:00:00.001000",
          "2024-04-13T19:00:00.001000",
          "2024-04-13T21:00:00.001000",
          "2024-04-13T23:00:00.001000",
          "2024-04-14T01:00:00.001000",
          "2024-04-14T04:00:00.001000",
          "2024-04-14T07:00:00.001000",
          "2024-04-14T09:00:00.001000",
          "2024-04-14T11:00:00.001000",
          "2024-04-14T13:00:00.001000",
          "2024-04-14T15:00:00.001000",
          "2024-04-14T17:00:00.001000",
          "2024-04-14T21:00:00.001000",
          "2024-04-14T23:00:00.001000",
          "2024-04-15T01:00:00.001000",
          "2024-04-15T03:00:00.001000",
          "2024-04-15T05:00:00.001000",
          "2024-04-15T07:00:00.001000",
          "2024-04-15T09:00:00.001000",
          "2024-04-15T11:00:00.001000",
          "2024-04-15T13:00:00.001000",
          "2024-04-15T15:00:00.001000",
          "2024-04-15T19:00:00.001000",
          "2024-04-15T21:00:00.001000",
          "2024-04-15T23:00:00.001000",
          "2024-04-16T01:00:00.001000",
          "2024-04-16T03:00:00.001000",
          "2024-04-16T05:00:00.001000",
          "2024-04-16T07:00:00.001000",
          "2024-04-16T09:00:00.001000",
          "2024-04-16T11:00:00.001000",
          "2024-04-16T13:00:00.001000",
          "2024-04-16T15:00:00.001000",
          "2024-04-16T17:00:00.001000",
          "2024-04-16T19:00:00.001000",
          "2024-04-16T21:00:00.001000",
          "2024-04-16T23:00:00.001000",
          "2024-04-17T01:00:00.001000",
          "2024-04-17T03:00:00.001000",
          "2024-04-17T05:00:00.001000"
         ],
         "y": {
          "bdata": "w/UoXI/C/T/2KFyPwvXwP+F6FK5H4eo/j8L1KFyP8j+F61G4HoXrPxSuR+F6FOY/ZmZmZmZm5j/NzMzMzMzkPxSuR+F6FPI/4XoUrkfh8j/D9Shcj8LlPzMzMzMzM/c/MzMzMzMz+z9mZmZmZmb6P5qZmZmZmf0/H4XrUbge9T/NzMzMzMzkP0jhehSuR+k/7FG4HoXr9T/D9Shcj8LtPylcj8L1KPA/cT0K16Nw5T8UrkfhehT2Pylcj8L1KOQ/KVyPwvUo8D8UrkfhehTmPylcj8L1KOQ/CtejcD0K7z97FK5H4XrwPwAAAAAAAPg/ZmZmZmZm5j/NzMzMzMz0P5qZmZmZmfU/9ihcj8L1/D/2KFyPwvX4P+F6FK5H4QBA9ihcj8L1+D8UrkfhehQAQJqZmZmZmfU/7FG4HoXr9T/D9Shcj8L9P7gehetRuPY/AAAAAAAA+D/NzMzMzMwAQOxRuB6F6/k/PQrXo3A9+j9xPQrXo3D5P1K4HoXrUfg/zczMzMzM/D89CtejcD32P7gehetRuAJAKVyPwvUo/D9SuB6F61H0P1K4HoXrUfA/cT0K16Nw7T/sUbgehev1Px+F61G4Hvk/j8L1KFyP8j8AAAAAAAD0Pylcj8L1KPQ/j8L1KFyPAkA=",
          "dtype": "f8"
         }
        },
        {
         "mode": "lines",
         "name": "Segment 22",
         "showlegend": false,
         "type": "scatter",
         "x": [
          "2024-04-18T03:00:00.001000",
          "2024-04-18T05:00:00.001000",
          "2024-04-18T09:00:00.001000",
          "2024-04-18T11:00:00.001000",
          "2024-04-18T13:00:00.001000",
          "2024-04-18T15:00:00.001000",
          "2024-04-18T17:00:00.001000",
          "2024-04-18T19:00:00.001000",
          "2024-04-18T21:00:00.001000",
          "2024-04-18T23:00:00.001000",
          "2024-04-19T01:00:00.001000",
          "2024-04-19T03:00:00.001000",
          "2024-04-19T05:00:00.001000",
          "2024-04-19T07:00:00.001000",
          "2024-04-19T09:00:00.001000",
          "2024-04-19T11:00:00.001000",
          "2024-04-19T13:00:00.001000",
          "2024-04-19T15:00:00.001000",
          "2024-04-19T17:20:00.001000"
         ],
         "y": {
          "bdata": "AAAAAAAAAkAfhetRuB4FQD0K16NwPfo/16NwPQrXHEAfhetRuB71P+F6FK5H4eo/XI/C9ShcA0AzMzMzMzP3P7gehetRuO4/PQrXo3A9/j8AAAAAAAD8P5qZmZmZmfk/4XoUrkfh9j8K16NwPQoDQNejcD0K1/M/MzMzMzMz+z8zMzMzMzPzP+F6FK5H4fo/16NwPQrXCUA=",
          "dtype": "f8"
         }
        },
        {
         "mode": "lines",
         "name": "Segment 23",
         "showlegend": false,
         "type": "scatter",
         "x": [
          "2024-04-19T23:00:00.001000",
          "2024-04-20T01:00:00.001000",
          "2024-04-20T03:00:00.001000",
          "2024-04-20T05:00:00.001000",
          "2024-04-20T07:00:00.001000",
          "2024-04-20T09:00:00.001000",
          "2024-04-20T11:00:00.001000",
          "2024-04-20T13:00:00.001000",
          "2024-04-20T15:00:00.001000",
          "2024-04-20T17:00:00.001000",
          "2024-04-20T19:00:00.001000",
          "2024-04-20T21:00:00.001000",
          "2024-04-20T23:00:00.001000",
          "2024-04-21T01:00:00.001000",
          "2024-04-21T03:00:00.001000"
         ],
         "y": {
          "bdata": "FK5H4XoU8j89CtejcD3yP3sUrkfhevA/w/UoXI/C9T9I4XoUrkf1PwrXo3A9CvM/mpmZmZmZ9T9SuB6F61H0P4/C9ShcjwZA9ihcj8L18D8fhetRuB7xP5qZmZmZmfU/hetRuB6F8z8UrkfhehTyP5qZmZmZmfU/",
          "dtype": "f8"
         }
        },
        {
         "mode": "lines",
         "name": "Segment 24",
         "showlegend": false,
         "type": "scatter",
         "x": [
          "2024-04-21T09:00:00.001000",
          "2024-04-21T11:00:00.001000",
          "2024-04-21T13:00:00.001000",
          "2024-04-21T15:00:00.001000",
          "2024-04-21T17:00:00.001000",
          "2024-04-21T19:00:00.001000",
          "2024-04-21T21:00:00.001000",
          "2024-04-21T23:00:00.001000",
          "2024-04-22T01:00:00.001000",
          "2024-04-22T03:00:00.001000",
          "2024-04-22T05:00:00.001000",
          "2024-04-22T07:00:00.001000",
          "2024-04-22T09:00:00.001000",
          "2024-04-22T11:00:00.001000",
          "2024-04-22T13:00:00.001000",
          "2024-04-22T15:00:00.001000",
          "2024-04-22T17:00:00.001000",
          "2024-04-22T19:00:00.001000",
          "2024-04-22T21:00:00.001000",
          "2024-04-22T23:00:00.001000",
          "2024-04-23T01:00:00.001000",
          "2024-04-23T03:00:00.001000",
          "2024-04-23T05:00:00.001000",
          "2024-04-23T07:00:00.001000",
          "2024-04-23T09:00:00.001000",
          "2024-04-23T11:00:00.001000",
          "2024-04-23T13:00:00.001000",
          "2024-04-23T15:00:00.001000",
          "2024-04-23T17:00:00.001000",
          "2024-04-23T19:00:00.001000",
          "2024-04-23T21:00:00.001000",
          "2024-04-23T23:00:00.001000",
          "2024-04-24T01:00:00.001000",
          "2024-04-24T03:00:00.001000",
          "2024-04-24T05:00:00.001000",
          "2024-04-24T07:00:00.001000",
          "2024-04-24T09:00:00.001000",
          "2024-04-24T11:00:00.001000",
          "2024-04-24T13:00:00.001000",
          "2024-04-24T15:00:00.001000",
          "2024-04-24T17:00:00.001000",
          "2024-04-24T19:00:00.001000",
          "2024-04-24T21:00:00.001000",
          "2024-04-25T01:00:00.001000",
          "2024-04-25T03:00:00.001000"
         ],
         "y": {
          "bdata": "zczMzMzM9D97FK5H4XrwP65H4XoUru8/mpmZmZmZ6T97FK5H4XrsP3sUrkfhevg/7FG4HoXrAUAAAAAAAAD4Px+F61G4HvE/XI/C9Shc9z8K16NwPQr3P3sUrkfhegBAPQrXo3A9AkA9CtejcD3yP6RwPQrXo/A/16NwPQrXFEA9CtejcD0EQBSuR+F6FPY/w/UoXI/C8T/2KFyPwvXoP5qZmZmZmfE/cT0K16Nw8T8K16NwPQr7P6RwPQrXo/g/w/UoXI/C8T8UrkfhehT6P+xRuB6F6/E/MzMzMzMz8z8zMzMzMzMFQNejcD0K1/c/MzMzMzMz8z+F61G4HoXzP8P1KFyPwvU/CtejcD0K/z9I4XoUrkfxP3E9CtejcO0/pHA9Ctej9D8UrkfhehTuP7gehetRuO4/AAAAAAAA6D8fhetRuB7tP6RwPQrXo/Q/ZmZmZmZm7j+F61G4HoUBQLgehetRuPY/",
          "dtype": "f8"
         }
        },
        {
         "mode": "lines",
         "name": "Segment 25",
         "showlegend": false,
         "type": "scatter",
         "x": [
          "2024-04-25T17:00:00.001000",
          "2024-04-25T19:00:00.001000",
          "2024-04-25T21:00:00.001000",
          "2024-04-25T23:00:00.001000",
          "2024-04-26T01:00:00.001000",
          "2024-04-26T03:00:00.001000",
          "2024-04-26T05:00:00.001000",
          "2024-04-26T07:00:00.001000",
          "2024-04-26T09:00:00.001000",
          "2024-04-26T11:00:00.001000",
          "2024-04-26T13:00:00.001000",
          "2024-04-26T15:00:00.001000",
          "2024-04-26T17:00:00.001000",
          "2024-04-26T19:00:00.001000",
          "2024-04-26T21:00:00.001000",
          "2024-04-26T23:00:00.001000",
          "2024-04-27T03:00:00.001000",
          "2024-04-27T05:00:00.001000",
          "2024-04-27T07:00:00.001000",
          "2024-04-27T09:00:00.001000",
          "2024-04-27T11:00:00.001000",
          "2024-04-27T13:00:00.001000",
          "2024-04-27T15:00:00.001000",
          "2024-04-27T17:00:00.001000"
         ],
         "y": {
          "bdata": "zczMzMzM+D/Xo3A9CtfzPzMzMzMzM/s/hetRuB6F9z9mZmZmZmb2P5qZmZmZmfk/exSuR+F6AEAK16NwPQoFQIXrUbgehRRA4XoUrkfh9j/D9Shcj8L5Px+F61G4HhFASOF6FK5HEkAAAAAAAAAbQOxRuB6F6/0/AAAAAAAA+D9xPQrXo3D1P65H4XoUrgFAKVyPwvUo/D8zMzMzMzP/P6RwPQrXo/g/AAAAAAAA/D8zMzMzMzMFQLgehetRuABA",
          "dtype": "f8"
         }
        },
        {
         "mode": "lines",
         "name": "Segment 26",
         "showlegend": false,
         "type": "scatter",
         "x": [
          "2024-04-27T23:00:00.001000",
          "2024-04-28T01:00:00.001000",
          "2024-04-28T03:00:00.001000",
          "2024-04-28T05:00:00.001000",
          "2024-04-28T07:00:00.001000",
          "2024-04-28T09:00:00.001000",
          "2024-04-28T11:00:00.001000",
          "2024-04-28T13:00:00.001000",
          "2024-04-28T15:00:00.001000",
          "2024-04-28T17:00:00.001000",
          "2024-04-28T19:00:00.001000",
          "2024-04-28T21:00:00.001000",
          "2024-04-28T23:00:00.001000",
          "2024-04-29T01:00:00.001000",
          "2024-04-29T03:00:00.001000",
          "2024-04-29T05:00:00.001000",
          "2024-04-29T07:00:00.001000",
          "2024-04-29T09:00:00.001000",
          "2024-04-29T11:00:00.001000",
          "2024-04-29T13:00:00.001000",
          "2024-04-29T15:00:00.001000",
          "2024-04-29T17:00:00.001000",
          "2024-04-29T19:00:00.001000",
          "2024-04-29T21:00:00.001000",
          "2024-04-29T23:00:00.001000",
          "2024-04-30T01:00:00.001000",
          "2024-04-30T03:00:00.001000",
          "2024-04-30T05:00:00.001000",
          "2024-04-30T07:00:00.001000",
          "2024-04-30T09:00:00.001000",
          "2024-04-30T11:00:00.001000",
          "2024-04-30T15:00:00.001000",
          "2024-04-30T17:00:00.001000",
          "2024-04-30T19:00:00.001000",
          "2024-04-30T21:00:00.001000",
          "2024-04-30T23:00:00.001000",
          "2024-05-01T01:00:00.001000",
          "2024-05-01T03:00:00.001000",
          "2024-05-01T05:00:00.001000",
          "2024-05-01T07:00:00.001000",
          "2024-05-01T09:00:00.001000",
          "2024-05-01T11:00:00.001000",
          "2024-05-01T13:00:00.001000",
          "2024-05-01T15:00:00.001000",
          "2024-05-01T17:00:00.001000",
          "2024-05-01T19:00:00.001000",
          "2024-05-01T21:00:00.001000",
          "2024-05-01T23:00:00.001000",
          "2024-05-02T01:00:00.001000"
         ],
         "y": {
          "bdata": "KVyPwvUo9D/NzMzMzMz0PzMzMzMzMwdArkfhehSu8z/2KFyPwvX0P6RwPQrXo/Q/CtejcD0K8z89CtejcD36P4XrUbgehQFAAAAAAAAAAkApXI/C9SgAQFyPwvUoXP8/4XoUrkfh+j+uR+F6FK77P+xRuB6F6/k/16NwPQrX/z+4HoXrUbgAQM3MzMzMzPw/uB6F61G4BEAK16NwPQr/P3E9CtejcPU/MzMzMzMz9z8AAAAAAAD4P2ZmZmZmZvY/cT0K16Nw+T9mZmZmZmb6PwrXo3A9CgNAzczMzMzMAkAUrkfhehT6PwrXo3A9Cv8/zczMzMzM+D/hehSuR+H6P3sUrkfhevg/H4XrUbgeA0DsUbgehesBQArXo3A9CgFA16NwPQrXAUC4HoXrUbgCQM3MzMzMzAhASOF6FK5HA0B7FK5H4XoAQIXrUbgehQNAXI/C9Shc8z9I4XoUrkcFQLgehetRuAhArkfhehSuB0BxPQrXo3ABQKRwPQrXowBAcT0K16NwA0A=",
          "dtype": "f8"
         }
        },
        {
         "mode": "lines",
         "name": "Segment 27",
         "showlegend": false,
         "type": "scatter",
         "x": [
          "2024-05-03T00:00:00.001000"
         ],
         "y": {
          "bdata": "UrgehetRBEA=",
          "dtype": "f8"
         }
        },
        {
         "mode": "lines",
         "name": "Segment 28",
         "showlegend": false,
         "type": "scatter",
         "x": [
          "2024-05-03T05:00:00.001000",
          "2024-05-03T07:00:00.001000",
          "2024-05-03T09:00:00.001000",
          "2024-05-03T11:00:00.001000",
          "2024-05-03T13:00:00.001000",
          "2024-05-03T15:00:00.001000",
          "2024-05-03T19:00:00.001000",
          "2024-05-03T21:00:00.001000",
          "2024-05-03T23:00:00.001000",
          "2024-05-04T01:00:00.001000",
          "2024-05-04T03:00:00.001000",
          "2024-05-04T05:00:00.001000",
          "2024-05-04T07:00:00.001000",
          "2024-05-04T09:00:00.001000",
          "2024-05-04T11:00:00.001000",
          "2024-05-04T13:00:00.001000",
          "2024-05-04T15:00:00.001000",
          "2024-05-04T17:00:00.001000",
          "2024-05-04T19:00:00.001000",
          "2024-05-04T21:00:00.001000",
          "2024-05-04T23:00:00.001000",
          "2024-05-05T01:00:00.001000",
          "2024-05-05T03:00:00.001000",
          "2024-05-05T05:00:00.001000",
          "2024-05-05T07:00:00.001000",
          "2024-05-05T09:00:00.001000",
          "2024-05-05T11:00:00.001000",
          "2024-05-05T13:00:00.001000",
          "2024-05-05T15:00:00.001000",
          "2024-05-05T17:00:00.001000",
          "2024-05-05T19:00:00.001000",
          "2024-05-05T21:00:00.001000",
          "2024-05-05T23:00:00.001000",
          "2024-05-06T01:00:00.001000",
          "2024-05-06T03:00:00.001000",
          "2024-05-06T05:00:00.001000",
          "2024-05-06T07:00:00.001000",
          "2024-05-06T09:00:00.001000",
          "2024-05-06T11:00:00.001000",
          "2024-05-06T13:00:00.001000",
          "2024-05-06T15:00:00.001000",
          "2024-05-06T17:00:00.001000",
          "2024-05-06T19:00:00.001000",
          "2024-05-06T21:00:00.001000",
          "2024-05-06T23:00:00.001000",
          "2024-05-07T01:00:00.001000",
          "2024-05-07T03:00:00.001000",
          "2024-05-07T05:00:00.001000",
          "2024-05-07T07:00:00.001000"
         ],
         "y": {
          "bdata": "pHA9CtejCkBI4XoUrkcDQM3MzMzMzBdAcT0K16NwAUApXI/C9SgEQIXrUbgehRRArkfhehSu7z+PwvUoXI/yPwrXo3A9CvM/rkfhehSu+z8UrkfhehT6P83MzMzMzPg/SOF6FK5H9T+amZmZmZn5P/YoXI/C9fw/XI/C9Shc9z8UrkfhehT6P3sUrkfhevA/j8L1KFyP8j+amZmZmZn1Px+F61G4HvE/7FG4HoXr+T8AAAAAAAD8Px+F61G4HhBAZmZmZmZm8j8UrkfhehTuPwrXo3A9Cu8/MzMzMzMz8z8K16NwPQrzPx+F61G4HvU/pHA9Ctej9D9cj8L1KFz3P9ejcD0K1/8/cT0K16Nw9T+4HoXrUbj2PxSuR+F6FPo/PQrXo3A98j+F61G4HoX3P5qZmZmZmfk/7FG4HoXrA0DD9Shcj8L1P83MzMzMzPg/XI/C9ShcAUDNzMzMzMwCQFyPwvUoXAdAj8L1KFyPCkB7FK5H4Xr8P5qZmZmZmfk/ZmZmZmZm9j8=",
          "dtype": "f8"
         }
        },
        {
         "mode": "lines",
         "name": "Segment 29",
         "showlegend": false,
         "type": "scatter",
         "x": [
          "2024-05-07T21:00:00.001000",
          "2024-05-07T23:00:00.001000",
          "2024-05-08T01:00:00.001000",
          "2024-05-08T03:00:00.001000",
          "2024-05-08T05:00:00.001000",
          "2024-05-08T07:00:00.001000",
          "2024-05-08T09:00:00.001000",
          "2024-05-08T11:00:00.001000",
          "2024-05-08T13:00:00.001000",
          "2024-05-08T15:00:00.001000",
          "2024-05-08T17:00:00.001000",
          "2024-05-08T19:00:00.001000",
          "2024-05-08T21:00:00.001000",
          "2024-05-08T23:00:00.001000",
          "2024-05-09T01:00:00.001000",
          "2024-05-09T03:00:00.001000",
          "2024-05-09T05:00:00.001000"
         ],
         "y": {
          "bdata": "ZmZmZmZmFUBSuB6F61EKQPYoXI/C9fQ/exSuR+F68D+amZmZmZnxP+xRuB6F6wlAmpmZmZmZB0AfhetRuB7xP8P1KFyPwvE/zczMzMzM9D9SuB6F61EGQEjhehSuRwNApHA9Ctej/D8AAAAAAAAAQArXo3A9Cvc/PQrXo3A99j8zMzMzMzPzPw==",
          "dtype": "f8"
         }
        },
        {
         "mode": "lines",
         "name": "Segment 30",
         "showlegend": false,
         "type": "scatter",
         "x": [
          "2024-05-10T00:00:00.001000"
         ],
         "y": {
          "bdata": "16NwPQrX9z8=",
          "dtype": "f8"
         }
        },
        {
         "mode": "lines",
         "name": "Segment 31",
         "showlegend": false,
         "type": "scatter",
         "x": [
          "2024-05-10T05:00:00.001000",
          "2024-05-10T07:00:00.001000",
          "2024-05-10T09:00:00.001000",
          "2024-05-10T11:00:00.001000",
          "2024-05-10T13:00:00.001000",
          "2024-05-10T15:00:00.001000",
          "2024-05-10T17:00:00.001000",
          "2024-05-10T19:00:00.001000",
          "2024-05-10T21:00:00.001000",
          "2024-05-10T23:00:00.001000",
          "2024-05-11T01:00:00.001000",
          "2024-05-11T03:00:00.001000",
          "2024-05-11T05:00:00.001000",
          "2024-05-11T07:00:00.001000",
          "2024-05-11T09:00:00.001000",
          "2024-05-11T11:00:00.001000",
          "2024-05-11T13:00:00.001000",
          "2024-05-11T15:00:00.001000",
          "2024-05-11T17:00:00.001000",
          "2024-05-11T19:00:00.001000",
          "2024-05-11T21:00:00.001000",
          "2024-05-11T23:00:00.001000",
          "2024-05-12T01:00:00.001000",
          "2024-05-12T03:00:00.001000",
          "2024-05-12T05:00:00.001000",
          "2024-05-12T07:00:00.001000",
          "2024-05-12T09:00:00.001000",
          "2024-05-12T11:00:00.001000",
          "2024-05-12T13:00:00.001000",
          "2024-05-12T15:00:00.001000",
          "2024-05-12T17:00:00.001000",
          "2024-05-12T19:00:00.001000",
          "2024-05-12T21:00:00.001000",
          "2024-05-12T23:00:00.001000",
          "2024-05-13T01:00:00.001000",
          "2024-05-13T03:00:00.001000",
          "2024-05-13T05:00:00.001000",
          "2024-05-13T07:00:00.001000",
          "2024-05-13T09:00:00.001000",
          "2024-05-13T11:00:00.001000",
          "2024-05-13T13:00:00.001000",
          "2024-05-13T15:00:00.001000",
          "2024-05-13T17:00:00.001000",
          "2024-05-13T19:00:00.001000",
          "2024-05-13T21:00:00.001000",
          "2024-05-13T23:00:00.001000",
          "2024-05-14T01:00:00.001000",
          "2024-05-14T03:00:00.001000",
          "2024-05-14T05:00:00.001000",
          "2024-05-14T07:00:00.001000",
          "2024-05-14T09:00:00.001000",
          "2024-05-14T11:00:00.001000",
          "2024-05-14T15:00:00.001000",
          "2024-05-14T17:00:00.001000",
          "2024-05-14T19:00:00.001000",
          "2024-05-14T21:00:00.001000",
          "2024-05-14T23:00:00.001000",
          "2024-05-15T01:00:00.001000",
          "2024-05-15T03:00:00.001000",
          "2024-05-15T05:00:00.001000",
          "2024-05-15T07:00:00.001000",
          "2024-05-15T09:00:00.001000",
          "2024-05-15T11:40:00.001000",
          "2024-05-15T13:00:00.001000",
          "2024-05-15T15:00:00.001000",
          "2024-05-15T17:00:00.001000",
          "2024-05-15T19:00:00.001000",
          "2024-05-15T21:00:00.001000",
          "2024-05-15T23:00:00.001000",
          "2024-05-16T01:00:00.001000",
          "2024-05-16T03:00:00.001000"
         ],
         "y": {
          "bdata": "pHA9Ctej8D8UrkfhehTyPx+F61G4HvE/pHA9Ctej+D/sUbgehevxPwAAAAAAAOg/7FG4HoXr6T/NzMzMzMzsP/YoXI/C9eg/UrgehetR6D89CtejcD3qP1yPwvUoXO8/rkfhehSu9z+amZmZmZnxPzMzMzMzM/M/MzMzMzMz9z9mZmZmZmbyPx+F61G4HvU/SOF6FK5H8T8UrkfhehQAQLgehetRuPo/UrgehetR8D8fhetRuB7tP4XrUbgehes/j8L1KFyP8j/Xo3A9CtfrP+xRuB6F6+k/7FG4HoXr+T8zMzMzMzP3PwrXo3A9Cvc/7FG4HoXr+T/Xo3A9CtcQQLgehetRuP4/exSuR+F6/D+kcD0K16P4PwAAAAAAAPw/H4XrUbge/T8UrkfhehT6P/YoXI/C9QRAPQrXo3A9AECkcD0K16P4P3sUrkfhevQ/ZmZmZmZm9j/Xo3A9Ctf7P83MzMzMzPg/FK5H4XoU/j/Xo3A9CtfzPz0K16NwPfI/CtejcD0K8z+F61G4HoX3P4/C9Shcj/4/mpmZmZmZ/T9I4XoUrkf5P83MzMzMzAhAhetRuB6F8z8K16NwPQr7P4/C9Shcj/I/hetRuB6F8z9xPQrXo3AFQHsUrkfhegBApHA9Ctej/D9xPQrXo3D9P3sUrkfhevA/exSuR+F67D8UrkfhehT+P+F6FK5H4fY/mpmZmZmZ/T/hehSuR+H+Pz0K16NwPf4/UrgehetR/D+PwvUoXI8AQA==",
          "dtype": "f8"
         }
        },
        {
         "mode": "lines",
         "name": "Segment 32",
         "showlegend": false,
         "type": "scatter",
         "x": [
          "2024-05-17T01:00:00.001000",
          "2024-05-17T03:00:00.001000",
          "2024-05-17T05:00:00.001000",
          "2024-05-17T07:00:00.001000",
          "2024-05-17T09:00:00.001000"
         ],
         "y": {
          "bdata": "MzMzMzMz/z9SuB6F61H4Px+F61G4Hvk/uB6F61G4/j9SuB6F61H4Pw==",
          "dtype": "f8"
         }
        },
        {
         "mode": "lines",
         "name": "Segment 33",
         "showlegend": false,
         "type": "scatter",
         "x": [
          "2024-05-17T15:00:00.001000",
          "2024-05-17T17:00:00.001000",
          "2024-05-17T19:00:00.001000",
          "2024-05-17T21:00:00.001000",
          "2024-05-17T23:00:00.001000",
          "2024-05-18T01:00:00.001000",
          "2024-05-18T03:00:00.001000",
          "2024-05-18T05:00:00.001000",
          "2024-05-18T07:00:00.001000"
         ],
         "y": {
          "bdata": "cT0K16Nw9T8zMzMzMzPzP1yPwvUoXAdAAAAAAAAA/D/NzMzMzMz4PxSuR+F6FPI/pHA9Ctej+D8pXI/C9SgGQB+F61G4HgFA",
          "dtype": "f8"
         }
        },
        {
         "mode": "lines",
         "name": "Segment 34",
         "showlegend": false,
         "type": "scatter",
         "x": [
          "2024-05-18T17:40:00.001000",
          "2024-05-18T21:00:00.001000",
          "2024-05-18T23:00:00.001000",
          "2024-05-19T01:00:00.001000",
          "2024-05-19T03:00:00.001000",
          "2024-05-19T05:00:00.001000",
          "2024-05-19T07:00:00.001000",
          "2024-05-19T09:00:00.001000",
          "2024-05-19T11:00:00.001000",
          "2024-05-19T13:00:00.001000",
          "2024-05-19T15:00:00.001000",
          "2024-05-19T17:00:00.001000",
          "2024-05-19T19:00:00.001000",
          "2024-05-19T21:00:00.001000",
          "2024-05-19T23:00:00.001000",
          "2024-05-20T03:00:00.001000",
          "2024-05-20T05:00:00.001000",
          "2024-05-20T07:00:00.001000",
          "2024-05-20T09:00:00.001000",
          "2024-05-20T11:00:00.001000",
          "2024-05-20T13:00:00.001000",
          "2024-05-20T15:00:00.001000",
          "2024-05-20T17:00:00.001000",
          "2024-05-20T19:00:00.001000",
          "2024-05-20T21:00:00.001000",
          "2024-05-20T23:00:00.001000",
          "2024-05-21T01:00:00.001000",
          "2024-05-21T03:00:00.001000",
          "2024-05-21T05:00:00.001000",
          "2024-05-21T07:00:00.001000",
          "2024-05-21T09:00:00.001000",
          "2024-05-21T11:00:00.001000",
          "2024-05-21T13:00:00.001000",
          "2024-05-21T17:00:00.001000",
          "2024-05-21T19:00:00.001000",
          "2024-05-21T20:40:00.001000",
          "2024-05-21T21:00:00.001000",
          "2024-05-21T23:00:00.001000",
          "2024-05-22T01:00:00.001000",
          "2024-05-22T03:00:00.001000",
          "2024-05-22T05:20:00.001000",
          "2024-05-22T09:00:00.001000",
          "2024-05-22T11:00:00.001000",
          "2024-05-22T13:00:00.001000",
          "2024-05-22T15:00:00.001000",
          "2024-05-22T17:00:00.001000",
          "2024-05-22T19:00:00.001000",
          "2024-05-22T21:00:00.001000",
          "2024-05-22T23:00:00.001000",
          "2024-05-23T01:00:00.001000",
          "2024-05-23T03:00:00.001000",
          "2024-05-23T05:00:00.001000",
          "2024-05-23T07:00:00.001000"
         ],
         "y": {
          "bdata": "7FG4HoXrAUBSuB6F61EGQNejcD0K1/s/mpmZmZmZ/T/NzMzMzMz4P83MzMzMzPw/H4XrUbge9T9I4XoUrkfxP65H4XoUrvM/CtejcD0K9z8AAAAAAAD0P7gehetRuPI/H4XrUbgeAUAzMzMzMzP/P2ZmZmZmZvo/MzMzMzMz9z+PwvUoXI/2P83MzMzMzPg/AAAAAAAA+D+F61G4HoX7P1yPwvUoXPM/UrgehetR/D/sUbgehesBQB+F61G4Hvk/UrgehetR/D89CtejcD3yP/YoXI/C9fA/rkfhehSu7z/hehSuR+H+P3E9CtejcPE/XI/C9Shc8z9xPQrXo3D9PwrXo3A9ChFAKVyPwvUoFkCuR+F6FK4PQMP1KFyPwg9AKVyPwvUoJEDXo3A9ClcgQDMzMzMzM/M/AAAAAAAAHECPwvUoXI8MQD0K16NwPQhACtejcD0K8z/2KFyPwvXwPylcj8L1KPw/9ihcj8L1/D9I4XoUrkf9P+xRuB6F6/k/AAAAAAAA9D8zMzMzMzMFQKRwPQrXo/w/CtejcD0KAUB7FK5H4Xr0Pw==",
          "dtype": "f8"
         }
        },
        {
         "mode": "lines",
         "name": "Segment 35",
         "showlegend": false,
         "type": "scatter",
         "x": [
          "2024-05-23T21:00:00.001000",
          "2024-05-23T23:00:00.001000",
          "2024-05-24T01:00:00.001000",
          "2024-05-24T03:00:00.001000",
          "2024-05-24T05:00:00.001000",
          "2024-05-24T07:00:00.001000",
          "2024-05-24T09:00:00.001000",
          "2024-05-24T11:00:00.001000",
          "2024-05-24T13:00:00.001000",
          "2024-05-24T15:00:00.001000",
          "2024-05-24T17:00:00.001000",
          "2024-05-24T19:00:00.001000",
          "2024-05-24T21:00:00.001000",
          "2024-05-24T23:00:00.001000",
          "2024-05-25T01:00:00.001000",
          "2024-05-25T03:00:00.001000",
          "2024-05-25T05:00:00.001000",
          "2024-05-25T07:00:00.001000",
          "2024-05-25T09:00:00.001000",
          "2024-05-25T11:00:00.001000",
          "2024-05-25T13:00:00.001000",
          "2024-05-25T15:00:00.001000",
          "2024-05-25T17:00:00.001000",
          "2024-05-25T19:00:00.001000",
          "2024-05-25T21:00:00.001000",
          "2024-05-25T23:00:00.001000",
          "2024-05-26T01:00:00.001000",
          "2024-05-26T03:00:00.001000",
          "2024-05-26T05:00:00.001000",
          "2024-05-26T07:00:00.001000",
          "2024-05-26T09:00:00.001000",
          "2024-05-26T13:00:00.001000",
          "2024-05-26T15:40:00.001000",
          "2024-05-26T17:00:00.001000",
          "2024-05-26T19:00:00.001000",
          "2024-05-26T21:00:00.001000"
         ],
         "y": {
          "bdata": "mpmZmZmZ+T/Xo3A9Ctf3Px+F61G4HvE/ZmZmZmZm9j8K16NwPQrvP65H4XoUrv8/cT0K16Nw+T97FK5H4XoAQClcj8L1KPQ/rkfhehSu8z8zMzMzMzP/PxSuR+F6FAJAuB6F61G49j9SuB6F61EAQAAAAAAAAABArkfhehSu+z9xPQrXo3D9Pz0K16NwPfY/j8L1KFyP+j/D9Shcj8L9P9ejcD0K1wlAPQrXo3A9BkAK16NwPQoDQHsUrkfhevw/H4XrUbge+T/hehSuR+EAQHsUrkfhegJAj8L1KFyP+j+kcD0K16P0P65H4XoUrvc/pHA9CtejEEBI4XoUrkf1P6RwPQrXo/A/MzMzMzMz8z89CtejcD0IQJqZmZmZmQdA",
          "dtype": "f8"
         }
        },
        {
         "mode": "lines",
         "name": "Segment 36",
         "showlegend": false,
         "type": "scatter",
         "x": [
          "2024-05-27T21:00:00.001000",
          "2024-05-27T23:00:00.001000",
          "2024-05-28T01:00:00.001000",
          "2024-05-28T03:00:00.001000",
          "2024-05-28T07:00:00.001000",
          "2024-05-28T09:00:00.001000",
          "2024-05-28T11:00:00.001000",
          "2024-05-28T13:00:00.001000",
          "2024-05-28T15:00:00.001000",
          "2024-05-28T17:00:00.001000",
          "2024-05-28T19:00:00.001000",
          "2024-05-28T21:00:00.001000",
          "2024-05-28T23:00:00.001000",
          "2024-05-29T01:00:00.001000",
          "2024-05-29T03:00:00.001000",
          "2024-05-29T05:00:00.001000",
          "2024-05-29T07:00:00.001000",
          "2024-05-29T09:00:00.001000",
          "2024-05-29T11:00:00.001000",
          "2024-05-29T13:00:00.001000",
          "2024-05-29T15:00:00.001000",
          "2024-05-29T17:00:00.001000",
          "2024-05-29T19:00:00.001000",
          "2024-05-29T21:00:00.001000",
          "2024-05-29T23:00:00.001000",
          "2024-05-30T01:00:00.001000",
          "2024-05-30T03:00:00.001000",
          "2024-05-30T07:00:00.001000",
          "2024-05-30T09:00:00.001000",
          "2024-05-30T11:00:00.001000",
          "2024-05-30T13:00:00.001000",
          "2024-05-30T15:00:00.001000",
          "2024-05-30T17:00:00.001000",
          "2024-05-30T19:00:00.001000",
          "2024-05-30T21:00:00.001000",
          "2024-05-30T23:00:00.001000",
          "2024-05-31T01:00:00.001000",
          "2024-05-31T03:00:00.001000",
          "2024-05-31T05:00:00.001000",
          "2024-05-31T07:00:00.001000",
          "2024-05-31T09:00:00.001000",
          "2024-05-31T12:00:00.001000",
          "2024-05-31T13:00:00.001000",
          "2024-05-31T15:00:00.001000",
          "2024-05-31T17:00:00.001000",
          "2024-05-31T19:00:00.001000",
          "2024-05-31T21:00:00.001000",
          "2024-05-31T23:00:00.001000",
          "2024-06-01T01:00:00.001000",
          "2024-06-01T03:00:00.001000",
          "2024-06-01T05:00:00.001000",
          "2024-06-01T07:00:00.001000",
          "2024-06-01T09:00:00.001000",
          "2024-06-01T11:00:00.001000",
          "2024-06-01T13:00:00.001000",
          "2024-06-01T15:00:00.001000",
          "2024-06-01T17:00:00.001000",
          "2024-06-01T19:00:00.001000",
          "2024-06-01T21:00:00.001000",
          "2024-06-01T23:00:00.001000",
          "2024-06-02T01:00:00.001000",
          "2024-06-02T03:00:00.001000",
          "2024-06-02T05:00:00.001000",
          "2024-06-02T07:00:00.001000",
          "2024-06-02T09:00:00.001000",
          "2024-06-02T11:00:00.001000",
          "2024-06-02T13:00:00.001000",
          "2024-06-02T15:00:00.001000",
          "2024-06-02T17:00:00.001000",
          "2024-06-02T19:40:00.001000",
          "2024-06-02T23:00:00.001000",
          "2024-06-03T01:00:00.001000",
          "2024-06-03T03:00:00.001000",
          "2024-06-03T05:00:00.001000",
          "2024-06-03T07:00:00.001000",
          "2024-06-03T09:00:00.001000",
          "2024-06-03T13:00:00.001000",
          "2024-06-03T17:00:00.001000",
          "2024-06-03T19:00:00.001000",
          "2024-06-03T21:00:00.001000",
          "2024-06-03T23:00:00.001000",
          "2024-06-04T01:00:00.001000",
          "2024-06-04T03:00:00.001000",
          "2024-06-04T05:00:00.001000",
          "2024-06-04T07:00:00.001000",
          "2024-06-04T09:00:00.001000"
         ],
         "y": {
          "bdata": "CtejcD0K9z/2KFyPwvX4P3E9CtejcAFA16NwPQpXI0DhehSuR+EAQIXrUbgehfs/UrgehetR/D+F61G4HoUJQLgehetRuPo/mpmZmZmZ+T+PwvUoXI/6P8P1KFyPwhNAFK5H4XoUDkA9CtejcD0AQOF6FK5H4QJAH4XrUbgeAUCamZmZmZkBQD0K16NwPf4/j8L1KFyP/j/D9Shcj8L9P+xRuB6F6/0/UrgehetR/D8AAAAAAAACQHE9CtejcAFAAAAAAAAADkDD9Shcj8IBQFK4HoXrUQJAexSuR+F6FEBSuB6F61H4P/YoXI/C9QJAKVyPwvUo/D/hehSuR+H6P5qZmZmZmQVAmpmZmZmZAUC4HoXrUbgAQKRwPQrXowRAj8L1KFyP/j/2KFyPwvX0PwAAAAAAAPQ/KVyPwvUo9D+4HoXrUbj2P0jhehSuRwtAXI/C9ShcA0AfhetRuB79P3E9CtejcP0/ZmZmZmZmF0AK16NwPQr7P65H4XoUrv8/XI/C9Shc+z+4HoXrUbj+P5qZmZmZmf0/w/UoXI/CAUApXI/C9SgKQGZmZmZmZghAZmZmZmZmBEDsUbgehev5Px+F61G4HgFAMzMzMzMzCUBxPQrXo3AFQFK4HoXrUQRAhetRuB6FA0D2KFyPwvUCQJqZmZmZmQFAAAAAAAAACEDhehSuR+ECQDMzMzMzM/8/H4XrUbge+T/hehSuR+ECQOxRuB6F6wdAj8L1KFyPAkAK16NwPQoDQGZmZmZmZv4/CtejcD0KAUAAAAAAAAD8P83MzMzMzPw/PQrXo3A9/j8K16NwPQoDQClcj8L1KAZAexSuR+F6BkCF61G4HoURQIXrUbgehRBAuB6F61G4BkCPwvUoXI8CQClcj8L1KABAcT0K16NwA0DXo3A9CtcBQA==",
          "dtype": "f8"
         }
        },
        {
         "mode": "lines",
         "name": "Segment 37",
         "showlegend": false,
         "type": "scatter",
         "x": [
          "2024-06-04T15:00:00.001000",
          "2024-06-04T17:00:00.001000",
          "2024-06-04T19:00:00.001000",
          "2024-06-04T21:00:00.001000",
          "2024-06-04T23:00:00.001000",
          "2024-06-05T01:00:00.001000"
         ],
         "y": {
          "bdata": "cT0K16NwBUBmZmZmZmYAQOF6FK5H4QhA4XoUrkfhAEBSuB6F61EAQLgehetRuAZA",
          "dtype": "f8"
         }
        },
        {
         "mode": "lines",
         "name": "Segment 38",
         "showlegend": false,
         "type": "scatter",
         "x": [
          "2024-06-06T00:40:00.001000"
         ],
         "y": {
          "bdata": "MzMzMzMzAUA=",
          "dtype": "f8"
         }
        },
        {
         "mode": "lines",
         "name": "Segment 39",
         "showlegend": false,
         "type": "scatter",
         "x": [
          "2024-06-06T05:20:00.001000",
          "2024-06-06T07:00:00.001000",
          "2024-06-06T09:20:00.001000",
          "2024-06-06T11:00:00.001000",
          "2024-06-06T13:00:00.001000",
          "2024-06-06T15:00:00.001000",
          "2024-06-06T17:00:00.001000",
          "2024-06-06T19:00:00.001000",
          "2024-06-06T21:00:00.001000",
          "2024-06-06T23:00:00.001000",
          "2024-06-07T01:00:00.001000",
          "2024-06-07T03:00:00.001000",
          "2024-06-07T04:40:00.001000",
          "2024-06-07T05:00:00.001000",
          "2024-06-07T07:00:00.001000",
          "2024-06-07T09:00:00.001000",
          "2024-06-07T11:00:00.001000"
         ],
         "y": {
          "bdata": "XI/C9ShcFUBcj8L1KFwSQOxRuB6F6wdAzczMzMzMEkAUrkfhehQCQFK4HoXrUQ5AUrgehetRE0CamZmZmZkNQDMzMzMzMxJAKVyPwvUoE0D2KFyPwvUAQGZmZmZmZg5AexSuR+F6DkDD9Shcj0ImQKRwPQrXoylArkfhehSuHkB7FK5H4XoMQA==",
          "dtype": "f8"
         }
        },
        {
         "mode": "lines",
         "name": "Segment 40",
         "showlegend": false,
         "type": "scatter",
         "x": [
          "2024-06-07T21:00:00.001000",
          "2024-06-07T23:00:00.001000",
          "2024-06-08T03:00:00.001000",
          "2024-06-08T05:00:00.001000"
         ],
         "y": {
          "bdata": "hetRuB6FAUC4HoXrUbgAQKRwPQrXowhAcT0K16NwGEA=",
          "dtype": "f8"
         }
        },
        {
         "mode": "lines",
         "name": "Segment 41",
         "showlegend": false,
         "type": "scatter",
         "x": [
          "2024-06-08T21:00:00.001000",
          "2024-06-08T23:00:00.001000",
          "2024-06-09T01:00:00.001000",
          "2024-06-09T03:00:00.001000",
          "2024-06-09T05:00:00.001000",
          "2024-06-09T07:00:00.001000",
          "2024-06-09T09:00:00.001000",
          "2024-06-09T11:00:00.001000",
          "2024-06-09T13:00:00.001000",
          "2024-06-09T15:00:00.001000",
          "2024-06-09T17:00:00.001000",
          "2024-06-09T19:00:00.001000",
          "2024-06-09T21:00:00.001000",
          "2024-06-09T23:00:00.001000",
          "2024-06-10T01:00:00.001000",
          "2024-06-10T03:00:00.001000",
          "2024-06-10T05:00:00.001000",
          "2024-06-10T07:00:00.001000",
          "2024-06-10T09:00:00.001000",
          "2024-06-10T11:00:00.001000",
          "2024-06-10T13:00:00.001000",
          "2024-06-10T15:00:00.001000",
          "2024-06-10T17:00:00.001000",
          "2024-06-10T19:00:00.001000",
          "2024-06-10T21:00:00.001000",
          "2024-06-10T23:00:00.001000",
          "2024-06-11T01:00:00.001000",
          "2024-06-11T03:00:00.001000",
          "2024-06-11T05:00:00.001000",
          "2024-06-11T07:00:00.001000",
          "2024-06-11T09:00:00.001000",
          "2024-06-11T11:00:00.001000",
          "2024-06-11T13:00:00.001000",
          "2024-06-11T15:00:00.001000",
          "2024-06-11T17:00:00.001000",
          "2024-06-11T19:00:00.001000",
          "2024-06-11T21:00:00.001000",
          "2024-06-11T23:00:00.001000",
          "2024-06-12T01:00:00.001000",
          "2024-06-12T03:00:00.001000",
          "2024-06-12T05:00:00.001000",
          "2024-06-12T07:00:00.001000",
          "2024-06-12T09:00:00.001000",
          "2024-06-12T13:00:00.001000",
          "2024-06-12T17:00:00.001000",
          "2024-06-12T19:00:00.001000",
          "2024-06-12T23:00:00.001000",
          "2024-06-13T01:00:00.001000",
          "2024-06-13T03:00:00.001000",
          "2024-06-13T05:00:00.001000",
          "2024-06-13T09:00:00.001000",
          "2024-06-13T13:00:00.001000"
         ],
         "y": {
          "bdata": "uB6F61G4FECamZmZmZkUQJqZmZmZmQ1AZmZmZmZm/j9xPQrXo3ADQFK4HoXrUQJAAAAAAAAAAEAK16NwPQoDQLgehetRuAJAMzMzMzMzEEAUrkfhehQEQAAAAAAAAPw/AAAAAAAADkD2KFyPwvUIQDMzMzMzMwlAPQrXo3A9CEBSuB6F61EIQM3MzMzMzAZAPQrXo3A9DECF61G4HoULQFyPwvUoXPs/UrgehetR8D89CtejcD0AQI/C9ShcjxtAAAAAAAAAG0AUrkfhehQTQAAAAAAAAAhAUrgehetRAkA9CtejcD0AQEjhehSuR/E/uB6F61G49j9SuB6F61H8P0jhehSuRwdAUrgehetR/D8zMzMzMzPzP1K4HoXrUfg/exSuR+F6+D9cj8L1KFz7P0jhehSuR/k/PQrXo3A9/j9SuB6F61H8P9ejcD0K1/c/exSuR+F69D8pXI/C9Sj8P8P1KFyPwgVAMzMzMzMzD0DhehSuR+H2P3E9CtejcPU/zczMzMzM9D+uR+F6FK7/P0jhehSuRwlAw/UoXI/CGkA=",
          "dtype": "f8"
         }
        },
        {
         "mode": "lines",
         "name": "Segment 42",
         "showlegend": false,
         "type": "scatter",
         "x": [
          "2024-07-17T05:00:00.002000",
          "2024-07-17T07:00:00.002000",
          "2024-07-17T09:00:00.002000"
         ],
         "y": {
          "bdata": "16NwPQrXAUCuR+F6FK4bQPYoXI/C9RNA",
          "dtype": "f8"
         }
        },
        {
         "mode": "lines",
         "name": "Segment 43",
         "showlegend": false,
         "type": "scatter",
         "x": [
          "2024-07-17T17:00:00.002000",
          "2024-07-17T19:00:00.002000"
         ],
         "y": {
          "bdata": "hetRuB6FB0AK16NwPQoDQA==",
          "dtype": "f8"
         }
        },
        {
         "mode": "lines",
         "name": "Segment 44",
         "showlegend": false,
         "type": "scatter",
         "x": [
          "2024-07-18T03:00:00.002000",
          "2024-07-18T05:00:00.002000",
          "2024-07-18T07:00:00.002000",
          "2024-07-18T09:00:00.002000",
          "2024-07-18T11:00:00.002000"
         ],
         "y": {
          "bdata": "exSuR+F6+D9mZmZmZmb2P+xRuB6F6wtASOF6FK5HEUCPwvUoXI8MQA==",
          "dtype": "f8"
         }
        },
        {
         "mode": "lines",
         "name": "Segment 45",
         "showlegend": false,
         "type": "scatter",
         "x": [
          "2024-07-18T16:40:00.002000",
          "2024-07-18T17:00:00.002000",
          "2024-07-18T19:00:00.002000",
          "2024-07-18T21:00:00.002000",
          "2024-07-18T23:00:00.002000",
          "2024-07-19T01:00:00.002000",
          "2024-07-19T03:00:00.002000",
          "2024-07-19T05:00:00.002000",
          "2024-07-19T07:00:00.002000",
          "2024-07-19T09:00:00.002000",
          "2024-07-19T11:00:00.002000",
          "2024-07-19T13:00:00.002000",
          "2024-07-19T15:00:00.002000",
          "2024-07-19T17:00:00.002000",
          "2024-07-19T19:00:00.002000",
          "2024-07-19T21:00:00.002000",
          "2024-07-19T23:00:00.002000",
          "2024-07-20T01:00:00.002000",
          "2024-07-20T03:00:00.002000",
          "2024-07-20T05:20:00.002000",
          "2024-07-20T09:00:00.002000",
          "2024-07-20T11:00:00.002000",
          "2024-07-20T13:00:00.002000",
          "2024-07-20T15:00:00.002000",
          "2024-07-20T17:00:00.002000",
          "2024-07-20T19:00:00.002000",
          "2024-07-20T21:00:00.002000",
          "2024-07-20T23:00:00.002000",
          "2024-07-21T01:00:00.002000",
          "2024-07-21T03:00:00.002000",
          "2024-07-21T05:00:00.002000",
          "2024-07-21T07:00:00.002000",
          "2024-07-21T09:00:00.002000",
          "2024-07-21T11:00:00.002000",
          "2024-07-21T13:00:00.002000",
          "2024-07-21T15:00:00.002000",
          "2024-07-21T17:00:00.002000",
          "2024-07-21T19:00:00.002000",
          "2024-07-21T21:00:00.002000",
          "2024-07-21T23:00:00.002000",
          "2024-07-22T01:00:00.002000",
          "2024-07-22T03:00:00.002000",
          "2024-07-22T05:00:00.002000",
          "2024-07-22T07:00:00.002000",
          "2024-07-22T09:00:00.002000",
          "2024-07-22T11:00:00.002000",
          "2024-07-22T13:00:00.002000",
          "2024-07-22T15:00:00.002000",
          "2024-07-22T17:20:00.002000",
          "2024-07-22T19:00:00.002000",
          "2024-07-22T21:00:00.002000",
          "2024-07-22T23:00:00.002000",
          "2024-07-23T01:00:00.002000",
          "2024-07-23T03:00:00.002000",
          "2024-07-23T05:00:00.002000",
          "2024-07-23T07:00:00.002000",
          "2024-07-23T09:00:00.002000",
          "2024-07-23T11:00:00.002000",
          "2024-07-23T13:00:00.002000",
          "2024-07-23T15:00:00.002000",
          "2024-07-23T19:00:00.002000",
          "2024-07-23T21:00:00.002000",
          "2024-07-23T23:00:00.002000",
          "2024-07-24T01:00:00.002000",
          "2024-07-24T03:00:00.002000"
         ],
         "y": {
          "bdata": "pHA9CtejDEAUrkfhepQpQBSuR+F6FAhAXI/C9Shc/z8K16NwPQoDQMP1KFyPwgFASOF6FK5HA0AUrkfhehQAQEjhehSuRwFAexSuR+F69D+F61G4HoXzP6RwPQrXowhA7FG4HoXrAUB7FK5H4XoWQOF6FK5H4QZAuB6F61G4BEBI4XoUrkf9P3E9CtejcPk/9ihcj8L1BECamZmZmZn1Px+F61G4HhxACtejcD0KM0DNzMzMzEwtQK5H4XoUrg1APQrXo3A9DkB7FK5H4Xr8P4XrUbgehfs/PQrXo3A99j/2KFyPwvX8P+F6FK5H4QBA7FG4HoXrGUAK16NwPQoFQLgehetRuPo/16NwPQrX+z/D9Shcj8L5P7gehetRuAJAXI/C9ShcEUCuR+F6FK4JQHE9CtejcPk/hetRuB6FA0AfhetRuB4ZQGZmZmZm5iVASOF6FK5HHUAfhetRuB4tQI/C9Shcjx1AhetRuB6FD0Bcj8L1KFwDQAAAAAAAAAJAKVyPwvUoFEAUrkfhehQSQOF6FK5H4Q5AAAAAAAAACkDD9Shcj8IHQD0K16NwPf4/w/UoXI/CFUDNzMzMzMwOQEjhehSuRwVA9ihcj8L1BkCPwvUoXI8EQGZmZmZmZgpApHA9Ctej/D/sUbgehesZQK5H4XoUrhRAZmZmZmZmEUBmZmZmZmb+Pw==",
          "dtype": "f8"
         }
        },
        {
         "mode": "lines",
         "name": "Segment 46",
         "showlegend": false,
         "type": "scatter",
         "x": [
          "2024-07-25T01:00:00.002000",
          "2024-07-25T03:00:00.002000",
          "2024-07-25T05:00:00.002000",
          "2024-07-25T07:00:00.002000",
          "2024-07-25T09:00:00.002000",
          "2024-07-25T13:00:00.002000",
          "2024-07-25T15:00:00.002000",
          "2024-07-25T17:00:00.002000",
          "2024-07-25T21:00:00.002000",
          "2024-07-25T23:00:00.002000",
          "2024-07-26T01:00:00.002000",
          "2024-07-26T03:00:00.002000",
          "2024-07-26T05:00:00.002000",
          "2024-07-26T07:00:00.002000",
          "2024-07-26T09:00:00.002000",
          "2024-07-26T11:00:00.002000",
          "2024-07-26T13:00:00.002000",
          "2024-07-26T15:00:00.002000",
          "2024-07-26T17:00:00.002000",
          "2024-07-26T18:40:00.002000",
          "2024-07-26T19:00:00.002000",
          "2024-07-26T20:40:00.002000",
          "2024-07-26T21:00:00.002000",
          "2024-07-26T23:00:00.002000",
          "2024-07-27T01:00:00.002000",
          "2024-07-27T03:00:00.002000",
          "2024-07-27T05:00:00.002000",
          "2024-07-27T09:00:00.002000",
          "2024-07-27T11:00:00.002000",
          "2024-07-27T13:00:00.002000",
          "2024-07-27T15:00:00.002000",
          "2024-07-27T17:00:00.002000",
          "2024-07-27T19:00:00.002000",
          "2024-07-27T23:00:00.002000",
          "2024-07-28T01:00:00.002000",
          "2024-07-28T03:00:00.002000",
          "2024-07-28T05:00:00.002000",
          "2024-07-28T09:00:00.002000",
          "2024-07-28T11:00:00.002000",
          "2024-07-28T13:00:00.002000",
          "2024-07-28T15:00:00.002000",
          "2024-07-28T17:00:00.002000",
          "2024-07-28T19:00:00.002000",
          "2024-07-28T23:00:00.002000",
          "2024-07-29T01:00:00.002000",
          "2024-07-29T03:00:00.002000",
          "2024-07-29T05:00:00.002000",
          "2024-07-29T07:00:00.002000",
          "2024-07-29T09:00:00.002000",
          "2024-07-29T11:00:00.002000",
          "2024-07-29T13:00:00.002000",
          "2024-07-29T17:00:00.002000",
          "2024-07-29T19:00:00.002000",
          "2024-07-29T21:00:00.002000",
          "2024-07-29T23:00:00.002000",
          "2024-07-30T01:00:00.002000",
          "2024-07-30T03:00:00.002000",
          "2024-07-30T05:00:00.002000",
          "2024-07-30T07:00:00.002000",
          "2024-07-30T08:40:00.002000",
          "2024-07-30T09:00:00.002000",
          "2024-07-30T11:00:00.002000",
          "2024-07-30T13:00:00.002000",
          "2024-07-30T15:00:00.002000",
          "2024-07-30T17:00:00.002000",
          "2024-07-30T19:00:00.002000",
          "2024-07-30T21:00:00.002000",
          "2024-07-30T23:00:00.002000",
          "2024-07-31T01:00:00.002000",
          "2024-07-31T03:00:00.002000",
          "2024-07-31T05:00:00.002000",
          "2024-07-31T07:00:00.002000",
          "2024-07-31T09:00:00.002000",
          "2024-07-31T11:00:00.002000",
          "2024-07-31T13:00:00.002000",
          "2024-07-31T17:00:00.002000",
          "2024-07-31T19:00:00.002000",
          "2024-07-31T21:00:00.002000",
          "2024-07-31T23:00:00.002000",
          "2024-08-01T01:00:00",
          "2024-08-01T05:00:00",
          "2024-08-01T07:00:00",
          "2024-08-01T09:00:00",
          "2024-08-01T11:00:00",
          "2024-08-01T13:00:00",
          "2024-08-01T15:00:00",
          "2024-08-01T17:00:00",
          "2024-08-01T19:00:00",
          "2024-08-01T21:00:00",
          "2024-08-01T23:00:00",
          "2024-08-02T01:00:00",
          "2024-08-02T03:00:00",
          "2024-08-02T05:00:00",
          "2024-08-02T07:00:00"
         ],
         "y": {
          "bdata": "mpmZmZmZBUDXo3A9Ctf7P1yPwvUoXAVArkfhehSuBUDNzMzMzMwCQNejcD0K1/s/w/UoXI/C9T9cj8L1KFwBQI/C9ShcjwJAcT0K16NwEkB7FK5H4XoKQLgehetRuBdAH4XrUbgeDUBcj8L1KFwDQD0K16NwPRVAUrgehetRHkA9CtejcD0TQNejcD0K1wVAMzMzMzMzBUBI4XoUrkcFQJqZmZmZWTBA16NwPQpXMECPwvUoXI8bQAAAAAAAABZAZmZmZmZmFkDsUbgehesTQHsUrkfhegRAhetRuB6FA0DD9Shcj8ISQIXrUbgehSlAzczMzMzM+D/2KFyPwvX8P4XrUbgehR1AFK5H4XqUJUBcj8L1KFwdQClcj8L1qCRArkfhehQuI0BxPQrXo3AoQFK4HoXrURZAj8L1KFyPEUAUrkfhehQbQHsUrkfh+idAZmZmZmZmH0AfhetRuJ4iQK5H4XoULiVAMzMzMzPzNEDNzMzMzMwlQK5H4XoUbjFAXI/C9ShcMUCF61G4HgUkQKRwPQrXIyZACtejcD0KGEDXo3A9CtcUQB+F61G4nipACtejcD2KJUCkcD0K16MOQNejcD0K1xtAexSuR+H6KkDD9Shcj0IwQAAAAAAAQDBAKVyPwvUoEUBmZmZmZmYdQIXrUbgehRtAuB6F61G4BEBSuB6F61EOQM3MzMzMzBBAj8L1KFyPDEAfhetRuB4QQK5H4XoUrhJAcT0K16NwD0ApXI/C9SgSQKRwPQrXowxAKVyPwvUoBkBmZmZmZmYAQNejcD0K1/s/16NwPQrXBUDhehSuR+EaQLgehetRuApAexSuR+F6AEBxPQrXo3D9P+xRuB6F6wtAexSuR+F6FkBmZmZmZmYOQEjhehSuRwVAXI/C9ShcAUCkcD0K16MCQGZmZmZmZhBA9ihcj8L1G0AUrkfhehQvQGZmZmZmZhtA4XoUrkfhEkBxPQrXo3AJQJqZmZmZmQFA4XoUrkfhHkA=",
          "dtype": "f8"
         }
        },
        {
         "mode": "lines",
         "name": "Segment 47",
         "showlegend": false,
         "type": "scatter",
         "x": [
          "2024-08-02T13:00:00",
          "2024-08-02T15:00:00",
          "2024-08-02T17:00:00",
          "2024-08-02T19:00:00",
          "2024-08-02T21:00:00",
          "2024-08-02T23:00:00",
          "2024-08-03T01:00:00",
          "2024-08-03T03:00:00",
          "2024-08-03T06:00:00",
          "2024-08-03T07:00:00",
          "2024-08-03T09:00:00",
          "2024-08-03T11:00:00",
          "2024-08-03T13:00:00",
          "2024-08-03T14:40:00",
          "2024-08-03T15:00:00",
          "2024-08-03T17:00:00",
          "2024-08-03T18:40:00",
          "2024-08-03T19:00:00",
          "2024-08-03T21:00:00",
          "2024-08-03T23:00:00",
          "2024-08-04T01:00:00",
          "2024-08-04T03:00:00",
          "2024-08-04T05:00:00",
          "2024-08-04T07:00:00",
          "2024-08-04T09:00:00",
          "2024-08-04T11:00:00"
         ],
         "y": {
          "bdata": "AAAAAAAAAEDhehSuR+EcQPYoXI/C9fA/7FG4HoXrDUDD9Shcj8L5P7gehetRuPY/w/UoXI/CEEDXo3A9Ctf/P1yPwvUoXAdAXI/C9ShcEUCamZmZmZkiQFyPwvUoXCxAH4XrUbjeOUCamZmZmdk5QM3MzMzMzAJA4XoUrkfhEkDsUbgehesSQIXrUbgehSdA7FG4HoXrD0AAAAAAAAAEQNejcD0K1wlAPQrXo3A9AkB7FK5H4XoEQK5H4XoUrvs/UrgehetRF0CamZmZmZn9Pw==",
          "dtype": "f8"
         }
        },
        {
         "mode": "lines",
         "name": "Segment 48",
         "showlegend": false,
         "type": "scatter",
         "x": [
          "2024-08-04T17:00:00",
          "2024-08-04T18:40:00",
          "2024-08-04T19:00:00",
          "2024-08-04T21:00:00",
          "2024-08-04T23:00:00",
          "2024-08-05T01:00:00",
          "2024-08-05T03:00:00",
          "2024-08-05T05:00:00",
          "2024-08-05T07:00:00",
          "2024-08-05T09:00:00",
          "2024-08-05T11:00:00",
          "2024-08-05T12:40:00",
          "2024-08-05T13:00:00",
          "2024-08-05T15:00:00",
          "2024-08-05T17:00:00",
          "2024-08-05T19:00:00",
          "2024-08-05T23:00:00",
          "2024-08-06T01:00:00",
          "2024-08-06T03:00:00",
          "2024-08-06T05:00:00",
          "2024-08-06T07:00:00",
          "2024-08-06T09:00:00",
          "2024-08-06T11:00:00",
          "2024-08-06T13:00:00",
          "2024-08-06T15:00:00",
          "2024-08-06T17:00:00",
          "2024-08-06T19:00:00",
          "2024-08-06T21:00:00",
          "2024-08-06T23:00:00",
          "2024-08-07T01:00:00",
          "2024-08-07T03:00:00"
         ],
         "y": {
          "bdata": "H4XrUbge9T9I4XoUrkf1P4/C9ShcDyBAXI/C9ShcKEDhehSuR+EZQNejcD0K1/8/rkfhehSuB0ApXI/C9SgCQHE9CtejcAVACtejcD0KHEDD9Shcj0IjQD0K16NwPSNAZmZmZmZm/j/D9Shcj8INQHsUrkfhegJA4XoUrkfhFEDhehSuR+EGQDMzMzMzMwtA4XoUrkfhDkDsUbgehesLQPYoXI/C9QRAH4XrUbgeD0AK16NwPQogQClcj8L1KAZAzczMzMzMCkApXI/C9SgKQMP1KFyPwg9Aj8L1KFyPAECkcD0K16P8Pz0K16NwPfY/rkfhehSuA0A=",
          "dtype": "f8"
         }
        },
        {
         "mode": "lines",
         "name": "Segment 49",
         "showlegend": false,
         "type": "scatter",
         "x": [
          "2024-08-07T22:00:00",
          "2024-08-08T01:00:00",
          "2024-08-08T03:00:00",
          "2024-08-08T05:00:00",
          "2024-08-08T07:00:00",
          "2024-08-08T09:00:00",
          "2024-08-08T11:00:00",
          "2024-08-08T13:00:00",
          "2024-08-08T15:00:00",
          "2024-08-08T17:00:00",
          "2024-08-08T19:00:00",
          "2024-08-08T21:00:00",
          "2024-08-08T23:00:00",
          "2024-08-09T01:00:00",
          "2024-08-09T03:00:00",
          "2024-08-09T07:00:00",
          "2024-08-09T08:40:00",
          "2024-08-09T09:00:00",
          "2024-08-09T13:00:00",
          "2024-08-09T15:00:00",
          "2024-08-09T17:40:00",
          "2024-08-09T21:00:00",
          "2024-08-09T23:00:00",
          "2024-08-10T02:40:00",
          "2024-08-10T03:00:00",
          "2024-08-10T05:00:00",
          "2024-08-10T07:00:00",
          "2024-08-10T09:00:00",
          "2024-08-10T11:00:00"
         ],
         "y": {
          "bdata": "exSuR+F6CkBmZmZmZmbuPylcj8L1KPg/7FG4HoXrDUAAAAAAAAAAQMP1KFyPwv0/hetRuB6FA0Bcj8L1KFwQQLgehetROCdAZmZmZmZmIEB7FK5H4XocQGZmZmZmZv4/MzMzMzMzAUAUrkfhehQCQIXrUbgehQVAexSuR+F6/D+kcD0K16P8P7gehetROC1AmpmZmZmZAUCF61G4HoX7P65H4XoUrvc/4XoUrkfhAEDD9Shcj8L5P+xRuB6F6/k/exSuR+F6JkBxPQrXo3D9P+F6FK5H4QZAPQrXo3A9BEBSuB6F61H0Pw==",
          "dtype": "f8"
         }
        },
        {
         "mode": "lines",
         "name": "Segment 50",
         "showlegend": false,
         "type": "scatter",
         "x": [
          "2024-08-11T11:40:00",
          "2024-08-11T14:40:00",
          "2024-08-11T15:00:00",
          "2024-08-11T17:00:00",
          "2024-08-11T19:00:00",
          "2024-08-11T23:00:00",
          "2024-08-12T01:00:00",
          "2024-08-12T03:00:00",
          "2024-08-12T05:00:00",
          "2024-08-12T07:00:00",
          "2024-08-12T09:00:00",
          "2024-08-12T11:00:00",
          "2024-08-12T13:00:00",
          "2024-08-12T15:00:00",
          "2024-08-12T17:00:00",
          "2024-08-12T19:00:00",
          "2024-08-12T21:00:00",
          "2024-08-12T23:00:00",
          "2024-08-13T01:00:00",
          "2024-08-13T03:00:00",
          "2024-08-13T05:00:00",
          "2024-08-13T07:00:00",
          "2024-08-13T08:40:00",
          "2024-08-13T09:00:00",
          "2024-08-13T11:00:00",
          "2024-08-13T12:40:00",
          "2024-08-13T13:20:00",
          "2024-08-13T17:00:00",
          "2024-08-13T19:00:00",
          "2024-08-13T21:00:00",
          "2024-08-13T23:00:00",
          "2024-08-14T01:00:00",
          "2024-08-14T03:00:00",
          "2024-08-14T05:00:00",
          "2024-08-14T07:00:00",
          "2024-08-14T09:00:00",
          "2024-08-14T11:00:00",
          "2024-08-14T14:40:00",
          "2024-08-14T15:00:00",
          "2024-08-14T17:00:00",
          "2024-08-14T19:00:00",
          "2024-08-14T21:00:00",
          "2024-08-14T23:00:00"
         ],
         "y": {
          "bdata": "XI/C9Shc8z+uR+F6FK7zP4XrUbgexTRAexSuR+F6CkAUrkfhehQTQNejcD0K1/c/4XoUrkfhAEDXo3A9CtfzPwAAAAAAAAJArkfhehSuAUAAAAAAAAAIQLgehetRuBxAw/UoXI/CD0C4HoXrUbgCQIXrUbgehfc/zczMzMzM/D/sUbgehesWQK5H4XoUrgVA9ihcj8L1EEBcj8L1KFwJQLgehetRuARAUrgehetR+D97FK5H4Xr4P7gehetROCNASOF6FK5HH0A9CtejcD0fQAAAAAAAAPQ/zczMzMzM+D+uR+F6FK7zP4/C9ShcjxRA9ihcj8L1FEDsUbgehesPQArXo3A9Cv8/zczMzMzM9D9mZmZmZmbyPylcj8L1KAZAj8L1KFyPBECkcD0K16MEQEjhehSuRyNAzczMzMzMDkBxPQrXo3D1PwrXo3A9Cvc/4XoUrkfh9j8=",
          "dtype": "f8"
         }
        },
        {
         "mode": "lines",
         "name": "Segment 51",
         "showlegend": false,
         "type": "scatter",
         "x": [
          "2024-08-15T17:00:00",
          "2024-08-15T19:00:00",
          "2024-08-15T21:00:00",
          "2024-08-15T23:00:00",
          "2024-08-16T01:00:00"
         ],
         "y": {
          "bdata": "uB6F61G49j97FK5H4Xr8P83MzMzMzApACtejcD0K9z9SuB6F61EAQA==",
          "dtype": "f8"
         }
        },
        {
         "mode": "lines",
         "name": "Segment 52",
         "showlegend": false,
         "type": "scatter",
         "x": [
          "2024-08-16T17:00:00",
          "2024-08-16T19:00:00",
          "2024-08-16T21:00:00",
          "2024-08-16T23:00:00",
          "2024-08-17T01:00:00",
          "2024-08-17T03:00:00",
          "2024-08-17T05:00:00",
          "2024-08-17T07:00:00",
          "2024-08-17T08:40:00",
          "2024-08-17T09:00:00",
          "2024-08-17T11:00:00",
          "2024-08-17T13:00:00"
         ],
         "y": {
          "bdata": "hetRuB6F/z8K16NwPQoHQOxRuB6F6/0/16NwPQrX/z/D9Shcj8L9P1yPwvUoXP8/rkfhehSu+z+PwvUoXI/+P7gehetRuP4/16NwPQpXIkAUrkfhehQKQD0K16NwPQJA",
          "dtype": "f8"
         }
        },
        {
         "mode": "lines",
         "name": "Segment 53",
         "showlegend": false,
         "type": "scatter",
         "x": [
          "2024-08-17T22:20:00",
          "2024-08-17T23:00:00",
          "2024-08-18T01:00:00",
          "2024-08-18T03:00:00",
          "2024-08-18T05:00:00",
          "2024-08-18T07:00:00",
          "2024-08-18T09:00:00",
          "2024-08-18T11:00:00",
          "2024-08-18T13:00:00",
          "2024-08-18T15:00:00",
          "2024-08-18T17:00:00"
         ],
         "y": {
          "bdata": "4XoUrkfh/j89CtejcD0AQAAAAAAAAABAPQrXo3A9AEB7FK5H4Xr8P2ZmZmZmZgZAH4XrUbgeA0CuR+F6FK7/PzMzMzMzM/8/hetRuB6FB0DXo3A9CtcHQA==",
          "dtype": "f8"
         }
        },
        {
         "mode": "lines",
         "name": "Segment 54",
         "showlegend": false,
         "type": "scatter",
         "x": [
          "2024-08-18T23:00:00",
          "2024-08-19T00:40:00",
          "2024-08-19T01:00:00",
          "2024-08-19T03:00:00",
          "2024-08-19T05:00:00",
          "2024-08-19T07:00:00",
          "2024-08-19T09:00:00",
          "2024-08-19T11:00:00",
          "2024-08-19T13:00:00",
          "2024-08-19T15:00:00",
          "2024-08-19T17:00:00",
          "2024-08-19T19:00:00",
          "2024-08-19T21:00:00",
          "2024-08-19T23:00:00",
          "2024-08-20T01:00:00",
          "2024-08-20T03:00:00",
          "2024-08-20T05:00:00",
          "2024-08-20T07:00:00",
          "2024-08-20T09:00:00",
          "2024-08-20T11:00:00",
          "2024-08-20T13:00:00",
          "2024-08-20T15:00:00",
          "2024-08-20T17:00:00",
          "2024-08-20T19:00:00",
          "2024-08-20T21:00:00",
          "2024-08-20T23:00:00",
          "2024-08-21T01:00:00",
          "2024-08-21T03:00:00"
         ],
         "y": {
          "bdata": "j8L1KFyP+j+4HoXrUbj6P3E9Ctej8CNAw/UoXI/CEEAAAAAAAAD8P9ejcD0K1/s/PQrXo3A9G0CPwvUoXI8UQNejcD0K1/8/ZmZmZmZmAkCF61G4HoX3P/YoXI/C9QBAMzMzMzMzA0AK16NwPQr/P6RwPQrXowBAPQrXo3A9/j+kcD0K16P8P8P1KFyPwv0/4XoUrkfh+j/2KFyPwvX8Pz0K16NwPfY/cT0K16NwBUAUrkfhehT6P+F6FK5H4QBAcT0K16NwA0CF61G4HoUBQAAAAAAAAAJAZmZmZmZmBEA=",
          "dtype": "f8"
         }
        },
        {
         "mode": "lines",
         "name": "Segment 55",
         "showlegend": false,
         "type": "scatter",
         "x": [
          "2024-08-22T05:00:00",
          "2024-08-22T07:00:00",
          "2024-08-22T08:40:00",
          "2024-08-22T09:00:00",
          "2024-08-22T11:00:00",
          "2024-08-22T13:00:00",
          "2024-08-22T15:00:00",
          "2024-08-22T17:00:00",
          "2024-08-22T19:00:00",
          "2024-08-22T21:00:00",
          "2024-08-22T23:00:00",
          "2024-08-23T01:00:00",
          "2024-08-23T03:00:00",
          "2024-08-23T05:00:00",
          "2024-08-23T07:00:00",
          "2024-08-23T09:00:00"
         ],
         "y": {
          "bdata": "pHA9CtejEkBmZmZmZmYRQHE9CtejcBFAAAAAAACAKUDD9Shcj8IRQArXo3A9CgVAZmZmZmZm9j/2KFyPwvX4P7gehetRuPI/MzMzMzMzAUBI4XoUrkf5P4/C9Shcj/o/j8L1KFyPBkDD9Shcj8ILQK5H4XoUrgNAzczMzMzMCEA=",
          "dtype": "f8"
         }
        },
        {
         "mode": "lines",
         "name": "Segment 56",
         "showlegend": false,
         "type": "scatter",
         "x": [
          "2024-08-23T15:00:00",
          "2024-08-23T17:00:00",
          "2024-08-23T19:00:00",
          "2024-08-23T20:40:00",
          "2024-08-23T21:00:00",
          "2024-08-23T23:00:00",
          "2024-08-24T01:00:00",
          "2024-08-24T03:00:00",
          "2024-08-24T05:00:00",
          "2024-08-24T07:00:00",
          "2024-08-24T09:00:00",
          "2024-08-24T13:00:00",
          "2024-08-24T15:00:00",
          "2024-08-24T17:00:00",
          "2024-08-24T19:00:00",
          "2024-08-24T21:00:00",
          "2024-08-24T23:00:00",
          "2024-08-25T01:00:00",
          "2024-08-25T03:00:00",
          "2024-08-25T05:00:00",
          "2024-08-25T07:00:00",
          "2024-08-25T09:00:00",
          "2024-08-25T11:00:00",
          "2024-08-25T13:00:00",
          "2024-08-25T15:00:00",
          "2024-08-25T17:00:00",
          "2024-08-25T19:00:00",
          "2024-08-25T21:00:00",
          "2024-08-25T23:00:00",
          "2024-08-26T00:40:00",
          "2024-08-26T01:00:00",
          "2024-08-26T03:00:00",
          "2024-08-26T05:00:00",
          "2024-08-26T07:00:00",
          "2024-08-26T09:00:00"
         ],
         "y": {
          "bdata": "KVyPwvUo/D/2KFyPwvUKQFyPwvUoXPs/hetRuB6F+z8UrkfhehQhQKRwPQrXo/w/rkfhehSu9z9xPQrXo3ALQKRwPQrXowhAuB6F61G4EEDNzMzMzMwbQK5H4XoUrgVASOF6FK5H+T/2KFyPwvUAQMP1KFyPwgFAZmZmZmZmGEAK16NwPQoQQM3MzMzMzABAhetRuB6FA0AUrkfhehQGQD0K16NwPQpAj8L1KFyPCkAK16NwPQoBQAAAAAAAABFA4XoUrkfhE0CkcD0K16P8P4/C9Shcj/Y/UrgehetR/D8K16NwPQrzPzMzMzMzM/M/MzMzMzMzMUCuR+F6FO4wQFyPwvUo3C9AcT0K16NwIkAAAAAAAAAMQA==",
          "dtype": "f8"
         }
        },
        {
         "mode": "lines",
         "name": "Segment 57",
         "showlegend": false,
         "type": "scatter",
         "x": [
          "2024-08-26T17:00:00",
          "2024-08-26T19:00:00",
          "2024-08-26T20:40:00",
          "2024-08-26T21:00:00",
          "2024-08-26T22:40:00",
          "2024-08-26T23:00:00",
          "2024-08-27T01:00:00",
          "2024-08-27T03:00:00",
          "2024-08-27T05:00:00",
          "2024-08-27T07:00:00",
          "2024-08-27T09:00:00",
          "2024-08-27T13:00:00",
          "2024-08-27T15:00:00",
          "2024-08-27T17:00:00",
          "2024-08-27T21:00:00",
          "2024-08-27T23:00:00",
          "2024-08-28T01:00:00",
          "2024-08-28T03:00:00",
          "2024-08-28T05:00:00",
          "2024-08-28T07:00:00",
          "2024-08-28T09:00:00",
          "2024-08-28T11:00:00",
          "2024-08-28T13:00:00",
          "2024-08-28T15:00:00"
         ],
         "y": {
          "bdata": "mpmZmZmZC0BSuB6F69EzQI/C9ShczzNA7FG4HoXrI0BmZmZmZuYjQOF6FK5H4fo/pHA9CtejDEDXo3A9Ctf/P5qZmZmZmfU/PQrXo3A99j9cj8L1KFz7P8P1KFyPwvE/j8L1KFyP/j8pXI/C9SgEQNejcD0K1xdA9ihcj8L1GUBxPQrXo3AUQI/C9Shcj/4/7FG4HoXr8T9SuB6F61H0P65H4XoUrgtAcT0K16NwA0Bcj8L1KFwHQM3MzMzMzAJA",
          "dtype": "f8"
         }
        },
        {
         "mode": "lines",
         "name": "Segment 58",
         "showlegend": false,
         "type": "scatter",
         "x": [
          "2024-08-30T17:00:00",
          "2024-08-30T19:00:00",
          "2024-08-30T21:00:00",
          "2024-08-30T23:00:00",
          "2024-08-31T01:00:00",
          "2024-08-31T03:00:00",
          "2024-08-31T05:00:00",
          "2024-08-31T07:00:00",
          "2024-08-31T09:00:00",
          "2024-08-31T11:00:00",
          "2024-08-31T12:40:00",
          "2024-08-31T13:00:00",
          "2024-08-31T15:00:00",
          "2024-08-31T17:00:00",
          "2024-08-31T19:00:00",
          "2024-08-31T21:00:00",
          "2024-08-31T23:00:00",
          "2024-09-01T01:00:00",
          "2024-09-01T03:00:00",
          "2024-09-01T05:00:00",
          "2024-09-01T07:00:00",
          "2024-09-01T11:00:00",
          "2024-09-01T13:00:00",
          "2024-09-01T15:00:00",
          "2024-09-01T17:00:00",
          "2024-09-01T19:00:00",
          "2024-09-01T21:00:00",
          "2024-09-01T23:00:00",
          "2024-09-02T01:00:00",
          "2024-09-02T03:00:00",
          "2024-09-02T05:00:00",
          "2024-09-02T07:00:00",
          "2024-09-02T11:00:00",
          "2024-09-02T13:00:00",
          "2024-09-02T17:00:00",
          "2024-09-02T21:00:00",
          "2024-09-02T23:00:00",
          "2024-09-03T00:40:00",
          "2024-09-03T01:00:00",
          "2024-09-03T03:00:00",
          "2024-09-03T05:00:00"
         ],
         "y": {
          "bdata": "hetRuB6F6z/NzMzMzMz0P3sUrkfhehRArkfhehSu/z9I4XoUrkf9P65H4XoUrhZA9ihcj8L1F0CkcD0K1yMkQEjhehSuRx5AmpmZmZmZIUAUrkfhepQhQDMzMzMzMwVAexSuR+F6AECPwvUoXI/+P4/C9ShcjwhAuB6F61G4AEB7FK5H4XoCQClcj8L1KARAFK5H4XoUAkBmZmZmZmYIQFyPwvUoXP8/XI/C9ShcCUAK16NwPQoLQI/C9Shcj/o/uB6F61G4AEBmZmZmZmYIQFyPwvUoXANAzczMzMzMAEAUrkfhehQEQOF6FK5H4QRAhetRuB6FC0AUrkfhehQIQB+F61G4HgFAmpmZmZmZ8T8pXI/C9Sj0P7gehetRuPI/ZmZmZmZm9j+PwvUoXI/2Pylcj8L1qCBAFK5H4XoU+j8fhetRuB75Pw==",
          "dtype": "f8"
         }
        },
        {
         "mode": "lines",
         "name": "Segment 59",
         "showlegend": false,
         "type": "scatter",
         "x": [
          "2024-09-03T11:00:00",
          "2024-09-03T15:00:00",
          "2024-09-03T17:00:00",
          "2024-09-03T19:00:00",
          "2024-09-03T21:00:00",
          "2024-09-03T23:00:00",
          "2024-09-04T01:00:00",
          "2024-09-04T03:00:00",
          "2024-09-04T05:00:00",
          "2024-09-04T06:40:00",
          "2024-09-04T07:00:00",
          "2024-09-04T09:00:00",
          "2024-09-04T11:00:00",
          "2024-09-04T13:00:00",
          "2024-09-04T15:00:00",
          "2024-09-04T17:00:00",
          "2024-09-04T19:00:00",
          "2024-09-04T21:00:00",
          "2024-09-04T23:00:00",
          "2024-09-05T01:00:00",
          "2024-09-05T03:00:00"
         ],
         "y": {
          "bdata": "exSuR+F6DkAzMzMzMzPzP1K4HoXrUfw/hetRuB6F+z/Xo3A9Ctf/P83MzMzMzPQ/ZmZmZmZm/j/hehSuR+H+P2ZmZmZmZgZAexSuR+F6BkDNzMzMzMwnQHE9CtejcBRAexSuR+F6/D9SuB6F61H8P65H4XoUrhlAFK5H4XoUEECF61G4HoUVQOxRuB6F6wNAFK5H4XoUAEC4HoXrUbgKQDMzMzMzMwFA",
          "dtype": "f8"
         }
        },
        {
         "mode": "lines",
         "name": "Segment 60",
         "showlegend": false,
         "type": "scatter",
         "x": [
          "2024-09-06T05:00:00",
          "2024-09-06T07:00:00",
          "2024-09-06T08:40:00",
          "2024-09-06T09:00:00",
          "2024-09-06T10:40:00",
          "2024-09-06T11:00:00",
          "2024-09-06T14:40:00",
          "2024-09-06T17:00:00",
          "2024-09-06T19:00:00",
          "2024-09-06T21:00:00",
          "2024-09-06T23:00:00",
          "2024-09-07T00:40:00",
          "2024-09-07T01:00:00",
          "2024-09-07T02:40:00",
          "2024-09-07T03:00:00",
          "2024-09-07T05:00:00",
          "2024-09-07T09:00:00",
          "2024-09-07T11:00:00",
          "2024-09-07T13:00:00",
          "2024-09-07T15:00:00",
          "2024-09-07T17:00:00",
          "2024-09-07T19:00:00",
          "2024-09-07T21:00:00",
          "2024-09-07T23:00:00",
          "2024-09-08T01:00:00",
          "2024-09-08T03:00:00",
          "2024-09-08T05:00:00",
          "2024-09-08T07:00:00",
          "2024-09-08T09:00:00",
          "2024-09-08T11:00:00",
          "2024-09-08T13:00:00",
          "2024-09-08T15:00:00",
          "2024-09-08T17:00:00",
          "2024-09-08T19:00:00",
          "2024-09-08T21:00:00",
          "2024-09-08T23:00:00",
          "2024-09-09T01:00:00",
          "2024-09-09T02:40:00",
          "2024-09-09T03:00:00",
          "2024-09-09T05:00:00",
          "2024-09-09T07:00:00",
          "2024-09-09T09:00:00",
          "2024-09-09T11:00:00",
          "2024-09-09T15:00:00",
          "2024-09-09T17:00:00",
          "2024-09-09T19:00:00",
          "2024-09-09T21:00:00",
          "2024-09-09T23:00:00",
          "2024-09-10T01:00:00",
          "2024-09-10T03:00:00",
          "2024-09-10T07:00:00",
          "2024-09-10T09:00:00",
          "2024-09-10T11:00:00",
          "2024-09-10T13:00:00",
          "2024-09-10T15:00:00",
          "2024-09-10T17:00:00",
          "2024-09-10T19:00:00",
          "2024-09-10T21:00:00",
          "2024-09-10T23:00:00",
          "2024-09-11T01:00:00",
          "2024-09-11T03:00:00",
          "2024-09-11T05:00:00",
          "2024-09-11T07:00:00",
          "2024-09-11T09:00:00",
          "2024-09-11T11:00:00",
          "2024-09-11T13:00:00"
         ],
         "y": {
          "bdata": "XI/C9ShcAUDNzMzMzMz8P/YoXI/C9fw/7FG4HoVrK0BmZmZmZmYrQB+F61G4HvE/w/UoXI/C7T8K16NwPQrvP83MzMzMzOw/9ihcj8L1+D/NzMzMzMz8P/YoXI/C9fw/pHA9CtfjMUDhehSuR+ExQEjhehSuRwdAcT0K16Nw8T/hehSuR+EIQMP1KFyPwvE/CtejcD0K8z/Xo3A9CtfzP65H4XoUrhFACtejcD0KBUCkcD0K16MCQOxRuB6F6wFArkfhehSuCUCkcD0K16MGQDMzMzMzMwlACtejcD0KFUDD9Shcj8ISQAAAAAAAAApAPQrXo3A9EkAK16NwPQrzPx+F61G4HvU/AAAAAAAAFUA9CtejcD0TQDMzMzMzMwNAw/UoXI/CIEA9CtejcL0gQGZmZmZmZv4/rkfhehSu+z8AAAAAAAD4P+F6FK5H4fI/cT0K16Nw8T8pXI/C9SgaQGZmZmZmZuY/mpmZmZmZ+T8K16NwPQoLQOxRuB6F6/k/16NwPQrX9z/Xo3A9CtcFQM3MzMzMzPw/pHA9Ctej/D/NzMzMzMz8P0jhehSuRx1AuB6F61G4/j8AAAAAAADoPwAAAAAAAPA/CtejcD0K8z/2KFyPwvUAQAAAAAAAAAZApHA9CtejAECF61G4HoX/P7gehetRuApAhetRuB6FDUBcj8L1KFwLQKRwPQrXowJA",
          "dtype": "f8"
         }
        },
        {
         "mode": "lines",
         "name": "Segment 61",
         "showlegend": false,
         "type": "scatter",
         "x": [
          "2024-09-12T07:00:00",
          "2024-09-12T09:00:00",
          "2024-09-12T11:00:00",
          "2024-09-12T13:00:00",
          "2024-09-12T15:00:00",
          "2024-09-12T17:00:00",
          "2024-09-12T19:00:00",
          "2024-09-12T21:00:00",
          "2024-09-12T23:00:00",
          "2024-09-13T01:00:00",
          "2024-09-13T03:00:00",
          "2024-09-13T05:00:00",
          "2024-09-13T07:00:00",
          "2024-09-13T09:00:00",
          "2024-09-13T11:00:00",
          "2024-09-13T13:00:00",
          "2024-09-13T15:00:00",
          "2024-09-13T17:00:00",
          "2024-09-13T19:00:00",
          "2024-09-13T21:00:00",
          "2024-09-13T23:00:00",
          "2024-09-14T01:00:00",
          "2024-09-14T03:00:00",
          "2024-09-14T05:00:00",
          "2024-09-14T07:40:00",
          "2024-09-14T11:00:00"
         ],
         "y": {
          "bdata": "H4XrUbgeEUBxPQrXo3D9P+F6FK5H4RBAKVyPwvUoEEDXo3A9Ctf3P6RwPQrXo/w/4XoUrkfhBkBcj8L1KFwQQAAAAAAAAAZAH4XrUbge/T8UrkfhehT+P8P1KFyPwgNAzczMzMzM+D8K16NwPQoZQClcj8L1KPQ/j8L1KFyP9j9I4XoUrkfxP83MzMzMzPQ/XI/C9ShcAUBSuB6F61H4P+F6FK5H4fo/16NwPQrX/z9mZmZmZmYAQOxRuB6F6w9AmpmZmZmZ+T89CtejcD3yPw==",
          "dtype": "f8"
         }
        },
        {
         "mode": "lines",
         "name": "Segment 62",
         "showlegend": false,
         "type": "scatter",
         "x": [
          "2024-09-14T17:00:00",
          "2024-09-14T19:00:00",
          "2024-09-14T21:00:00",
          "2024-09-14T23:00:00",
          "2024-09-15T01:00:00",
          "2024-09-15T03:00:00",
          "2024-09-15T05:00:00",
          "2024-09-15T07:00:00",
          "2024-09-15T09:00:00",
          "2024-09-15T11:00:00",
          "2024-09-15T13:00:00",
          "2024-09-15T15:00:00",
          "2024-09-15T17:00:00",
          "2024-09-15T19:00:00",
          "2024-09-15T21:00:00",
          "2024-09-15T23:00:00",
          "2024-09-16T01:00:00",
          "2024-09-16T03:00:00",
          "2024-09-16T05:00:00",
          "2024-09-16T07:00:00",
          "2024-09-16T09:00:00",
          "2024-09-16T11:00:00"
         ],
         "y": {
          "bdata": "mpmZmZmZ8T8K16NwPQrvP7gehetRuPo/4XoUrkfh+j/NzMzMzMz8PwrXo3A9CgNAMzMzMzMzAUCkcD0K16MIQAAAAAAAABBACtejcD0K8z9xPQrXo3ARQGZmZmZmZvI/FK5H4XoUBkBxPQrXo3AcQDMzMzMzMxtAexSuR+F6BkAfhetRuB4FQGZmZmZmZv4/CtejcD0KDUAAAAAAAAAgQBSuR+F6FBdAH4XrUbgeEkA=",
          "dtype": "f8"
         }
        },
        {
         "mode": "lines",
         "name": "Segment 63",
         "showlegend": false,
         "type": "scatter",
         "x": [
          "2024-09-16T17:00:00",
          "2024-09-16T19:00:00",
          "2024-09-16T21:00:00",
          "2024-09-16T23:00:00",
          "2024-09-17T01:00:00",
          "2024-09-17T03:00:00",
          "2024-09-17T05:00:00",
          "2024-09-17T07:00:00",
          "2024-09-17T09:00:00",
          "2024-09-17T11:00:00",
          "2024-09-17T13:00:00",
          "2024-09-17T15:00:00",
          "2024-09-17T17:00:00",
          "2024-09-17T19:00:00",
          "2024-09-17T21:00:00",
          "2024-09-17T23:00:00",
          "2024-09-18T03:00:00"
         ],
         "y": {
          "bdata": "pHA9Ctej9D8zMzMzMzP3P4XrUbgehfM/H4XrUbge8T8AAAAAAAD0P1yPwvUoXPM/9ihcj8L19D/sUbgehevxP7gehetRuPI/FK5H4XoU9j8pXI/C9Sj0P2ZmZmZmZvY/j8L1KFyP9j/hehSuR+H6PxSuR+F6FPo/AAAAAAAA9D/Xo3A9CtfzPw==",
          "dtype": "f8"
         }
        },
        {
         "mode": "lines",
         "name": "Segment 64",
         "showlegend": false,
         "type": "scatter",
         "x": [
          "2024-09-19T02:40:00",
          "2024-09-19T03:00:00",
          "2024-09-19T05:00:00",
          "2024-09-19T07:00:00",
          "2024-09-19T09:00:00",
          "2024-09-19T11:00:00",
          "2024-09-19T13:00:00",
          "2024-09-19T15:00:00",
          "2024-09-19T17:00:00",
          "2024-09-19T19:00:00.001000",
          "2024-09-19T21:00:00.001000",
          "2024-09-19T23:00:00.001000",
          "2024-09-20T01:00:00.001000",
          "2024-09-20T03:00:00.001000",
          "2024-09-20T05:00:00.001000",
          "2024-09-20T07:00:00.001000",
          "2024-09-20T09:00:00.001000"
         ],
         "y": {
          "bdata": "KVyPwvUo9D8UrkfhehQ6QLgehetRODNAcT0K16Nw9T9xPQrXo3DxPx+F61G4HvU/9ihcj8L18D+4HoXrUbgMQArXo3A9CgtAcT0K16Nw9T8pXI/C9SgOQK5H4XoUrvM/7FG4HoXr8T8UrkfhehT+P1K4HoXrUQxAMzMzMzMz8z9cj8L1KFwPQA==",
          "dtype": "f8"
         }
        },
        {
         "mode": "lines",
         "name": "Segment 65",
         "showlegend": false,
         "type": "scatter",
         "x": [
          "2024-09-20T23:00:00.001000",
          "2024-09-21T03:00:00.001000",
          "2024-09-21T05:00:00.001000",
          "2024-09-21T07:00:00.001000",
          "2024-09-21T09:00:00.001000",
          "2024-09-21T11:00:00.001000",
          "2024-09-21T13:00:00.001000",
          "2024-09-21T15:00:00.001000",
          "2024-09-21T17:00:00.001000",
          "2024-09-21T19:00:00.001000",
          "2024-09-21T21:00:00.001000",
          "2024-09-21T23:00:00.001000",
          "2024-09-22T01:00:00.001000",
          "2024-09-22T03:00:00.001000",
          "2024-09-22T05:00:00.001000",
          "2024-09-22T07:00:00.001000",
          "2024-09-22T09:00:00.001000",
          "2024-09-22T11:00:00.001000",
          "2024-09-22T13:00:00.001000",
          "2024-09-22T15:00:00.001000",
          "2024-09-22T17:00:00.001000",
          "2024-09-22T19:00:00.001000",
          "2024-09-22T21:00:00.001000",
          "2024-09-23T01:00:00.001000",
          "2024-09-23T03:00:00.001000",
          "2024-09-23T05:00:00.001000",
          "2024-09-23T07:00:00.001000",
          "2024-09-23T09:00:00.001000",
          "2024-09-23T13:00:00.001000",
          "2024-09-23T15:00:00.001000",
          "2024-09-23T17:00:00.001000",
          "2024-09-23T19:00:00.001000",
          "2024-09-23T21:00:00.001000",
          "2024-09-23T23:00:00.001000",
          "2024-09-24T01:00:00.001000",
          "2024-09-24T02:40:00.001000",
          "2024-09-24T03:00:00.001000",
          "2024-09-24T05:00:00.001000",
          "2024-09-24T07:00:00.001000",
          "2024-09-24T09:00:00.001000",
          "2024-09-24T11:00:00.001000",
          "2024-09-24T13:00:00.001000",
          "2024-09-24T15:00:00.001000",
          "2024-09-24T17:00:00.001000",
          "2024-09-24T19:00:00.001000",
          "2024-09-24T21:00:00.001000",
          "2024-09-24T23:20:00.001000",
          "2024-09-25T01:00:00.001000",
          "2024-09-25T02:40:00.001000",
          "2024-09-25T03:00:00.001000",
          "2024-09-25T05:00:00.001000",
          "2024-09-25T07:00:00.001000"
         ],
         "y": {
          "bdata": "mpmZmZmZ/T8K16NwPQr7P3E9CtejcANACtejcD0KFECkcD0K16MGQNejcD0K1xNAzczMzMzMBkDhehSuR+H+Pylcj8L1KPg/ZmZmZmZm/j8AAAAAAAAKQBSuR+F6FPo/XI/C9Shc9z/hehSuR+H2PzMzMzMzM/s/KVyPwvUo+D8AAAAAAADoPz0K16NwPfY/AAAAAAAA8D89CtejcD32P1K4HoXrUfA/w/UoXI/C8T9SuB6F61HwP/YoXI/C9QxAexSuR+F69D9I4XoUrkcJQOxRuB6F6xZArkfhehSu/z8K16NwPQrzP83MzMzMzPA/ZmZmZmZm8j/NzMzMzMzwP1K4HoXrUQJA9ihcj8L18D+PwvUoXI8WQJqZmZmZmRZAH4XrUbieJ0BxPQrXo/AmQBSuR+F6FBZAFK5H4XoUEkBxPQrXo3DxP4/C9Shcj/Y/cT0K16Nw7T/D9Shcj8IJQJqZmZmZmf0/XI/C9Shc9z9xPQrXo3D9PzMzMzMzM/8/XI/C9Shc/z/Xo3A9CtclQEjhehSuRxtAw/UoXI/CC0A=",
          "dtype": "f8"
         }
        },
        {
         "mode": "lines",
         "name": "Segment 66",
         "showlegend": false,
         "type": "scatter",
         "x": [
          "2024-09-25T15:00:00.001000",
          "2024-09-25T18:40:00.001000",
          "2024-09-25T19:00:00.001000",
          "2024-09-25T21:00:00.001000",
          "2024-09-25T23:00:00.001000",
          "2024-09-26T01:00:00.001000",
          "2024-09-26T03:00:00.001000",
          "2024-09-26T05:00:00.001000",
          "2024-09-26T07:00:00.001000"
         ],
         "y": {
          "bdata": "hetRuB6F8z+uR+F6FK7zPzMzMzMzMx5ArkfhehSuC0CPwvUoXI/6P65H4XoUrvM/MzMzMzMz8z8fhetRuB75Px+F61G4Hv0/",
          "dtype": "f8"
         }
        },
        {
         "mode": "lines",
         "name": "Segment 67",
         "showlegend": false,
         "type": "scatter",
         "x": [
          "2024-09-26T13:00:00.001000",
          "2024-09-26T17:00:00.001000",
          "2024-09-26T19:00:00.001000"
         ],
         "y": {
          "bdata": "zczMzMzM+D9I4XoUrkfxP83MzMzMzAhA",
          "dtype": "f8"
         }
        },
        {
         "mode": "lines",
         "name": "Segment 68",
         "showlegend": false,
         "type": "scatter",
         "x": [
          "2024-09-27T21:00:00.001000",
          "2024-09-27T23:00:00.001000",
          "2024-09-28T01:00:00.001000",
          "2024-09-28T03:00:00.001000",
          "2024-09-28T05:00:00.001000",
          "2024-09-28T09:00:00.001000",
          "2024-09-28T11:00:00.001000",
          "2024-09-28T13:00:00.001000",
          "2024-09-28T15:00:00.001000",
          "2024-09-28T17:00:00.001000",
          "2024-09-28T19:00:00.001000",
          "2024-09-28T21:00:00.001000",
          "2024-09-28T23:00:00.001000",
          "2024-09-29T01:00:00.001000",
          "2024-09-29T03:00:00.001000",
          "2024-09-29T05:00:00.001000",
          "2024-09-29T07:00:00.001000",
          "2024-09-29T09:00:00.001000",
          "2024-09-29T11:00:00.001000",
          "2024-09-29T13:00:00.001000",
          "2024-09-29T15:00:00.001000",
          "2024-09-29T17:00:00.001000",
          "2024-09-29T19:00:00.001000",
          "2024-09-29T21:00:00.001000",
          "2024-09-29T23:00:00.001000",
          "2024-09-30T01:00:00.001000",
          "2024-09-30T03:00:00.001000",
          "2024-09-30T05:00:00.001000",
          "2024-09-30T07:00:00.001000",
          "2024-09-30T09:00:00.001000",
          "2024-09-30T11:00:00.001000",
          "2024-09-30T13:00:00.001000",
          "2024-09-30T17:00:00.001000",
          "2024-09-30T19:00:00.001000",
          "2024-09-30T21:00:00.001000",
          "2024-09-30T23:00:00.001000"
         ],
         "y": {
          "bdata": "UrgehevRKECPwvUoXI8VQArXo3A9CglArkfhehSu7z9xPQrXo3DtP7gehetRuPo/w/UoXI/CAUDXo3A9Ctf/P7gehetRuPY/rkfhehSu8z/NzMzMzMwMQIXrUbgehfc/zczMzMzM+D/Xo3A9CtcDQFyPwvUoXPs/cT0K16NwAUApXI/C9Sj8P1yPwvUoXPc/ZmZmZmZm/j9I4XoUrkcQQIXrUbgehQVASOF6FK5H9T8K16NwPQoQQIXrUbgehQFA16NwPQrX8z+4HoXrUbjyPxSuR+F6FPI/4XoUrkfh+j+PwvUoXI/2P1yPwvUoXPs/MzMzMzMz+z+uR+F6FK73P83MzMzMzPQ/uB6F61G49j+4HoXrUbjyP83MzMzMzPQ/",
          "dtype": "f8"
         }
        },
        {
         "mode": "lines",
         "name": "Segment 69",
         "showlegend": false,
         "type": "scatter",
         "x": [
          "2024-10-01T19:00:00.001000",
          "2024-10-01T21:00:00.001000",
          "2024-10-01T23:00:00.001000",
          "2024-10-02T01:00:00.001000",
          "2024-10-02T03:00:00.001000",
          "2024-10-02T05:00:00.001000",
          "2024-10-02T06:40:00.001000",
          "2024-10-02T07:00:00.001000",
          "2024-10-02T10:00:00.001000",
          "2024-10-02T13:00:00.001000"
         ],
         "y": {
          "bdata": "FK5H4XoU7j+uR+F6FK7nP3sUrkfhevA/MzMzMzMz9z8UrkfhehT6P7gehetRuApAzczMzMzMCkAzMzMzMzMjQI/C9ShcjwRA7FG4HoXr9T8=",
          "dtype": "f8"
         }
        },
        {
         "mode": "lines",
         "name": "Segment 70",
         "showlegend": false,
         "type": "scatter",
         "x": [
          "2024-10-02T21:00:00.001000",
          "2024-10-02T23:00:00.001000",
          "2024-10-03T01:00:00.001000",
          "2024-10-03T03:00:00.001000"
         ],
         "y": {
          "bdata": "4XoUrkfh/j8K16NwPQr7PwAAAAAAAABACtejcD0K/z8=",
          "dtype": "f8"
         }
        },
        {
         "mode": "lines",
         "name": "Segment 71",
         "showlegend": false,
         "type": "scatter",
         "x": [
          "2024-10-04T19:00:00.001000",
          "2024-10-04T21:00:00.001000",
          "2024-10-04T23:00:00.001000",
          "2024-10-05T01:00:00.001000",
          "2024-10-05T03:00:00.001000",
          "2024-10-05T05:00:00.001000",
          "2024-10-05T07:00:00.001000",
          "2024-10-05T09:00:00.001000",
          "2024-10-05T11:00:00.001000",
          "2024-10-05T13:00:00.001000",
          "2024-10-05T15:00:00.001000",
          "2024-10-05T17:00:00.001000",
          "2024-10-05T19:00:00.001000",
          "2024-10-05T21:00:00.001000",
          "2024-10-06T01:00:00.001000",
          "2024-10-06T03:00:00.001000",
          "2024-10-06T05:00:00.001000",
          "2024-10-06T07:00:00.001000",
          "2024-10-06T09:00:00.001000",
          "2024-10-06T13:00:00.001000",
          "2024-10-06T15:00:00.001000",
          "2024-10-06T17:00:00.001000",
          "2024-10-06T19:00:00.001000",
          "2024-10-06T21:00:00.001000",
          "2024-10-06T23:00:00.001000",
          "2024-10-07T01:00:00.001000",
          "2024-10-07T03:00:00.001000",
          "2024-10-07T05:00:00.001000",
          "2024-10-07T06:40:00.001000",
          "2024-10-07T07:00:00.001000",
          "2024-10-07T09:00:00.001000",
          "2024-10-07T11:00:00.001000",
          "2024-10-07T13:00:00.001000",
          "2024-10-07T15:00:00.001000",
          "2024-10-07T17:00:00.001000",
          "2024-10-07T19:00:00.001000",
          "2024-10-07T21:00:00.001000",
          "2024-10-07T23:00:00.001000",
          "2024-10-08T01:00:00.001000",
          "2024-10-08T03:00:00.001000",
          "2024-10-08T05:00:00.001000",
          "2024-10-08T07:00:00.001000",
          "2024-10-08T09:00:00.001000"
         ],
         "y": {
          "bdata": "pHA9CtejAEBcj8L1KFz/PzMzMzMzM/c/PQrXo3A9+j8K16NwPQr7P+xRuB6F6/k/XI/C9Shc8z9xPQrXo3D1P6RwPQrXo/A/SOF6FK5H8T8zMzMzMzPzP4XrUbgehfM/w/UoXI/C+T9SuB6F61H8P1K4HoXrUfg/CtejcD0K9z+4HoXrUbj2P8P1KFyPwvE/9ihcj8L19D9cj8L1KFzzP6RwPQrXo/Q/PQrXo3A9CEDsUbgehesPQB+F61G4HgNA4XoUrkfh/j8K16NwPQoHQFyPwvUoXPM/exSuR+F68D+kcD0K16PwP6RwPQrXoyBAFK5H4XoU8j/Xo3A9CtfrPzMzMzMzM/8/exSuR+F67D8pXI/C9Sj0P2ZmZmZmZu4/XI/C9ShcF0CuR+F6FK73P9ejcD0K1+s/w/UoXI/C8T8zMzMzMzMLQB+F61G4HvU/PQrXo3A9+j8=",
          "dtype": "f8"
         }
        },
        {
         "mode": "lines",
         "name": "Segment 72",
         "showlegend": false,
         "type": "scatter",
         "x": [
          "2024-10-08T17:00:00.001000"
         ],
         "y": {
          "bdata": "j8L1KFyP4j8=",
          "dtype": "f8"
         }
        },
        {
         "mode": "lines",
         "name": "Segment 73",
         "showlegend": false,
         "type": "scatter",
         "x": [
          "2024-10-09T10:40:00.001000",
          "2024-10-09T11:00:00.001000",
          "2024-10-09T13:00:00.001000",
          "2024-10-09T15:00:00.001000",
          "2024-10-09T17:00:00.001000",
          "2024-10-09T19:00:00.001000",
          "2024-10-09T21:00:00.001000",
          "2024-10-09T23:00:00.001000"
         ],
         "y": {
          "bdata": "4XoUrkfh4j9I4XoUrkchQGZmZmZm5iJAH4XrUbgeHEDD9Shcj8L9P9ejcD0K1xVApHA9CtejCEAUrkfhehT+Pw==",
          "dtype": "f8"
         }
        },
        {
         "mode": "lines",
         "name": "Segment 74",
         "showlegend": false,
         "type": "scatter",
         "x": [
          "2024-10-10T17:00:00.001000",
          "2024-10-10T19:00:00.001000",
          "2024-10-10T21:00:00.001000"
         ],
         "y": {
          "bdata": "uB6F61G4CkDNzMzMzMwEQM3MzMzMzAZA",
          "dtype": "f8"
         }
        },
        {
         "mode": "lines",
         "name": "Segment 75",
         "showlegend": false,
         "type": "scatter",
         "x": [
          "2024-10-11T03:00:00.001000",
          "2024-10-11T05:00:00.001000",
          "2024-10-11T07:00:00.001000",
          "2024-10-11T09:00:00.001000",
          "2024-10-11T11:00:00.001000",
          "2024-10-11T13:00:00.001000",
          "2024-10-11T15:00:00.001000",
          "2024-10-11T17:00:00.001000",
          "2024-10-11T19:00:00.001000",
          "2024-10-11T21:00:00.001000",
          "2024-10-11T23:00:00.001000",
          "2024-10-12T01:00:00.001000",
          "2024-10-12T03:00:00.001000",
          "2024-10-12T05:00:00.001000",
          "2024-10-12T07:00:00.001000",
          "2024-10-12T09:00:00.001000",
          "2024-10-12T11:00:00.001000",
          "2024-10-12T13:00:00.001000",
          "2024-10-12T15:00:00.001000",
          "2024-10-12T17:00:00.001000",
          "2024-10-12T19:00:00.001000",
          "2024-10-12T21:00:00.001000",
          "2024-10-12T23:00:00.001000",
          "2024-10-13T01:00:00.001000",
          "2024-10-13T03:00:00.001000",
          "2024-10-13T05:00:00.001000",
          "2024-10-13T07:00:00.001000",
          "2024-10-13T09:00:00.001000"
         ],
         "y": {
          "bdata": "uB6F61G4AEBmZmZmZmYAQHE9CtejcPk/UrgehetR6D+kcD0K16PoP0jhehSuR+k/mpmZmZmZ6T97FK5H4XrsP/YoXI/C9eg/16NwPQrX6z9xPQrXo3D1P3E9CtejcO0/zczMzMzM8D8zMzMzMzPzP7gehetRuPI/CtejcD0K7z8fhetRuB7tP83MzMzMzOw/exSuR+F68D+4HoXrUbjuP3sUrkfhevA/uB6F61G47j97FK5H4XrsP2ZmZmZmZu4/pHA9Ctej8D/Xo3A9CtfrP+F6FK5H4eo/UrgehetR8D8=",
          "dtype": "f8"
         }
        },
        {
         "mode": "lines",
         "name": "Segment 76",
         "showlegend": false,
         "type": "scatter",
         "x": [
          "2024-10-13T13:20:00.001000",
          "2024-10-13T17:00:00.001000",
          "2024-10-13T19:00:00.001000",
          "2024-10-13T21:00:00.001000",
          "2024-10-13T23:00:00.001000",
          "2024-10-14T01:00:00.001000",
          "2024-10-14T03:00:00.001000",
          "2024-10-14T05:00:00.001000",
          "2024-10-14T07:00:00.001000",
          "2024-10-14T11:00:00.001000",
          "2024-10-14T13:00:00.001000",
          "2024-10-14T15:00:00.001000",
          "2024-10-14T17:00:00.001000",
          "2024-10-14T19:00:00.001000",
          "2024-10-14T21:00:00.001000",
          "2024-10-15T01:00:00.001000",
          "2024-10-15T05:00:00.001000",
          "2024-10-15T07:00:00.001000",
          "2024-10-15T08:40:00.001000",
          "2024-10-15T09:00:00.001000",
          "2024-10-15T11:00:00.001000",
          "2024-10-15T14:00:00.001000"
         ],
         "y": {
          "bdata": "j8L1KFyP6j8K16NwPQr3P+xRuB6F6/U/hetRuB6F+z9I4XoUrkcLQMP1KFyPwvk/XI/C9Shc7z9mZmZmZmbuP/YoXI/C9eg/7FG4HoXr6T97FK5H4XrkP4/C9Shcj+o/7FG4HoXr6T8UrkfhehQIQD0K16NwPQhAAAAAAAAADEAUrkfhehQAQIXrUbgehfc/rkfhehSu9z9I4XoUrkcfQLgehetRuDNAXI/C9ShcB0A=",
          "dtype": "f8"
         }
        },
        {
         "mode": "lines",
         "name": "Segment 77",
         "showlegend": false,
         "type": "scatter",
         "x": [
          "2024-10-15T19:00:00.001000",
          "2024-10-15T21:00:00.001000",
          "2024-10-15T23:00:00.001000",
          "2024-10-16T01:00:00.001000",
          "2024-10-16T03:00:00.001000",
          "2024-10-16T05:00:00.001000"
         ],
         "y": {
          "bdata": "4XoUrkfh9j9cj8L1KFz/P7gehetRuPY/KVyPwvUo8D+PwvUoXI8OQHsUrkfhegpA",
          "dtype": "f8"
         }
        },
        {
         "mode": "lines",
         "name": "Segment 78",
         "showlegend": false,
         "type": "scatter",
         "x": [
          "2024-10-16T11:00:00.001000",
          "2024-10-16T13:00:00.001000",
          "2024-10-16T15:00:00.001000",
          "2024-10-16T17:00:00.001000",
          "2024-10-16T19:00:00.001000",
          "2024-10-16T23:00:00.001000",
          "2024-10-17T01:00:00.001000",
          "2024-10-17T03:00:00.001000",
          "2024-10-17T05:00:00.001000",
          "2024-10-17T07:00:00.001000",
          "2024-10-17T09:00:00.001000",
          "2024-10-17T11:00:00.001000",
          "2024-10-17T13:00:00.001000",
          "2024-10-17T15:00:00.001000",
          "2024-10-17T17:00:00.001000"
         ],
         "y": {
          "bdata": "4XoUrkfh+j8AAAAAAAD4P9ejcD0K1wFA9ihcj8L1BkAAAAAAAAD0PxSuR+F6FAJAexSuR+F68D+uR+F6FK7vP2ZmZmZmZvI/w/UoXI/CB0ApXI/C9SgKQFyPwvUoXPM/pHA9Ctej9D9I4XoUrkf1PwrXo3A9CvM/",
          "dtype": "f8"
         }
        },
        {
         "mode": "lines",
         "name": "Segment 79",
         "showlegend": false,
         "type": "scatter",
         "x": [
          "2024-10-17T23:00:00.001000",
          "2024-10-18T01:00:00.001000",
          "2024-10-18T02:40:00.001000",
          "2024-10-18T03:00:00.001000",
          "2024-10-18T05:00:00.001000",
          "2024-10-18T07:00:00.001000",
          "2024-10-18T09:00:00.001000",
          "2024-10-18T11:00:00.001000"
         ],
         "y": {
          "bdata": "16NwPQrX6z/2KFyPwvXwPx+F61G4HvE/16NwPQrXHUCuR+F6FK4VQKRwPQrXIyZAH4XrUbgeFUApXI/C9SjwPw==",
          "dtype": "f8"
         }
        },
        {
         "mode": "lines",
         "name": "Segment 80",
         "showlegend": false,
         "type": "scatter",
         "x": [
          "2024-10-18T22:00:00.001000",
          "2024-10-19T01:00:00.001000",
          "2024-10-19T03:00:00.001000",
          "2024-10-19T05:00:00.001000"
         ],
         "y": {
          "bdata": "mpmZmZmZ8T/Xo3A9CtcZQOxRuB6F6/E/w/UoXI/C8T8=",
          "dtype": "f8"
         }
        },
        {
         "mode": "lines",
         "name": "Segment 81",
         "showlegend": false,
         "type": "scatter",
         "x": [
          "2024-10-19T15:00:00.001000",
          "2024-10-19T17:00:00.001000",
          "2024-10-19T19:00:00.001000",
          "2024-10-19T21:00:00.001000",
          "2024-10-19T23:00:00.001000",
          "2024-10-20T01:00:00.001000",
          "2024-10-20T03:00:00.001000",
          "2024-10-20T05:00:00.001000",
          "2024-10-20T07:00:00.001000",
          "2024-10-20T08:40:00.001000",
          "2024-10-20T09:00:00.001000",
          "2024-10-20T11:00:00.001000",
          "2024-10-20T13:00:00.001000",
          "2024-10-20T15:00:00.001000",
          "2024-10-20T17:00:00.001000",
          "2024-10-20T21:00:00.001000",
          "2024-10-20T23:00:00.001000",
          "2024-10-21T01:00:00.001000"
         ],
         "y": {
          "bdata": "H4XrUbge9T/2KFyPwvXwP9ejcD0K1/M/ZmZmZmZmG0CF61G4HoUSQPYoXI/C9RFA16NwPQpXK0BmZmZmZmbyP4/C9Shcj/o/uB6F61G4+j+kcD0K16MnQMP1KFyPwgNAKVyPwvUoFUBmZmZmZmbyP7gehetRuPY/SOF6FK5H9T/Xo3A9CtfzP3sUrkfhegJA",
          "dtype": "f8"
         }
        },
        {
         "mode": "lines",
         "name": "Segment 82",
         "showlegend": false,
         "type": "scatter",
         "x": [
          "2024-10-21T10:40:00.001000",
          "2024-10-21T11:00:00.001000"
         ],
         "y": {
          "bdata": "pHA9CtejAkDXo3A9Chc1QA==",
          "dtype": "f8"
         }
        },
        {
         "mode": "lines",
         "name": "Segment 83",
         "showlegend": false,
         "type": "scatter",
         "x": [
          "2024-11-14T11:00:00.001000",
          "2024-11-14T15:00:00.001000",
          "2024-11-14T17:00:00.001000",
          "2024-11-14T19:00:00.001000",
          "2024-11-14T21:00:00.001000",
          "2024-11-14T23:00:00.001000"
         ],
         "y": {
          "bdata": "cT0K16Nw7T/D9Shcj8LxP3E9CtejcO0/w/UoXI/C8T+kcD0K16PoP5qZmZmZmek/",
          "dtype": "f8"
         }
        },
        {
         "mode": "lines",
         "name": "Segment 84",
         "showlegend": false,
         "type": "scatter",
         "x": [
          "2024-11-15T13:00:00.001000",
          "2024-11-15T15:00:00.001000",
          "2024-11-15T17:00:00.001000",
          "2024-11-15T19:00:00.001000",
          "2024-11-15T21:00:00.001000",
          "2024-11-15T23:00:00.001000",
          "2024-11-16T01:00:00.001000",
          "2024-11-16T03:00:00.001000",
          "2024-11-16T05:00:00.001000",
          "2024-11-16T07:00:00.001000"
         ],
         "y": {
          "bdata": "KVyPwvUo9D9mZmZmZmYAQAAAAAAAAAJAcT0K16Nw8T8fhetRuB75P+F6FK5H4fI/16NwPQrXAUBI4XoUrkcJQGZmZmZmZvI/9ihcj8L1+D8=",
          "dtype": "f8"
         }
        },
        {
         "mode": "lines",
         "name": "Segment 85",
         "showlegend": false,
         "type": "scatter",
         "x": [
          "2024-11-16T13:00:00.001000",
          "2024-11-16T17:00:00.001000",
          "2024-11-16T19:00:00.001000",
          "2024-11-16T21:00:00.001000",
          "2024-11-16T23:00:00.001000",
          "2024-11-17T01:00:00.001000",
          "2024-11-17T03:00:00.001000",
          "2024-11-17T07:00:00.001000",
          "2024-11-17T09:00:00.001000",
          "2024-11-17T11:00:00.001000",
          "2024-11-17T13:00:00.001000",
          "2024-11-17T15:00:00.001000",
          "2024-11-17T17:00:00.001000",
          "2024-11-17T19:00:00.001000",
          "2024-11-17T21:00:00.001000",
          "2024-11-17T23:00:00.001000",
          "2024-11-18T01:00:00.001000",
          "2024-11-18T03:00:00.001000",
          "2024-11-18T05:00:00.001000",
          "2024-11-18T07:00:00.001000",
          "2024-11-18T09:00:00.001000",
          "2024-11-18T11:00:00.001000"
         ],
         "y": {
          "bdata": "AAAAAAAA/D/hehSuR+HyP7gehetRuO4/zczMzMzM+D+kcD0K16MGQEjhehSuRxBA16NwPQrX+z8fhetRuB7xPwAAAAAAAPA/rkfhehSu7z/D9Shcj8L5Pylcj8L1KPw/CtejcD0K+z9SuB6F61HwP4XrUbgehes/AAAAAAAAAkD2KFyPwvUEQHE9CtejcPU/cT0K16NwE0CamZmZmZnpP6RwPQrXo/g/PQrXo3A9+j8=",
          "dtype": "f8"
         }
        },
        {
         "mode": "lines",
         "name": "Segment 86",
         "showlegend": false,
         "type": "scatter",
         "x": [
          "2024-11-19T05:00:00.001000",
          "2024-11-19T07:00:00.001000"
         ],
         "y": {
          "bdata": "MzMzMzMzB0AK16NwPQorQA==",
          "dtype": "f8"
         }
        },
        {
         "mode": "lines",
         "name": "Segment 87",
         "showlegend": false,
         "type": "scatter",
         "x": [
          "2024-11-19T13:00:00.001000"
         ],
         "y": {
          "bdata": "j8L1KFyP+j8=",
          "dtype": "f8"
         }
        },
        {
         "mode": "lines",
         "name": "Segment 88",
         "showlegend": false,
         "type": "scatter",
         "x": [
          "2024-11-20T19:00:00.001000",
          "2024-11-20T21:00:00.001000",
          "2024-11-20T23:00:00.001000",
          "2024-11-21T01:00:00.001000",
          "2024-11-21T03:00:00.001000",
          "2024-11-21T05:00:00.001000"
         ],
         "y": {
          "bdata": "zczMzMzMAkBcj8L1KFwQQOF6FK5H4QJA16NwPQrX+z/hehSuR+EIQK5H4XoUrgFA",
          "dtype": "f8"
         }
        },
        {
         "mode": "lines",
         "name": "Segment 89",
         "showlegend": false,
         "type": "scatter",
         "x": [
          "2024-11-22T01:00:00.001000",
          "2024-11-22T03:00:00.001000",
          "2024-11-22T05:00:00.001000",
          "2024-11-22T07:00:00.001000",
          "2024-11-22T09:00:00.001000",
          "2024-11-22T11:00:00.001000",
          "2024-11-22T13:00:00.001000"
         ],
         "y": {
          "bdata": "AAAAAAAA9D+uR+F6FK73P83MzMzMzBZArkfhehQuLUCuR+F6FK7/Pz0K16NwPQZArkfhehSu9z8=",
          "dtype": "f8"
         }
        },
        {
         "mode": "lines",
         "name": "Segment 90",
         "showlegend": false,
         "type": "scatter",
         "x": [
          "2024-11-23T05:00:00.001000",
          "2024-11-23T07:00:00.001000",
          "2024-11-23T09:00:00.001000",
          "2024-11-23T13:00:00.001000",
          "2024-11-23T15:00:00.001000",
          "2024-11-23T17:00:00.001000",
          "2024-11-23T19:00:00.001000",
          "2024-11-23T21:00:00.001000",
          "2024-11-23T23:00:00.001000",
          "2024-11-24T01:00:00.001000",
          "2024-11-24T03:00:00.001000",
          "2024-11-24T05:00:00.001000",
          "2024-11-24T07:00:00.001000",
          "2024-11-24T09:00:00.001000",
          "2024-11-24T11:00:00.001000",
          "2024-11-24T13:00:00.001000",
          "2024-11-24T15:00:00.001000",
          "2024-11-24T17:00:00.001000",
          "2024-11-24T19:00:00.001000",
          "2024-11-24T21:00:00.001000",
          "2024-11-24T23:00:00.001000",
          "2024-11-25T01:00:00.001000",
          "2024-11-25T03:00:00.001000",
          "2024-11-25T05:00:00.001000",
          "2024-11-25T07:00:00.001000",
          "2024-11-25T09:00:00.001000",
          "2024-11-25T11:00:00.001000",
          "2024-11-25T13:00:00.001000",
          "2024-11-25T15:00:00.001000",
          "2024-11-25T17:00:00.001000",
          "2024-11-25T19:00:00.001000",
          "2024-11-25T21:00:00.001000",
          "2024-11-25T23:00:00.001000",
          "2024-11-26T01:00:00.001000",
          "2024-11-26T03:00:00.001000",
          "2024-11-26T05:00:00.001000",
          "2024-11-26T07:00:00.001000",
          "2024-11-26T09:00:00.001000",
          "2024-11-26T11:00:00.001000",
          "2024-11-26T13:00:00.001000",
          "2024-11-26T15:00:00.001000",
          "2024-11-26T17:00:00.001000",
          "2024-11-26T19:00:00.001000",
          "2024-11-26T21:00:00.001000",
          "2024-11-26T23:00:00.001000",
          "2024-11-27T01:00:00.001000",
          "2024-11-27T03:00:00.001000",
          "2024-11-27T05:00:00.001000",
          "2024-11-27T07:00:00.001000",
          "2024-11-27T09:00:00.001000",
          "2024-11-27T11:00:00.001000",
          "2024-11-27T13:00:00.001000",
          "2024-11-27T15:00:00.001000"
         ],
         "y": {
          "bdata": "hetRuB6F9z9SuB6F61HoP+xRuB6F6/E/w/UoXI/CCUBmZmZmZmYAQMP1KFyPwg9ArkfhehSuAUCF61G4HoXzP4/C9Shcj/Y/zczMzMzM9D8AAAAAAAACQHE9CtejcAtAUrgehetR9D9mZmZmZmYCQBSuR+F6FPo/MzMzMzMzHUAfhetRuB7xPwAAAAAAAOg/7FG4HoXr6T9cj8L1KFz/P9ejcD0K1x1AcT0K16NwAUBI4XoUrkcJQEjhehSuR/0/7FG4HoXr+T8UrkfhehT+P7gehetRuApAuB6F61G4EUDXo3A9CtfrP+F6FK5H4eo/FK5H4XoU5j+4HoXrUbjmPxSuR+F6FOY/zczMzMzM8D/sUbgehev1P65H4XoUru8/hetRuB6F6z9I4XoUrkfxP7gehetRuP4/mpmZmZmZE0CF61G4HoX7P0jhehSuR+k/KVyPwvUo7D/D9Shcj8LxP4/C9ShcjwBACtejcD0K5z+kcD0K16PoPzMzMzMzM+s/exSuR+F67D/hehSuR+HqP4XrUbgehes/XI/C9Shc9z9cj8L1KFwBQA==",
          "dtype": "f8"
         }
        },
        {
         "mode": "lines",
         "name": "Segment 91",
         "showlegend": false,
         "type": "scatter",
         "x": [
          "2024-11-27T21:00:00.001000",
          "2024-11-27T23:00:00.001000",
          "2024-11-28T01:00:00.001000",
          "2024-11-28T05:00:00.001000",
          "2024-11-28T07:00:00.001000",
          "2024-11-28T09:00:00.001000",
          "2024-11-28T11:00:00.001000",
          "2024-11-28T13:00:00.001000",
          "2024-11-28T15:00:00.001000",
          "2024-11-28T17:00:00.001000",
          "2024-11-28T19:00:00.001000",
          "2024-11-28T21:00:00.001000",
          "2024-11-28T23:00:00.001000",
          "2024-11-29T01:00:00.001000",
          "2024-11-29T03:00:00.001000"
         ],
         "y": {
          "bdata": "9ihcj8L18D+PwvUoXI8AQIXrUbgehQFAPQrXo3A96j9SuB6F61HwP3sUrkfhevQ/SOF6FK5H8T+uR+F6FK77P5qZmZmZmf0/uB6F61G4AkA9CtejcD0IQKRwPQrXowBAPQrXo3A96j+PwvUoXI/qP1K4HoXrUeg/",
          "dtype": "f8"
         }
        },
        {
         "mode": "lines",
         "name": "Segment 92",
         "showlegend": false,
         "type": "scatter",
         "x": [
          "2024-11-29T09:00:00.001000",
          "2024-11-29T11:00:00.001000",
          "2024-11-29T13:00:00.001000"
         ],
         "y": {
          "bdata": "mpmZmZmZ8T/NzMzMzMzsP4/C9Shcj/I/",
          "dtype": "f8"
         }
        },
        {
         "mode": "lines",
         "name": "Segment 93",
         "showlegend": false,
         "type": "scatter",
         "x": [
          "2024-12-04T07:00:00.001000",
          "2024-12-04T09:00:00.001000",
          "2024-12-04T11:20:00.001000",
          "2024-12-04T14:40:00.001000",
          "2024-12-04T15:00:00.001000",
          "2024-12-04T17:00:00.001000",
          "2024-12-04T19:00:00.001000",
          "2024-12-04T21:00:00.001000"
         ],
         "y": {
          "bdata": "KVyPwvUo9D8fhetRuB71P6RwPQrXo/Q/zczMzMzM9D+PwvUoXA8hQEjhehSuR/E/w/UoXI/C+T/D9Shcj8LxPw==",
          "dtype": "f8"
         }
        },
        {
         "mode": "lines",
         "name": "Segment 94",
         "showlegend": false,
         "type": "scatter",
         "x": [
          "2024-12-05T07:00:00.001000",
          "2024-12-05T09:00:00.001000",
          "2024-12-05T11:00:00.001000"
         ],
         "y": {
          "bdata": "cT0K16NwA0CamZmZmZn1P65H4XoUru8/",
          "dtype": "f8"
         }
        },
        {
         "mode": "lines",
         "name": "Segment 95",
         "showlegend": false,
         "type": "scatter",
         "x": [
          "2024-12-05T23:20:00.001000",
          "2024-12-06T01:00:00.001000"
         ],
         "y": {
          "bdata": "zczMzMzM+D8fhetRuB4WQA==",
          "dtype": "f8"
         }
        },
        {
         "mode": "lines",
         "name": "Segment 96",
         "showlegend": false,
         "type": "scatter",
         "x": [
          "2024-12-06T07:00:00.001000",
          "2024-12-06T09:00:00.001000",
          "2024-12-06T11:00:00.001000",
          "2024-12-06T13:00:00.001000",
          "2024-12-06T15:00:00.001000",
          "2024-12-06T19:00:00.001000",
          "2024-12-06T21:00:00.001000",
          "2024-12-06T23:00:00.001000",
          "2024-12-07T01:00:00.001000",
          "2024-12-07T03:00:00.001000",
          "2024-12-07T05:00:00.001000",
          "2024-12-07T07:00:00.001000",
          "2024-12-07T09:00:00.001000",
          "2024-12-07T11:00:00.001000",
          "2024-12-07T13:00:00.001000",
          "2024-12-07T15:00:00.001000",
          "2024-12-07T17:00:00.001000",
          "2024-12-07T19:00:00.001000",
          "2024-12-07T21:00:00.001000",
          "2024-12-07T23:00:00.001000",
          "2024-12-08T01:00:00.001000",
          "2024-12-08T03:00:00.001000",
          "2024-12-08T05:00:00.001000",
          "2024-12-08T07:00:00.001000",
          "2024-12-08T09:00:00.001000",
          "2024-12-08T11:40:00.001000",
          "2024-12-08T15:00:00.001000",
          "2024-12-08T17:00:00.001000",
          "2024-12-08T19:00:00.001000",
          "2024-12-08T21:00:00.001000",
          "2024-12-08T23:00:00.001000",
          "2024-12-09T01:00:00.001000",
          "2024-12-09T03:00:00.001000",
          "2024-12-09T05:00:00.001000",
          "2024-12-09T07:00:00.001000",
          "2024-12-09T09:00:00.001000",
          "2024-12-09T11:00:00.001000",
          "2024-12-09T13:00:00.001000",
          "2024-12-09T15:00:00.001000",
          "2024-12-09T17:00:00.001000",
          "2024-12-09T19:00:00.001000",
          "2024-12-09T21:00:00.001000",
          "2024-12-09T23:00:00.001000",
          "2024-12-10T01:00:00.001000",
          "2024-12-10T03:00:00.001000",
          "2024-12-10T05:00:00.001000",
          "2024-12-10T07:00:00.001000",
          "2024-12-10T09:00:00.001000",
          "2024-12-10T11:00:00.001000",
          "2024-12-10T13:00:00.001000",
          "2024-12-10T15:00:00.001000",
          "2024-12-10T17:00:00.001000",
          "2024-12-10T19:00:00.001000",
          "2024-12-10T21:00:00.001000",
          "2024-12-10T23:00:00.001000",
          "2024-12-11T03:00:00.001000",
          "2024-12-11T05:00:00.001000",
          "2024-12-11T07:00:00.001000",
          "2024-12-11T09:00:00.001000",
          "2024-12-11T11:00:00.001000",
          "2024-12-11T13:00:00.001000",
          "2024-12-11T17:00:00.001000",
          "2024-12-11T19:00:00.001000",
          "2024-12-11T21:00:00.001000",
          "2024-12-12T01:00:00.001000",
          "2024-12-12T03:00:00.001000",
          "2024-12-12T05:00:00.001000",
          "2024-12-12T07:00:00.001000",
          "2024-12-12T09:00:00.001000",
          "2024-12-12T11:00:00.001000",
          "2024-12-12T13:00:00.001000"
         ],
         "y": {
          "bdata": "pHA9CtcjIECkcD0K16P4P3E9CtejcANAzczMzMzMCkDXo3A9Ctf/P3E9CtejcBNAZmZmZmZm7j+kcD0K16P0P5qZmZmZmfU/KVyPwvUo+D+uR+F6FK7/P+F6FK5H4fI/16NwPQrX+z/hehSuR+ECQB+F61G4HgFAXI/C9Shc+z8K16NwPQrvP65H4XoUrv8/CtejcD0K7z/hehSuR+HqP0jhehSuR+k/9ihcj8L18D+uR+F6FK7vP+F6FK5H4QBArkfhehSuAUCkcD0K16MEQIXrUbgehf8/mpmZmZmZA0CkcD0K16MAQI/C9ShcjwBA4XoUrkfh/j8pXI/C9Sj4P65H4XoUrvM/hetRuB6F6z9mZmZmZmbyP2ZmZmZmZgRAcT0K16NwDUApXI/C9SgCQB+F61G4HgdAmpmZmZmZ6T+amZmZmZn1P7gehetRuPY/CtejcD0KAUAAAAAAAAD4P65H4XoUrgFAPQrXo3A98j9cj8L1KFwBQB+F61G4Hv0/PQrXo3A9GUB7FK5H4XrwP3E9CtejcO0/w/UoXI/C+T8fhetRuB79PwrXo3A9CvM/rkfhehSu+z8UrkfhehT2P3E9CtejcAFAXI/C9Shc8z/hehSuR+H2P6RwPQrXo/Q/PQrXo3A9FkDhehSuR+H6PwAAAAAAAPA/cT0K16Nw8T+F61G4HoX3PzMzMzMzM/c/pHA9Ctej+D8fhetRuB71P65H4XoUrvs/CtejcD0KFUAfhetRuB79Pw==",
          "dtype": "f8"
         }
        },
        {
         "mode": "lines",
         "name": "Segment 97",
         "showlegend": false,
         "type": "scatter",
         "x": [
          "2024-12-12T21:00:00.001000",
          "2024-12-12T23:00:00.001000",
          "2024-12-13T01:00:00.001000",
          "2024-12-13T03:00:00.001000",
          "2024-12-13T05:00:00.001000",
          "2024-12-13T07:00:00.001000",
          "2024-12-13T09:00:00.001000",
          "2024-12-13T11:00:00.001000",
          "2024-12-13T13:00:00.001000",
          "2024-12-13T15:00:00.001000",
          "2024-12-13T17:00:00.001000",
          "2024-12-13T19:00:00.001000",
          "2024-12-13T23:00:00.001000",
          "2024-12-14T01:00:00.001000",
          "2024-12-14T03:00:00.001000",
          "2024-12-14T05:00:00.001000",
          "2024-12-14T07:00:00.001000",
          "2024-12-14T09:00:00.001000",
          "2024-12-14T11:00:00.001000",
          "2024-12-14T13:00:00.001000",
          "2024-12-14T15:00:00.001000",
          "2024-12-14T17:00:00.001000"
         ],
         "y": {
          "bdata": "XI/C9ShcHUBmZmZmZmYGQM3MzMzMzBVAH4XrUbge+T8AAAAAAAAGQJqZmZmZmfk/H4XrUbge8T8UrkfhehTmP9ejcD0K1+M/KVyPwvUo9D9SuB6F61HoP3E9CtejcPk/j8L1KFyPCEBcj8L1KFz3P6RwPQrXoxBAMzMzMzMz8z97FK5H4Xr4Pz0K16NwPQBAXI/C9Shc/z9mZmZmZmYOQHE9CtejcBFAuB6F61G4BEA=",
          "dtype": "f8"
         }
        },
        {
         "mode": "lines",
         "name": "Segment 98",
         "showlegend": false,
         "type": "scatter",
         "x": [
          "2024-12-14T23:00:00.001000",
          "2024-12-15T00:40:00.001000",
          "2024-12-15T01:00:00.001000",
          "2024-12-15T03:00:00.001000",
          "2024-12-15T05:00:00.001000",
          "2024-12-15T07:00:00.001000",
          "2024-12-15T09:00:00.001000",
          "2024-12-15T11:00:00.001000",
          "2024-12-15T13:00:00.001000",
          "2024-12-15T15:00:00.001000",
          "2024-12-15T17:00:00.001000",
          "2024-12-15T19:00:00.001000",
          "2024-12-15T21:00:00.001000",
          "2024-12-15T22:40:00.001000",
          "2024-12-15T23:00:00.001000",
          "2024-12-16T01:00:00.001000",
          "2024-12-16T03:00:00.001000",
          "2024-12-16T05:00:00.001000",
          "2024-12-16T07:00:00.001000",
          "2024-12-16T09:00:00.001000",
          "2024-12-16T11:00:00.001000",
          "2024-12-16T13:00:00.001000",
          "2024-12-16T15:00:00.001000",
          "2024-12-16T17:00:00.001000",
          "2024-12-16T19:00:00.001000",
          "2024-12-16T21:00:00.001000",
          "2024-12-16T23:00:00.001000",
          "2024-12-17T01:00:00.001000",
          "2024-12-17T03:00:00.001000",
          "2024-12-17T05:00:00.001000",
          "2024-12-17T07:00:00.001000",
          "2024-12-17T09:00:00.001000",
          "2024-12-17T11:00:00.001000",
          "2024-12-17T13:00:00.001000",
          "2024-12-17T15:00:00.001000",
          "2024-12-17T17:00:00.001000",
          "2024-12-17T19:00:00.001000"
         ],
         "y": {
          "bdata": "rkfhehSuAUDD9Shcj8IBQGZmZmZmZihAhetRuB6FD0Bcj8L1KFwFQNejcD0K1/s/H4XrUbge+T8AAAAAAAD4PxSuR+F6FO4/9ihcj8L18D8K16NwPQr3P8P1KFyPwvk/CtejcD0K7z9cj8L1KFzvP7gehetRuCBApHA9CtcjIkDD9Shcj8IJQK5H4XoUrvs/SOF6FK5H+T8K16NwPQr3P8P1KFyPwgFAexSuR+F6+D/2KFyPwvUEQD0K16NwPQBAcT0K16NwAUAzMzMzMzP7PwAAAAAAAPg/16NwPQrXAUBI4XoUrkcNQGZmZmZmZhtAj8L1KFyPBkCPwvUoXI/+P8P1KFyPwu0/mpmZmZmZ8T8UrkfhehQAQLgehetRuP4/exSuR+F65D8=",
          "dtype": "f8"
         }
        },
        {
         "mode": "lines",
         "name": "Segment 99",
         "showlegend": false,
         "type": "scatter",
         "x": [
          "2024-12-20T13:20:00.001000",
          "2024-12-20T17:00:00.001000"
         ],
         "y": {
          "bdata": "mpmZmZmZ8T9xPQrXo3DtPw==",
          "dtype": "f8"
         }
        },
        {
         "mode": "lines",
         "name": "Segment 100",
         "showlegend": false,
         "type": "scatter",
         "x": [
          "2024-12-20T23:40:00.001000"
         ],
         "y": {
          "bdata": "UrgehetR8D8=",
          "dtype": "f8"
         }
        },
        {
         "mode": "lines",
         "name": "Segment 101",
         "showlegend": false,
         "type": "scatter",
         "x": [
          "2024-12-21T05:00:00.001000",
          "2024-12-21T07:00:00.001000",
          "2024-12-21T09:00:00.001000",
          "2024-12-21T11:00:00.001000",
          "2024-12-21T13:00:00.001000",
          "2024-12-21T15:00:00.001000",
          "2024-12-21T17:00:00.001000",
          "2024-12-21T19:00:00.001000",
          "2024-12-21T21:00:00.001000",
          "2024-12-21T23:00:00.001000",
          "2024-12-22T01:00:00.001000",
          "2024-12-22T03:00:00.001000",
          "2024-12-22T05:00:00.001000",
          "2024-12-22T07:00:00.001000",
          "2024-12-22T09:00:00.001000",
          "2024-12-22T11:00:00.001000",
          "2024-12-22T13:00:00.001000",
          "2024-12-22T15:00:00.001000",
          "2024-12-22T17:00:00.001000",
          "2024-12-22T19:00:00.001000",
          "2024-12-22T21:00:00.001000",
          "2024-12-22T23:00:00.001000",
          "2024-12-23T01:00:00.001000",
          "2024-12-23T03:00:00.001000",
          "2024-12-23T05:00:00.001000",
          "2024-12-23T07:00:00.001000",
          "2024-12-23T09:00:00.001000",
          "2024-12-23T11:00:00.001000",
          "2024-12-23T13:00:00.001000",
          "2024-12-23T17:00:00.001000",
          "2024-12-23T19:00:00.001000",
          "2024-12-23T21:00:00.001000",
          "2024-12-23T22:40:00.001000",
          "2024-12-23T23:00:00.001000",
          "2024-12-24T01:00:00.001000",
          "2024-12-24T03:00:00.001000",
          "2024-12-24T05:00:00.001000",
          "2024-12-24T07:00:00.001000",
          "2024-12-24T09:00:00.001000",
          "2024-12-24T11:00:00.001000",
          "2024-12-24T13:00:00.001000",
          "2024-12-24T15:00:00.001000",
          "2024-12-24T17:00:00.001000",
          "2024-12-24T19:00:00.001000",
          "2024-12-24T23:00:00.001000",
          "2024-12-25T01:00:00.001000",
          "2024-12-25T03:00:00.001000",
          "2024-12-25T05:00:00.001000",
          "2024-12-25T09:00:00.001000",
          "2024-12-25T11:00:00.001000",
          "2024-12-25T13:00:00.001000",
          "2024-12-25T15:00:00.001000",
          "2024-12-25T17:00:00.001000",
          "2024-12-25T19:00:00.001000",
          "2024-12-25T21:00:00.001000",
          "2024-12-25T23:00:00.001000",
          "2024-12-26T01:00:00.001000",
          "2024-12-26T03:00:00.001000",
          "2024-12-26T05:00:00.001000",
          "2024-12-26T07:00:00.001000",
          "2024-12-26T09:00:00.001000",
          "2024-12-26T11:00:00.001000",
          "2024-12-26T13:00:00.001000",
          "2024-12-26T15:00:00.001000",
          "2024-12-26T17:00:00.001000",
          "2024-12-26T19:00:00.001000"
         ],
         "y": {
          "bdata": "ZmZmZmZmFEDNzMzMzMz8P4/C9ShcjxBACtejcD0KB0AK16NwPQoFQK5H4XoUru8/UrgehetR8D9I4XoUrkfpP83MzMzMzOw/ZmZmZmZm7j/hehSuR+HqP1K4HoXrUeg/SOF6FK5H6T9cj8L1KFznP2ZmZmZmZvo/j8L1KFyP6j/NzMzMzMzsP2ZmZmZmZvY/H4XrUbge7T+kcD0K16P4P1yPwvUoXPc/w/UoXI/C7T9xPQrXo3DxP2ZmZmZmZu4/7FG4HoXr6T+amZmZmZnpP3sUrkfhevQ/mpmZmZmZ6T/D9Shcj8LtP3sUrkfh+iRAFK5H4XoUFEBcj8L1KFwNQHE9CtejcA1Aj8L1KFzPM0BmZmZmZmYhQDMzMzMzsyJAXI/C9ShcE0AAAAAAAAD4P7gehetRuPI/pHA9Ctej9D/sUbgehevxP/YoXI/C9eg/SOF6FK5H6T9mZmZmZmbuPx+F61G4HvU/pHA9Ctej8D/NzMzMzMzwPx+F61G4HvE/4XoUrkfh+j+amZmZmZn9P2ZmZmZmZhRAhetRuB6FCUAzMzMzMzP3P4XrUbgehes/mpmZmZmZBUDD9Shcj8L1P+F6FK5H4fI/ZmZmZmZm/j+amZmZmZkBQMP1KFyPwvU/UrgehetR9D+F61G4HoX3P7gehetRuPo/FK5H4XoU7j8pXI/C9SjsP+F6FK5H4eo/",
          "dtype": "f8"
         }
        },
        {
         "mode": "lines",
         "name": "Segment 102",
         "showlegend": false,
         "type": "scatter",
         "x": [
          "2024-12-27T22:40:00.001000",
          "2024-12-27T23:00:00.001000",
          "2024-12-28T01:00:00.001000",
          "2024-12-28T03:00:00.001000",
          "2024-12-28T05:00:00.002000",
          "2024-12-28T07:00:00.002000",
          "2024-12-28T09:00:00.002000",
          "2024-12-28T11:00:00.002000",
          "2024-12-28T13:00:00.002000",
          "2024-12-28T15:00:00.002000",
          "2024-12-28T17:00:00.002000",
          "2024-12-28T19:00:00.002000",
          "2024-12-28T21:00:00.002000",
          "2024-12-28T23:00:00.002000",
          "2024-12-29T01:00:00.002000",
          "2024-12-29T03:00:00.002000",
          "2024-12-29T05:00:00.002000",
          "2024-12-29T07:00:00.002000",
          "2024-12-29T09:00:00.002000"
         ],
         "y": {
          "bdata": "MzMzMzMz6z9SuB6F69EnQK5H4XoUrgNAhetRuB6F/z97FK5H4Xr4P/YoXI/C9fA/7FG4HoXr9T9cj8L1KFzzPwAAAAAAAPA/7FG4HoXr6T8AAAAAAAD0P7gehetRuOY/hetRuB6F4z8pXI/C9SjkP9ejcD0K1+s/cT0K16Nw7T9I4XoUrkfpP1K4HoXrUeg/MzMzMzMz6z8=",
          "dtype": "f8"
         }
        },
        {
         "mode": "lines",
         "name": "Segment 103",
         "showlegend": false,
         "type": "scatter",
         "x": [
          "2024-12-29T23:00:00.002000",
          "2024-12-30T01:00:00.002000",
          "2024-12-30T05:00:00.002000",
          "2024-12-30T07:00:00.002000",
          "2024-12-30T09:00:00.002000",
          "2024-12-30T11:00:00.002000",
          "2024-12-30T13:00:00.002000",
          "2024-12-30T15:00:00.002000",
          "2024-12-30T17:00:00.002000",
          "2024-12-30T19:00:00.002000",
          "2024-12-30T21:00:00.002000",
          "2024-12-30T23:00:00.002000"
         ],
         "y": {
          "bdata": "FK5H4XoU/j8UrkfhehTyP4XrUbgehfs/zczMzMzM8D9xPQrXo3DtP7gehetRuOY/H4XrUbge5T9I4XoUrkfxP9ejcD0K1/8/16NwPQrX+z89CtejcD3qP/YoXI/C9fA/",
          "dtype": "f8"
         }
        },
        {
         "mode": "lines",
         "name": "Segment 104",
         "showlegend": false,
         "type": "scatter",
         "x": [
          "2024-12-31T21:40:00.002000"
         ],
         "y": {
          "bdata": "mpmZmZmZ8T8=",
          "dtype": "f8"
         }
        },
        {
         "mode": "lines",
         "name": "Segment 105",
         "showlegend": false,
         "type": "scatter",
         "x": [
          "2025-01-01T03:00:00.002000",
          "2025-01-01T05:00:00.002000",
          "2025-01-01T07:00:00.002000",
          "2025-01-01T09:00:00.002000",
          "2025-01-01T11:00:00.002000",
          "2025-01-01T13:00:00.002000",
          "2025-01-01T15:00:00.002000",
          "2025-01-01T16:40:00.002000",
          "2025-01-01T17:00:00.002000",
          "2025-01-01T19:00:00.002000",
          "2025-01-01T21:00:00.002000",
          "2025-01-01T23:00:00.002000",
          "2025-01-02T01:00:00.002000",
          "2025-01-02T03:00:00.002000",
          "2025-01-02T05:00:00.002000",
          "2025-01-02T07:00:00.002000",
          "2025-01-02T09:00:00.002000",
          "2025-01-02T11:00:00.002000",
          "2025-01-02T13:00:00.002000",
          "2025-01-02T15:00:00.002000",
          "2025-01-02T17:00:00.002000",
          "2025-01-02T19:00:00.002000",
          "2025-01-02T21:00:00.002000",
          "2025-01-02T23:00:00.002000",
          "2025-01-03T01:00:00.002000",
          "2025-01-03T02:40:00.002000",
          "2025-01-03T03:00:00.002000",
          "2025-01-03T05:00:00.002000",
          "2025-01-03T07:00:00.002000",
          "2025-01-03T09:00:00.002000",
          "2025-01-03T11:00:00.002000",
          "2025-01-03T15:00:00.002000",
          "2025-01-03T17:00:00.002000",
          "2025-01-03T19:00:00.002000",
          "2025-01-03T21:00:00.002000",
          "2025-01-03T23:00:00.002000",
          "2025-01-04T01:00:00.002000",
          "2025-01-04T03:00:00.002000",
          "2025-01-04T04:40:00.002000",
          "2025-01-04T05:00:00.002000",
          "2025-01-04T07:00:00.002000",
          "2025-01-04T09:00:00.002000",
          "2025-01-04T11:00:00.002000",
          "2025-01-04T13:00:00.002000",
          "2025-01-04T15:00:00.002000",
          "2025-01-04T17:00:00.002000",
          "2025-01-04T19:00:00.002000",
          "2025-01-04T21:00:00.002000",
          "2025-01-04T23:00:00.002000",
          "2025-01-05T01:00:00.002000",
          "2025-01-05T02:40:00.002000",
          "2025-01-05T03:00:00.002000",
          "2025-01-05T05:00:00.002000",
          "2025-01-05T07:00:00.002000",
          "2025-01-05T09:00:00.002000",
          "2025-01-05T11:00:00.002000",
          "2025-01-05T13:00:00.002000",
          "2025-01-05T15:00:00.002000",
          "2025-01-05T17:00:00.002000",
          "2025-01-05T19:00:00.002000",
          "2025-01-05T21:00:00.002000",
          "2025-01-05T23:00:00.002000",
          "2025-01-06T01:00:00.002000",
          "2025-01-06T03:00:00.002000",
          "2025-01-06T05:00:00.002000",
          "2025-01-06T07:00:00.002000",
          "2025-01-06T09:00:00.002000"
         ],
         "y": {
          "bdata": "exSuR+F6FEC4HoXrUbgKQFyPwvUoXB1AuB6F61G48j/Xo3A9CtfzP/YoXI/C9fw/SOF6FK5H/T9xPQrXo3D9PzMzMzMzMyhA16NwPQrXHkDhehSuR+ESQEjhehSuRwlAUrgehetREkCF61G4HoX7P7gehetRuOY/KVyPwvUo5D/D9Shcj8LlP4/C9Shcj+o/MzMzMzMz6z9cj8L1KFznPxSuR+F6FO4/CtejcD0K7z+PwvUoXI/yP8P1KFyPwvU/16NwPQrX4z8pXI/C9SjkP83MzMzMzB5Aj8L1KFyPDEC4HoXrUbjmP+xRuB6F6/E/KVyPwvUo8D+PwvUoXI/qP0jhehSuR/E/FK5H4XoU+j/NzMzMzMwRQMP1KFyPwu0/exSuR+F68D97FK5H4Xr0P6RwPQrXo/Q/MzMzMzMzKUAzMzMzMzMLQEjhehSuR/E/4XoUrkfh9j9xPQrXo3DtP+F6FK5H4fY/4XoUrkfhAEDD9Shcj8IPQKRwPQrXo/A/KVyPwvUo7D+kcD0K16P4P83MzMzMzPg/AAAAAACAJUBSuB6F69EjQOF6FK5HYShACtejcD0KDUAfhetRuB7tP83MzMzMzPA/4XoUrkfh9j+kcD0K16PwP8P1KFyPwv0/PQrXo3A96j+kcD0K16PwP+xRuB6F6/U/FK5H4XoU8j+F61G4HoUUQOxRuB6F6xlAKVyPwvUoAkA=",
          "dtype": "f8"
         }
        },
        {
         "mode": "lines",
         "name": "Segment 106",
         "showlegend": false,
         "type": "scatter",
         "x": [
          "2025-01-06T15:00:00.002000",
          "2025-01-06T16:40:00.002000",
          "2025-01-06T17:00:00.002000",
          "2025-01-06T19:00:00.002000",
          "2025-01-06T21:00:00.002000",
          "2025-01-06T23:00:00.002000",
          "2025-01-07T01:00:00.002000",
          "2025-01-07T03:00:00.002000"
         ],
         "y": {
          "bdata": "UrgehetR+D97FK5H4Xr4P+xRuB6F6ydAH4XrUbieIkApXI/C9agjQPYoXI/C9R9Aw/UoXI/CEUCkcD0K16MWQA==",
          "dtype": "f8"
         }
        },
        {
         "mode": "lines",
         "name": "Segment 107",
         "showlegend": false,
         "type": "scatter",
         "x": [
          "2025-01-08T21:00:00.002000",
          "2025-01-08T23:00:00.002000"
         ],
         "y": {
          "bdata": "UrgehetRGEApXI/C9SgOQA==",
          "dtype": "f8"
         }
        },
        {
         "mode": "lines",
         "name": "Segment 108",
         "showlegend": false,
         "type": "scatter",
         "x": [
          "2025-01-09T05:00:00.002000",
          "2025-01-09T07:00:00.002000",
          "2025-01-09T09:00:00.002000",
          "2025-01-09T11:00:00.002000",
          "2025-01-09T13:00:00.002000",
          "2025-01-09T15:00:00.002000"
         ],
         "y": {
          "bdata": "cT0K16NwCUDNzMzMzMz0PzMzMzMzM/M/ZmZmZmZm9j+kcD0K16MTQK5H4XoUrhBA",
          "dtype": "f8"
         }
        },
        {
         "mode": "lines",
         "name": "Segment 109",
         "showlegend": false,
         "type": "scatter",
         "x": [
          "2025-01-09T21:00:00.002000",
          "2025-01-09T23:00:00.002000",
          "2025-01-10T01:00:00.002000",
          "2025-01-10T03:00:00.002000",
          "2025-01-10T05:00:00.002000",
          "2025-01-10T07:00:00.002000",
          "2025-01-10T09:00:00.002000"
         ],
         "y": {
          "bdata": "ZmZmZmZmAkCkcD0K16PwP83MzMzMzPw/pHA9CtejCkDsUbgehesfQMP1KFyPwixA7FG4HoXrKUA=",
          "dtype": "f8"
         }
        },
        {
         "mode": "lines",
         "name": "Segment 110",
         "showlegend": false,
         "type": "scatter",
         "x": [
          "2025-01-11T00:00:00.002000",
          "2025-01-11T03:00:00.002000",
          "2025-01-11T05:00:00.002000",
          "2025-01-11T07:00:00.002000",
          "2025-01-11T09:00:00.002000",
          "2025-01-11T11:00:00.002000",
          "2025-01-11T13:00:00.002000",
          "2025-01-11T15:00:00.002000",
          "2025-01-11T19:00:00.002000",
          "2025-01-11T21:00:00.002000",
          "2025-01-11T23:00:00.002000",
          "2025-01-12T01:00:00.002000",
          "2025-01-12T03:00:00.002000",
          "2025-01-12T05:00:00.002000",
          "2025-01-12T07:00:00.002000",
          "2025-01-12T09:00:00.002000",
          "2025-01-12T11:00:00.002000",
          "2025-01-12T13:00:00.002000",
          "2025-01-12T15:00:00.002000",
          "2025-01-12T17:00:00.002000",
          "2025-01-12T19:00:00.002000",
          "2025-01-12T23:00:00.002000",
          "2025-01-13T01:00:00.002000",
          "2025-01-13T03:00:00.002000",
          "2025-01-13T05:00:00.002000",
          "2025-01-13T07:00:00.002000",
          "2025-01-13T09:00:00.002000",
          "2025-01-13T11:00:00.002000",
          "2025-01-13T13:00:00.002000",
          "2025-01-13T15:00:00.002000",
          "2025-01-13T17:00:00.002000",
          "2025-01-13T19:00:00.002000",
          "2025-01-13T21:00:00.002000",
          "2025-01-14T00:40:00.002000",
          "2025-01-14T01:00:00.002000",
          "2025-01-14T03:00:00.002000",
          "2025-01-14T05:00:00.002000",
          "2025-01-14T07:00:00.002000",
          "2025-01-14T09:00:00.002000"
         ],
         "y": {
          "bdata": "cT0K16NwC0DD9Shcj8L9PwrXo3A9Cvs/FK5H4XoU+j+uR+F6FK73PzMzMzMzM/M/7FG4HoXr+T8fhetRuB4DQD0K16NwPf4/9ihcj8L1AECPwvUoXI8KQJqZmZmZmQFASOF6FK5H/T+uR+F6FK7zPz0K16NwPfY/AAAAAAAA9D+F61G4HoX3P8P1KFyPwvk/SOF6FK5HBUCuR+F6FK7zP+xRuB6F6/E/mpmZmZmZ8T+uR+F6FK7zPxSuR+F6FPI/cT0K16Nw9T+F61G4HoXzP65H4XoUrg9AUrgehetRCkBxPQrXo3AZQBSuR+F6FPI/H4XrUbge8T9SuB6F61H8P4XrUbgehQFAmpmZmZmZAUBI4XoUrkcjQMP1KFyPwhtAhetRuB6FHUB7FK5H4XrwP+F6FK5H4fY/",
          "dtype": "f8"
         }
        },
        {
         "mode": "lines",
         "name": "Segment 111",
         "showlegend": false,
         "type": "scatter",
         "x": [
          "2025-01-14T23:00:00.002000",
          "2025-01-15T01:00:00.002000",
          "2025-01-15T03:00:00.002000",
          "2025-01-15T05:00:00.002000",
          "2025-01-15T07:00:00.002000",
          "2025-01-15T08:40:00.002000",
          "2025-01-15T09:00:00.002000",
          "2025-01-15T11:00:00.002000",
          "2025-01-15T13:00:00.002000",
          "2025-01-15T15:00:00.002000",
          "2025-01-15T16:40:00.002000",
          "2025-01-15T17:00:00.002000",
          "2025-01-15T18:40:00.002000",
          "2025-01-15T19:00:00.002000",
          "2025-01-15T21:00:00.002000",
          "2025-01-15T23:00:00.002000",
          "2025-01-16T01:00:00.002000",
          "2025-01-16T03:00:00.002000",
          "2025-01-16T05:00:00.002000",
          "2025-01-16T07:00:00.002000"
         ],
         "y": {
          "bdata": "rkfhehSu7z/sUbgehevxP3sUrkfhevA/uB6F61G4CkA9CtejcD36P2ZmZmZmZvo/9ihcj8J1I0AK16NwPQrzP0jhehSuR/E/j8L1KFyPCkCkcD0K16MKQPYoXI/CdTNAMzMzMzNzM0CF61G4HoUeQClcj8L1KPA/H4XrUbge8T+F61G4HoURQBSuR+F6FBRAhetRuB6F9z+PwvUoXI8CQA==",
          "dtype": "f8"
         }
        },
        {
         "mode": "lines",
         "name": "Segment 112",
         "showlegend": false,
         "type": "scatter",
         "x": [
          "2025-01-16T17:00:00.002000",
          "2025-01-16T19:00:00.002000",
          "2025-01-16T21:00:00.002000",
          "2025-01-16T23:00:00.002000",
          "2025-01-17T01:00:00.002000",
          "2025-01-17T03:00:00.002000"
         ],
         "y": {
          "bdata": "9ihcj8L1CkBSuB6F61EAQClcj8L1KPA/9ihcj8L19D9I4XoUrkfpP83MzMzMzBpA",
          "dtype": "f8"
         }
        },
        {
         "mode": "lines",
         "name": "Segment 113",
         "showlegend": false,
         "type": "scatter",
         "x": [
          "2025-01-17T09:00:00.002000",
          "2025-01-17T11:00:00.002000",
          "2025-01-17T13:00:00.002000"
         ],
         "y": {
          "bdata": "UrgehetRH0AUrkfhehTuPx+F61G4HvU/",
          "dtype": "f8"
         }
        },
        {
         "mode": "lines",
         "name": "Segment 114",
         "showlegend": false,
         "type": "scatter",
         "x": [
          "2025-01-17T21:00:00.002000",
          "2025-01-17T23:00:00.002000",
          "2025-01-18T01:00:00.002000",
          "2025-01-18T03:00:00.002000"
         ],
         "y": {
          "bdata": "ZmZmZmZm+j+uR+F6FK4SQM3MzMzMzOQ/H4XrUbge8T8=",
          "dtype": "f8"
         }
        },
        {
         "mode": "lines",
         "name": "Segment 115",
         "showlegend": false,
         "type": "scatter",
         "x": [
          "2025-01-18T11:00:00.002000",
          "2025-01-18T13:00:00.002000",
          "2025-01-18T15:00:00.002000",
          "2025-01-18T17:00:00.002000",
          "2025-01-18T19:00:00.002000",
          "2025-01-18T21:00:00.002000",
          "2025-01-18T23:00:00.002000",
          "2025-01-19T01:00:00.002000",
          "2025-01-19T03:00:00.002000",
          "2025-01-19T05:00:00.002000",
          "2025-01-19T07:00:00.002000",
          "2025-01-19T09:00:00.002000"
         ],
         "y": {
          "bdata": "9ihcj8L1+D8fhetRuB4SQOF6FK5H4QZAH4XrUbgeDUB7FK5H4XoIQPYoXI/C9RZArkfhehQuIUBI4XoUrkfpP3sUrkfheuQ/UrgehetR6D8fhetRuB79Px+F61G4HvU/",
          "dtype": "f8"
         }
        },
        {
         "mode": "lines",
         "name": "Segment 116",
         "showlegend": false,
         "type": "scatter",
         "x": [
          "2025-01-19T17:00:00.002000",
          "2025-01-19T19:00:00.002000",
          "2025-01-19T21:00:00.002000",
          "2025-01-19T23:00:00.002000"
         ],
         "y": {
          "bdata": "uB6F61G47j8AAAAAAADoP1yPwvUoXBhAhetRuB6FBUA=",
          "dtype": "f8"
         }
        },
        {
         "mode": "lines",
         "name": "Segment 117",
         "showlegend": false,
         "type": "scatter",
         "x": [
          "2025-01-20T05:00:00.002000",
          "2025-01-20T07:00:00.002000",
          "2025-01-20T09:00:00.002000",
          "2025-01-20T11:00:00.002000",
          "2025-01-20T13:00:00.002000",
          "2025-01-20T15:00:00.002000",
          "2025-01-20T17:00:00.002000",
          "2025-01-20T19:00:00.002000",
          "2025-01-20T21:00:00.002000",
          "2025-01-20T23:00:00.002000",
          "2025-01-21T01:00:00.002000",
          "2025-01-21T03:00:00.002000",
          "2025-01-21T05:00:00.002000",
          "2025-01-21T07:00:00.002000",
          "2025-01-21T09:00:00.002000",
          "2025-01-21T11:00:00.002000",
          "2025-01-21T15:00:00.002000",
          "2025-01-21T17:00:00.002000",
          "2025-01-21T19:00:00.002000",
          "2025-01-21T23:00:00.002000",
          "2025-01-22T01:00:00.002000",
          "2025-01-22T03:00:00.002000",
          "2025-01-22T05:00:00.002000",
          "2025-01-22T07:00:00.002000",
          "2025-01-22T09:00:00.002000",
          "2025-01-22T11:00:00.002000",
          "2025-01-22T13:00:00.002000",
          "2025-01-22T15:00:00.002000",
          "2025-01-22T17:00:00.002000",
          "2025-01-22T19:00:00.002000",
          "2025-01-22T21:00:00.002000",
          "2025-01-22T23:00:00.002000",
          "2025-01-23T01:00:00.002000",
          "2025-01-23T03:00:00.002000"
         ],
         "y": {
          "bdata": "XI/C9Shc8z8AAAAAAAD8P2ZmZmZmZgBAXI/C9Shc8z+uR+F6FK4QQAAAAAAAACRAZmZmZmZm9j/Xo3A9CtfzPz0K16NwPfY/KVyPwvUoDkAK16NwPQoZQGZmZmZmZgBAexSuR+F6/D9cj8L1KFz3Px+F61G4Hvk/FK5H4XoU7j9I4XoUrkcRQEjhehSuR/U/4XoUrkfh8j+uR+F6FK7zP83MzMzMzAZA4XoUrkdhKEDNzMzMzMwYQOxRuB6F6/E/MzMzMzMz6z9SuB6F61HoPylcj8L1KOQ/4XoUrkfh/j97FK5H4Xr0PwAAAAAAAARAzczMzMzM7D+F61G4HoX7P9ejcD0K1/c/w/UoXI/CBUA=",
          "dtype": "f8"
         }
        },
        {
         "mode": "lines",
         "name": "Segment 118",
         "showlegend": false,
         "type": "scatter",
         "x": [
          "2025-01-24T13:00:00.002000",
          "2025-01-24T15:00:00.002000",
          "2025-01-24T17:00:00.002000",
          "2025-01-24T19:00:00.002000",
          "2025-01-24T21:00:00.002000",
          "2025-01-24T23:00:00.002000",
          "2025-01-25T01:00:00.002000",
          "2025-01-25T02:40:00.002000",
          "2025-01-25T03:00:00.002000",
          "2025-01-25T05:00:00.002000",
          "2025-01-25T07:00:00.002000",
          "2025-01-25T09:00:00.002000",
          "2025-01-25T11:00:00.002000",
          "2025-01-25T13:00:00.002000",
          "2025-01-25T15:00:00.002000",
          "2025-01-25T17:00:00.002000",
          "2025-01-25T19:00:00.002000",
          "2025-01-25T21:00:00.002000",
          "2025-01-25T23:20:00.002000",
          "2025-01-26T01:00:00.002000",
          "2025-01-26T03:00:00.002000"
         ],
         "y": {
          "bdata": "zczMzMzM7D+PwvUoXI/qP/YoXI/C9fw/ZmZmZmZmEUCkcD0K16MdQArXo3A9Cg9AuB6F61G45j8K16NwPQrnPxSuR+F6lCdAw/UoXI/CEkAUrkfhehQmQClcj8L1KA5AXI/C9Shc5z+PwvUoXI8ZQNejcD0K1/c/mpmZmZmZ9T9xPQrXo3DtP8P1KFyPwuU/FK5H4XoU7j8UrkfhehTmP+xRuB6F6wNA",
          "dtype": "f8"
         }
        },
        {
         "mode": "lines",
         "name": "Segment 119",
         "showlegend": false,
         "type": "scatter",
         "x": [
          "2025-01-26T15:00:00.002000",
          "2025-01-26T17:00:00.002000",
          "2025-01-26T19:00:00.002000",
          "2025-01-26T21:00:00.002000",
          "2025-01-26T23:00:00.002000",
          "2025-01-27T01:00:00.002000",
          "2025-01-27T02:40:00.002000",
          "2025-01-27T03:00:00.002000",
          "2025-01-27T05:00:00.002000",
          "2025-01-27T06:40:00.002000",
          "2025-01-27T07:00:00.002000",
          "2025-01-27T09:00:00.002000",
          "2025-01-27T11:00:00.002000",
          "2025-01-27T13:00:00.002000",
          "2025-01-27T15:00:00.002000",
          "2025-01-27T17:00:00.002000",
          "2025-01-27T19:00:00.002000",
          "2025-01-27T23:00:00.002000",
          "2025-01-28T01:00:00.002000",
          "2025-01-28T05:00:00.002000",
          "2025-01-28T07:00:00.002000",
          "2025-01-28T11:00:00.002000",
          "2025-01-28T13:00:00.002000",
          "2025-01-28T15:00:00.002000",
          "2025-01-28T16:40:00.002000",
          "2025-01-28T17:00:00.002000",
          "2025-01-28T21:00:00.002000",
          "2025-01-28T23:00:00.002000",
          "2025-01-29T03:00:00.002000",
          "2025-01-29T05:00:00.002000",
          "2025-01-29T07:00:00.002000",
          "2025-01-29T09:00:00.002000",
          "2025-01-29T11:00:00.002000",
          "2025-01-29T13:00:00.002000",
          "2025-01-29T15:00:00.002000"
         ],
         "y": {
          "bdata": "mpmZmZmZ6T8K16NwPQrzP4/C9Shcj/Y/mpmZmZmZAUDNzMzMzMwIQPYoXI/C9fg/H4XrUbge+T9cj8L1KBwxQPYoXI/C9fQ/H4XrUbge9T89CtejcD0gQClcj8L1KARAAAAAAAAA9D/Xo3A9CtfrP3E9CtejcAdAKVyPwvUoFECPwvUoXI8WQKRwPQrXo+g/H4XrUbge8T8UrkfhehQAQOF6FK5H4eo/exSuR+F65D9mZmZmZmb2P0jhehSuR+k/mpmZmZmZ6T9SuB6F61EfQAAAAAAAACdASOF6FK5HFkApXI/C9SgbQK5H4XoUrv8/zczMzMzM/D97FK5H4Xr4Pz0K16NwPRlA9ihcj8L1CEDD9Shcj8LxPw==",
          "dtype": "f8"
         }
        },
        {
         "mode": "lines",
         "name": "Segment 120",
         "showlegend": false,
         "type": "scatter",
         "x": [
          "2025-01-29T21:00:00.002000",
          "2025-01-29T23:00:00.002000",
          "2025-01-30T01:00:00.002000",
          "2025-01-30T03:00:00.002000",
          "2025-01-30T05:00:00.002000",
          "2025-01-30T08:20:00.002000"
         ],
         "y": {
          "bdata": "9ihcj8L19D+kcD0K16MGQBSuR+F6FO4/7FG4HoXrE0Bcj8L1KFwYQFyPwvUoXBxA",
          "dtype": "f8"
         }
        },
        {
         "mode": "lines",
         "name": "Segment 121",
         "showlegend": false,
         "type": "scatter",
         "x": [
          "2025-01-30T21:00:00.002000",
          "2025-01-30T23:00:00.002000",
          "2025-01-31T01:00:00.002000",
          "2025-01-31T03:00:00.002000",
          "2025-01-31T05:00:00.002000",
          "2025-01-31T07:00:00.002000",
          "2025-01-31T09:00:00.002000",
          "2025-01-31T11:00:00.002000",
          "2025-01-31T13:00:00.002000",
          "2025-01-31T15:00:00.002000",
          "2025-01-31T17:00:00.002000",
          "2025-01-31T19:00:00.002000",
          "2025-01-31T21:00:00.002000",
          "2025-01-31T23:00:00.002000"
         ],
         "y": {
          "bdata": "CtejcD0K8z/NzMzMzMz0P6RwPQrXo/w/XI/C9ShcCUCamZmZmZn5Pz0K16NwPfI/9ihcj8L19D9cj8L1KFzvPwAAAAAAAOg/CtejcD0K5z+uR+F6FK7vP9ejcD0K1wlAAAAAAAAAE0ApXI/C9SgKQA==",
          "dtype": "f8"
         }
        }
       ],
       "layout": {
        "template": {
         "data": {
          "bar": [
           {
            "error_x": {
             "color": "#2a3f5f"
            },
            "error_y": {
             "color": "#2a3f5f"
            },
            "marker": {
             "line": {
              "color": "#E5ECF6",
              "width": 0.5
             },
             "pattern": {
              "fillmode": "overlay",
              "size": 10,
              "solidity": 0.2
             }
            },
            "type": "bar"
           }
          ],
          "barpolar": [
           {
            "marker": {
             "line": {
              "color": "#E5ECF6",
              "width": 0.5
             },
             "pattern": {
              "fillmode": "overlay",
              "size": 10,
              "solidity": 0.2
             }
            },
            "type": "barpolar"
           }
          ],
          "carpet": [
           {
            "aaxis": {
             "endlinecolor": "#2a3f5f",
             "gridcolor": "white",
             "linecolor": "white",
             "minorgridcolor": "white",
             "startlinecolor": "#2a3f5f"
            },
            "baxis": {
             "endlinecolor": "#2a3f5f",
             "gridcolor": "white",
             "linecolor": "white",
             "minorgridcolor": "white",
             "startlinecolor": "#2a3f5f"
            },
            "type": "carpet"
           }
          ],
          "choropleth": [
           {
            "colorbar": {
             "outlinewidth": 0,
             "ticks": ""
            },
            "type": "choropleth"
           }
          ],
          "contour": [
           {
            "colorbar": {
             "outlinewidth": 0,
             "ticks": ""
            },
            "colorscale": [
             [
              0,
              "#0d0887"
             ],
             [
              0.1111111111111111,
              "#46039f"
             ],
             [
              0.2222222222222222,
              "#7201a8"
             ],
             [
              0.3333333333333333,
              "#9c179e"
             ],
             [
              0.4444444444444444,
              "#bd3786"
             ],
             [
              0.5555555555555556,
              "#d8576b"
             ],
             [
              0.6666666666666666,
              "#ed7953"
             ],
             [
              0.7777777777777778,
              "#fb9f3a"
             ],
             [
              0.8888888888888888,
              "#fdca26"
             ],
             [
              1,
              "#f0f921"
             ]
            ],
            "type": "contour"
           }
          ],
          "contourcarpet": [
           {
            "colorbar": {
             "outlinewidth": 0,
             "ticks": ""
            },
            "type": "contourcarpet"
           }
          ],
          "heatmap": [
           {
            "colorbar": {
             "outlinewidth": 0,
             "ticks": ""
            },
            "colorscale": [
             [
              0,
              "#0d0887"
             ],
             [
              0.1111111111111111,
              "#46039f"
             ],
             [
              0.2222222222222222,
              "#7201a8"
             ],
             [
              0.3333333333333333,
              "#9c179e"
             ],
             [
              0.4444444444444444,
              "#bd3786"
             ],
             [
              0.5555555555555556,
              "#d8576b"
             ],
             [
              0.6666666666666666,
              "#ed7953"
             ],
             [
              0.7777777777777778,
              "#fb9f3a"
             ],
             [
              0.8888888888888888,
              "#fdca26"
             ],
             [
              1,
              "#f0f921"
             ]
            ],
            "type": "heatmap"
           }
          ],
          "histogram": [
           {
            "marker": {
             "pattern": {
              "fillmode": "overlay",
              "size": 10,
              "solidity": 0.2
             }
            },
            "type": "histogram"
           }
          ],
          "histogram2d": [
           {
            "colorbar": {
             "outlinewidth": 0,
             "ticks": ""
            },
            "colorscale": [
             [
              0,
              "#0d0887"
             ],
             [
              0.1111111111111111,
              "#46039f"
             ],
             [
              0.2222222222222222,
              "#7201a8"
             ],
             [
              0.3333333333333333,
              "#9c179e"
             ],
             [
              0.4444444444444444,
              "#bd3786"
             ],
             [
              0.5555555555555556,
              "#d8576b"
             ],
             [
              0.6666666666666666,
              "#ed7953"
             ],
             [
              0.7777777777777778,
              "#fb9f3a"
             ],
             [
              0.8888888888888888,
              "#fdca26"
             ],
             [
              1,
              "#f0f921"
             ]
            ],
            "type": "histogram2d"
           }
          ],
          "histogram2dcontour": [
           {
            "colorbar": {
             "outlinewidth": 0,
             "ticks": ""
            },
            "colorscale": [
             [
              0,
              "#0d0887"
             ],
             [
              0.1111111111111111,
              "#46039f"
             ],
             [
              0.2222222222222222,
              "#7201a8"
             ],
             [
              0.3333333333333333,
              "#9c179e"
             ],
             [
              0.4444444444444444,
              "#bd3786"
             ],
             [
              0.5555555555555556,
              "#d8576b"
             ],
             [
              0.6666666666666666,
              "#ed7953"
             ],
             [
              0.7777777777777778,
              "#fb9f3a"
             ],
             [
              0.8888888888888888,
              "#fdca26"
             ],
             [
              1,
              "#f0f921"
             ]
            ],
            "type": "histogram2dcontour"
           }
          ],
          "mesh3d": [
           {
            "colorbar": {
             "outlinewidth": 0,
             "ticks": ""
            },
            "type": "mesh3d"
           }
          ],
          "parcoords": [
           {
            "line": {
             "colorbar": {
              "outlinewidth": 0,
              "ticks": ""
             }
            },
            "type": "parcoords"
           }
          ],
          "pie": [
           {
            "automargin": true,
            "type": "pie"
           }
          ],
          "scatter": [
           {
            "fillpattern": {
             "fillmode": "overlay",
             "size": 10,
             "solidity": 0.2
            },
            "type": "scatter"
           }
          ],
          "scatter3d": [
           {
            "line": {
             "colorbar": {
              "outlinewidth": 0,
              "ticks": ""
             }
            },
            "marker": {
             "colorbar": {
              "outlinewidth": 0,
              "ticks": ""
             }
            },
            "type": "scatter3d"
           }
          ],
          "scattercarpet": [
           {
            "marker": {
             "colorbar": {
              "outlinewidth": 0,
              "ticks": ""
             }
            },
            "type": "scattercarpet"
           }
          ],
          "scattergeo": [
           {
            "marker": {
             "colorbar": {
              "outlinewidth": 0,
              "ticks": ""
             }
            },
            "type": "scattergeo"
           }
          ],
          "scattergl": [
           {
            "marker": {
             "colorbar": {
              "outlinewidth": 0,
              "ticks": ""
             }
            },
            "type": "scattergl"
           }
          ],
          "scattermap": [
           {
            "marker": {
             "colorbar": {
              "outlinewidth": 0,
              "ticks": ""
             }
            },
            "type": "scattermap"
           }
          ],
          "scattermapbox": [
           {
            "marker": {
             "colorbar": {
              "outlinewidth": 0,
              "ticks": ""
             }
            },
            "type": "scattermapbox"
           }
          ],
          "scatterpolar": [
           {
            "marker": {
             "colorbar": {
              "outlinewidth": 0,
              "ticks": ""
             }
            },
            "type": "scatterpolar"
           }
          ],
          "scatterpolargl": [
           {
            "marker": {
             "colorbar": {
              "outlinewidth": 0,
              "ticks": ""
             }
            },
            "type": "scatterpolargl"
           }
          ],
          "scatterternary": [
           {
            "marker": {
             "colorbar": {
              "outlinewidth": 0,
              "ticks": ""
             }
            },
            "type": "scatterternary"
           }
          ],
          "surface": [
           {
            "colorbar": {
             "outlinewidth": 0,
             "ticks": ""
            },
            "colorscale": [
             [
              0,
              "#0d0887"
             ],
             [
              0.1111111111111111,
              "#46039f"
             ],
             [
              0.2222222222222222,
              "#7201a8"
             ],
             [
              0.3333333333333333,
              "#9c179e"
             ],
             [
              0.4444444444444444,
              "#bd3786"
             ],
             [
              0.5555555555555556,
              "#d8576b"
             ],
             [
              0.6666666666666666,
              "#ed7953"
             ],
             [
              0.7777777777777778,
              "#fb9f3a"
             ],
             [
              0.8888888888888888,
              "#fdca26"
             ],
             [
              1,
              "#f0f921"
             ]
            ],
            "type": "surface"
           }
          ],
          "table": [
           {
            "cells": {
             "fill": {
              "color": "#EBF0F8"
             },
             "line": {
              "color": "white"
             }
            },
            "header": {
             "fill": {
              "color": "#C8D4E3"
             },
             "line": {
              "color": "white"
             }
            },
            "type": "table"
           }
          ]
         },
         "layout": {
          "annotationdefaults": {
           "arrowcolor": "#2a3f5f",
           "arrowhead": 0,
           "arrowwidth": 1
          },
          "autotypenumbers": "strict",
          "coloraxis": {
           "colorbar": {
            "outlinewidth": 0,
            "ticks": ""
           }
          },
          "colorscale": {
           "diverging": [
            [
             0,
             "#8e0152"
            ],
            [
             0.1,
             "#c51b7d"
            ],
            [
             0.2,
             "#de77ae"
            ],
            [
             0.3,
             "#f1b6da"
            ],
            [
             0.4,
             "#fde0ef"
            ],
            [
             0.5,
             "#f7f7f7"
            ],
            [
             0.6,
             "#e6f5d0"
            ],
            [
             0.7,
             "#b8e186"
            ],
            [
             0.8,
             "#7fbc41"
            ],
            [
             0.9,
             "#4d9221"
            ],
            [
             1,
             "#276419"
            ]
           ],
           "sequential": [
            [
             0,
             "#0d0887"
            ],
            [
             0.1111111111111111,
             "#46039f"
            ],
            [
             0.2222222222222222,
             "#7201a8"
            ],
            [
             0.3333333333333333,
             "#9c179e"
            ],
            [
             0.4444444444444444,
             "#bd3786"
            ],
            [
             0.5555555555555556,
             "#d8576b"
            ],
            [
             0.6666666666666666,
             "#ed7953"
            ],
            [
             0.7777777777777778,
             "#fb9f3a"
            ],
            [
             0.8888888888888888,
             "#fdca26"
            ],
            [
             1,
             "#f0f921"
            ]
           ],
           "sequentialminus": [
            [
             0,
             "#0d0887"
            ],
            [
             0.1111111111111111,
             "#46039f"
            ],
            [
             0.2222222222222222,
             "#7201a8"
            ],
            [
             0.3333333333333333,
             "#9c179e"
            ],
            [
             0.4444444444444444,
             "#bd3786"
            ],
            [
             0.5555555555555556,
             "#d8576b"
            ],
            [
             0.6666666666666666,
             "#ed7953"
            ],
            [
             0.7777777777777778,
             "#fb9f3a"
            ],
            [
             0.8888888888888888,
             "#fdca26"
            ],
            [
             1,
             "#f0f921"
            ]
           ]
          },
          "colorway": [
           "#636efa",
           "#EF553B",
           "#00cc96",
           "#ab63fa",
           "#FFA15A",
           "#19d3f3",
           "#FF6692",
           "#B6E880",
           "#FF97FF",
           "#FECB52"
          ],
          "font": {
           "color": "#2a3f5f"
          },
          "geo": {
           "bgcolor": "white",
           "lakecolor": "white",
           "landcolor": "#E5ECF6",
           "showlakes": true,
           "showland": true,
           "subunitcolor": "white"
          },
          "hoverlabel": {
           "align": "left"
          },
          "hovermode": "closest",
          "mapbox": {
           "style": "light"
          },
          "paper_bgcolor": "white",
          "plot_bgcolor": "#E5ECF6",
          "polar": {
           "angularaxis": {
            "gridcolor": "white",
            "linecolor": "white",
            "ticks": ""
           },
           "bgcolor": "#E5ECF6",
           "radialaxis": {
            "gridcolor": "white",
            "linecolor": "white",
            "ticks": ""
           }
          },
          "scene": {
           "xaxis": {
            "backgroundcolor": "#E5ECF6",
            "gridcolor": "white",
            "gridwidth": 2,
            "linecolor": "white",
            "showbackground": true,
            "ticks": "",
            "zerolinecolor": "white"
           },
           "yaxis": {
            "backgroundcolor": "#E5ECF6",
            "gridcolor": "white",
            "gridwidth": 2,
            "linecolor": "white",
            "showbackground": true,
            "ticks": "",
            "zerolinecolor": "white"
           },
           "zaxis": {
            "backgroundcolor": "#E5ECF6",
            "gridcolor": "white",
            "gridwidth": 2,
            "linecolor": "white",
            "showbackground": true,
            "ticks": "",
            "zerolinecolor": "white"
           }
          },
          "shapedefaults": {
           "line": {
            "color": "#2a3f5f"
           }
          },
          "ternary": {
           "aaxis": {
            "gridcolor": "white",
            "linecolor": "white",
            "ticks": ""
           },
           "baxis": {
            "gridcolor": "white",
            "linecolor": "white",
            "ticks": ""
           },
           "bgcolor": "#E5ECF6",
           "caxis": {
            "gridcolor": "white",
            "linecolor": "white",
            "ticks": ""
           }
          },
          "title": {
           "x": 0.05
          },
          "xaxis": {
           "automargin": true,
           "gridcolor": "white",
           "linecolor": "white",
           "ticks": "",
           "title": {
            "standoff": 15
           },
           "zerolinecolor": "white",
           "zerolinewidth": 2
          },
          "yaxis": {
           "automargin": true,
           "gridcolor": "white",
           "linecolor": "white",
           "ticks": "",
           "title": {
            "standoff": 15
           },
           "zerolinecolor": "white",
           "zerolinewidth": 2
          }
         }
        },
        "title": {
         "text": "conc_silica Over Time (gaps shown)"
        },
        "xaxis": {
         "title": {
          "text": "inicio"
         }
        },
        "yaxis": {
         "title": {
          "text": "conc_silica"
         }
        }
       }
      }
     },
     "metadata": {},
     "output_type": "display_data"
    }
   ],
   "source": [
    "plot_time_series_with_gaps(df_clean,'inicio','conc_silica')"
   ]
  },
  {
   "cell_type": "code",
   "execution_count": 7,
   "id": "8f475105",
   "metadata": {},
   "outputs": [
    {
     "data": {
      "application/vnd.plotly.v1+json": {
       "config": {
        "plotlyServerURL": "https://plot.ly"
       },
       "data": [
        {
         "hovertemplate": "vazao_alimentacao_flotacao=%{x}<br>conc_silica=%{y}<extra></extra>",
         "legendgroup": "",
         "marker": {
          "color": "#636efa",
          "symbol": "circle"
         },
         "mode": "markers",
         "name": "",
         "showlegend": false,
         "type": "scattergl",
         "x": {
          "bdata": "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",
          "dtype": "f8"
         },
         "xaxis": "x",
         "y": {
          "bdata": "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",
          "dtype": "f8"
         },
         "yaxis": "y"
        }
       ],
       "layout": {
        "legend": {
         "tracegroupgap": 0
        },
        "template": {
         "data": {
          "bar": [
           {
            "error_x": {
             "color": "#2a3f5f"
            },
            "error_y": {
             "color": "#2a3f5f"
            },
            "marker": {
             "line": {
              "color": "#E5ECF6",
              "width": 0.5
             },
             "pattern": {
              "fillmode": "overlay",
              "size": 10,
              "solidity": 0.2
             }
            },
            "type": "bar"
           }
          ],
          "barpolar": [
           {
            "marker": {
             "line": {
              "color": "#E5ECF6",
              "width": 0.5
             },
             "pattern": {
              "fillmode": "overlay",
              "size": 10,
              "solidity": 0.2
             }
            },
            "type": "barpolar"
           }
          ],
          "carpet": [
           {
            "aaxis": {
             "endlinecolor": "#2a3f5f",
             "gridcolor": "white",
             "linecolor": "white",
             "minorgridcolor": "white",
             "startlinecolor": "#2a3f5f"
            },
            "baxis": {
             "endlinecolor": "#2a3f5f",
             "gridcolor": "white",
             "linecolor": "white",
             "minorgridcolor": "white",
             "startlinecolor": "#2a3f5f"
            },
            "type": "carpet"
           }
          ],
          "choropleth": [
           {
            "colorbar": {
             "outlinewidth": 0,
             "ticks": ""
            },
            "type": "choropleth"
           }
          ],
          "contour": [
           {
            "colorbar": {
             "outlinewidth": 0,
             "ticks": ""
            },
            "colorscale": [
             [
              0,
              "#0d0887"
             ],
             [
              0.1111111111111111,
              "#46039f"
             ],
             [
              0.2222222222222222,
              "#7201a8"
             ],
             [
              0.3333333333333333,
              "#9c179e"
             ],
             [
              0.4444444444444444,
              "#bd3786"
             ],
             [
              0.5555555555555556,
              "#d8576b"
             ],
             [
              0.6666666666666666,
              "#ed7953"
             ],
             [
              0.7777777777777778,
              "#fb9f3a"
             ],
             [
              0.8888888888888888,
              "#fdca26"
             ],
             [
              1,
              "#f0f921"
             ]
            ],
            "type": "contour"
           }
          ],
          "contourcarpet": [
           {
            "colorbar": {
             "outlinewidth": 0,
             "ticks": ""
            },
            "type": "contourcarpet"
           }
          ],
          "heatmap": [
           {
            "colorbar": {
             "outlinewidth": 0,
             "ticks": ""
            },
            "colorscale": [
             [
              0,
              "#0d0887"
             ],
             [
              0.1111111111111111,
              "#46039f"
             ],
             [
              0.2222222222222222,
              "#7201a8"
             ],
             [
              0.3333333333333333,
              "#9c179e"
             ],
             [
              0.4444444444444444,
              "#bd3786"
             ],
             [
              0.5555555555555556,
              "#d8576b"
             ],
             [
              0.6666666666666666,
              "#ed7953"
             ],
             [
              0.7777777777777778,
              "#fb9f3a"
             ],
             [
              0.8888888888888888,
              "#fdca26"
             ],
             [
              1,
              "#f0f921"
             ]
            ],
            "type": "heatmap"
           }
          ],
          "histogram": [
           {
            "marker": {
             "pattern": {
              "fillmode": "overlay",
              "size": 10,
              "solidity": 0.2
             }
            },
            "type": "histogram"
           }
          ],
          "histogram2d": [
           {
            "colorbar": {
             "outlinewidth": 0,
             "ticks": ""
            },
            "colorscale": [
             [
              0,
              "#0d0887"
             ],
             [
              0.1111111111111111,
              "#46039f"
             ],
             [
              0.2222222222222222,
              "#7201a8"
             ],
             [
              0.3333333333333333,
              "#9c179e"
             ],
             [
              0.4444444444444444,
              "#bd3786"
             ],
             [
              0.5555555555555556,
              "#d8576b"
             ],
             [
              0.6666666666666666,
              "#ed7953"
             ],
             [
              0.7777777777777778,
              "#fb9f3a"
             ],
             [
              0.8888888888888888,
              "#fdca26"
             ],
             [
              1,
              "#f0f921"
             ]
            ],
            "type": "histogram2d"
           }
          ],
          "histogram2dcontour": [
           {
            "colorbar": {
             "outlinewidth": 0,
             "ticks": ""
            },
            "colorscale": [
             [
              0,
              "#0d0887"
             ],
             [
              0.1111111111111111,
              "#46039f"
             ],
             [
              0.2222222222222222,
              "#7201a8"
             ],
             [
              0.3333333333333333,
              "#9c179e"
             ],
             [
              0.4444444444444444,
              "#bd3786"
             ],
             [
              0.5555555555555556,
              "#d8576b"
             ],
             [
              0.6666666666666666,
              "#ed7953"
             ],
             [
              0.7777777777777778,
              "#fb9f3a"
             ],
             [
              0.8888888888888888,
              "#fdca26"
             ],
             [
              1,
              "#f0f921"
             ]
            ],
            "type": "histogram2dcontour"
           }
          ],
          "mesh3d": [
           {
            "colorbar": {
             "outlinewidth": 0,
             "ticks": ""
            },
            "type": "mesh3d"
           }
          ],
          "parcoords": [
           {
            "line": {
             "colorbar": {
              "outlinewidth": 0,
              "ticks": ""
             }
            },
            "type": "parcoords"
           }
          ],
          "pie": [
           {
            "automargin": true,
            "type": "pie"
           }
          ],
          "scatter": [
           {
            "fillpattern": {
             "fillmode": "overlay",
             "size": 10,
             "solidity": 0.2
            },
            "type": "scatter"
           }
          ],
          "scatter3d": [
           {
            "line": {
             "colorbar": {
              "outlinewidth": 0,
              "ticks": ""
             }
            },
            "marker": {
             "colorbar": {
              "outlinewidth": 0,
              "ticks": ""
             }
            },
            "type": "scatter3d"
           }
          ],
          "scattercarpet": [
           {
            "marker": {
             "colorbar": {
              "outlinewidth": 0,
              "ticks": ""
             }
            },
            "type": "scattercarpet"
           }
          ],
          "scattergeo": [
           {
            "marker": {
             "colorbar": {
              "outlinewidth": 0,
              "ticks": ""
             }
            },
            "type": "scattergeo"
           }
          ],
          "scattergl": [
           {
            "marker": {
             "colorbar": {
              "outlinewidth": 0,
              "ticks": ""
             }
            },
            "type": "scattergl"
           }
          ],
          "scattermap": [
           {
            "marker": {
             "colorbar": {
              "outlinewidth": 0,
              "ticks": ""
             }
            },
            "type": "scattermap"
           }
          ],
          "scattermapbox": [
           {
            "marker": {
             "colorbar": {
              "outlinewidth": 0,
              "ticks": ""
             }
            },
            "type": "scattermapbox"
           }
          ],
          "scatterpolar": [
           {
            "marker": {
             "colorbar": {
              "outlinewidth": 0,
              "ticks": ""
             }
            },
            "type": "scatterpolar"
           }
          ],
          "scatterpolargl": [
           {
            "marker": {
             "colorbar": {
              "outlinewidth": 0,
              "ticks": ""
             }
            },
            "type": "scatterpolargl"
           }
          ],
          "scatterternary": [
           {
            "marker": {
             "colorbar": {
              "outlinewidth": 0,
              "ticks": ""
             }
            },
            "type": "scatterternary"
           }
          ],
          "surface": [
           {
            "colorbar": {
             "outlinewidth": 0,
             "ticks": ""
            },
            "colorscale": [
             [
              0,
              "#0d0887"
             ],
             [
              0.1111111111111111,
              "#46039f"
             ],
             [
              0.2222222222222222,
              "#7201a8"
             ],
             [
              0.3333333333333333,
              "#9c179e"
             ],
             [
              0.4444444444444444,
              "#bd3786"
             ],
             [
              0.5555555555555556,
              "#d8576b"
             ],
             [
              0.6666666666666666,
              "#ed7953"
             ],
             [
              0.7777777777777778,
              "#fb9f3a"
             ],
             [
              0.8888888888888888,
              "#fdca26"
             ],
             [
              1,
              "#f0f921"
             ]
            ],
            "type": "surface"
           }
          ],
          "table": [
           {
            "cells": {
             "fill": {
              "color": "#EBF0F8"
             },
             "line": {
              "color": "white"
             }
            },
            "header": {
             "fill": {
              "color": "#C8D4E3"
             },
             "line": {
              "color": "white"
             }
            },
            "type": "table"
           }
          ]
         },
         "layout": {
          "annotationdefaults": {
           "arrowcolor": "#2a3f5f",
           "arrowhead": 0,
           "arrowwidth": 1
          },
          "autotypenumbers": "strict",
          "coloraxis": {
           "colorbar": {
            "outlinewidth": 0,
            "ticks": ""
           }
          },
          "colorscale": {
           "diverging": [
            [
             0,
             "#8e0152"
            ],
            [
             0.1,
             "#c51b7d"
            ],
            [
             0.2,
             "#de77ae"
            ],
            [
             0.3,
             "#f1b6da"
            ],
            [
             0.4,
             "#fde0ef"
            ],
            [
             0.5,
             "#f7f7f7"
            ],
            [
             0.6,
             "#e6f5d0"
            ],
            [
             0.7,
             "#b8e186"
            ],
            [
             0.8,
             "#7fbc41"
            ],
            [
             0.9,
             "#4d9221"
            ],
            [
             1,
             "#276419"
            ]
           ],
           "sequential": [
            [
             0,
             "#0d0887"
            ],
            [
             0.1111111111111111,
             "#46039f"
            ],
            [
             0.2222222222222222,
             "#7201a8"
            ],
            [
             0.3333333333333333,
             "#9c179e"
            ],
            [
             0.4444444444444444,
             "#bd3786"
            ],
            [
             0.5555555555555556,
             "#d8576b"
            ],
            [
             0.6666666666666666,
             "#ed7953"
            ],
            [
             0.7777777777777778,
             "#fb9f3a"
            ],
            [
             0.8888888888888888,
             "#fdca26"
            ],
            [
             1,
             "#f0f921"
            ]
           ],
           "sequentialminus": [
            [
             0,
             "#0d0887"
            ],
            [
             0.1111111111111111,
             "#46039f"
            ],
            [
             0.2222222222222222,
             "#7201a8"
            ],
            [
             0.3333333333333333,
             "#9c179e"
            ],
            [
             0.4444444444444444,
             "#bd3786"
            ],
            [
             0.5555555555555556,
             "#d8576b"
            ],
            [
             0.6666666666666666,
             "#ed7953"
            ],
            [
             0.7777777777777778,
             "#fb9f3a"
            ],
            [
             0.8888888888888888,
             "#fdca26"
            ],
            [
             1,
             "#f0f921"
            ]
           ]
          },
          "colorway": [
           "#636efa",
           "#EF553B",
           "#00cc96",
           "#ab63fa",
           "#FFA15A",
           "#19d3f3",
           "#FF6692",
           "#B6E880",
           "#FF97FF",
           "#FECB52"
          ],
          "font": {
           "color": "#2a3f5f"
          },
          "geo": {
           "bgcolor": "white",
           "lakecolor": "white",
           "landcolor": "#E5ECF6",
           "showlakes": true,
           "showland": true,
           "subunitcolor": "white"
          },
          "hoverlabel": {
           "align": "left"
          },
          "hovermode": "closest",
          "mapbox": {
           "style": "light"
          },
          "paper_bgcolor": "white",
          "plot_bgcolor": "#E5ECF6",
          "polar": {
           "angularaxis": {
            "gridcolor": "white",
            "linecolor": "white",
            "ticks": ""
           },
           "bgcolor": "#E5ECF6",
           "radialaxis": {
            "gridcolor": "white",
            "linecolor": "white",
            "ticks": ""
           }
          },
          "scene": {
           "xaxis": {
            "backgroundcolor": "#E5ECF6",
            "gridcolor": "white",
            "gridwidth": 2,
            "linecolor": "white",
            "showbackground": true,
            "ticks": "",
            "zerolinecolor": "white"
           },
           "yaxis": {
            "backgroundcolor": "#E5ECF6",
            "gridcolor": "white",
            "gridwidth": 2,
            "linecolor": "white",
            "showbackground": true,
            "ticks": "",
            "zerolinecolor": "white"
           },
           "zaxis": {
            "backgroundcolor": "#E5ECF6",
            "gridcolor": "white",
            "gridwidth": 2,
            "linecolor": "white",
            "showbackground": true,
            "ticks": "",
            "zerolinecolor": "white"
           }
          },
          "shapedefaults": {
           "line": {
            "color": "#2a3f5f"
           }
          },
          "ternary": {
           "aaxis": {
            "gridcolor": "white",
            "linecolor": "white",
            "ticks": ""
           },
           "baxis": {
            "gridcolor": "white",
            "linecolor": "white",
            "ticks": ""
           },
           "bgcolor": "#E5ECF6",
           "caxis": {
            "gridcolor": "white",
            "linecolor": "white",
            "ticks": ""
           }
          },
          "title": {
           "x": 0.05
          },
          "xaxis": {
           "automargin": true,
           "gridcolor": "white",
           "linecolor": "white",
           "ticks": "",
           "title": {
            "standoff": 15
           },
           "zerolinecolor": "white",
           "zerolinewidth": 2
          },
          "yaxis": {
           "automargin": true,
           "gridcolor": "white",
           "linecolor": "white",
           "ticks": "",
           "title": {
            "standoff": 15
           },
           "zerolinecolor": "white",
           "zerolinewidth": 2
          }
         }
        },
        "title": {
         "text": "conc_silica vs vazao_alimentacao_flotacao"
        },
        "xaxis": {
         "anchor": "y",
         "domain": [
          0,
          1
         ],
         "title": {
          "text": "vazao_alimentacao_flotacao"
         }
        },
        "yaxis": {
         "anchor": "x",
         "domain": [
          0,
          1
         ],
         "title": {
          "text": "conc_silica"
         }
        }
       }
      }
     },
     "metadata": {},
     "output_type": "display_data"
    }
   ],
   "source": [
    "# Usage examples:\n",
    "# plot_time_series(df_clean, 'inicio', 'conc_silica')\n",
    "# plot_histogram(df_clean, 'conc_silica')\n",
    "plot_scatter(df_clean, 'vazao_alimentacao_flotacao', 'conc_silica')\n",
    "# plot_pairwise(df_clean, ['conc_silica', 'conc_fe', 'dosagem_amina_conc_magnetica', 'vazao_alimentacao_flotacao'])"
   ]
  },
  {
   "cell_type": "code",
   "execution_count": 8,
   "id": "131029cb",
   "metadata": {},
   "outputs": [],
   "source": [
    "# df_clean.columns"
   ]
  },
  {
   "cell_type": "code",
   "execution_count": 9,
   "id": "d2ad34d2",
   "metadata": {},
   "outputs": [
    {
     "data": {
      "application/vnd.plotly.v1+json": {
       "config": {
        "plotlyServerURL": "https://plot.ly"
       },
       "data": [
        {
         "hovertemplate": "ph_flotacao_linha01=%{x}<br>conc_silica=%{y}<extra></extra>",
         "legendgroup": "",
         "marker": {
          "color": "#636efa",
          "symbol": "circle"
         },
         "mode": "markers",
         "name": "",
         "showlegend": false,
         "type": "scattergl",
         "x": {
          "bdata": "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",
          "dtype": "f8"
         },
         "xaxis": "x",
         "y": {
          "bdata": "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",
          "dtype": "f8"
         },
         "yaxis": "y"
        }
       ],
       "layout": {
        "legend": {
         "tracegroupgap": 0
        },
        "template": {
         "data": {
          "bar": [
           {
            "error_x": {
             "color": "#2a3f5f"
            },
            "error_y": {
             "color": "#2a3f5f"
            },
            "marker": {
             "line": {
              "color": "#E5ECF6",
              "width": 0.5
             },
             "pattern": {
              "fillmode": "overlay",
              "size": 10,
              "solidity": 0.2
             }
            },
            "type": "bar"
           }
          ],
          "barpolar": [
           {
            "marker": {
             "line": {
              "color": "#E5ECF6",
              "width": 0.5
             },
             "pattern": {
              "fillmode": "overlay",
              "size": 10,
              "solidity": 0.2
             }
            },
            "type": "barpolar"
           }
          ],
          "carpet": [
           {
            "aaxis": {
             "endlinecolor": "#2a3f5f",
             "gridcolor": "white",
             "linecolor": "white",
             "minorgridcolor": "white",
             "startlinecolor": "#2a3f5f"
            },
            "baxis": {
             "endlinecolor": "#2a3f5f",
             "gridcolor": "white",
             "linecolor": "white",
             "minorgridcolor": "white",
             "startlinecolor": "#2a3f5f"
            },
            "type": "carpet"
           }
          ],
          "choropleth": [
           {
            "colorbar": {
             "outlinewidth": 0,
             "ticks": ""
            },
            "type": "choropleth"
           }
          ],
          "contour": [
           {
            "colorbar": {
             "outlinewidth": 0,
             "ticks": ""
            },
            "colorscale": [
             [
              0,
              "#0d0887"
             ],
             [
              0.1111111111111111,
              "#46039f"
             ],
             [
              0.2222222222222222,
              "#7201a8"
             ],
             [
              0.3333333333333333,
              "#9c179e"
             ],
             [
              0.4444444444444444,
              "#bd3786"
             ],
             [
              0.5555555555555556,
              "#d8576b"
             ],
             [
              0.6666666666666666,
              "#ed7953"
             ],
             [
              0.7777777777777778,
              "#fb9f3a"
             ],
             [
              0.8888888888888888,
              "#fdca26"
             ],
             [
              1,
              "#f0f921"
             ]
            ],
            "type": "contour"
           }
          ],
          "contourcarpet": [
           {
            "colorbar": {
             "outlinewidth": 0,
             "ticks": ""
            },
            "type": "contourcarpet"
           }
          ],
          "heatmap": [
           {
            "colorbar": {
             "outlinewidth": 0,
             "ticks": ""
            },
            "colorscale": [
             [
              0,
              "#0d0887"
             ],
             [
              0.1111111111111111,
              "#46039f"
             ],
             [
              0.2222222222222222,
              "#7201a8"
             ],
             [
              0.3333333333333333,
              "#9c179e"
             ],
             [
              0.4444444444444444,
              "#bd3786"
             ],
             [
              0.5555555555555556,
              "#d8576b"
             ],
             [
              0.6666666666666666,
              "#ed7953"
             ],
             [
              0.7777777777777778,
              "#fb9f3a"
             ],
             [
              0.8888888888888888,
              "#fdca26"
             ],
             [
              1,
              "#f0f921"
             ]
            ],
            "type": "heatmap"
           }
          ],
          "histogram": [
           {
            "marker": {
             "pattern": {
              "fillmode": "overlay",
              "size": 10,
              "solidity": 0.2
             }
            },
            "type": "histogram"
           }
          ],
          "histogram2d": [
           {
            "colorbar": {
             "outlinewidth": 0,
             "ticks": ""
            },
            "colorscale": [
             [
              0,
              "#0d0887"
             ],
             [
              0.1111111111111111,
              "#46039f"
             ],
             [
              0.2222222222222222,
              "#7201a8"
             ],
             [
              0.3333333333333333,
              "#9c179e"
             ],
             [
              0.4444444444444444,
              "#bd3786"
             ],
             [
              0.5555555555555556,
              "#d8576b"
             ],
             [
              0.6666666666666666,
              "#ed7953"
             ],
             [
              0.7777777777777778,
              "#fb9f3a"
             ],
             [
              0.8888888888888888,
              "#fdca26"
             ],
             [
              1,
              "#f0f921"
             ]
            ],
            "type": "histogram2d"
           }
          ],
          "histogram2dcontour": [
           {
            "colorbar": {
             "outlinewidth": 0,
             "ticks": ""
            },
            "colorscale": [
             [
              0,
              "#0d0887"
             ],
             [
              0.1111111111111111,
              "#46039f"
             ],
             [
              0.2222222222222222,
              "#7201a8"
             ],
             [
              0.3333333333333333,
              "#9c179e"
             ],
             [
              0.4444444444444444,
              "#bd3786"
             ],
             [
              0.5555555555555556,
              "#d8576b"
             ],
             [
              0.6666666666666666,
              "#ed7953"
             ],
             [
              0.7777777777777778,
              "#fb9f3a"
             ],
             [
              0.8888888888888888,
              "#fdca26"
             ],
             [
              1,
              "#f0f921"
             ]
            ],
            "type": "histogram2dcontour"
           }
          ],
          "mesh3d": [
           {
            "colorbar": {
             "outlinewidth": 0,
             "ticks": ""
            },
            "type": "mesh3d"
           }
          ],
          "parcoords": [
           {
            "line": {
             "colorbar": {
              "outlinewidth": 0,
              "ticks": ""
             }
            },
            "type": "parcoords"
           }
          ],
          "pie": [
           {
            "automargin": true,
            "type": "pie"
           }
          ],
          "scatter": [
           {
            "fillpattern": {
             "fillmode": "overlay",
             "size": 10,
             "solidity": 0.2
            },
            "type": "scatter"
           }
          ],
          "scatter3d": [
           {
            "line": {
             "colorbar": {
              "outlinewidth": 0,
              "ticks": ""
             }
            },
            "marker": {
             "colorbar": {
              "outlinewidth": 0,
              "ticks": ""
             }
            },
            "type": "scatter3d"
           }
          ],
          "scattercarpet": [
           {
            "marker": {
             "colorbar": {
              "outlinewidth": 0,
              "ticks": ""
             }
            },
            "type": "scattercarpet"
           }
          ],
          "scattergeo": [
           {
            "marker": {
             "colorbar": {
              "outlinewidth": 0,
              "ticks": ""
             }
            },
            "type": "scattergeo"
           }
          ],
          "scattergl": [
           {
            "marker": {
             "colorbar": {
              "outlinewidth": 0,
              "ticks": ""
             }
            },
            "type": "scattergl"
           }
          ],
          "scattermap": [
           {
            "marker": {
             "colorbar": {
              "outlinewidth": 0,
              "ticks": ""
             }
            },
            "type": "scattermap"
           }
          ],
          "scattermapbox": [
           {
            "marker": {
             "colorbar": {
              "outlinewidth": 0,
              "ticks": ""
             }
            },
            "type": "scattermapbox"
           }
          ],
          "scatterpolar": [
           {
            "marker": {
             "colorbar": {
              "outlinewidth": 0,
              "ticks": ""
             }
            },
            "type": "scatterpolar"
           }
          ],
          "scatterpolargl": [
           {
            "marker": {
             "colorbar": {
              "outlinewidth": 0,
              "ticks": ""
             }
            },
            "type": "scatterpolargl"
           }
          ],
          "scatterternary": [
           {
            "marker": {
             "colorbar": {
              "outlinewidth": 0,
              "ticks": ""
             }
            },
            "type": "scatterternary"
           }
          ],
          "surface": [
           {
            "colorbar": {
             "outlinewidth": 0,
             "ticks": ""
            },
            "colorscale": [
             [
              0,
              "#0d0887"
             ],
             [
              0.1111111111111111,
              "#46039f"
             ],
             [
              0.2222222222222222,
              "#7201a8"
             ],
             [
              0.3333333333333333,
              "#9c179e"
             ],
             [
              0.4444444444444444,
              "#bd3786"
             ],
             [
              0.5555555555555556,
              "#d8576b"
             ],
             [
              0.6666666666666666,
              "#ed7953"
             ],
             [
              0.7777777777777778,
              "#fb9f3a"
             ],
             [
              0.8888888888888888,
              "#fdca26"
             ],
             [
              1,
              "#f0f921"
             ]
            ],
            "type": "surface"
           }
          ],
          "table": [
           {
            "cells": {
             "fill": {
              "color": "#EBF0F8"
             },
             "line": {
              "color": "white"
             }
            },
            "header": {
             "fill": {
              "color": "#C8D4E3"
             },
             "line": {
              "color": "white"
             }
            },
            "type": "table"
           }
          ]
         },
         "layout": {
          "annotationdefaults": {
           "arrowcolor": "#2a3f5f",
           "arrowhead": 0,
           "arrowwidth": 1
          },
          "autotypenumbers": "strict",
          "coloraxis": {
           "colorbar": {
            "outlinewidth": 0,
            "ticks": ""
           }
          },
          "colorscale": {
           "diverging": [
            [
             0,
             "#8e0152"
            ],
            [
             0.1,
             "#c51b7d"
            ],
            [
             0.2,
             "#de77ae"
            ],
            [
             0.3,
             "#f1b6da"
            ],
            [
             0.4,
             "#fde0ef"
            ],
            [
             0.5,
             "#f7f7f7"
            ],
            [
             0.6,
             "#e6f5d0"
            ],
            [
             0.7,
             "#b8e186"
            ],
            [
             0.8,
             "#7fbc41"
            ],
            [
             0.9,
             "#4d9221"
            ],
            [
             1,
             "#276419"
            ]
           ],
           "sequential": [
            [
             0,
             "#0d0887"
            ],
            [
             0.1111111111111111,
             "#46039f"
            ],
            [
             0.2222222222222222,
             "#7201a8"
            ],
            [
             0.3333333333333333,
             "#9c179e"
            ],
            [
             0.4444444444444444,
             "#bd3786"
            ],
            [
             0.5555555555555556,
             "#d8576b"
            ],
            [
             0.6666666666666666,
             "#ed7953"
            ],
            [
             0.7777777777777778,
             "#fb9f3a"
            ],
            [
             0.8888888888888888,
             "#fdca26"
            ],
            [
             1,
             "#f0f921"
            ]
           ],
           "sequentialminus": [
            [
             0,
             "#0d0887"
            ],
            [
             0.1111111111111111,
             "#46039f"
            ],
            [
             0.2222222222222222,
             "#7201a8"
            ],
            [
             0.3333333333333333,
             "#9c179e"
            ],
            [
             0.4444444444444444,
             "#bd3786"
            ],
            [
             0.5555555555555556,
             "#d8576b"
            ],
            [
             0.6666666666666666,
             "#ed7953"
            ],
            [
             0.7777777777777778,
             "#fb9f3a"
            ],
            [
             0.8888888888888888,
             "#fdca26"
            ],
            [
             1,
             "#f0f921"
            ]
           ]
          },
          "colorway": [
           "#636efa",
           "#EF553B",
           "#00cc96",
           "#ab63fa",
           "#FFA15A",
           "#19d3f3",
           "#FF6692",
           "#B6E880",
           "#FF97FF",
           "#FECB52"
          ],
          "font": {
           "color": "#2a3f5f"
          },
          "geo": {
           "bgcolor": "white",
           "lakecolor": "white",
           "landcolor": "#E5ECF6",
           "showlakes": true,
           "showland": true,
           "subunitcolor": "white"
          },
          "hoverlabel": {
           "align": "left"
          },
          "hovermode": "closest",
          "mapbox": {
           "style": "light"
          },
          "paper_bgcolor": "white",
          "plot_bgcolor": "#E5ECF6",
          "polar": {
           "angularaxis": {
            "gridcolor": "white",
            "linecolor": "white",
            "ticks": ""
           },
           "bgcolor": "#E5ECF6",
           "radialaxis": {
            "gridcolor": "white",
            "linecolor": "white",
            "ticks": ""
           }
          },
          "scene": {
           "xaxis": {
            "backgroundcolor": "#E5ECF6",
            "gridcolor": "white",
            "gridwidth": 2,
            "linecolor": "white",
            "showbackground": true,
            "ticks": "",
            "zerolinecolor": "white"
           },
           "yaxis": {
            "backgroundcolor": "#E5ECF6",
            "gridcolor": "white",
            "gridwidth": 2,
            "linecolor": "white",
            "showbackground": true,
            "ticks": "",
            "zerolinecolor": "white"
           },
           "zaxis": {
            "backgroundcolor": "#E5ECF6",
            "gridcolor": "white",
            "gridwidth": 2,
            "linecolor": "white",
            "showbackground": true,
            "ticks": "",
            "zerolinecolor": "white"
           }
          },
          "shapedefaults": {
           "line": {
            "color": "#2a3f5f"
           }
          },
          "ternary": {
           "aaxis": {
            "gridcolor": "white",
            "linecolor": "white",
            "ticks": ""
           },
           "baxis": {
            "gridcolor": "white",
            "linecolor": "white",
            "ticks": ""
           },
           "bgcolor": "#E5ECF6",
           "caxis": {
            "gridcolor": "white",
            "linecolor": "white",
            "ticks": ""
           }
          },
          "title": {
           "x": 0.05
          },
          "xaxis": {
           "automargin": true,
           "gridcolor": "white",
           "linecolor": "white",
           "ticks": "",
           "title": {
            "standoff": 15
           },
           "zerolinecolor": "white",
           "zerolinewidth": 2
          },
          "yaxis": {
           "automargin": true,
           "gridcolor": "white",
           "linecolor": "white",
           "ticks": "",
           "title": {
            "standoff": 15
           },
           "zerolinecolor": "white",
           "zerolinewidth": 2
          }
         }
        },
        "title": {
         "text": "conc_silica vs ph_flotacao_linha01"
        },
        "xaxis": {
         "anchor": "y",
         "domain": [
          0,
          1
         ],
         "title": {
          "text": "ph_flotacao_linha01"
         }
        },
        "yaxis": {
         "anchor": "x",
         "domain": [
          0,
          1
         ],
         "title": {
          "text": "conc_silica"
         }
        }
       }
      }
     },
     "metadata": {},
     "output_type": "display_data"
    }
   ],
   "source": [
    "plot_scatter(df_clean, 'ph_flotacao_linha01', 'conc_silica')"
   ]
  },
  {
   "cell_type": "code",
   "execution_count": 10,
   "id": "60a1591f",
   "metadata": {},
   "outputs": [
    {
     "data": {
      "application/vnd.plotly.v1+json": {
       "config": {
        "plotlyServerURL": "https://plot.ly"
       },
       "data": [
        {
         "hovertemplate": "vazao_alimentacao_flotacao=%{x}<br>conc_silica=%{y}<extra></extra>",
         "legendgroup": "",
         "marker": {
          "color": "#636efa",
          "symbol": "circle"
         },
         "mode": "markers",
         "name": "",
         "showlegend": false,
         "type": "scattergl",
         "x": {
          "bdata": "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",
          "dtype": "f8"
         },
         "xaxis": "x",
         "y": {
          "bdata": "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",
          "dtype": "f8"
         },
         "yaxis": "y"
        }
       ],
       "layout": {
        "legend": {
         "tracegroupgap": 0
        },
        "template": {
         "data": {
          "bar": [
           {
            "error_x": {
             "color": "#2a3f5f"
            },
            "error_y": {
             "color": "#2a3f5f"
            },
            "marker": {
             "line": {
              "color": "#E5ECF6",
              "width": 0.5
             },
             "pattern": {
              "fillmode": "overlay",
              "size": 10,
              "solidity": 0.2
             }
            },
            "type": "bar"
           }
          ],
          "barpolar": [
           {
            "marker": {
             "line": {
              "color": "#E5ECF6",
              "width": 0.5
             },
             "pattern": {
              "fillmode": "overlay",
              "size": 10,
              "solidity": 0.2
             }
            },
            "type": "barpolar"
           }
          ],
          "carpet": [
           {
            "aaxis": {
             "endlinecolor": "#2a3f5f",
             "gridcolor": "white",
             "linecolor": "white",
             "minorgridcolor": "white",
             "startlinecolor": "#2a3f5f"
            },
            "baxis": {
             "endlinecolor": "#2a3f5f",
             "gridcolor": "white",
             "linecolor": "white",
             "minorgridcolor": "white",
             "startlinecolor": "#2a3f5f"
            },
            "type": "carpet"
           }
          ],
          "choropleth": [
           {
            "colorbar": {
             "outlinewidth": 0,
             "ticks": ""
            },
            "type": "choropleth"
           }
          ],
          "contour": [
           {
            "colorbar": {
             "outlinewidth": 0,
             "ticks": ""
            },
            "colorscale": [
             [
              0,
              "#0d0887"
             ],
             [
              0.1111111111111111,
              "#46039f"
             ],
             [
              0.2222222222222222,
              "#7201a8"
             ],
             [
              0.3333333333333333,
              "#9c179e"
             ],
             [
              0.4444444444444444,
              "#bd3786"
             ],
             [
              0.5555555555555556,
              "#d8576b"
             ],
             [
              0.6666666666666666,
              "#ed7953"
             ],
             [
              0.7777777777777778,
              "#fb9f3a"
             ],
             [
              0.8888888888888888,
              "#fdca26"
             ],
             [
              1,
              "#f0f921"
             ]
            ],
            "type": "contour"
           }
          ],
          "contourcarpet": [
           {
            "colorbar": {
             "outlinewidth": 0,
             "ticks": ""
            },
            "type": "contourcarpet"
           }
          ],
          "heatmap": [
           {
            "colorbar": {
             "outlinewidth": 0,
             "ticks": ""
            },
            "colorscale": [
             [
              0,
              "#0d0887"
             ],
             [
              0.1111111111111111,
              "#46039f"
             ],
             [
              0.2222222222222222,
              "#7201a8"
             ],
             [
              0.3333333333333333,
              "#9c179e"
             ],
             [
              0.4444444444444444,
              "#bd3786"
             ],
             [
              0.5555555555555556,
              "#d8576b"
             ],
             [
              0.6666666666666666,
              "#ed7953"
             ],
             [
              0.7777777777777778,
              "#fb9f3a"
             ],
             [
              0.8888888888888888,
              "#fdca26"
             ],
             [
              1,
              "#f0f921"
             ]
            ],
            "type": "heatmap"
           }
          ],
          "histogram": [
           {
            "marker": {
             "pattern": {
              "fillmode": "overlay",
              "size": 10,
              "solidity": 0.2
             }
            },
            "type": "histogram"
           }
          ],
          "histogram2d": [
           {
            "colorbar": {
             "outlinewidth": 0,
             "ticks": ""
            },
            "colorscale": [
             [
              0,
              "#0d0887"
             ],
             [
              0.1111111111111111,
              "#46039f"
             ],
             [
              0.2222222222222222,
              "#7201a8"
             ],
             [
              0.3333333333333333,
              "#9c179e"
             ],
             [
              0.4444444444444444,
              "#bd3786"
             ],
             [
              0.5555555555555556,
              "#d8576b"
             ],
             [
              0.6666666666666666,
              "#ed7953"
             ],
             [
              0.7777777777777778,
              "#fb9f3a"
             ],
             [
              0.8888888888888888,
              "#fdca26"
             ],
             [
              1,
              "#f0f921"
             ]
            ],
            "type": "histogram2d"
           }
          ],
          "histogram2dcontour": [
           {
            "colorbar": {
             "outlinewidth": 0,
             "ticks": ""
            },
            "colorscale": [
             [
              0,
              "#0d0887"
             ],
             [
              0.1111111111111111,
              "#46039f"
             ],
             [
              0.2222222222222222,
              "#7201a8"
             ],
             [
              0.3333333333333333,
              "#9c179e"
             ],
             [
              0.4444444444444444,
              "#bd3786"
             ],
             [
              0.5555555555555556,
              "#d8576b"
             ],
             [
              0.6666666666666666,
              "#ed7953"
             ],
             [
              0.7777777777777778,
              "#fb9f3a"
             ],
             [
              0.8888888888888888,
              "#fdca26"
             ],
             [
              1,
              "#f0f921"
             ]
            ],
            "type": "histogram2dcontour"
           }
          ],
          "mesh3d": [
           {
            "colorbar": {
             "outlinewidth": 0,
             "ticks": ""
            },
            "type": "mesh3d"
           }
          ],
          "parcoords": [
           {
            "line": {
             "colorbar": {
              "outlinewidth": 0,
              "ticks": ""
             }
            },
            "type": "parcoords"
           }
          ],
          "pie": [
           {
            "automargin": true,
            "type": "pie"
           }
          ],
          "scatter": [
           {
            "fillpattern": {
             "fillmode": "overlay",
             "size": 10,
             "solidity": 0.2
            },
            "type": "scatter"
           }
          ],
          "scatter3d": [
           {
            "line": {
             "colorbar": {
              "outlinewidth": 0,
              "ticks": ""
             }
            },
            "marker": {
             "colorbar": {
              "outlinewidth": 0,
              "ticks": ""
             }
            },
            "type": "scatter3d"
           }
          ],
          "scattercarpet": [
           {
            "marker": {
             "colorbar": {
              "outlinewidth": 0,
              "ticks": ""
             }
            },
            "type": "scattercarpet"
           }
          ],
          "scattergeo": [
           {
            "marker": {
             "colorbar": {
              "outlinewidth": 0,
              "ticks": ""
             }
            },
            "type": "scattergeo"
           }
          ],
          "scattergl": [
           {
            "marker": {
             "colorbar": {
              "outlinewidth": 0,
              "ticks": ""
             }
            },
            "type": "scattergl"
           }
          ],
          "scattermap": [
           {
            "marker": {
             "colorbar": {
              "outlinewidth": 0,
              "ticks": ""
             }
            },
            "type": "scattermap"
           }
          ],
          "scattermapbox": [
           {
            "marker": {
             "colorbar": {
              "outlinewidth": 0,
              "ticks": ""
             }
            },
            "type": "scattermapbox"
           }
          ],
          "scatterpolar": [
           {
            "marker": {
             "colorbar": {
              "outlinewidth": 0,
              "ticks": ""
             }
            },
            "type": "scatterpolar"
           }
          ],
          "scatterpolargl": [
           {
            "marker": {
             "colorbar": {
              "outlinewidth": 0,
              "ticks": ""
             }
            },
            "type": "scatterpolargl"
           }
          ],
          "scatterternary": [
           {
            "marker": {
             "colorbar": {
              "outlinewidth": 0,
              "ticks": ""
             }
            },
            "type": "scatterternary"
           }
          ],
          "surface": [
           {
            "colorbar": {
             "outlinewidth": 0,
             "ticks": ""
            },
            "colorscale": [
             [
              0,
              "#0d0887"
             ],
             [
              0.1111111111111111,
              "#46039f"
             ],
             [
              0.2222222222222222,
              "#7201a8"
             ],
             [
              0.3333333333333333,
              "#9c179e"
             ],
             [
              0.4444444444444444,
              "#bd3786"
             ],
             [
              0.5555555555555556,
              "#d8576b"
             ],
             [
              0.6666666666666666,
              "#ed7953"
             ],
             [
              0.7777777777777778,
              "#fb9f3a"
             ],
             [
              0.8888888888888888,
              "#fdca26"
             ],
             [
              1,
              "#f0f921"
             ]
            ],
            "type": "surface"
           }
          ],
          "table": [
           {
            "cells": {
             "fill": {
              "color": "#EBF0F8"
             },
             "line": {
              "color": "white"
             }
            },
            "header": {
             "fill": {
              "color": "#C8D4E3"
             },
             "line": {
              "color": "white"
             }
            },
            "type": "table"
           }
          ]
         },
         "layout": {
          "annotationdefaults": {
           "arrowcolor": "#2a3f5f",
           "arrowhead": 0,
           "arrowwidth": 1
          },
          "autotypenumbers": "strict",
          "coloraxis": {
           "colorbar": {
            "outlinewidth": 0,
            "ticks": ""
           }
          },
          "colorscale": {
           "diverging": [
            [
             0,
             "#8e0152"
            ],
            [
             0.1,
             "#c51b7d"
            ],
            [
             0.2,
             "#de77ae"
            ],
            [
             0.3,
             "#f1b6da"
            ],
            [
             0.4,
             "#fde0ef"
            ],
            [
             0.5,
             "#f7f7f7"
            ],
            [
             0.6,
             "#e6f5d0"
            ],
            [
             0.7,
             "#b8e186"
            ],
            [
             0.8,
             "#7fbc41"
            ],
            [
             0.9,
             "#4d9221"
            ],
            [
             1,
             "#276419"
            ]
           ],
           "sequential": [
            [
             0,
             "#0d0887"
            ],
            [
             0.1111111111111111,
             "#46039f"
            ],
            [
             0.2222222222222222,
             "#7201a8"
            ],
            [
             0.3333333333333333,
             "#9c179e"
            ],
            [
             0.4444444444444444,
             "#bd3786"
            ],
            [
             0.5555555555555556,
             "#d8576b"
            ],
            [
             0.6666666666666666,
             "#ed7953"
            ],
            [
             0.7777777777777778,
             "#fb9f3a"
            ],
            [
             0.8888888888888888,
             "#fdca26"
            ],
            [
             1,
             "#f0f921"
            ]
           ],
           "sequentialminus": [
            [
             0,
             "#0d0887"
            ],
            [
             0.1111111111111111,
             "#46039f"
            ],
            [
             0.2222222222222222,
             "#7201a8"
            ],
            [
             0.3333333333333333,
             "#9c179e"
            ],
            [
             0.4444444444444444,
             "#bd3786"
            ],
            [
             0.5555555555555556,
             "#d8576b"
            ],
            [
             0.6666666666666666,
             "#ed7953"
            ],
            [
             0.7777777777777778,
             "#fb9f3a"
            ],
            [
             0.8888888888888888,
             "#fdca26"
            ],
            [
             1,
             "#f0f921"
            ]
           ]
          },
          "colorway": [
           "#636efa",
           "#EF553B",
           "#00cc96",
           "#ab63fa",
           "#FFA15A",
           "#19d3f3",
           "#FF6692",
           "#B6E880",
           "#FF97FF",
           "#FECB52"
          ],
          "font": {
           "color": "#2a3f5f"
          },
          "geo": {
           "bgcolor": "white",
           "lakecolor": "white",
           "landcolor": "#E5ECF6",
           "showlakes": true,
           "showland": true,
           "subunitcolor": "white"
          },
          "hoverlabel": {
           "align": "left"
          },
          "hovermode": "closest",
          "mapbox": {
           "style": "light"
          },
          "paper_bgcolor": "white",
          "plot_bgcolor": "#E5ECF6",
          "polar": {
           "angularaxis": {
            "gridcolor": "white",
            "linecolor": "white",
            "ticks": ""
           },
           "bgcolor": "#E5ECF6",
           "radialaxis": {
            "gridcolor": "white",
            "linecolor": "white",
            "ticks": ""
           }
          },
          "scene": {
           "xaxis": {
            "backgroundcolor": "#E5ECF6",
            "gridcolor": "white",
            "gridwidth": 2,
            "linecolor": "white",
            "showbackground": true,
            "ticks": "",
            "zerolinecolor": "white"
           },
           "yaxis": {
            "backgroundcolor": "#E5ECF6",
            "gridcolor": "white",
            "gridwidth": 2,
            "linecolor": "white",
            "showbackground": true,
            "ticks": "",
            "zerolinecolor": "white"
           },
           "zaxis": {
            "backgroundcolor": "#E5ECF6",
            "gridcolor": "white",
            "gridwidth": 2,
            "linecolor": "white",
            "showbackground": true,
            "ticks": "",
            "zerolinecolor": "white"
           }
          },
          "shapedefaults": {
           "line": {
            "color": "#2a3f5f"
           }
          },
          "ternary": {
           "aaxis": {
            "gridcolor": "white",
            "linecolor": "white",
            "ticks": ""
           },
           "baxis": {
            "gridcolor": "white",
            "linecolor": "white",
            "ticks": ""
           },
           "bgcolor": "#E5ECF6",
           "caxis": {
            "gridcolor": "white",
            "linecolor": "white",
            "ticks": ""
           }
          },
          "title": {
           "x": 0.05
          },
          "xaxis": {
           "automargin": true,
           "gridcolor": "white",
           "linecolor": "white",
           "ticks": "",
           "title": {
            "standoff": 15
           },
           "zerolinecolor": "white",
           "zerolinewidth": 2
          },
          "yaxis": {
           "automargin": true,
           "gridcolor": "white",
           "linecolor": "white",
           "ticks": "",
           "title": {
            "standoff": 15
           },
           "zerolinecolor": "white",
           "zerolinewidth": 2
          }
         }
        },
        "title": {
         "text": "conc_silica vs vazao_alimentacao_flotacao"
        },
        "xaxis": {
         "anchor": "y",
         "domain": [
          0,
          1
         ],
         "title": {
          "text": "vazao_alimentacao_flotacao"
         }
        },
        "yaxis": {
         "anchor": "x",
         "domain": [
          0,
          1
         ],
         "title": {
          "text": "conc_silica"
         }
        }
       }
      }
     },
     "metadata": {},
     "output_type": "display_data"
    }
   ],
   "source": [
    "plot_scatter(df_clean, 'vazao_alimentacao_flotacao', 'conc_silica')"
   ]
  },
  {
   "cell_type": "markdown",
   "id": "71e736f1",
   "metadata": {},
   "source": [
    "## Prediction"
   ]
  },
  {
   "cell_type": "code",
   "execution_count": 11,
   "id": "ca9de09f",
   "metadata": {},
   "outputs": [
    {
     "data": {
      "text/plain": [
       "Index(['inicio', 'fim', 'conc_silica', 'conc_fe', 'param_dosagem_amido',\n",
       "       'dosagem_amina_conc_magnetica', 'ph_flotacao_linha01',\n",
       "       'ph_flotacao_linha02', 'densidade_alimentacao_flotacao',\n",
       "       'nivel_celula_li640101', 'TO_LI6401_02', 'nivel_celula_li640201',\n",
       "       'nivel_celula_li640202', 'nivel_celula_li641101',\n",
       "       'nivel_celula_li641102', 'nivel_celula_li641201',\n",
       "       'nivel_celula_li641202', 'nivel_celula_li642101',\n",
       "       'nivel_celula_li642201', 'nivel_celula_li643101',\n",
       "       'nivel_celula_li643201', 'vazao_alimentacao_flotacao', 'operacao',\n",
       "       'duration_min', 'dosagem_amina_conc_magnetica_rollmean_3',\n",
       "       'vazao_alimentacao_flotacao_rollmean_3',\n",
       "       'densidade_alimentacao_flotacao_rollmean_3',\n",
       "       'param_dosagem_amido_rollmean_3',\n",
       "       'dosagem_amina_conc_magnetica_rollmean_5',\n",
       "       'vazao_alimentacao_flotacao_rollmean_5',\n",
       "       'densidade_alimentacao_flotacao_rollmean_5',\n",
       "       'param_dosagem_amido_rollmean_5'],\n",
       "      dtype='object')"
      ]
     },
     "execution_count": 11,
     "metadata": {},
     "output_type": "execute_result"
    }
   ],
   "source": [
    "df_clean.columns"
   ]
  },
  {
   "cell_type": "code",
   "execution_count": 12,
   "id": "e3dcbf59",
   "metadata": {},
   "outputs": [
    {
     "name": "stdout",
     "output_type": "stream",
     "text": [
      "(2618, 32)\n",
      "(2617, 32)\n"
     ]
    }
   ],
   "source": [
    "features = df_clean.columns.tolist()\n",
    "drops = ['inicio','fim','conc_fe', 'operacao','duration_min']\n",
    "target = ['conc_silica']    \n",
    "\n",
    "features = list(set(features) - set(drops))\n",
    "features = list(set(features) - set(target))\n",
    "\n",
    "print(df_clean.shape)\n",
    "df_clean.dropna(inplace=True)\n",
    "print(df_clean.shape)\n",
    "df_clean.drop(columns=drops, inplace=True)\n"
   ]
  },
  {
   "cell_type": "code",
   "execution_count": 13,
   "id": "9ff37efe",
   "metadata": {},
   "outputs": [
    {
     "data": {
      "text/html": [
       "<div>\n",
       "<style scoped>\n",
       "    .dataframe tbody tr th:only-of-type {\n",
       "        vertical-align: middle;\n",
       "    }\n",
       "\n",
       "    .dataframe tbody tr th {\n",
       "        vertical-align: top;\n",
       "    }\n",
       "\n",
       "    .dataframe thead th {\n",
       "        text-align: right;\n",
       "    }\n",
       "</style>\n",
       "<table border=\"1\" class=\"dataframe\">\n",
       "  <thead>\n",
       "    <tr style=\"text-align: right;\">\n",
       "      <th></th>\n",
       "      <th>model</th>\n",
       "      <th>MAE</th>\n",
       "      <th>RMSE</th>\n",
       "      <th>R2</th>\n",
       "      <th>MAPE (%)</th>\n",
       "    </tr>\n",
       "  </thead>\n",
       "  <tbody>\n",
       "    <tr>\n",
       "      <th>0</th>\n",
       "      <td>LinearRegression</td>\n",
       "      <td>1.617571</td>\n",
       "      <td>2.931900</td>\n",
       "      <td>0.070272</td>\n",
       "      <td>74.620326</td>\n",
       "    </tr>\n",
       "    <tr>\n",
       "      <th>1</th>\n",
       "      <td>RandomForest</td>\n",
       "      <td>1.502971</td>\n",
       "      <td>2.779389</td>\n",
       "      <td>0.164481</td>\n",
       "      <td>68.621512</td>\n",
       "    </tr>\n",
       "    <tr>\n",
       "      <th>2</th>\n",
       "      <td>XGBoost</td>\n",
       "      <td>1.725851</td>\n",
       "      <td>3.036623</td>\n",
       "      <td>0.002668</td>\n",
       "      <td>80.794782</td>\n",
       "    </tr>\n",
       "  </tbody>\n",
       "</table>\n",
       "</div>"
      ],
      "text/plain": [
       "              model       MAE      RMSE        R2   MAPE (%)\n",
       "0  LinearRegression  1.617571  2.931900  0.070272  74.620326\n",
       "1      RandomForest  1.502971  2.779389  0.164481  68.621512\n",
       "2           XGBoost  1.725851  3.036623  0.002668  80.794782"
      ]
     },
     "execution_count": 13,
     "metadata": {},
     "output_type": "execute_result"
    }
   ],
   "source": [
    "res = evaluate_models(df_clean, features, target=target[0])\n",
    "res"
   ]
  },
  {
   "cell_type": "code",
   "execution_count": 14,
   "id": "317777aa",
   "metadata": {},
   "outputs": [],
   "source": [
    "#res_weights = evaluate_models_weights(df_clean, features, target=target[0])\n",
    "#res_weights"
   ]
  },
  {
   "cell_type": "code",
   "execution_count": null,
   "id": "927e2071",
   "metadata": {},
   "outputs": [
    {
     "ename": "TypeError",
     "evalue": "'bool' object is not callable",
     "output_type": "error",
     "traceback": [
      "\u001b[1;31m---------------------------------------------------------------------------\u001b[0m",
      "\u001b[1;31mTypeError\u001b[0m                                 Traceback (most recent call last)",
      "Cell \u001b[1;32mIn[15], line 1\u001b[0m\n\u001b[1;32m----> 1\u001b[0m res_q \u001b[38;5;241m=\u001b[39m \u001b[43mevaluate_models_quantile\u001b[49m\u001b[43m(\u001b[49m\u001b[43mdf_clean\u001b[49m\u001b[43m,\u001b[49m\u001b[43m \u001b[49m\u001b[43mfeatures\u001b[49m\u001b[43m,\u001b[49m\u001b[43m \u001b[49m\u001b[38;5;124;43m'\u001b[39;49m\u001b[38;5;124;43mconc_silica\u001b[39;49m\u001b[38;5;124;43m'\u001b[39;49m\u001b[43m,\u001b[49m\u001b[43m \u001b[49m\u001b[43mplot_residuals\u001b[49m\u001b[38;5;241;43m=\u001b[39;49m\u001b[38;5;28;43;01mTrue\u001b[39;49;00m\u001b[43m,\u001b[49m\u001b[43m \u001b[49m\u001b[43mquantile\u001b[49m\u001b[38;5;241;43m=\u001b[39;49m\u001b[38;5;241;43m0.9\u001b[39;49m\u001b[43m)\u001b[49m\n\u001b[0;32m      2\u001b[0m res_q\n",
      "File \u001b[1;32mc:\\Users\\rcpsi\\OneDrive\\Documents\\langchain\\Flotation\\flotation_prediction\\flot_prediction.py:195\u001b[0m, in \u001b[0;36mevaluate_models_quantile\u001b[1;34m(df, features, target, plot_residuals, quantile)\u001b[0m\n\u001b[0;32m    192\u001b[0m preds \u001b[38;5;241m=\u001b[39m pipeline\u001b[38;5;241m.\u001b[39mpredict(X_test)\n\u001b[0;32m    194\u001b[0m \u001b[38;5;28;01mif\u001b[39;00m plot_residuals:\n\u001b[1;32m--> 195\u001b[0m     \u001b[43mplot_residuals\u001b[49m\u001b[43m(\u001b[49m\u001b[43my_test\u001b[49m\u001b[43m,\u001b[49m\u001b[43m \u001b[49m\u001b[43mpreds\u001b[49m\u001b[43m,\u001b[49m\n\u001b[0;32m    196\u001b[0m \u001b[43m                   \u001b[49m\u001b[43mactual_name\u001b[49m\u001b[38;5;241;43m=\u001b[39;49m\u001b[43mtarget\u001b[49m\u001b[43m,\u001b[49m\n\u001b[0;32m    197\u001b[0m \u001b[43m                   \u001b[49m\u001b[43mpred_name\u001b[49m\u001b[38;5;241;43m=\u001b[39;49m\u001b[38;5;124;43mf\u001b[39;49m\u001b[38;5;124;43m'\u001b[39;49m\u001b[38;5;124;43mpred_\u001b[39;49m\u001b[38;5;132;43;01m{\u001b[39;49;00m\u001b[43mname\u001b[49m\u001b[38;5;132;43;01m}\u001b[39;49;00m\u001b[38;5;124;43m'\u001b[39;49m\u001b[43m)\u001b[49m\n\u001b[0;32m    199\u001b[0m mse \u001b[38;5;241m=\u001b[39m mean_squared_error(y_test, preds)\n\u001b[0;32m    200\u001b[0m results\u001b[38;5;241m.\u001b[39mappend({\n\u001b[0;32m    201\u001b[0m     \u001b[38;5;124m'\u001b[39m\u001b[38;5;124mmodel\u001b[39m\u001b[38;5;124m'\u001b[39m: name,\n\u001b[0;32m    202\u001b[0m     \u001b[38;5;124m'\u001b[39m\u001b[38;5;124mMAE\u001b[39m\u001b[38;5;124m'\u001b[39m: mean_absolute_error(y_test, preds),\n\u001b[1;32m   (...)\u001b[0m\n\u001b[0;32m    205\u001b[0m     \u001b[38;5;124m'\u001b[39m\u001b[38;5;124mMAPE (\u001b[39m\u001b[38;5;124m%\u001b[39m\u001b[38;5;124m)\u001b[39m\u001b[38;5;124m'\u001b[39m: mean_absolute_percentage_error(y_test, preds) \u001b[38;5;241m*\u001b[39m \u001b[38;5;241m100\u001b[39m\n\u001b[0;32m    206\u001b[0m })\n",
      "\u001b[1;31mTypeError\u001b[0m: 'bool' object is not callable"
     ]
    }
   ],
   "source": [
    "res_q = evaluate_models_quantile(df_clean, features, 'conc_silica', show_residuals=False, quantile=0.9)\n",
    "res_q"
   ]
  }
 ],
 "metadata": {
  "kernelspec": {
   "display_name": "Python 3",
   "language": "python",
   "name": "python3"
  },
  "language_info": {
   "codemirror_mode": {
    "name": "ipython",
    "version": 3
   },
   "file_extension": ".py",
   "mimetype": "text/x-python",
   "name": "python",
   "nbconvert_exporter": "python",
   "pygments_lexer": "ipython3",
   "version": "3.13.0"
  }
 },
 "nbformat": 4,
 "nbformat_minor": 5
}
